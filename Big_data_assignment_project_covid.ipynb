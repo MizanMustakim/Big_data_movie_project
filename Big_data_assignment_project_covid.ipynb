{
  "cells": [
    {
      "cell_type": "markdown",
      "metadata": {
        "id": "view-in-github",
        "colab_type": "text"
      },
      "source": [
        "<a href=\"https://colab.research.google.com/github/MizanMustakim/Big_data_movie_project/blob/main/Big_data_assignment_project_covid.ipynb\" target=\"_parent\"><img src=\"https://colab.research.google.com/assets/colab-badge.svg\" alt=\"Open In Colab\"/></a>"
      ]
    },
    {
      "cell_type": "markdown",
      "metadata": {
        "id": "3GfUSNoUMrLz"
      },
      "source": [
        "# Data Collection work"
      ]
    },
    {
      "cell_type": "markdown",
      "metadata": {
        "id": "OHJpYVqmM3ZL"
      },
      "source": [
        "**Import the libraries**"
      ]
    },
    {
      "cell_type": "code",
      "source": [
        "import warnings\n",
        "warnings.filterwarnings(\"ignore\")"
      ],
      "metadata": {
        "id": "rbyPOdYDLXIH"
      },
      "execution_count": 1,
      "outputs": []
    },
    {
      "cell_type": "code",
      "execution_count": 2,
      "metadata": {
        "id": "vM0GBsSTpg32"
      },
      "outputs": [],
      "source": [
        "from bs4 import BeautifulSoup\n",
        "import requests\n",
        "import pandas as pd\n",
        "import urllib"
      ]
    },
    {
      "cell_type": "markdown",
      "metadata": {
        "id": "3v7a2VxIM_yU"
      },
      "source": [
        "**Collecting DATA_1**"
      ]
    },
    {
      "cell_type": "code",
      "execution_count": 3,
      "metadata": {
        "id": "M7p-bJPnpuUI"
      },
      "outputs": [],
      "source": [
        "url = \"https://www.worldometers.info/coronavirus/?utm_campaign=homeAdvegas1?%22%20%5Cl%22countries\"\n",
        "data = requests.get(url)\n",
        "soup = BeautifulSoup(data.text,'html5lib')"
      ]
    },
    {
      "cell_type": "code",
      "execution_count": 4,
      "metadata": {
        "id": "dyKSZNSLp1zI"
      },
      "outputs": [],
      "source": [
        "covid_dict = {}\n",
        "div = soup.find_all(\"div\", {\"id\": \"ExplorerContainer\"})\n",
        "for i in div:\n",
        "  content_div = i.find(\"div\",{\"class\":\"tableTab\"})\n",
        "  covid_dict[i.find(\"h1\").text.replace(\":\",\"\").strip()] = content_div.find(\"span\").text.strip()"
      ]
    },
    {
      "cell_type": "code",
      "execution_count": 5,
      "metadata": {
        "colab": {
          "base_uri": "https://localhost:8080/"
        },
        "id": "-H5sknHaqrBy",
        "outputId": "3cdde005-1482-4ac3-f65f-47e3933a1b70"
      },
      "outputs": [
        {
          "output_type": "stream",
          "name": "stdout",
          "text": [
            "['Country,Other', 'TotalCases', 'NewCases', 'TotalDeaths', 'NewDeaths', 'TotalRecovered', 'NewRecovered', 'ActiveCases', 'Serious,Critical', 'TotCases/1M pop', 'Deaths/1M pop', 'TotalTests', 'Tests/1M pop', 'Population']\n"
          ]
        }
      ],
      "source": [
        "tables = soup.find_all('table')\n",
        "table_header = tables[0].find_all('th')\n",
        "table_head = []\n",
        "for i in range(15):\n",
        "  if i != 0:\n",
        "    table_head.append(table_header[i].text.replace(\"\\n\",\"\").replace(\"\\xa0\",\"\"))\n",
        "print(table_head)"
      ]
    },
    {
      "cell_type": "code",
      "execution_count": 6,
      "metadata": {
        "id": "6LiNPZ4Kq2mB"
      },
      "outputs": [],
      "source": [
        "Covid_data = pd.DataFrame(columns=table_head)\n",
        "for row in tables[0].tbody.find_all('tr'):\n",
        "  col = row.find_all('td')\n",
        "  if (col != []):\n",
        "    country = col[1].text.strip()\n",
        "    totalCases = col[2].text.strip()\n",
        "    newCases = col[3].text.strip()\n",
        "    totalDeaths = col[4].text.strip()\n",
        "    newDeaths = col[5].text.strip()\n",
        "    totalRecovered = col[6].text.strip()\n",
        "    newRecovered = col[7].text.strip()\n",
        "    activeCases = col[8].text.strip()\n",
        "    serious = col[9].text.strip()\n",
        "    totalCases_per_m = col[10].text.strip()\n",
        "    deaths = col[11].text.strip()\n",
        "    totalTests = col[12].text.strip()\n",
        "    tests_per_m = col[13].text.strip()\n",
        "    population = col[14].text.strip()\n",
        "    Covid_data = Covid_data.append({\"Country,Other\":country,\"TotalCases\":totalCases,\"NewCases\":newCases,\n",
        "                                    \"TotalDeaths\":totalDeaths,\"NewDeaths\":newDeaths,\"TotalRecovered\":totalRecovered,\n",
        "                                    \"NewRecovered\":newRecovered,\"ActiveCases\":activeCases,\"Serious,Critical\":serious,\n",
        "                                    \"TotCases/1M pop\":totalCases_per_m,\"Deaths/1M pop\":deaths,\"TotalTests\":totalTests,\n",
        "                                    \"Tests/1M pop\":tests_per_m,\"Population\":population},ignore_index=True)"
      ]
    },
    {
      "cell_type": "code",
      "execution_count": 7,
      "metadata": {
        "id": "R1nM9qORq6CA"
      },
      "outputs": [],
      "source": [
        "Covid_data.drop(Covid_data.index[:7],inplace=True)\n",
        "Covid_data.to_csv(\"Covid_data.csv\",index=False)"
      ]
    },
    {
      "cell_type": "markdown",
      "metadata": {
        "id": "1RDKmH3cNI60"
      },
      "source": [
        "**Collecting DATA_2**"
      ]
    },
    {
      "cell_type": "code",
      "execution_count": 8,
      "metadata": {
        "colab": {
          "base_uri": "https://localhost:8080/"
        },
        "id": "Jn_dGN_Zrsq_",
        "outputId": "b7372277-3728-4766-d774-71a4dde34bac"
      },
      "outputs": [
        {
          "output_type": "stream",
          "name": "stdout",
          "text": [
            "--2022-01-07 14:00:33--  https://covid.ourworldindata.org/data/owid-covid-data.csv\n",
            "Resolving covid.ourworldindata.org (covid.ourworldindata.org)... 104.21.233.138, 104.21.233.137, 2606:4700:3038::6815:e989, ...\n",
            "Connecting to covid.ourworldindata.org (covid.ourworldindata.org)|104.21.233.138|:443... connected.\n",
            "HTTP request sent, awaiting response... 200 OK\n",
            "Length: unspecified [text/csv]\n",
            "Saving to: ‘owid-covid-data.csv’\n",
            "\n",
            "owid-covid-data.csv     [    <=>             ]  40.91M  65.1MB/s    in 0.6s    \n",
            "\n",
            "2022-01-07 14:00:34 (65.1 MB/s) - ‘owid-covid-data.csv’ saved [42902343]\n",
            "\n"
          ]
        }
      ],
      "source": [
        "!wget --no-check-certificate \\\n",
        "  https://covid.ourworldindata.org/data/owid-covid-data.csv #\\\n",
        "#   -O /content/owid-covid-data.csv"
      ]
    },
    {
      "cell_type": "markdown",
      "metadata": {
        "id": "g2UyLBpaNNAs"
      },
      "source": [
        "# Data Processing Work"
      ]
    },
    {
      "cell_type": "markdown",
      "metadata": {
        "id": "2w08T7wmNVCy"
      },
      "source": [
        "**Install PySpark**"
      ]
    },
    {
      "cell_type": "code",
      "execution_count": 9,
      "metadata": {
        "colab": {
          "base_uri": "https://localhost:8080/"
        },
        "id": "32I8LNJg941-",
        "outputId": "2590d769-9f86-4bf1-f9bf-4e605802931a"
      },
      "outputs": [
        {
          "output_type": "stream",
          "name": "stdout",
          "text": [
            "Collecting pyspark\n",
            "  Downloading pyspark-3.2.0.tar.gz (281.3 MB)\n",
            "\u001b[K     |████████████████████████████████| 281.3 MB 44 kB/s \n",
            "\u001b[?25hCollecting py4j==0.10.9.2\n",
            "  Downloading py4j-0.10.9.2-py2.py3-none-any.whl (198 kB)\n",
            "\u001b[K     |████████████████████████████████| 198 kB 50.5 MB/s \n",
            "\u001b[?25hBuilding wheels for collected packages: pyspark\n",
            "  Building wheel for pyspark (setup.py) ... \u001b[?25l\u001b[?25hdone\n",
            "  Created wheel for pyspark: filename=pyspark-3.2.0-py2.py3-none-any.whl size=281805912 sha256=059f95d0edf898924de30180156691af1d2b0c89b73534e83209cf91e1a10078\n",
            "  Stored in directory: /root/.cache/pip/wheels/0b/de/d2/9be5d59d7331c6c2a7c1b6d1a4f463ce107332b1ecd4e80718\n",
            "Successfully built pyspark\n",
            "Installing collected packages: py4j, pyspark\n",
            "Successfully installed py4j-0.10.9.2 pyspark-3.2.0\n"
          ]
        }
      ],
      "source": [
        "!pip install pyspark"
      ]
    },
    {
      "cell_type": "markdown",
      "metadata": {
        "id": "mTL_fXpKNZr9"
      },
      "source": [
        "**Importing Libraries**"
      ]
    },
    {
      "cell_type": "code",
      "execution_count": 10,
      "metadata": {
        "id": "ArTbFYyG97fL"
      },
      "outputs": [],
      "source": [
        "import pyspark\n",
        "from pyspark.sql import SparkSession\n",
        "from pyspark.sql.types import StructType,StructField, StringType, IntegerType, DecimalType, LongType\n",
        "from pyspark.sql.types import ArrayType, DoubleType, BooleanType\n",
        "from pyspark.sql.functions import col,array_contains\n",
        "from pyspark.sql.functions import regexp_replace, regexp_extract, col\n",
        "from pyspark.sql.types import IntegerType"
      ]
    },
    {
      "cell_type": "markdown",
      "metadata": {
        "id": "6dQxjuckNvZD"
      },
      "source": [
        "**Pre-processing DATA with PySpark**"
      ]
    },
    {
      "cell_type": "markdown",
      "metadata": {
        "id": "XA5zXDgvkHr4"
      },
      "source": [
        "**vaccine Data**"
      ]
    },
    {
      "cell_type": "markdown",
      "metadata": {
        "id": "YB7lNgI1ldme"
      },
      "source": [
        "Reading the vaccination csv data in **PySpark**"
      ]
    },
    {
      "cell_type": "code",
      "execution_count": 11,
      "metadata": {
        "colab": {
          "base_uri": "https://localhost:8080/"
        },
        "id": "-F2PNlSD_QnU",
        "outputId": "c5bcd914-6e44-4209-8d34-cc759efb6abc"
      },
      "outputs": [
        {
          "output_type": "stream",
          "name": "stdout",
          "text": [
            "+--------+---------+-----------+----------+-----------+---------+------------------+------------+----------+-------------------+-----------------------+---------------------+------------------------------+------------------------+----------------------+-------------------------------+-----------------+------------+------------------------+-------------+-------------------------+---------------------+---------------------------------+----------------------+----------------------------------+---------+-----------+------------------------+----------------------+------------------+-------------------------------+-------------+--------------+-----------+------------------+-----------------+-----------------------+--------------+----------------+-------------------------+------------------------------+-----------------------------+-----------------------------------+--------------------------+-------------------------------------+------------------------------+------------------------------------------+----------------+----------+------------------+----------+-------------+-------------+--------------+---------------+---------------------+-------------------+--------------+------------+----------------------+--------------------------+---------------+-----------------------+------------------------------------+---------------------------+----------------+---------------------------------------+\n",
            "|iso_code|continent|    Country|      date|total_cases|new_cases|new_cases_smoothed|total_deaths|new_deaths|new_deaths_smoothed|total_cases_per_million|new_cases_per_million|new_cases_smoothed_per_million|total_deaths_per_million|new_deaths_per_million|new_deaths_smoothed_per_million|reproduction_rate|icu_patients|icu_patients_per_million|hosp_patients|hosp_patients_per_million|weekly_icu_admissions|weekly_icu_admissions_per_million|weekly_hosp_admissions|weekly_hosp_admissions_per_million|new_tests|total_tests|total_tests_per_thousand|new_tests_per_thousand|new_tests_smoothed|new_tests_smoothed_per_thousand|positive_rate|tests_per_case|tests_units|total_vaccinations|people_vaccinated|people_fully_vaccinated|total_boosters|new_vaccinations|new_vaccinations_smoothed|total_vaccinations_per_hundred|people_vaccinated_per_hundred|people_fully_vaccinated_per_hundred|total_boosters_per_hundred|new_vaccinations_smoothed_per_million|new_people_vaccinated_smoothed|new_people_vaccinated_smoothed_per_hundred|stringency_index|population|population_density|median_age|aged_65_older|aged_70_older|gdp_per_capita|extreme_poverty|cardiovasc_death_rate|diabetes_prevalence|female_smokers|male_smokers|handwashing_facilities|hospital_beds_per_thousand|life_expectancy|human_development_index|excess_mortality_cumulative_absolute|excess_mortality_cumulative|excess_mortality|excess_mortality_cumulative_per_million|\n",
            "+--------+---------+-----------+----------+-----------+---------+------------------+------------+----------+-------------------+-----------------------+---------------------+------------------------------+------------------------+----------------------+-------------------------------+-----------------+------------+------------------------+-------------+-------------------------+---------------------+---------------------------------+----------------------+----------------------------------+---------+-----------+------------------------+----------------------+------------------+-------------------------------+-------------+--------------+-----------+------------------+-----------------+-----------------------+--------------+----------------+-------------------------+------------------------------+-----------------------------+-----------------------------------+--------------------------+-------------------------------------+------------------------------+------------------------------------------+----------------+----------+------------------+----------+-------------+-------------+--------------+---------------+---------------------+-------------------+--------------+------------+----------------------+--------------------------+---------------+-----------------------+------------------------------------+---------------------------+----------------+---------------------------------------+\n",
            "|     AFG|     Asia|Afghanistan|2020-02-24|        5.0|      5.0|              null|        null|      null|               null|                  0.126|                0.126|                          null|                    null|                  null|                           null|             null|        null|                    null|         null|                     null|                 null|                             null|                  null|                              null|     null|       null|                    null|                  null|              null|                           null|         null|          null|       null|              null|             null|                   null|          null|            null|                     null|                          null|                         null|                               null|                      null|                                 null|                          null|                                      null|            8.33|39835428.0|            54.422|      18.6|        2.581|        1.337|      1803.987|           null|              597.029|               9.59|          null|        null|                37.746|                       0.5|          64.83|                  0.511|                                null|                       null|            null|                                   null|\n",
            "|     AFG|     Asia|Afghanistan|2020-02-25|        5.0|      0.0|              null|        null|      null|               null|                  0.126|                  0.0|                          null|                    null|                  null|                           null|             null|        null|                    null|         null|                     null|                 null|                             null|                  null|                              null|     null|       null|                    null|                  null|              null|                           null|         null|          null|       null|              null|             null|                   null|          null|            null|                     null|                          null|                         null|                               null|                      null|                                 null|                          null|                                      null|            8.33|39835428.0|            54.422|      18.6|        2.581|        1.337|      1803.987|           null|              597.029|               9.59|          null|        null|                37.746|                       0.5|          64.83|                  0.511|                                null|                       null|            null|                                   null|\n",
            "|     AFG|     Asia|Afghanistan|2020-02-26|        5.0|      0.0|              null|        null|      null|               null|                  0.126|                  0.0|                          null|                    null|                  null|                           null|             null|        null|                    null|         null|                     null|                 null|                             null|                  null|                              null|     null|       null|                    null|                  null|              null|                           null|         null|          null|       null|              null|             null|                   null|          null|            null|                     null|                          null|                         null|                               null|                      null|                                 null|                          null|                                      null|            8.33|39835428.0|            54.422|      18.6|        2.581|        1.337|      1803.987|           null|              597.029|               9.59|          null|        null|                37.746|                       0.5|          64.83|                  0.511|                                null|                       null|            null|                                   null|\n",
            "|     AFG|     Asia|Afghanistan|2020-02-27|        5.0|      0.0|              null|        null|      null|               null|                  0.126|                  0.0|                          null|                    null|                  null|                           null|             null|        null|                    null|         null|                     null|                 null|                             null|                  null|                              null|     null|       null|                    null|                  null|              null|                           null|         null|          null|       null|              null|             null|                   null|          null|            null|                     null|                          null|                         null|                               null|                      null|                                 null|                          null|                                      null|            8.33|39835428.0|            54.422|      18.6|        2.581|        1.337|      1803.987|           null|              597.029|               9.59|          null|        null|                37.746|                       0.5|          64.83|                  0.511|                                null|                       null|            null|                                   null|\n",
            "|     AFG|     Asia|Afghanistan|2020-02-28|        5.0|      0.0|              null|        null|      null|               null|                  0.126|                  0.0|                          null|                    null|                  null|                           null|             null|        null|                    null|         null|                     null|                 null|                             null|                  null|                              null|     null|       null|                    null|                  null|              null|                           null|         null|          null|       null|              null|             null|                   null|          null|            null|                     null|                          null|                         null|                               null|                      null|                                 null|                          null|                                      null|            8.33|39835428.0|            54.422|      18.6|        2.581|        1.337|      1803.987|           null|              597.029|               9.59|          null|        null|                37.746|                       0.5|          64.83|                  0.511|                                null|                       null|            null|                                   null|\n",
            "|     AFG|     Asia|Afghanistan|2020-02-29|        5.0|      0.0|             0.714|        null|      null|               null|                  0.126|                  0.0|                         0.018|                    null|                  null|                           null|             null|        null|                    null|         null|                     null|                 null|                             null|                  null|                              null|     null|       null|                    null|                  null|              null|                           null|         null|          null|       null|              null|             null|                   null|          null|            null|                     null|                          null|                         null|                               null|                      null|                                 null|                          null|                                      null|            8.33|39835428.0|            54.422|      18.6|        2.581|        1.337|      1803.987|           null|              597.029|               9.59|          null|        null|                37.746|                       0.5|          64.83|                  0.511|                                null|                       null|            null|                                   null|\n",
            "|     AFG|     Asia|Afghanistan|2020-03-01|        5.0|      0.0|             0.714|        null|      null|               null|                  0.126|                  0.0|                         0.018|                    null|                  null|                           null|             null|        null|                    null|         null|                     null|                 null|                             null|                  null|                              null|     null|       null|                    null|                  null|              null|                           null|         null|          null|       null|              null|             null|                   null|          null|            null|                     null|                          null|                         null|                               null|                      null|                                 null|                          null|                                      null|           27.78|39835428.0|            54.422|      18.6|        2.581|        1.337|      1803.987|           null|              597.029|               9.59|          null|        null|                37.746|                       0.5|          64.83|                  0.511|                                null|                       null|            null|                                   null|\n",
            "|     AFG|     Asia|Afghanistan|2020-03-02|        5.0|      0.0|               0.0|        null|      null|               null|                  0.126|                  0.0|                           0.0|                    null|                  null|                           null|             null|        null|                    null|         null|                     null|                 null|                             null|                  null|                              null|     null|       null|                    null|                  null|              null|                           null|         null|          null|       null|              null|             null|                   null|          null|            null|                     null|                          null|                         null|                               null|                      null|                                 null|                          null|                                      null|           27.78|39835428.0|            54.422|      18.6|        2.581|        1.337|      1803.987|           null|              597.029|               9.59|          null|        null|                37.746|                       0.5|          64.83|                  0.511|                                null|                       null|            null|                                   null|\n",
            "|     AFG|     Asia|Afghanistan|2020-03-03|        5.0|      0.0|               0.0|        null|      null|               null|                  0.126|                  0.0|                           0.0|                    null|                  null|                           null|             null|        null|                    null|         null|                     null|                 null|                             null|                  null|                              null|     null|       null|                    null|                  null|              null|                           null|         null|          null|       null|              null|             null|                   null|          null|            null|                     null|                          null|                         null|                               null|                      null|                                 null|                          null|                                      null|           27.78|39835428.0|            54.422|      18.6|        2.581|        1.337|      1803.987|           null|              597.029|               9.59|          null|        null|                37.746|                       0.5|          64.83|                  0.511|                                null|                       null|            null|                                   null|\n",
            "|     AFG|     Asia|Afghanistan|2020-03-04|        5.0|      0.0|               0.0|        null|      null|               null|                  0.126|                  0.0|                           0.0|                    null|                  null|                           null|             null|        null|                    null|         null|                     null|                 null|                             null|                  null|                              null|     null|       null|                    null|                  null|              null|                           null|         null|          null|       null|              null|             null|                   null|          null|            null|                     null|                          null|                         null|                               null|                      null|                                 null|                          null|                                      null|           27.78|39835428.0|            54.422|      18.6|        2.581|        1.337|      1803.987|           null|              597.029|               9.59|          null|        null|                37.746|                       0.5|          64.83|                  0.511|                                null|                       null|            null|                                   null|\n",
            "+--------+---------+-----------+----------+-----------+---------+------------------+------------+----------+-------------------+-----------------------+---------------------+------------------------------+------------------------+----------------------+-------------------------------+-----------------+------------+------------------------+-------------+-------------------------+---------------------+---------------------------------+----------------------+----------------------------------+---------+-----------+------------------------+----------------------+------------------+-------------------------------+-------------+--------------+-----------+------------------+-----------------+-----------------------+--------------+----------------+-------------------------+------------------------------+-----------------------------+-----------------------------------+--------------------------+-------------------------------------+------------------------------+------------------------------------------+----------------+----------+------------------+----------+-------------+-------------+--------------+---------------+---------------------+-------------------+--------------+------------+----------------------+--------------------------+---------------+-----------------------+------------------------------------+---------------------------+----------------+---------------------------------------+\n",
            "only showing top 10 rows\n",
            "\n"
          ]
        }
      ],
      "source": [
        "spark = SparkSession.builder.appName('CSV reader').getOrCreate()\n",
        "\n",
        "#extract\n",
        "df = '/content/owid-covid-data.csv'\n",
        "sdfData = spark.read.csv(df, header=True, sep=\",\").cache()\n",
        "sdfData = sdfData.withColumnRenamed(\"location\", \"Country\")\n",
        "\n",
        "sdfData.show(10)"
      ]
    },
    {
      "cell_type": "markdown",
      "metadata": {
        "id": "Uu2fFrsHloiw"
      },
      "source": [
        "Checking the Schema of the created dataframe"
      ]
    },
    {
      "cell_type": "code",
      "execution_count": 12,
      "metadata": {
        "colab": {
          "base_uri": "https://localhost:8080/"
        },
        "id": "CYB-BggsAQsr",
        "outputId": "aad54857-2bad-4a45-8f79-7f35adc6f2c1"
      },
      "outputs": [
        {
          "output_type": "stream",
          "name": "stdout",
          "text": [
            "root\n",
            " |-- iso_code: string (nullable = true)\n",
            " |-- continent: string (nullable = true)\n",
            " |-- Country: string (nullable = true)\n",
            " |-- date: string (nullable = true)\n",
            " |-- total_cases: string (nullable = true)\n",
            " |-- new_cases: string (nullable = true)\n",
            " |-- new_cases_smoothed: string (nullable = true)\n",
            " |-- total_deaths: string (nullable = true)\n",
            " |-- new_deaths: string (nullable = true)\n",
            " |-- new_deaths_smoothed: string (nullable = true)\n",
            " |-- total_cases_per_million: string (nullable = true)\n",
            " |-- new_cases_per_million: string (nullable = true)\n",
            " |-- new_cases_smoothed_per_million: string (nullable = true)\n",
            " |-- total_deaths_per_million: string (nullable = true)\n",
            " |-- new_deaths_per_million: string (nullable = true)\n",
            " |-- new_deaths_smoothed_per_million: string (nullable = true)\n",
            " |-- reproduction_rate: string (nullable = true)\n",
            " |-- icu_patients: string (nullable = true)\n",
            " |-- icu_patients_per_million: string (nullable = true)\n",
            " |-- hosp_patients: string (nullable = true)\n",
            " |-- hosp_patients_per_million: string (nullable = true)\n",
            " |-- weekly_icu_admissions: string (nullable = true)\n",
            " |-- weekly_icu_admissions_per_million: string (nullable = true)\n",
            " |-- weekly_hosp_admissions: string (nullable = true)\n",
            " |-- weekly_hosp_admissions_per_million: string (nullable = true)\n",
            " |-- new_tests: string (nullable = true)\n",
            " |-- total_tests: string (nullable = true)\n",
            " |-- total_tests_per_thousand: string (nullable = true)\n",
            " |-- new_tests_per_thousand: string (nullable = true)\n",
            " |-- new_tests_smoothed: string (nullable = true)\n",
            " |-- new_tests_smoothed_per_thousand: string (nullable = true)\n",
            " |-- positive_rate: string (nullable = true)\n",
            " |-- tests_per_case: string (nullable = true)\n",
            " |-- tests_units: string (nullable = true)\n",
            " |-- total_vaccinations: string (nullable = true)\n",
            " |-- people_vaccinated: string (nullable = true)\n",
            " |-- people_fully_vaccinated: string (nullable = true)\n",
            " |-- total_boosters: string (nullable = true)\n",
            " |-- new_vaccinations: string (nullable = true)\n",
            " |-- new_vaccinations_smoothed: string (nullable = true)\n",
            " |-- total_vaccinations_per_hundred: string (nullable = true)\n",
            " |-- people_vaccinated_per_hundred: string (nullable = true)\n",
            " |-- people_fully_vaccinated_per_hundred: string (nullable = true)\n",
            " |-- total_boosters_per_hundred: string (nullable = true)\n",
            " |-- new_vaccinations_smoothed_per_million: string (nullable = true)\n",
            " |-- new_people_vaccinated_smoothed: string (nullable = true)\n",
            " |-- new_people_vaccinated_smoothed_per_hundred: string (nullable = true)\n",
            " |-- stringency_index: string (nullable = true)\n",
            " |-- population: string (nullable = true)\n",
            " |-- population_density: string (nullable = true)\n",
            " |-- median_age: string (nullable = true)\n",
            " |-- aged_65_older: string (nullable = true)\n",
            " |-- aged_70_older: string (nullable = true)\n",
            " |-- gdp_per_capita: string (nullable = true)\n",
            " |-- extreme_poverty: string (nullable = true)\n",
            " |-- cardiovasc_death_rate: string (nullable = true)\n",
            " |-- diabetes_prevalence: string (nullable = true)\n",
            " |-- female_smokers: string (nullable = true)\n",
            " |-- male_smokers: string (nullable = true)\n",
            " |-- handwashing_facilities: string (nullable = true)\n",
            " |-- hospital_beds_per_thousand: string (nullable = true)\n",
            " |-- life_expectancy: string (nullable = true)\n",
            " |-- human_development_index: string (nullable = true)\n",
            " |-- excess_mortality_cumulative_absolute: string (nullable = true)\n",
            " |-- excess_mortality_cumulative: string (nullable = true)\n",
            " |-- excess_mortality: string (nullable = true)\n",
            " |-- excess_mortality_cumulative_per_million: string (nullable = true)\n",
            "\n"
          ]
        }
      ],
      "source": [
        "sdfData.printSchema()"
      ]
    },
    {
      "cell_type": "markdown",
      "metadata": {
        "id": "vVgAdYeEl12V"
      },
      "source": [
        "Separate the new_vaccination info of the day before the current day from data table."
      ]
    },
    {
      "cell_type": "code",
      "source": [
        "from datetime import date\n",
        "import datetime"
      ],
      "metadata": {
        "id": "aQWW0MlJJlZ_"
      },
      "execution_count": 13,
      "outputs": []
    },
    {
      "cell_type": "code",
      "execution_count": 14,
      "metadata": {
        "colab": {
          "base_uri": "https://localhost:8080/"
        },
        "id": "2MrjDNTD_Qwz",
        "outputId": "aef3f9ba-9da1-47cb-f338-6fe936a5750d"
      },
      "outputs": [
        {
          "output_type": "stream",
          "name": "stdout",
          "text": [
            "+-------------------+-------------+----------------+-----------+\n",
            "|            Country|    continent|Total_vaccinated| population|\n",
            "+-------------------+-------------+----------------+-----------+\n",
            "|        Afghanistan|         Asia|        19368570| 39835428.0|\n",
            "|            Albania|       Europe|       125081646|  2872934.0|\n",
            "|            Algeria|       Africa|       106450533| 44616626.0|\n",
            "|            Andorra|       Europe|          909138|    77354.0|\n",
            "|             Angola|       Africa|       120976841| 33933611.0|\n",
            "|           Anguilla|North America|          271433|    15125.0|\n",
            "|Antigua and Barbuda|North America|         3340114|    98728.0|\n",
            "|          Argentina|South America|      6099070777| 45605823.0|\n",
            "|            Armenia|         Asia|        11360818|  2968128.0|\n",
            "|              Aruba|North America|        15512497|   107195.0|\n",
            "|          Australia|      Oceania|      3147217956| 25788217.0|\n",
            "|            Austria|       Europe|      1425423963|  9043072.0|\n",
            "|         Azerbaijan|         Asia|       781679873| 10223344.0|\n",
            "|            Bahamas|North America|         2816239|   396914.0|\n",
            "|            Bahrain|         Asia|       316074364|  1748295.0|\n",
            "|         Bangladesh|         Asia|      4428149369|166303494.0|\n",
            "|           Barbados|North America|        30997520|   287708.0|\n",
            "|            Belarus|       Europe|        61088382|  9442867.0|\n",
            "|            Belgium|       Europe|      2027123378| 11632334.0|\n",
            "|             Belize|North America|        11039270|   404915.0|\n",
            "+-------------------+-------------+----------------+-----------+\n",
            "only showing top 20 rows\n",
            "\n"
          ]
        }
      ],
      "source": [
        "#transform\n",
        "sdfData.registerTempTable(\"vaccine\")\n",
        "\n",
        "today = date.today() - datetime.timedelta(days=1)\n",
        "\n",
        "\n",
        "vaccine_data = spark.sql('SELECT Country, continent,\\\n",
        "                          SUM(cast(people_vaccinated as int)) as Total_vaccinated\\\n",
        "                          FROM vaccine \\\n",
        "                          WHERE continent <> \"null\" \\\n",
        "                          GROUP BY Country, continent')\n",
        "\n",
        "population_data = spark.sql('SELECT Country, population \\\n",
        "                          FROM vaccine \\\n",
        "                          WHERE date = \"{}\" AND continent <> \"null\"'.format(today.strftime(\"%Y-%m-%d\")))\n",
        "\n",
        "\n",
        "vaccine_data = vaccine_data.join(population_data, [\"Country\"], how=\"outer\")\n",
        "\n",
        "vaccine_data.show()"
      ]
    },
    {
      "cell_type": "markdown",
      "metadata": {
        "id": "XxAguzJWmNLX"
      },
      "source": [
        "Checking the schema of the new DataFrame"
      ]
    },
    {
      "cell_type": "code",
      "execution_count": 15,
      "metadata": {
        "colab": {
          "base_uri": "https://localhost:8080/"
        },
        "id": "Nm0S7ud4QhpS",
        "outputId": "f54b848e-1b6b-4743-b622-4e4312198dbc"
      },
      "outputs": [
        {
          "output_type": "stream",
          "name": "stdout",
          "text": [
            "root\n",
            " |-- Country: string (nullable = true)\n",
            " |-- continent: string (nullable = true)\n",
            " |-- Total_vaccinated: long (nullable = true)\n",
            " |-- population: string (nullable = true)\n",
            "\n"
          ]
        }
      ],
      "source": [
        "vaccine_data.printSchema()"
      ]
    },
    {
      "cell_type": "markdown",
      "metadata": {
        "id": "vOiV9P-wmSdE"
      },
      "source": [
        "Converting the string data type into the integer data type of new_vaccination data and population data."
      ]
    },
    {
      "cell_type": "code",
      "execution_count": 16,
      "metadata": {
        "id": "eaysouxiQsFl"
      },
      "outputs": [],
      "source": [
        "data = [\"Total_vaccinated\", \"population\"]\n",
        "\n",
        "for i in data:\n",
        "    vaccine_data = vaccine_data.withColumn(i, vaccine_data[i].cast(LongType()))"
      ]
    },
    {
      "cell_type": "markdown",
      "metadata": {
        "id": "Cz1JE6pLnHM4"
      },
      "source": [
        "Now again check the schema, and get the difference."
      ]
    },
    {
      "cell_type": "code",
      "execution_count": 17,
      "metadata": {
        "colab": {
          "base_uri": "https://localhost:8080/"
        },
        "id": "La4eXfooQsIb",
        "outputId": "9abbd1ab-1dc8-4b26-c650-1eddf0ae4a33"
      },
      "outputs": [
        {
          "output_type": "stream",
          "name": "stdout",
          "text": [
            "root\n",
            " |-- Country: string (nullable = true)\n",
            " |-- continent: string (nullable = true)\n",
            " |-- Total_vaccinated: long (nullable = true)\n",
            " |-- population: long (nullable = true)\n",
            "\n"
          ]
        }
      ],
      "source": [
        "vaccine_data.printSchema()"
      ]
    },
    {
      "cell_type": "markdown",
      "metadata": {
        "id": "4RHpe3Chccpl"
      },
      "source": [
        "Now replace the null values with zero(0)"
      ]
    },
    {
      "cell_type": "code",
      "execution_count": 18,
      "metadata": {
        "colab": {
          "base_uri": "https://localhost:8080/"
        },
        "id": "YHOJyAK_Sw1i",
        "outputId": "e63ed52d-c39c-4af5-e209-4106710a34c4"
      },
      "outputs": [
        {
          "output_type": "stream",
          "name": "stdout",
          "text": [
            "+-------------------+-------------+----------------+----------+\n",
            "|            Country|    continent|Total_vaccinated|population|\n",
            "+-------------------+-------------+----------------+----------+\n",
            "|        Afghanistan|         Asia|        19368570|  39835428|\n",
            "|            Albania|       Europe|       125081646|   2872934|\n",
            "|            Algeria|       Africa|       106450533|  44616626|\n",
            "|            Andorra|       Europe|          909138|     77354|\n",
            "|             Angola|       Africa|       120976841|  33933611|\n",
            "|           Anguilla|North America|          271433|     15125|\n",
            "|Antigua and Barbuda|North America|         3340114|     98728|\n",
            "|          Argentina|South America|      6099070777|  45605823|\n",
            "|            Armenia|         Asia|        11360818|   2968128|\n",
            "|              Aruba|North America|        15512497|    107195|\n",
            "|          Australia|      Oceania|      3147217956|  25788217|\n",
            "|            Austria|       Europe|      1425423963|   9043072|\n",
            "|         Azerbaijan|         Asia|       781679873|  10223344|\n",
            "|            Bahamas|North America|         2816239|    396914|\n",
            "|            Bahrain|         Asia|       316074364|   1748295|\n",
            "|         Bangladesh|         Asia|      4428149369| 166303494|\n",
            "|           Barbados|North America|        30997520|    287708|\n",
            "|            Belarus|       Europe|        61088382|   9442867|\n",
            "|            Belgium|       Europe|      2027123378|  11632334|\n",
            "|             Belize|North America|        11039270|    404915|\n",
            "+-------------------+-------------+----------------+----------+\n",
            "only showing top 20 rows\n",
            "\n"
          ]
        }
      ],
      "source": [
        "vaccine_data = vaccine_data.fillna(value=0)\n",
        "vaccine_data.show()"
      ]
    },
    {
      "cell_type": "markdown",
      "metadata": {
        "id": "QHUquqRknlo9"
      },
      "source": [
        "Checking the DataFrame shape"
      ]
    },
    {
      "cell_type": "code",
      "execution_count": 19,
      "metadata": {
        "colab": {
          "base_uri": "https://localhost:8080/"
        },
        "id": "SwB_vWnRKz0B",
        "outputId": "51c07482-9917-4419-d4e6-ff45371840d1"
      },
      "outputs": [
        {
          "output_type": "stream",
          "name": "stdout",
          "text": [
            "(225, 4)\n"
          ]
        }
      ],
      "source": [
        "print((vaccine_data.count(), len(vaccine_data.columns)))"
      ]
    },
    {
      "cell_type": "markdown",
      "metadata": {
        "id": "2My4ZseJnrPt"
      },
      "source": [
        "Storing the pre-processed data into the data warehouse."
      ]
    },
    {
      "cell_type": "code",
      "execution_count": 20,
      "metadata": {
        "id": "oZjQGvYUcaVJ"
      },
      "outputs": [],
      "source": [
        "vaccine_data.coalesce(1).write.format(\"com.databricks.spark.csv\").option(\"header\", \"true\").save(\"vaccine_data.csv\")"
      ]
    },
    {
      "cell_type": "markdown",
      "metadata": {
        "id": "-DoZHqzu6BdG"
      },
      "source": [
        "# Covid Data"
      ]
    },
    {
      "cell_type": "markdown",
      "metadata": {
        "id": "mY-K_PHmn7Hs"
      },
      "source": [
        "Load the csv file of covid data in **PySpark**"
      ]
    },
    {
      "cell_type": "code",
      "execution_count": 21,
      "metadata": {
        "colab": {
          "base_uri": "https://localhost:8080/"
        },
        "id": "tstfyR2m6her",
        "outputId": "02b0ce9a-c87b-4594-b2eb-fb25781ab957"
      },
      "outputs": [
        {
          "output_type": "stream",
          "name": "stdout",
          "text": [
            "+-------------+-----------+--------+-----------+---------+--------------+------------+-----------+----------------+---------------+-------------+-----------+------------+-------------+\n",
            "|Country,Other| TotalCases|NewCases|TotalDeaths|NewDeaths|TotalRecovered|NewRecovered|ActiveCases|Serious,Critical|TotCases/1M pop|Deaths/1M pop| TotalTests|Tests/1M pop|   Population|\n",
            "+-------------+-----------+--------+-----------+---------+--------------+------------+-----------+----------------+---------------+-------------+-----------+------------+-------------+\n",
            "|        World|301,121,258|+356,293|  5,492,061|   +2,206|   257,728,113|    +198,913| 37,901,084|          92,107|         38,631|        704.6|       null|        null|         null|\n",
            "|          USA| 59,564,116|    null|    855,843|     null|    42,089,198|        null| 16,619,075|          21,467|        178,368|        2,563|829,437,395|   2,483,791|  333,940,077|\n",
            "|        India| 35,226,386|    null|    483,178|     null|    34,371,845|        null|    371,363|           8,944|         25,152|          345|686,819,128|     490,399|1,400,531,874|\n",
            "|       Brazil| 22,395,322|    null|    619,730|     null|    21,567,845|        null|    207,747|           8,318|        104,239|        2,885| 63,776,166|     296,846|  214,845,887|\n",
            "+-------------+-----------+--------+-----------+---------+--------------+------------+-----------+----------------+---------------+-------------+-----------+------------+-------------+\n",
            "only showing top 4 rows\n",
            "\n"
          ]
        }
      ],
      "source": [
        "spark = SparkSession.builder.appName('CSV reader').getOrCreate()\n",
        "\n",
        "#extract\n",
        "df = '/content/Covid_data.csv'\n",
        "covid_dfData = spark.read.csv(df, header=True, sep=\",\").cache()\n",
        "\n",
        "covid_dfData.show(4)"
      ]
    },
    {
      "cell_type": "markdown",
      "metadata": {
        "id": "orBTOJMpo-q_"
      },
      "source": [
        "Lets change the Column name from \"Country,other\" to \"Country\""
      ]
    },
    {
      "cell_type": "code",
      "execution_count": 22,
      "metadata": {
        "colab": {
          "base_uri": "https://localhost:8080/"
        },
        "id": "jpu-xjvGpIBt",
        "outputId": "b1621ca2-dc42-4457-ea76-a7fe65b978a8"
      },
      "outputs": [
        {
          "output_type": "stream",
          "name": "stdout",
          "text": [
            "+-------+-----------+--------+-----------+---------+--------------+------------+-----------+----------------+---------------+-------------+-----------+------------+-------------+\n",
            "|Country| TotalCases|NewCases|TotalDeaths|NewDeaths|TotalRecovered|NewRecovered|ActiveCases|Critical_patient|TotCases/1M pop|Deaths/1M pop| TotalTests|Tests/1M pop|   Population|\n",
            "+-------+-----------+--------+-----------+---------+--------------+------------+-----------+----------------+---------------+-------------+-----------+------------+-------------+\n",
            "|  World|301,121,258|+356,293|  5,492,061|   +2,206|   257,728,113|    +198,913| 37,901,084|          92,107|         38,631|        704.6|       null|        null|         null|\n",
            "|    USA| 59,564,116|    null|    855,843|     null|    42,089,198|        null| 16,619,075|          21,467|        178,368|        2,563|829,437,395|   2,483,791|  333,940,077|\n",
            "|  India| 35,226,386|    null|    483,178|     null|    34,371,845|        null|    371,363|           8,944|         25,152|          345|686,819,128|     490,399|1,400,531,874|\n",
            "| Brazil| 22,395,322|    null|    619,730|     null|    21,567,845|        null|    207,747|           8,318|        104,239|        2,885| 63,776,166|     296,846|  214,845,887|\n",
            "+-------+-----------+--------+-----------+---------+--------------+------------+-----------+----------------+---------------+-------------+-----------+------------+-------------+\n",
            "only showing top 4 rows\n",
            "\n"
          ]
        }
      ],
      "source": [
        "covid_dfData = covid_dfData.withColumnRenamed(\"Country,Other\", \"Country\")\n",
        "covid_dfData = covid_dfData.withColumnRenamed(\"Serious,Critical\", \"Critical_patient\")\n",
        "covid_dfData.show(4)"
      ]
    },
    {
      "cell_type": "markdown",
      "metadata": {
        "id": "cSLyYaYuoHP2"
      },
      "source": [
        "Separate the columns named \"Country\", \"TotalCases\", \"NewCases\", \"NewDeaths\", \"TotalDeaths\", \"TotalRecovered\" from the data frame. And convert them from string data type into integer data type, excxept the column named \"Country\"."
      ]
    },
    {
      "cell_type": "code",
      "execution_count": 23,
      "metadata": {
        "id": "-oiW3IIVE6YS"
      },
      "outputs": [],
      "source": [
        "covid_selected_data = covid_dfData[\"Country\", \"TotalCases\", \"NewCases\", \"NewDeaths\", \"Critical_patient\", \"TotalDeaths\", \"TotalRecovered\"]"
      ]
    },
    {
      "cell_type": "code",
      "execution_count": 24,
      "metadata": {
        "id": "G-n0mVcxDCPj"
      },
      "outputs": [],
      "source": [
        "data = [\"TotalCases\", \"NewCases\", \"NewDeaths\", \"Critical_patient\", \"TotalDeaths\", \"TotalRecovered\"]\n",
        "\n",
        "for i in data:\n",
        "    covid_selected_data = covid_selected_data.withColumn(i, regexp_replace(i, ',', ''))\n",
        "    covid_selected_data = covid_selected_data.withColumn(i, covid_selected_data[i].cast(IntegerType()))"
      ]
    },
    {
      "cell_type": "code",
      "execution_count": 25,
      "metadata": {
        "colab": {
          "base_uri": "https://localhost:8080/"
        },
        "id": "y-TbH19QTLJn",
        "outputId": "16e62bdb-6c8e-4eb3-d030-e45b7719710e"
      },
      "outputs": [
        {
          "output_type": "stream",
          "name": "stdout",
          "text": [
            "root\n",
            " |-- Country: string (nullable = true)\n",
            " |-- TotalCases: integer (nullable = true)\n",
            " |-- NewCases: integer (nullable = true)\n",
            " |-- NewDeaths: integer (nullable = true)\n",
            " |-- Critical_patient: integer (nullable = true)\n",
            " |-- TotalDeaths: integer (nullable = true)\n",
            " |-- TotalRecovered: integer (nullable = true)\n",
            "\n"
          ]
        }
      ],
      "source": [
        "covid_selected_data.printSchema()"
      ]
    },
    {
      "cell_type": "code",
      "execution_count": 26,
      "metadata": {
        "colab": {
          "base_uri": "https://localhost:8080/"
        },
        "id": "-nj0qhU5FKPw",
        "outputId": "a6bcc84f-8691-424d-d38c-c9de78a0fe7c"
      },
      "outputs": [
        {
          "output_type": "stream",
          "name": "stdout",
          "text": [
            "+------------+----------+--------+---------+----------------+-----------+--------------+\n",
            "|     Country|TotalCases|NewCases|NewDeaths|Critical_patient|TotalDeaths|TotalRecovered|\n",
            "+------------+----------+--------+---------+----------------+-----------+--------------+\n",
            "|       World| 301121258|  356293|     2206|           92107|    5492061|     257728113|\n",
            "|         USA|  59564116|    null|     null|           21467|     855843|      42089198|\n",
            "|       India|  35226386|    null|     null|            8944|     483178|      34371845|\n",
            "|      Brazil|  22395322|    null|     null|            8318|     619730|      21567845|\n",
            "|          UK|  14015065|    null|     null|             875|     149515|      10620728|\n",
            "|      France|  11183238|    null|     null|            3333|     125013|       8393827|\n",
            "|      Russia|  10618035|   16735|      787|            2300|     314604|       9645712|\n",
            "|      Turkey|   9787274|    null|     null|            1128|      83231|       9217669|\n",
            "|     Germany|   7399003|    null|     null|            4636|     114207|       6664800|\n",
            "|       Italy|   6975465|    null|     null|            1467|     138474|       5243412|\n",
            "|       Spain|   6922466|    null|     null|            2005|      89837|       5124221|\n",
            "|        Iran|   6204224|    1178|       19|            2060|     131821|       6048957|\n",
            "|   Argentina|   6025303|    null|     null|            1572|     117386|       5427191|\n",
            "|    Colombia|   5242672|    null|     null|             342|     130191|       5006108|\n",
            "|   Indonesia|   4265187|     518|        5|            null|     144121|       4115572|\n",
            "|      Poland|   4191193|   11902|      117|            1858|      99428|       3697523|\n",
            "|      Mexico|   4055095|   25821|      128|            4798|     299933|       3325558|\n",
            "|     Ukraine|   3696468|    7177|      192|             177|      97088|       3506509|\n",
            "|South Africa|   3504554|    null|     null|             546|      92112|       3260642|\n",
            "| Netherlands|   3247900|    null|     null|             436|      21041|       2769789|\n",
            "+------------+----------+--------+---------+----------------+-----------+--------------+\n",
            "only showing top 20 rows\n",
            "\n"
          ]
        }
      ],
      "source": [
        "covid_selected_data.show()"
      ]
    },
    {
      "cell_type": "markdown",
      "metadata": {
        "id": "HacUYU8-ptV9"
      },
      "source": [
        "Fill the null value with zero(0)."
      ]
    },
    {
      "cell_type": "code",
      "execution_count": 27,
      "metadata": {
        "colab": {
          "base_uri": "https://localhost:8080/"
        },
        "id": "rmR_p8X4FPD5",
        "outputId": "846efa44-faec-4ef2-ad6f-4226dafcdf17"
      },
      "outputs": [
        {
          "output_type": "stream",
          "name": "stdout",
          "text": [
            "+-------+----------+--------+---------+----------------+-----------+--------------+\n",
            "|Country|TotalCases|NewCases|NewDeaths|Critical_patient|TotalDeaths|TotalRecovered|\n",
            "+-------+----------+--------+---------+----------------+-----------+--------------+\n",
            "|  World| 301121258|  356293|     2206|           92107|    5492061|     257728113|\n",
            "|    USA|  59564116|       0|        0|           21467|     855843|      42089198|\n",
            "|  India|  35226386|       0|        0|            8944|     483178|      34371845|\n",
            "| Brazil|  22395322|       0|        0|            8318|     619730|      21567845|\n",
            "|     UK|  14015065|       0|        0|             875|     149515|      10620728|\n",
            "| France|  11183238|       0|        0|            3333|     125013|       8393827|\n",
            "| Russia|  10618035|   16735|      787|            2300|     314604|       9645712|\n",
            "| Turkey|   9787274|       0|        0|            1128|      83231|       9217669|\n",
            "|Germany|   7399003|       0|        0|            4636|     114207|       6664800|\n",
            "|  Italy|   6975465|       0|        0|            1467|     138474|       5243412|\n",
            "+-------+----------+--------+---------+----------------+-----------+--------------+\n",
            "only showing top 10 rows\n",
            "\n"
          ]
        }
      ],
      "source": [
        "covid_selected_data = covid_selected_data.fillna(value=0)\n",
        "covid_selected_data.show(10)"
      ]
    },
    {
      "cell_type": "markdown",
      "metadata": {
        "id": "gAZkrgAbrEj8"
      },
      "source": [
        "Storing the pre-processed data into the data warehouse."
      ]
    },
    {
      "cell_type": "code",
      "execution_count": 28,
      "metadata": {
        "id": "ftnStQvaq7pT"
      },
      "outputs": [],
      "source": [
        "covid_selected_data.coalesce(1).write.format(\"com.databricks.spark.csv\").option(\"header\", \"true\").save(\"covid_data.csv\")"
      ]
    },
    {
      "cell_type": "markdown",
      "metadata": {
        "id": "KhWC5cCvqv2E"
      },
      "source": [
        "# Now concatening these two datasets what we have pre-processed above. And process them."
      ]
    },
    {
      "cell_type": "code",
      "execution_count": 29,
      "metadata": {
        "colab": {
          "base_uri": "https://localhost:8080/"
        },
        "id": "IrvE6DjLNxj5",
        "outputId": "9b418b2f-93b4-4c19-dc80-9a18ce245f04"
      },
      "outputs": [
        {
          "output_type": "stream",
          "name": "stdout",
          "text": [
            "+-------------------+----------+--------+---------+----------------+-----------+--------------+-------------+----------------+----------+\n",
            "|            Country|TotalCases|NewCases|NewDeaths|Critical_patient|TotalDeaths|TotalRecovered|    continent|Total_vaccinated|population|\n",
            "+-------------------+----------+--------+---------+----------------+-----------+--------------+-------------+----------------+----------+\n",
            "|        Afghanistan|    158300|      21|        0|            1124|       7368|        145771|         Asia|        19368570|  39835428|\n",
            "|            Albania|    214941|       0|        0|              23|       3233|        202386|       Europe|       125081646|   2872934|\n",
            "|            Algeria|    220825|       0|        0|              34|       6318|        151604|       Africa|       106450533|  44616626|\n",
            "|            Andorra|     25289|       0|        0|              31|        141|         21511|       Europe|          909138|     77354|\n",
            "|             Angola|     87625|       0|        0|               7|       1799|         70266|       Africa|       120976841|  33933611|\n",
            "|           Anguilla|      1777|       0|        0|               0|          6|          1702|North America|          271433|     15125|\n",
            "|Antigua and Barbuda|      4715|       0|        0|               1|        119|          4097|North America|         3340114|     98728|\n",
            "|          Argentina|   6025303|       0|        0|            1572|     117386|       5427191|South America|      6099070777|  45605823|\n",
            "|            Armenia|    345518|     129|        4|               0|       7997|        332588|         Asia|        11360818|   2968128|\n",
            "|              Aruba|     25254|       0|        0|               6|        181|         20802|North America|        15512497|    107195|\n",
            "|          Australia|    762500|   78273|       20|             269|       2321|        351637|      Oceania|      3147217956|  25788217|\n",
            "|            Austria|   1321725|    8786|        7|             278|      13830|       1250567|       Europe|      1425423963|   9043072|\n",
            "|         Azerbaijan|    620049|     547|        9|               0|       8431|        604537|         Asia|       781679873|  10223344|\n",
            "|            Bahamas|     26701|       0|        0|               4|        717|         21964|North America|         2816239|    396914|\n",
            "|            Bahrain|    287939|       0|        0|               2|       1395|        278737|         Asia|       316074364|   1748295|\n",
            "|         Bangladesh|   1591093|    1146|        1|            1349|      28098|       1550534|         Asia|      4428149369| 166303494|\n",
            "|           Barbados|     30597|       0|        0|               0|        264|         28146|North America|        30997520|    287708|\n",
            "|            Belarus|    706530|    1623|       16|               0|       5685|        699628|       Europe|        61088382|   9442867|\n",
            "|            Belgium|   2206992|   27282|       17|             471|      28446|       1840477|       Europe|      2027123378|  11632334|\n",
            "|             Belize|     35206|       0|        0|               4|        605|         30856|North America|        11039270|    404915|\n",
            "+-------------------+----------+--------+---------+----------------+-----------+--------------+-------------+----------------+----------+\n",
            "only showing top 20 rows\n",
            "\n"
          ]
        }
      ],
      "source": [
        "final_df = covid_selected_data.join(vaccine_data, [\"Country\"], how=\"outer\")\n",
        "final_df.show()"
      ]
    },
    {
      "cell_type": "markdown",
      "metadata": {
        "id": "L0wOvVZOvBOm"
      },
      "source": [
        "Checking the final dataframe's size"
      ]
    },
    {
      "cell_type": "code",
      "execution_count": 30,
      "metadata": {
        "colab": {
          "base_uri": "https://localhost:8080/"
        },
        "id": "MNSe3zFoNxm0",
        "outputId": "e5e6dbfb-889d-4a16-fc24-ce4c38947c4c"
      },
      "outputs": [
        {
          "output_type": "stream",
          "name": "stdout",
          "text": [
            "(254, 10)\n"
          ]
        }
      ],
      "source": [
        "print((final_df.count(), len(final_df.columns)))"
      ]
    },
    {
      "cell_type": "markdown",
      "metadata": {
        "id": "uzGqGxxavWLz"
      },
      "source": [
        "Dropping all NA values from the column named \"Population\", so that we can get all country data except other data."
      ]
    },
    {
      "cell_type": "code",
      "execution_count": 31,
      "metadata": {
        "colab": {
          "base_uri": "https://localhost:8080/"
        },
        "id": "mQzrmVDGPkrI",
        "outputId": "945be4a6-41f4-4943-bcf9-b2c7668a57d3"
      },
      "outputs": [
        {
          "output_type": "stream",
          "name": "stdout",
          "text": [
            "+-------------------+----------+--------+---------+----------------+-----------+--------------+-------------+----------------+----------+\n",
            "|            Country|TotalCases|NewCases|NewDeaths|Critical_patient|TotalDeaths|TotalRecovered|    continent|Total_vaccinated|population|\n",
            "+-------------------+----------+--------+---------+----------------+-----------+--------------+-------------+----------------+----------+\n",
            "|        Afghanistan|    158300|      21|        0|            1124|       7368|        145771|         Asia|        19368570|  39835428|\n",
            "|            Albania|    214941|       0|        0|              23|       3233|        202386|       Europe|       125081646|   2872934|\n",
            "|            Algeria|    220825|       0|        0|              34|       6318|        151604|       Africa|       106450533|  44616626|\n",
            "|            Andorra|     25289|       0|        0|              31|        141|         21511|       Europe|          909138|     77354|\n",
            "|             Angola|     87625|       0|        0|               7|       1799|         70266|       Africa|       120976841|  33933611|\n",
            "|           Anguilla|      1777|       0|        0|               0|          6|          1702|North America|          271433|     15125|\n",
            "|Antigua and Barbuda|      4715|       0|        0|               1|        119|          4097|North America|         3340114|     98728|\n",
            "|          Argentina|   6025303|       0|        0|            1572|     117386|       5427191|South America|      6099070777|  45605823|\n",
            "|            Armenia|    345518|     129|        4|               0|       7997|        332588|         Asia|        11360818|   2968128|\n",
            "|              Aruba|     25254|       0|        0|               6|        181|         20802|North America|        15512497|    107195|\n",
            "|          Australia|    762500|   78273|       20|             269|       2321|        351637|      Oceania|      3147217956|  25788217|\n",
            "|            Austria|   1321725|    8786|        7|             278|      13830|       1250567|       Europe|      1425423963|   9043072|\n",
            "|         Azerbaijan|    620049|     547|        9|               0|       8431|        604537|         Asia|       781679873|  10223344|\n",
            "|            Bahamas|     26701|       0|        0|               4|        717|         21964|North America|         2816239|    396914|\n",
            "|            Bahrain|    287939|       0|        0|               2|       1395|        278737|         Asia|       316074364|   1748295|\n",
            "|         Bangladesh|   1591093|    1146|        1|            1349|      28098|       1550534|         Asia|      4428149369| 166303494|\n",
            "|           Barbados|     30597|       0|        0|               0|        264|         28146|North America|        30997520|    287708|\n",
            "|            Belarus|    706530|    1623|       16|               0|       5685|        699628|       Europe|        61088382|   9442867|\n",
            "|            Belgium|   2206992|   27282|       17|             471|      28446|       1840477|       Europe|      2027123378|  11632334|\n",
            "|             Belize|     35206|       0|        0|               4|        605|         30856|North America|        11039270|    404915|\n",
            "+-------------------+----------+--------+---------+----------------+-----------+--------------+-------------+----------------+----------+\n",
            "only showing top 20 rows\n",
            "\n"
          ]
        }
      ],
      "source": [
        "final_df = final_df.na.drop(subset=[\"population\"])\n",
        "final_df.show()"
      ]
    },
    {
      "cell_type": "markdown",
      "metadata": {
        "id": "5b5tSIvvvqlR"
      },
      "source": [
        "Now checking again the dataframe's size"
      ]
    },
    {
      "cell_type": "code",
      "execution_count": 32,
      "metadata": {
        "colab": {
          "base_uri": "https://localhost:8080/"
        },
        "id": "NtnUJ5sxPktn",
        "outputId": "5ac5ecc1-1e58-4068-ab6b-5c37f93a3263"
      },
      "outputs": [
        {
          "output_type": "stream",
          "name": "stdout",
          "text": [
            "(225, 10)\n"
          ]
        }
      ],
      "source": [
        "print((final_df.count(), len(final_df.columns)))"
      ]
    },
    {
      "cell_type": "markdown",
      "metadata": {
        "id": "zmvCFio3xP05"
      },
      "source": [
        "The following code is to get the list data of any particular column. Here we tried to get the distinct data of continent column."
      ]
    },
    {
      "cell_type": "code",
      "execution_count": 33,
      "metadata": {
        "colab": {
          "base_uri": "https://localhost:8080/"
        },
        "id": "81ZQKa-bOW5o",
        "outputId": "d9a7a3df-7f9d-4986-d8cb-d2cc820958d0"
      },
      "outputs": [
        {
          "output_type": "stream",
          "name": "stdout",
          "text": [
            "Total number of continent:  6\n",
            "['Europe', 'Africa', 'North America', 'South America', 'Oceania', 'Asia']\n"
          ]
        }
      ],
      "source": [
        "continent = final_df.select(\"continent\").distinct().rdd.flatMap(list).collect()\n",
        "print(\"Total number of continent: \",len(continent))\n",
        "print(continent)"
      ]
    },
    {
      "cell_type": "markdown",
      "metadata": {
        "id": "qnY2Smcyc-wU"
      },
      "source": [
        "Getting the distinct data of country column."
      ]
    },
    {
      "cell_type": "code",
      "execution_count": 34,
      "metadata": {
        "colab": {
          "base_uri": "https://localhost:8080/"
        },
        "id": "_pnDVsEDUnbm",
        "outputId": "18702af9-dd89-4364-a58e-8f7f872e20d9"
      },
      "outputs": [
        {
          "output_type": "stream",
          "name": "stdout",
          "text": [
            "Total number of country:  225\n",
            "['Chad', 'Anguilla', 'Paraguay', 'Russia', 'Macao', 'Yemen', 'Senegal', 'Sweden', 'Tokelau', 'Kiribati', 'Guyana', 'Eritrea', 'Jersey', 'Philippines', 'Djibouti', 'Tonga', 'Malaysia', 'Singapore', 'Fiji', 'Turkey', 'Malawi', 'Iraq', 'Sint Maarten (Dutch part)', 'Germany', 'Comoros', 'Afghanistan', 'Cambodia', 'Jordan', 'Maldives', 'Rwanda', 'Saint Helena', 'Sudan', 'Palau', 'France', 'Turks and Caicos Islands', 'Greece', 'Kosovo', 'Sri Lanka', 'Montserrat', 'British Virgin Islands', 'Dominica', 'Taiwan', 'Algeria', 'Equatorial Guinea', 'Togo', 'Slovakia', 'Argentina', 'Angola', 'Belgium', 'Vatican', 'San Marino', 'Ecuador', 'Qatar', 'Bonaire Sint Eustatius and Saba', 'Lesotho', 'Albania', 'Madagascar', 'Finland', 'New Caledonia', 'Ghana', 'Myanmar', 'Nicaragua', 'Guernsey', 'Benin', 'Peru', 'Sierra Leone', 'Bahamas', 'China', 'Curacao', 'India', 'United States', 'Belarus', 'Kuwait', 'Malta', 'Sao Tome and Principe', 'Marshall Islands', 'Somalia', 'Tuvalu', 'Chile', 'Tajikistan', 'Cayman Islands', 'Isle of Man', 'Northern Cyprus', 'Croatia', 'Burundi', 'Andorra', 'Bolivia', 'Nigeria', 'Gabon', 'Italy', 'Suriname', 'Lithuania', 'Norway', 'Turkmenistan', 'Saint Pierre and Miquelon', 'Spain', 'Cuba', 'Mauritania', 'Czechia', 'Central African Republic', 'Denmark', 'Niger', 'Bangladesh', 'Barbados', 'Iran', 'Ireland', 'Pitcairn', 'Congo', 'Liechtenstein', 'Laos', 'Thailand', 'Bhutan', 'Monaco', 'Morocco', 'Cape Verde', 'Panama', 'Hong Kong', 'Nauru', 'Ukraine', 'Venezuela', 'Iceland', 'Israel', 'Saint Kitts and Nevis', 'Faeroe Islands', 'French Polynesia', 'Oman', 'South Korea', 'Cyprus', 'Gibraltar', 'Palestine', 'Uruguay', \"Cote d'Ivoire\", 'Mexico', 'Aruba', 'Estonia', 'Georgia', 'Montenegro', 'Zimbabwe', 'Indonesia', 'Saint Vincent and the Grenadines', 'Guatemala', 'Mongolia', 'Azerbaijan', 'Libya', 'Grenada', 'Armenia', 'Liberia', 'Tunisia', 'Honduras', 'Syria', 'Trinidad and Tobago', 'Saudi Arabia', 'Uganda', 'Wallis and Futuna', 'Namibia', 'Switzerland', 'Zambia', 'Ethiopia', 'Eswatini', 'Jamaica', 'Latvia', 'Brunei', 'South Sudan', 'United Arab Emirates', 'Saint Lucia', 'Guinea', 'Canada', 'Timor', 'Seychelles', 'Kyrgyzstan', 'North Macedonia', 'Samoa', 'Uzbekistan', 'Mozambique', 'Cook Islands', 'Belize', 'Brazil', 'Gambia', 'Kenya', 'Lebanon', 'Antigua and Barbuda', 'Slovenia', 'Dominican Republic', 'Botswana', 'Japan', 'Tanzania', 'Falkland Islands', 'Luxembourg', 'New Zealand', 'Bosnia and Herzegovina', 'Greenland', 'Haiti', 'Poland', 'Micronesia (country)', 'Portugal', 'Australia', 'Cameroon', 'Papua New Guinea', 'Guinea-Bissau', 'Romania', 'Bulgaria', 'Solomon Islands', 'Austria', 'Nepal', 'Costa Rica', 'Egypt', 'El Salvador', 'Kazakhstan', 'Serbia', 'Burkina Faso', 'South Africa', 'Bermuda', 'Bahrain', 'Colombia', 'Hungary', 'Democratic Republic of Congo', 'Pakistan', 'Vanuatu', 'Niue', 'Mauritius', 'Moldova', 'United Kingdom', 'Vietnam', 'Mali', 'Netherlands']\n"
          ]
        }
      ],
      "source": [
        "country = final_df.select(\"country\").distinct().rdd.flatMap(list).collect()\n",
        "print(\"Total number of country: \",len(country))\n",
        "print(country)"
      ]
    },
    {
      "cell_type": "markdown",
      "metadata": {
        "id": "3Vk1uuaQdGyM"
      },
      "source": [
        "Save the data to the data warehouse"
      ]
    },
    {
      "cell_type": "code",
      "execution_count": 35,
      "metadata": {
        "id": "tdVacrpkyNLO"
      },
      "outputs": [],
      "source": [
        "final_df.coalesce(1).write.format(\"com.databricks.spark.csv\").option(\"header\", \"true\").save(\"final_df_data.csv\")"
      ]
    },
    {
      "cell_type": "markdown",
      "metadata": {
        "id": "WGDn7uVOVHg2"
      },
      "source": [
        "# Visualising the Data"
      ]
    },
    {
      "cell_type": "markdown",
      "metadata": {
        "id": "aiajYzBWdMg1"
      },
      "source": [
        "Import libraries"
      ]
    },
    {
      "cell_type": "code",
      "execution_count": 36,
      "metadata": {
        "id": "As_xq75UyNOo"
      },
      "outputs": [],
      "source": [
        "%matplotlib inline\n",
        "import matplotlib.pyplot as plt"
      ]
    },
    {
      "cell_type": "markdown",
      "metadata": {
        "id": "BQW64IWodO_j"
      },
      "source": [
        "Load the final dataset from data warehouse"
      ]
    },
    {
      "cell_type": "code",
      "execution_count": 37,
      "metadata": {
        "colab": {
          "base_uri": "https://localhost:8080/"
        },
        "id": "dE7dP63UX7SW",
        "outputId": "9552fded-e218-43ea-e85c-9417b3d89ca1"
      },
      "outputs": [
        {
          "output_type": "stream",
          "name": "stdout",
          "text": [
            "+--------------------+----------+--------+---------+----------------+-----------+--------------+-------------+----------------+----------+\n",
            "|             Country|TotalCases|NewCases|NewDeaths|Critical_patient|TotalDeaths|TotalRecovered|    continent|Total_vaccinated|population|\n",
            "+--------------------+----------+--------+---------+----------------+-----------+--------------+-------------+----------------+----------+\n",
            "|         Afghanistan|    158300|      21|        0|            1124|       7368|        145771|         Asia|        19368570|  39835428|\n",
            "|             Albania|    214941|       0|        0|              23|       3233|        202386|       Europe|       125081646|   2872934|\n",
            "|             Algeria|    220825|       0|        0|              34|       6318|        151604|       Africa|       106450533|  44616626|\n",
            "|             Andorra|     25289|       0|        0|              31|        141|         21511|       Europe|          909138|     77354|\n",
            "|              Angola|     87625|       0|        0|               7|       1799|         70266|       Africa|       120976841|  33933611|\n",
            "|            Anguilla|      1777|       0|        0|               0|          6|          1702|North America|          271433|     15125|\n",
            "| Antigua and Barbuda|      4715|       0|        0|               1|        119|          4097|North America|         3340114|     98728|\n",
            "|           Argentina|   6025303|       0|        0|            1572|     117386|       5427191|South America|      6099070777|  45605823|\n",
            "|             Armenia|    345518|     129|        4|               0|       7997|        332588|         Asia|        11360818|   2968128|\n",
            "|               Aruba|     25254|       0|        0|               6|        181|         20802|North America|        15512497|    107195|\n",
            "|           Australia|    762500|   78273|       20|             269|       2321|        351637|      Oceania|      3147217956|  25788217|\n",
            "|             Austria|   1321725|    8786|        7|             278|      13830|       1250567|       Europe|      1425423963|   9043072|\n",
            "|          Azerbaijan|    620049|     547|        9|               0|       8431|        604537|         Asia|       781679873|  10223344|\n",
            "|             Bahamas|     26701|       0|        0|               4|        717|         21964|North America|         2816239|    396914|\n",
            "|             Bahrain|    287939|       0|        0|               2|       1395|        278737|         Asia|       316074364|   1748295|\n",
            "|          Bangladesh|   1591093|    1146|        1|            1349|      28098|       1550534|         Asia|      4428149369| 166303494|\n",
            "|            Barbados|     30597|       0|        0|               0|        264|         28146|North America|        30997520|    287708|\n",
            "|             Belarus|    706530|    1623|       16|               0|       5685|        699628|       Europe|        61088382|   9442867|\n",
            "|             Belgium|   2206992|   27282|       17|             471|      28446|       1840477|       Europe|      2027123378|  11632334|\n",
            "|              Belize|     35206|       0|        0|               4|        605|         30856|North America|        11039270|    404915|\n",
            "|               Benin|     25522|       0|        0|               5|        161|         24823|       Africa|        10361794|  12451031|\n",
            "|             Bermuda|      7191|     255|        0|               0|        110|          5970|North America|         1341143|     62092|\n",
            "|              Bhutan|      2753|      82|        0|               0|          3|          2654|         Asia|        44847104|    779900|\n",
            "|             Bolivia|    652819|   11002|       40|             220|      19888|        540099|South America|       884607739|  11832936|\n",
            "|Bonaire Sint Eust...|      null|    null|     null|            null|       null|          null|North America|           24835|     26445|\n",
            "|Bosnia and Herzeg...|    297333|       0|        0|               0|      13568|        192218|       Europe|         8014055|   3263459|\n",
            "|            Botswana|    229855|       0|        0|               1|       2475|        216424|       Africa|        18742753|   2397240|\n",
            "|              Brazil|  22395322|       0|        0|            8318|     619730|      21567845|South America|     29665106873| 213993441|\n",
            "|British Virgin Is...|      4207|       0|        0|               8|         40|             0|North America|          397563|     30423|\n",
            "|              Brunei|     15532|       0|        0|               1|         98|         15331|         Asia|        31191420|    441532|\n",
            "|            Bulgaria|    770001|       0|        0|             509|      31375|        617448|       Europe|       116425499|   6896655|\n",
            "|        Burkina Faso|     18637|       0|        0|               0|        333|         17150|       Africa|         4606959|  21497097|\n",
            "|             Burundi|     33551|    1475|        0|               0|         38|           773|       Africa|           24203|  12255429|\n",
            "|            Cambodia|    120564|      11|        0|               0|       3015|        116991|         Asia|      2326356701|  16946446|\n",
            "|            Cameroon|    109367|       0|        0|              13|       1851|        106050|       Africa|        15551663|  27224262|\n",
            "|              Canada|   2437822|       0|        0|             455|      30584|       2030568|North America|      7136219204|  38067913|\n",
            "|          Cape Verde|      null|    null|     null|            null|       null|          null|       Africa|         6392698|    561901|\n",
            "|      Cayman Islands|     10186|     466|        0|              11|         12|          5237|North America|         3929989|     66498|\n",
            "|Central African R...|      null|    null|     null|            null|       null|          null|       Africa|         3897812|   4919987|\n",
            "|                Chad|      6183|       0|        0|               0|        184|          4874|       Africa|         3427817|  16914985|\n",
            "+--------------------+----------+--------+---------+----------------+-----------+--------------+-------------+----------------+----------+\n",
            "only showing top 40 rows\n",
            "\n"
          ]
        }
      ],
      "source": [
        "spark = SparkSession.builder.appName('CSV reader').getOrCreate()\n",
        "\n",
        "#extract\n",
        "df = '/content/final_df_data.csv'\n",
        "final_data = spark.read.csv(df, header=True, sep=\",\").cache()\n",
        "\n",
        "final_data.show(40)"
      ]
    },
    {
      "cell_type": "markdown",
      "metadata": {
        "id": "RGft2rlk-IoP"
      },
      "source": [
        "Checking if there are any inetger column in string format."
      ]
    },
    {
      "cell_type": "code",
      "execution_count": 38,
      "metadata": {
        "colab": {
          "base_uri": "https://localhost:8080/"
        },
        "id": "_3Rve4Cf-HYZ",
        "outputId": "a687133a-fe08-4102-bcc7-548daa3e8851"
      },
      "outputs": [
        {
          "output_type": "stream",
          "name": "stdout",
          "text": [
            "root\n",
            " |-- Country: string (nullable = true)\n",
            " |-- TotalCases: string (nullable = true)\n",
            " |-- NewCases: string (nullable = true)\n",
            " |-- NewDeaths: string (nullable = true)\n",
            " |-- Critical_patient: string (nullable = true)\n",
            " |-- TotalDeaths: string (nullable = true)\n",
            " |-- TotalRecovered: string (nullable = true)\n",
            " |-- continent: string (nullable = true)\n",
            " |-- Total_vaccinated: string (nullable = true)\n",
            " |-- population: string (nullable = true)\n",
            "\n"
          ]
        }
      ],
      "source": [
        "final_data.printSchema()"
      ]
    },
    {
      "cell_type": "markdown",
      "metadata": {
        "id": "6t6SuQUf9yn1"
      },
      "source": [
        "Since there are some string columns yet. So first convert them into integer type, and then replace null value with 0."
      ]
    },
    {
      "cell_type": "code",
      "execution_count": 39,
      "metadata": {
        "id": "74rREkQO5Yat"
      },
      "outputs": [],
      "source": [
        "data = [\"TotalCases\", \"NewCases\", \"NewDeaths\", \"TotalDeaths\", \"Critical_patient\", \"TotalRecovered\", \"Total_vaccinated\", \"population\"]\n",
        "\n",
        "for i in data:\n",
        "    final_data = final_data.withColumn(i, final_data[i].cast(LongType()))"
      ]
    },
    {
      "cell_type": "code",
      "execution_count": 40,
      "metadata": {
        "colab": {
          "base_uri": "https://localhost:8080/"
        },
        "id": "QX63L0oJzO3o",
        "outputId": "35d620a4-ea45-469f-8131-61a2acc11c1d"
      },
      "outputs": [
        {
          "output_type": "stream",
          "name": "stdout",
          "text": [
            "root\n",
            " |-- Country: string (nullable = true)\n",
            " |-- TotalCases: long (nullable = true)\n",
            " |-- NewCases: long (nullable = true)\n",
            " |-- NewDeaths: long (nullable = true)\n",
            " |-- Critical_patient: long (nullable = true)\n",
            " |-- TotalDeaths: long (nullable = true)\n",
            " |-- TotalRecovered: long (nullable = true)\n",
            " |-- continent: string (nullable = true)\n",
            " |-- Total_vaccinated: long (nullable = true)\n",
            " |-- population: long (nullable = true)\n",
            "\n"
          ]
        }
      ],
      "source": [
        "final_data.printSchema()"
      ]
    },
    {
      "cell_type": "code",
      "execution_count": 41,
      "metadata": {
        "id": "WlChhHUb4iMA"
      },
      "outputs": [],
      "source": [
        "final_data = final_data.na.fill(value=0)"
      ]
    },
    {
      "cell_type": "markdown",
      "metadata": {
        "id": "Mpl8H77j-aEY"
      },
      "source": [
        "***Total Death analysis on different continent.***"
      ]
    },
    {
      "cell_type": "markdown",
      "metadata": {
        "id": "mCEt1_h9-tDK"
      },
      "source": [
        "Separate them from the data table."
      ]
    },
    {
      "cell_type": "code",
      "execution_count": 42,
      "metadata": {
        "colab": {
          "base_uri": "https://localhost:8080/"
        },
        "id": "TS5kU8W1yNSx",
        "outputId": "9c4e7d04-96f1-4197-8f08-100d1127098d"
      },
      "outputs": [
        {
          "output_type": "stream",
          "name": "stdout",
          "text": [
            "+-------------+-----------+----------------+--------------+\n",
            "|    continent|TotalDeaths|Total_vaccinated|TotalRecovered|\n",
            "+-------------+-----------+----------------+--------------+\n",
            "|       Europe|    1397057|     88475395831|      66446518|\n",
            "|       Africa|     228113|      8536119870|       8666809|\n",
            "|North America|     397396|     82466398616|       8936124|\n",
            "|South America|    1193483|     49809026700|      36094858|\n",
            "|      Oceania|       4592|      3746082812|        464910|\n",
            "|         Asia|    1252343|    230977985693|      81010625|\n",
            "+-------------+-----------+----------------+--------------+\n",
            "\n"
          ]
        }
      ],
      "source": [
        "final_data.registerTempTable(\"final_data\")\n",
        "c = spark.sql(\"SELECT continent, SUM(TotalDeaths) as TotalDeaths, \\\n",
        "              SUM(Total_vaccinated) as Total_vaccinated, \\\n",
        "              SUM(TotalRecovered) as TotalRecovered \\\n",
        "              FROM final_data \\\n",
        "              GROUP BY continent\")\n",
        "c.show()"
      ]
    },
    {
      "cell_type": "markdown",
      "metadata": {
        "id": "xfnvEWZq-xgX"
      },
      "source": [
        "Storing the data into the variables, so that later we can plot them."
      ]
    },
    {
      "cell_type": "code",
      "execution_count": 43,
      "metadata": {
        "id": "XvoDT2o07IJ8"
      },
      "outputs": [],
      "source": [
        "total_death = c.select(\"TotalDeaths\").rdd.flatMap(list).collect()\n",
        "continent = c.select(\"continent\").rdd.flatMap(list).collect()\n",
        "total_vaccinations = c.select(\"Total_vaccinated\").rdd.flatMap(list).collect()\n",
        "TotalRecovered = c.select(\"TotalRecovered\").rdd.flatMap(list).collect()"
      ]
    },
    {
      "cell_type": "markdown",
      "metadata": {
        "id": "DRvkaiVj-5jT"
      },
      "source": [
        "Visualizing the death rate on every region by Pie Chart."
      ]
    },
    {
      "cell_type": "code",
      "execution_count": 44,
      "metadata": {
        "colab": {
          "base_uri": "https://localhost:8080/",
          "height": 591
        },
        "id": "DZ-m5X9bWTYZ",
        "outputId": "1436f0b6-9d1d-4a1d-bcb1-ad44ea6503ac"
      },
      "outputs": [
        {
          "output_type": "display_data",
          "data": {
            "image/png": "[encoded data removed]",
            "text/plain": [
              "<Figure size 864x720 with 1 Axes>"
            ]
          },
          "metadata": {}
        }
      ],
      "source": [
        "fig = plt.figure(figsize=(12, 10))\n",
        "plt.pie(total_death, autopct='%1.1f%%', startangle=140, radius=1, labels=continent)\n",
        "plt.title(\"The number of Total Death in percentage according to the continent\")\n",
        "plt.legend()\n",
        "plt.show()"
      ]
    },
    {
      "cell_type": "markdown",
      "metadata": {
        "id": "crTRb_rC18DJ"
      },
      "source": [
        "Visualizing the vaccination rate on every region in Bar plot."
      ]
    },
    {
      "cell_type": "code",
      "execution_count": 45,
      "metadata": {
        "colab": {
          "base_uri": "https://localhost:8080/",
          "height": 404
        },
        "id": "FVnxxTQDWTdS",
        "outputId": "65bbc41f-d930-454a-b2f2-148ac7e6cc78"
      },
      "outputs": [
        {
          "output_type": "display_data",
          "data": {
            "image/png": "[encoded data removed]",
            "text/plain": [
              "<Figure size 864x432 with 1 Axes>"
            ]
          },
          "metadata": {
            "needs_background": "light"
          }
        }
      ],
      "source": [
        "fig = plt.figure(figsize=(12, 6))\n",
        "\n",
        "plt.bar(continent,total_vaccinations)\n",
        "plt.xlabel(\"Continent\")\n",
        "plt.ylabel(\"Total Vaccination\")\n",
        "plt.title(\"The number of Total vaccination vs continent\")\n",
        "plt.show()"
      ]
    },
    {
      "cell_type": "markdown",
      "metadata": {
        "id": "htjBwmygCsye"
      },
      "source": [
        "A graphical presentation of the Covid-19 scenario on every region."
      ]
    },
    {
      "cell_type": "code",
      "execution_count": 46,
      "metadata": {
        "colab": {
          "base_uri": "https://localhost:8080/",
          "height": 513
        },
        "id": "wUr9HL6RA-5N",
        "outputId": "d19ab952-3c7c-4613-fe3d-c4293a85dc54"
      },
      "outputs": [
        {
          "output_type": "display_data",
          "data": {
            "image/png": "[encoded data removed]",
            "text/plain": [
              "<Figure size 720x576 with 1 Axes>"
            ]
          },
          "metadata": {
            "needs_background": "light"
          }
        }
      ],
      "source": [
        "fig = plt.figure(figsize=(10, 8))\n",
        "\n",
        "plt.plot(continent,total_vaccinations, \"y--\", label=\"Total Vaccination\")\n",
        "plt.plot(continent,total_death, \"r--\", label=\"Total Death\")\n",
        "plt.plot(continent,TotalRecovered, \"g--\", label=\"Total Recovered\")\n",
        "plt.xlabel(\"Continent\")\n",
        "plt.legend()\n",
        "plt.title(\"The graphical view of death, vaccination and recovery rate in every region\")\n",
        "plt.show()"
      ]
    },
    {
      "cell_type": "markdown",
      "source": [
        "**Machine Learning Model**"
      ],
      "metadata": {
        "id": "GLs-YP0bck0r"
      }
    },
    {
      "cell_type": "code",
      "source": [
        "import tensorflow as tf\n",
        "from keras import backend\n",
        "from keras.callbacks import EarlyStopping"
      ],
      "metadata": {
        "id": "k654bobFct6w"
      },
      "execution_count": 47,
      "outputs": []
    },
    {
      "cell_type": "code",
      "source": [
        "train_data = pd.read_csv(\"/content/final_df_data.csv/part-00000-aed51b21-caf5-4e7e-aa03-7ceb8fc17ac4-c000.csv\")\n",
        "train_data.head()"
      ],
      "metadata": {
        "colab": {
          "base_uri": "https://localhost:8080/",
          "height": 206
        },
        "id": "pAzjB8qXc_Sm",
        "outputId": "5c22e715-bee2-440e-be9f-25a58e298051"
      },
      "execution_count": 49,
      "outputs": [
        {
          "output_type": "execute_result",
          "data": {
            "text/html": [
              "\n",
              "  <div id=\"df-70532522-4cdc-4610-97a4-3867008df103\">\n",
              "    <div class=\"colab-df-container\">\n",
              "      <div>\n",
              "<style scoped>\n",
              "    .dataframe tbody tr th:only-of-type {\n",
              "        vertical-align: middle;\n",
              "    }\n",
              "\n",
              "    .dataframe tbody tr th {\n",
              "        vertical-align: top;\n",
              "    }\n",
              "\n",
              "    .dataframe thead th {\n",
              "        text-align: right;\n",
              "    }\n",
              "</style>\n",
              "<table border=\"1\" class=\"dataframe\">\n",
              "  <thead>\n",
              "    <tr style=\"text-align: right;\">\n",
              "      <th></th>\n",
              "      <th>Country</th>\n",
              "      <th>TotalCases</th>\n",
              "      <th>NewCases</th>\n",
              "      <th>NewDeaths</th>\n",
              "      <th>Critical_patient</th>\n",
              "      <th>TotalDeaths</th>\n",
              "      <th>TotalRecovered</th>\n",
              "      <th>continent</th>\n",
              "      <th>Total_vaccinated</th>\n",
              "      <th>population</th>\n",
              "    </tr>\n",
              "  </thead>\n",
              "  <tbody>\n",
              "    <tr>\n",
              "      <th>0</th>\n",
              "      <td>Afghanistan</td>\n",
              "      <td>158300.0</td>\n",
              "      <td>21.0</td>\n",
              "      <td>0.0</td>\n",
              "      <td>1124.0</td>\n",
              "      <td>7368.0</td>\n",
              "      <td>145771.0</td>\n",
              "      <td>Asia</td>\n",
              "      <td>19368570</td>\n",
              "      <td>39835428</td>\n",
              "    </tr>\n",
              "    <tr>\n",
              "      <th>1</th>\n",
              "      <td>Albania</td>\n",
              "      <td>214941.0</td>\n",
              "      <td>0.0</td>\n",
              "      <td>0.0</td>\n",
              "      <td>23.0</td>\n",
              "      <td>3233.0</td>\n",
              "      <td>202386.0</td>\n",
              "      <td>Europe</td>\n",
              "      <td>125081646</td>\n",
              "      <td>2872934</td>\n",
              "    </tr>\n",
              "    <tr>\n",
              "      <th>2</th>\n",
              "      <td>Algeria</td>\n",
              "      <td>220825.0</td>\n",
              "      <td>0.0</td>\n",
              "      <td>0.0</td>\n",
              "      <td>34.0</td>\n",
              "      <td>6318.0</td>\n",
              "      <td>151604.0</td>\n",
              "      <td>Africa</td>\n",
              "      <td>106450533</td>\n",
              "      <td>44616626</td>\n",
              "    </tr>\n",
              "    <tr>\n",
              "      <th>3</th>\n",
              "      <td>Andorra</td>\n",
              "      <td>25289.0</td>\n",
              "      <td>0.0</td>\n",
              "      <td>0.0</td>\n",
              "      <td>31.0</td>\n",
              "      <td>141.0</td>\n",
              "      <td>21511.0</td>\n",
              "      <td>Europe</td>\n",
              "      <td>909138</td>\n",
              "      <td>77354</td>\n",
              "    </tr>\n",
              "    <tr>\n",
              "      <th>4</th>\n",
              "      <td>Angola</td>\n",
              "      <td>87625.0</td>\n",
              "      <td>0.0</td>\n",
              "      <td>0.0</td>\n",
              "      <td>7.0</td>\n",
              "      <td>1799.0</td>\n",
              "      <td>70266.0</td>\n",
              "      <td>Africa</td>\n",
              "      <td>120976841</td>\n",
              "      <td>33933611</td>\n",
              "    </tr>\n",
              "  </tbody>\n",
              "</table>\n",
              "</div>\n",
              "      <button class=\"colab-df-convert\" onclick=\"convertToInteractive('df-70532522-4cdc-4610-97a4-3867008df103')\"\n",
              "              title=\"Convert this dataframe to an interactive table.\"\n",
              "              style=\"display:none;\">\n",
              "        \n",
              "  <svg xmlns=\"http://www.w3.org/2000/svg\" height=\"24px\"viewBox=\"0 0 24 24\"\n",
              "       width=\"24px\">\n",
              "    <path d=\"M0 0h24v24H0V0z\" fill=\"none\"/>\n",
              "    <path d=\"M18.56 5.44l.94 2.06.94-2.06 2.06-.94-2.06-.94-.94-2.06-.94 2.06-2.06.94zm-11 1L8.5 8.5l.94-2.06 2.06-.94-2.06-.94L8.5 2.5l-.94 2.06-2.06.94zm10 10l.94 2.06.94-2.06 2.06-.94-2.06-.94-.94-2.06-.94 2.06-2.06.94z\"/><path d=\"M17.41 7.96l-1.37-1.37c-.4-.4-.92-.59-1.43-.59-.52 0-1.04.2-1.43.59L10.3 9.45l-7.72 7.72c-.78.78-.78 2.05 0 2.83L4 21.41c.39.39.9.59 1.41.59.51 0 1.02-.2 1.41-.59l7.78-7.78 2.81-2.81c.8-.78.8-2.07 0-2.86zM5.41 20L4 18.59l7.72-7.72 1.47 1.35L5.41 20z\"/>\n",
              "  </svg>\n",
              "      </button>\n",
              "      \n",
              "  <style>\n",
              "    .colab-df-container {\n",
              "      display:flex;\n",
              "      flex-wrap:wrap;\n",
              "      gap: 12px;\n",
              "    }\n",
              "\n",
              "    .colab-df-convert {\n",
              "      background-color: #E8F0FE;\n",
              "      border: none;\n",
              "      border-radius: 50%;\n",
              "      cursor: pointer;\n",
              "      display: none;\n",
              "      fill: #1967D2;\n",
              "      height: 32px;\n",
              "      padding: 0 0 0 0;\n",
              "      width: 32px;\n",
              "    }\n",
              "\n",
              "    .colab-df-convert:hover {\n",
              "      background-color: #E2EBFA;\n",
              "      box-shadow: 0px 1px 2px rgba(60, 64, 67, 0.3), 0px 1px 3px 1px rgba(60, 64, 67, 0.15);\n",
              "      fill: #174EA6;\n",
              "    }\n",
              "\n",
              "    [theme=dark] .colab-df-convert {\n",
              "      background-color: #3B4455;\n",
              "      fill: #D2E3FC;\n",
              "    }\n",
              "\n",
              "    [theme=dark] .colab-df-convert:hover {\n",
              "      background-color: #434B5C;\n",
              "      box-shadow: 0px 1px 3px 1px rgba(0, 0, 0, 0.15);\n",
              "      filter: drop-shadow(0px 1px 2px rgba(0, 0, 0, 0.3));\n",
              "      fill: #FFFFFF;\n",
              "    }\n",
              "  </style>\n",
              "\n",
              "      <script>\n",
              "        const buttonEl =\n",
              "          document.querySelector('#df-70532522-4cdc-4610-97a4-3867008df103 button.colab-df-convert');\n",
              "        buttonEl.style.display =\n",
              "          google.colab.kernel.accessAllowed ? 'block' : 'none';\n",
              "\n",
              "        async function convertToInteractive(key) {\n",
              "          const element = document.querySelector('#df-70532522-4cdc-4610-97a4-3867008df103');\n",
              "          const dataTable =\n",
              "            await google.colab.kernel.invokeFunction('convertToInteractive',\n",
              "                                                     [key], {});\n",
              "          if (!dataTable) return;\n",
              "\n",
              "          const docLinkHtml = 'Like what you see? Visit the ' +\n",
              "            '<a target=\"_blank\" href=https://colab.research.google.com/notebooks/data_table.ipynb>data table notebook</a>'\n",
              "            + ' to learn more about interactive tables.';\n",
              "          element.innerHTML = '';\n",
              "          dataTable['output_type'] = 'display_data';\n",
              "          await google.colab.output.renderOutput(dataTable, element);\n",
              "          const docLink = document.createElement('div');\n",
              "          docLink.innerHTML = docLinkHtml;\n",
              "          element.appendChild(docLink);\n",
              "        }\n",
              "      </script>\n",
              "    </div>\n",
              "  </div>\n",
              "  "
            ],
            "text/plain": [
              "       Country  TotalCases  NewCases  ...  continent  Total_vaccinated  population\n",
              "0  Afghanistan    158300.0      21.0  ...       Asia          19368570    39835428\n",
              "1      Albania    214941.0       0.0  ...     Europe         125081646     2872934\n",
              "2      Algeria    220825.0       0.0  ...     Africa         106450533    44616626\n",
              "3      Andorra     25289.0       0.0  ...     Europe            909138       77354\n",
              "4       Angola     87625.0       0.0  ...     Africa         120976841    33933611\n",
              "\n",
              "[5 rows x 10 columns]"
            ]
          },
          "metadata": {},
          "execution_count": 49
        }
      ]
    },
    {
      "cell_type": "code",
      "source": [
        "train_data.isnull().sum()"
      ],
      "metadata": {
        "colab": {
          "base_uri": "https://localhost:8080/"
        },
        "id": "Jc4R0ZDdjHp5",
        "outputId": "4ca86684-3b54-4e1c-95a6-4e280f49c2a6"
      },
      "execution_count": 50,
      "outputs": [
        {
          "output_type": "execute_result",
          "data": {
            "text/plain": [
              "Country              0\n",
              "TotalCases          29\n",
              "NewCases            29\n",
              "NewDeaths           29\n",
              "Critical_patient    29\n",
              "TotalDeaths         29\n",
              "TotalRecovered      29\n",
              "continent            0\n",
              "Total_vaccinated     0\n",
              "population           0\n",
              "dtype: int64"
            ]
          },
          "metadata": {},
          "execution_count": 50
        }
      ]
    },
    {
      "cell_type": "code",
      "source": [
        "train_data = train_data.dropna()"
      ],
      "metadata": {
        "id": "EV8mhc3NetgZ"
      },
      "execution_count": 51,
      "outputs": []
    },
    {
      "cell_type": "code",
      "source": [
        "train_X = train_data[[\"TotalCases\",  \"Critical_patient\", \"TotalDeaths\", \"TotalRecovered\", \"Total_vaccinated\", \"population\"]]\n",
        "train_Y = train_data[[\"NewDeaths\"]]"
      ],
      "metadata": {
        "id": "lMaUbY0sfGVW"
      },
      "execution_count": 52,
      "outputs": []
    },
    {
      "cell_type": "code",
      "source": [
        "train_Y.max()"
      ],
      "metadata": {
        "colab": {
          "base_uri": "https://localhost:8080/"
        },
        "id": "c_7sdTHmnH7l",
        "outputId": "6524b846-1cdd-4534-e4c5-ee885101d16d"
      },
      "execution_count": 53,
      "outputs": [
        {
          "output_type": "execute_result",
          "data": {
            "text/plain": [
              "NewDeaths    787.0\n",
              "dtype: float64"
            ]
          },
          "metadata": {},
          "execution_count": 53
        }
      ]
    },
    {
      "cell_type": "code",
      "source": [
        "train_X.astype(\"float64\")"
      ],
      "metadata": {
        "colab": {
          "base_uri": "https://localhost:8080/",
          "height": 424
        },
        "id": "oOErEMIWhR9z",
        "outputId": "b47af947-da65-479a-c711-069de6261a2f"
      },
      "execution_count": 54,
      "outputs": [
        {
          "output_type": "execute_result",
          "data": {
            "text/html": [
              "\n",
              "  <div id=\"df-3a7db291-9642-4b09-bac1-e40067c6955f\">\n",
              "    <div class=\"colab-df-container\">\n",
              "      <div>\n",
              "<style scoped>\n",
              "    .dataframe tbody tr th:only-of-type {\n",
              "        vertical-align: middle;\n",
              "    }\n",
              "\n",
              "    .dataframe tbody tr th {\n",
              "        vertical-align: top;\n",
              "    }\n",
              "\n",
              "    .dataframe thead th {\n",
              "        text-align: right;\n",
              "    }\n",
              "</style>\n",
              "<table border=\"1\" class=\"dataframe\">\n",
              "  <thead>\n",
              "    <tr style=\"text-align: right;\">\n",
              "      <th></th>\n",
              "      <th>TotalCases</th>\n",
              "      <th>Critical_patient</th>\n",
              "      <th>TotalDeaths</th>\n",
              "      <th>TotalRecovered</th>\n",
              "      <th>Total_vaccinated</th>\n",
              "      <th>population</th>\n",
              "    </tr>\n",
              "  </thead>\n",
              "  <tbody>\n",
              "    <tr>\n",
              "      <th>0</th>\n",
              "      <td>158300.0</td>\n",
              "      <td>1124.0</td>\n",
              "      <td>7368.0</td>\n",
              "      <td>145771.0</td>\n",
              "      <td>1.936857e+07</td>\n",
              "      <td>39835428.0</td>\n",
              "    </tr>\n",
              "    <tr>\n",
              "      <th>1</th>\n",
              "      <td>214941.0</td>\n",
              "      <td>23.0</td>\n",
              "      <td>3233.0</td>\n",
              "      <td>202386.0</td>\n",
              "      <td>1.250816e+08</td>\n",
              "      <td>2872934.0</td>\n",
              "    </tr>\n",
              "    <tr>\n",
              "      <th>2</th>\n",
              "      <td>220825.0</td>\n",
              "      <td>34.0</td>\n",
              "      <td>6318.0</td>\n",
              "      <td>151604.0</td>\n",
              "      <td>1.064505e+08</td>\n",
              "      <td>44616626.0</td>\n",
              "    </tr>\n",
              "    <tr>\n",
              "      <th>3</th>\n",
              "      <td>25289.0</td>\n",
              "      <td>31.0</td>\n",
              "      <td>141.0</td>\n",
              "      <td>21511.0</td>\n",
              "      <td>9.091380e+05</td>\n",
              "      <td>77354.0</td>\n",
              "    </tr>\n",
              "    <tr>\n",
              "      <th>4</th>\n",
              "      <td>87625.0</td>\n",
              "      <td>7.0</td>\n",
              "      <td>1799.0</td>\n",
              "      <td>70266.0</td>\n",
              "      <td>1.209768e+08</td>\n",
              "      <td>33933611.0</td>\n",
              "    </tr>\n",
              "    <tr>\n",
              "      <th>...</th>\n",
              "      <td>...</td>\n",
              "      <td>...</td>\n",
              "      <td>...</td>\n",
              "      <td>...</td>\n",
              "      <td>...</td>\n",
              "      <td>...</td>\n",
              "    </tr>\n",
              "    <tr>\n",
              "      <th>220</th>\n",
              "      <td>1859841.0</td>\n",
              "      <td>6006.0</td>\n",
              "      <td>33877.0</td>\n",
              "      <td>1479048.0</td>\n",
              "      <td>5.964231e+09</td>\n",
              "      <td>98168829.0</td>\n",
              "    </tr>\n",
              "    <tr>\n",
              "      <th>221</th>\n",
              "      <td>454.0</td>\n",
              "      <td>0.0</td>\n",
              "      <td>7.0</td>\n",
              "      <td>438.0</td>\n",
              "      <td>1.666560e+05</td>\n",
              "      <td>11094.0</td>\n",
              "    </tr>\n",
              "    <tr>\n",
              "      <th>222</th>\n",
              "      <td>10159.0</td>\n",
              "      <td>23.0</td>\n",
              "      <td>1986.0</td>\n",
              "      <td>7043.0</td>\n",
              "      <td>5.874860e+06</td>\n",
              "      <td>30490639.0</td>\n",
              "    </tr>\n",
              "    <tr>\n",
              "      <th>223</th>\n",
              "      <td>278276.0</td>\n",
              "      <td>305.0</td>\n",
              "      <td>3790.0</td>\n",
              "      <td>241747.0</td>\n",
              "      <td>1.762387e+07</td>\n",
              "      <td>18920657.0</td>\n",
              "    </tr>\n",
              "    <tr>\n",
              "      <th>224</th>\n",
              "      <td>220178.0</td>\n",
              "      <td>12.0</td>\n",
              "      <td>5108.0</td>\n",
              "      <td>191000.0</td>\n",
              "      <td>5.528093e+08</td>\n",
              "      <td>15092171.0</td>\n",
              "    </tr>\n",
              "  </tbody>\n",
              "</table>\n",
              "<p>196 rows × 6 columns</p>\n",
              "</div>\n",
              "      <button class=\"colab-df-convert\" onclick=\"convertToInteractive('df-3a7db291-9642-4b09-bac1-e40067c6955f')\"\n",
              "              title=\"Convert this dataframe to an interactive table.\"\n",
              "              style=\"display:none;\">\n",
              "        \n",
              "  <svg xmlns=\"http://www.w3.org/2000/svg\" height=\"24px\"viewBox=\"0 0 24 24\"\n",
              "       width=\"24px\">\n",
              "    <path d=\"M0 0h24v24H0V0z\" fill=\"none\"/>\n",
              "    <path d=\"M18.56 5.44l.94 2.06.94-2.06 2.06-.94-2.06-.94-.94-2.06-.94 2.06-2.06.94zm-11 1L8.5 8.5l.94-2.06 2.06-.94-2.06-.94L8.5 2.5l-.94 2.06-2.06.94zm10 10l.94 2.06.94-2.06 2.06-.94-2.06-.94-.94-2.06-.94 2.06-2.06.94z\"/><path d=\"M17.41 7.96l-1.37-1.37c-.4-.4-.92-.59-1.43-.59-.52 0-1.04.2-1.43.59L10.3 9.45l-7.72 7.72c-.78.78-.78 2.05 0 2.83L4 21.41c.39.39.9.59 1.41.59.51 0 1.02-.2 1.41-.59l7.78-7.78 2.81-2.81c.8-.78.8-2.07 0-2.86zM5.41 20L4 18.59l7.72-7.72 1.47 1.35L5.41 20z\"/>\n",
              "  </svg>\n",
              "      </button>\n",
              "      \n",
              "  <style>\n",
              "    .colab-df-container {\n",
              "      display:flex;\n",
              "      flex-wrap:wrap;\n",
              "      gap: 12px;\n",
              "    }\n",
              "\n",
              "    .colab-df-convert {\n",
              "      background-color: #E8F0FE;\n",
              "      border: none;\n",
              "      border-radius: 50%;\n",
              "      cursor: pointer;\n",
              "      display: none;\n",
              "      fill: #1967D2;\n",
              "      height: 32px;\n",
              "      padding: 0 0 0 0;\n",
              "      width: 32px;\n",
              "    }\n",
              "\n",
              "    .colab-df-convert:hover {\n",
              "      background-color: #E2EBFA;\n",
              "      box-shadow: 0px 1px 2px rgba(60, 64, 67, 0.3), 0px 1px 3px 1px rgba(60, 64, 67, 0.15);\n",
              "      fill: #174EA6;\n",
              "    }\n",
              "\n",
              "    [theme=dark] .colab-df-convert {\n",
              "      background-color: #3B4455;\n",
              "      fill: #D2E3FC;\n",
              "    }\n",
              "\n",
              "    [theme=dark] .colab-df-convert:hover {\n",
              "      background-color: #434B5C;\n",
              "      box-shadow: 0px 1px 3px 1px rgba(0, 0, 0, 0.15);\n",
              "      filter: drop-shadow(0px 1px 2px rgba(0, 0, 0, 0.3));\n",
              "      fill: #FFFFFF;\n",
              "    }\n",
              "  </style>\n",
              "\n",
              "      <script>\n",
              "        const buttonEl =\n",
              "          document.querySelector('#df-3a7db291-9642-4b09-bac1-e40067c6955f button.colab-df-convert');\n",
              "        buttonEl.style.display =\n",
              "          google.colab.kernel.accessAllowed ? 'block' : 'none';\n",
              "\n",
              "        async function convertToInteractive(key) {\n",
              "          const element = document.querySelector('#df-3a7db291-9642-4b09-bac1-e40067c6955f');\n",
              "          const dataTable =\n",
              "            await google.colab.kernel.invokeFunction('convertToInteractive',\n",
              "                                                     [key], {});\n",
              "          if (!dataTable) return;\n",
              "\n",
              "          const docLinkHtml = 'Like what you see? Visit the ' +\n",
              "            '<a target=\"_blank\" href=https://colab.research.google.com/notebooks/data_table.ipynb>data table notebook</a>'\n",
              "            + ' to learn more about interactive tables.';\n",
              "          element.innerHTML = '';\n",
              "          dataTable['output_type'] = 'display_data';\n",
              "          await google.colab.output.renderOutput(dataTable, element);\n",
              "          const docLink = document.createElement('div');\n",
              "          docLink.innerHTML = docLinkHtml;\n",
              "          element.appendChild(docLink);\n",
              "        }\n",
              "      </script>\n",
              "    </div>\n",
              "  </div>\n",
              "  "
            ],
            "text/plain": [
              "     TotalCases  Critical_patient  ...  Total_vaccinated  population\n",
              "0      158300.0            1124.0  ...      1.936857e+07  39835428.0\n",
              "1      214941.0              23.0  ...      1.250816e+08   2872934.0\n",
              "2      220825.0              34.0  ...      1.064505e+08  44616626.0\n",
              "3       25289.0              31.0  ...      9.091380e+05     77354.0\n",
              "4       87625.0               7.0  ...      1.209768e+08  33933611.0\n",
              "..          ...               ...  ...               ...         ...\n",
              "220   1859841.0            6006.0  ...      5.964231e+09  98168829.0\n",
              "221       454.0               0.0  ...      1.666560e+05     11094.0\n",
              "222     10159.0              23.0  ...      5.874860e+06  30490639.0\n",
              "223    278276.0             305.0  ...      1.762387e+07  18920657.0\n",
              "224    220178.0              12.0  ...      5.528093e+08  15092171.0\n",
              "\n",
              "[196 rows x 6 columns]"
            ]
          },
          "metadata": {},
          "execution_count": 54
        }
      ]
    },
    {
      "cell_type": "code",
      "source": [
        "from sklearn.preprocessing import RobustScaler\n",
        "from sklearn.preprocessing import MinMaxScaler"
      ],
      "metadata": {
        "id": "jD-edmSHk_Mi"
      },
      "execution_count": 55,
      "outputs": []
    },
    {
      "cell_type": "code",
      "source": [
        "minmax = MinMaxScaler()\n",
        "train_X_scaled = minmax.fit_transform(train_X)"
      ],
      "metadata": {
        "id": "6q3MzsMNuvBv"
      },
      "execution_count": 56,
      "outputs": []
    },
    {
      "cell_type": "markdown",
      "source": [
        "### **Artificial Neural Network**"
      ],
      "metadata": {
        "id": "-5xUGI2SAGO7"
      }
    },
    {
      "cell_type": "code",
      "source": [
        "model = tf.keras.models.Sequential([tf.keras.layers.Dense(units=8, activation=\"relu\", input_shape=[train_X.shape[1]]),\n",
        "                                    tf.keras.layers.Dense(units=1)])\n",
        "model.summary()"
      ],
      "metadata": {
        "colab": {
          "base_uri": "https://localhost:8080/"
        },
        "id": "iNzvqtcLe4VF",
        "outputId": "567167f3-03c4-4135-8c99-8ab6c519c674"
      },
      "execution_count": 57,
      "outputs": [
        {
          "output_type": "stream",
          "name": "stdout",
          "text": [
            "Model: \"sequential\"\n",
            "_________________________________________________________________\n",
            " Layer (type)                Output Shape              Param #   \n",
            "=================================================================\n",
            " dense (Dense)               (None, 8)                 56        \n",
            "                                                                 \n",
            " dense_1 (Dense)             (None, 1)                 9         \n",
            "                                                                 \n",
            "=================================================================\n",
            "Total params: 65\n",
            "Trainable params: 65\n",
            "Non-trainable params: 0\n",
            "_________________________________________________________________\n"
          ]
        }
      ]
    },
    {
      "cell_type": "code",
      "source": [
        "def root_mean_squared_error(y_true, y_pred):\n",
        "    return backend.sqrt(backend.mean(backend.square(y_pred - y_true)))"
      ],
      "metadata": {
        "id": "vuByprrgf2Ld"
      },
      "execution_count": 58,
      "outputs": []
    },
    {
      "cell_type": "code",
      "source": [
        "es_callback = EarlyStopping(monitor='accuracy', mode='min', verbose=1, patience=50)\n",
        "\n",
        "epoch = 300\n",
        "\n",
        "model.compile(loss=\"mse\", optimizer=\"rmsprop\", metrics=[root_mean_squared_error, \"accuracy\"])\n",
        "\n",
        "# model.compile(loss=root_mean_squared_error, optimizer='rmsprop', metrics=[\"loss\", \"accuracy\"])\n",
        "history = model.fit(train_X_scaled, \n",
        "                    train_Y,\n",
        "                    epochs = epoch,\n",
        "                    validation_split = 0.3,\n",
        "                    callbacks=[es_callback])"
      ],
      "metadata": {
        "colab": {
          "base_uri": "https://localhost:8080/"
        },
        "id": "Tkr7l4Zaf_UM",
        "outputId": "bc089551-1f9c-45ce-dd4b-b390664a5708"
      },
      "execution_count": 59,
      "outputs": [
        {
          "output_type": "stream",
          "name": "stdout",
          "text": [
            "Epoch 1/300\n",
            "5/5 [==============================] - 1s 57ms/step - loss: 261.1070 - root_mean_squared_error: 12.3460 - accuracy: 0.7883 - val_loss: 12615.8682 - val_root_mean_squared_error: 100.5538 - val_accuracy: 0.7119\n",
            "Epoch 2/300\n",
            "5/5 [==============================] - 0s 10ms/step - loss: 260.8984 - root_mean_squared_error: 11.8255 - accuracy: 0.7883 - val_loss: 12614.4834 - val_root_mean_squared_error: 100.5473 - val_accuracy: 0.7119\n",
            "Epoch 3/300\n",
            "5/5 [==============================] - 0s 9ms/step - loss: 260.7356 - root_mean_squared_error: 12.6290 - accuracy: 0.7883 - val_loss: 12613.1377 - val_root_mean_squared_error: 100.5411 - val_accuracy: 0.7119\n",
            "Epoch 4/300\n",
            "5/5 [==============================] - 0s 9ms/step - loss: 260.5868 - root_mean_squared_error: 15.3096 - accuracy: 0.7883 - val_loss: 12611.8203 - val_root_mean_squared_error: 100.5350 - val_accuracy: 0.7119\n",
            "Epoch 5/300\n",
            "5/5 [==============================] - 0s 9ms/step - loss: 260.4470 - root_mean_squared_error: 12.9345 - accuracy: 0.7883 - val_loss: 12610.7920 - val_root_mean_squared_error: 100.5303 - val_accuracy: 0.7119\n",
            "Epoch 6/300\n",
            "5/5 [==============================] - 0s 9ms/step - loss: 260.3286 - root_mean_squared_error: 16.9657 - accuracy: 0.7883 - val_loss: 12609.3154 - val_root_mean_squared_error: 100.5236 - val_accuracy: 0.7119\n",
            "Epoch 7/300\n",
            "5/5 [==============================] - 0s 10ms/step - loss: 260.1910 - root_mean_squared_error: 13.9540 - accuracy: 0.7883 - val_loss: 12608.7158 - val_root_mean_squared_error: 100.5209 - val_accuracy: 0.7119\n",
            "Epoch 8/300\n",
            "5/5 [==============================] - 0s 14ms/step - loss: 260.1140 - root_mean_squared_error: 13.6095 - accuracy: 0.7883 - val_loss: 12607.9854 - val_root_mean_squared_error: 100.5176 - val_accuracy: 0.7119\n",
            "Epoch 9/300\n",
            "5/5 [==============================] - 0s 9ms/step - loss: 260.0284 - root_mean_squared_error: 11.6199 - accuracy: 0.7883 - val_loss: 12607.2910 - val_root_mean_squared_error: 100.5145 - val_accuracy: 0.7119\n",
            "Epoch 10/300\n",
            "5/5 [==============================] - 0s 10ms/step - loss: 259.9502 - root_mean_squared_error: 11.3004 - accuracy: 0.7883 - val_loss: 12606.5283 - val_root_mean_squared_error: 100.5110 - val_accuracy: 0.7119\n",
            "Epoch 11/300\n",
            "5/5 [==============================] - 0s 9ms/step - loss: 259.8680 - root_mean_squared_error: 12.7264 - accuracy: 0.7883 - val_loss: 12605.7031 - val_root_mean_squared_error: 100.5071 - val_accuracy: 0.7119\n",
            "Epoch 12/300\n",
            "5/5 [==============================] - 0s 8ms/step - loss: 259.7764 - root_mean_squared_error: 13.4816 - accuracy: 0.7883 - val_loss: 12604.8008 - val_root_mean_squared_error: 100.5028 - val_accuracy: 0.7119\n",
            "Epoch 13/300\n",
            "5/5 [==============================] - 0s 9ms/step - loss: 259.6786 - root_mean_squared_error: 12.9595 - accuracy: 0.7883 - val_loss: 12603.8965 - val_root_mean_squared_error: 100.4986 - val_accuracy: 0.7119\n",
            "Epoch 14/300\n",
            "5/5 [==============================] - 0s 9ms/step - loss: 259.5806 - root_mean_squared_error: 13.4255 - accuracy: 0.7883 - val_loss: 12602.8789 - val_root_mean_squared_error: 100.4939 - val_accuracy: 0.7119\n",
            "Epoch 15/300\n",
            "5/5 [==============================] - 0s 9ms/step - loss: 259.4746 - root_mean_squared_error: 11.3384 - accuracy: 0.7883 - val_loss: 12601.9092 - val_root_mean_squared_error: 100.4894 - val_accuracy: 0.7119\n",
            "Epoch 16/300\n",
            "5/5 [==============================] - 0s 9ms/step - loss: 259.3794 - root_mean_squared_error: 12.5199 - accuracy: 0.7883 - val_loss: 12601.0293 - val_root_mean_squared_error: 100.4853 - val_accuracy: 0.7119\n",
            "Epoch 17/300\n",
            "5/5 [==============================] - 0s 9ms/step - loss: 259.2853 - root_mean_squared_error: 12.4075 - accuracy: 0.7883 - val_loss: 12600.1328 - val_root_mean_squared_error: 100.4811 - val_accuracy: 0.7119\n",
            "Epoch 18/300\n",
            "5/5 [==============================] - 0s 11ms/step - loss: 259.1933 - root_mean_squared_error: 11.6940 - accuracy: 0.7883 - val_loss: 12599.2129 - val_root_mean_squared_error: 100.4768 - val_accuracy: 0.7119\n",
            "Epoch 19/300\n",
            "5/5 [==============================] - 0s 10ms/step - loss: 259.0945 - root_mean_squared_error: 13.6217 - accuracy: 0.7883 - val_loss: 12598.2822 - val_root_mean_squared_error: 100.4724 - val_accuracy: 0.7119\n",
            "Epoch 20/300\n",
            "5/5 [==============================] - 0s 12ms/step - loss: 258.9951 - root_mean_squared_error: 16.9306 - accuracy: 0.7883 - val_loss: 12597.1094 - val_root_mean_squared_error: 100.4669 - val_accuracy: 0.7119\n",
            "Epoch 21/300\n",
            "5/5 [==============================] - 0s 9ms/step - loss: 258.8864 - root_mean_squared_error: 11.1185 - accuracy: 0.7883 - val_loss: 12596.5342 - val_root_mean_squared_error: 100.4641 - val_accuracy: 0.7119\n",
            "Epoch 22/300\n",
            "5/5 [==============================] - 0s 9ms/step - loss: 258.8154 - root_mean_squared_error: 11.1346 - accuracy: 0.7883 - val_loss: 12596.0029 - val_root_mean_squared_error: 100.4616 - val_accuracy: 0.7119\n",
            "Epoch 23/300\n",
            "5/5 [==============================] - 0s 14ms/step - loss: 258.7515 - root_mean_squared_error: 14.3973 - accuracy: 0.7883 - val_loss: 12595.2832 - val_root_mean_squared_error: 100.4582 - val_accuracy: 0.7119\n",
            "Epoch 24/300\n",
            "5/5 [==============================] - 0s 9ms/step - loss: 258.6648 - root_mean_squared_error: 11.8813 - accuracy: 0.7883 - val_loss: 12594.5605 - val_root_mean_squared_error: 100.4548 - val_accuracy: 0.7119\n",
            "Epoch 25/300\n",
            "5/5 [==============================] - 0s 10ms/step - loss: 258.5873 - root_mean_squared_error: 10.7415 - accuracy: 0.7883 - val_loss: 12593.7969 - val_root_mean_squared_error: 100.4512 - val_accuracy: 0.7119\n",
            "Epoch 26/300\n",
            "5/5 [==============================] - 0s 9ms/step - loss: 258.5095 - root_mean_squared_error: 11.3467 - accuracy: 0.7883 - val_loss: 12593.0674 - val_root_mean_squared_error: 100.4478 - val_accuracy: 0.7119\n",
            "Epoch 27/300\n",
            "5/5 [==============================] - 0s 11ms/step - loss: 258.4274 - root_mean_squared_error: 12.0883 - accuracy: 0.7883 - val_loss: 12592.2920 - val_root_mean_squared_error: 100.4441 - val_accuracy: 0.7119\n",
            "Epoch 28/300\n",
            "5/5 [==============================] - 0s 9ms/step - loss: 258.3445 - root_mean_squared_error: 14.5801 - accuracy: 0.7883 - val_loss: 12591.4307 - val_root_mean_squared_error: 100.4400 - val_accuracy: 0.7119\n",
            "Epoch 29/300\n",
            "5/5 [==============================] - 0s 8ms/step - loss: 258.2466 - root_mean_squared_error: 13.6997 - accuracy: 0.7883 - val_loss: 12590.5254 - val_root_mean_squared_error: 100.4357 - val_accuracy: 0.7119\n",
            "Epoch 30/300\n",
            "5/5 [==============================] - 0s 9ms/step - loss: 258.1558 - root_mean_squared_error: 12.2666 - accuracy: 0.7883 - val_loss: 12589.6973 - val_root_mean_squared_error: 100.4318 - val_accuracy: 0.7119\n",
            "Epoch 31/300\n",
            "5/5 [==============================] - 0s 10ms/step - loss: 258.0624 - root_mean_squared_error: 11.8316 - accuracy: 0.7883 - val_loss: 12588.8477 - val_root_mean_squared_error: 100.4278 - val_accuracy: 0.7119\n",
            "Epoch 32/300\n",
            "5/5 [==============================] - 0s 11ms/step - loss: 257.9693 - root_mean_squared_error: 16.1333 - accuracy: 0.7883 - val_loss: 12587.8320 - val_root_mean_squared_error: 100.4229 - val_accuracy: 0.7119\n",
            "Epoch 33/300\n",
            "5/5 [==============================] - 0s 10ms/step - loss: 257.8635 - root_mean_squared_error: 12.2284 - accuracy: 0.7883 - val_loss: 12586.9639 - val_root_mean_squared_error: 100.4190 - val_accuracy: 0.7119\n",
            "Epoch 34/300\n",
            "5/5 [==============================] - 0s 11ms/step - loss: 257.7819 - root_mean_squared_error: 11.5104 - accuracy: 0.7883 - val_loss: 12586.0928 - val_root_mean_squared_error: 100.4151 - val_accuracy: 0.7119\n",
            "Epoch 35/300\n",
            "5/5 [==============================] - 0s 10ms/step - loss: 257.6981 - root_mean_squared_error: 14.1380 - accuracy: 0.7883 - val_loss: 12585.0742 - val_root_mean_squared_error: 100.4105 - val_accuracy: 0.7119\n",
            "Epoch 36/300\n",
            "5/5 [==============================] - 0s 10ms/step - loss: 257.6019 - root_mean_squared_error: 13.1464 - accuracy: 0.7883 - val_loss: 12584.1230 - val_root_mean_squared_error: 100.4062 - val_accuracy: 0.7119\n",
            "Epoch 37/300\n",
            "5/5 [==============================] - 0s 9ms/step - loss: 257.5047 - root_mean_squared_error: 17.3123 - accuracy: 0.7883 - val_loss: 12582.8477 - val_root_mean_squared_error: 100.4005 - val_accuracy: 0.7119\n",
            "Epoch 38/300\n",
            "5/5 [==============================] - 0s 10ms/step - loss: 257.3931 - root_mean_squared_error: 12.7917 - accuracy: 0.7883 - val_loss: 12582.1318 - val_root_mean_squared_error: 100.3972 - val_accuracy: 0.7119\n",
            "Epoch 39/300\n",
            "5/5 [==============================] - 0s 9ms/step - loss: 257.3186 - root_mean_squared_error: 14.4828 - accuracy: 0.7883 - val_loss: 12581.2969 - val_root_mean_squared_error: 100.3935 - val_accuracy: 0.7119\n",
            "Epoch 40/300\n",
            "5/5 [==============================] - 0s 9ms/step - loss: 257.2368 - root_mean_squared_error: 11.4740 - accuracy: 0.7883 - val_loss: 12580.5146 - val_root_mean_squared_error: 100.3900 - val_accuracy: 0.7119\n",
            "Epoch 41/300\n",
            "5/5 [==============================] - 0s 10ms/step - loss: 257.1619 - root_mean_squared_error: 12.7732 - accuracy: 0.7883 - val_loss: 12579.6328 - val_root_mean_squared_error: 100.3860 - val_accuracy: 0.7119\n",
            "Epoch 42/300\n",
            "5/5 [==============================] - 0s 10ms/step - loss: 257.0725 - root_mean_squared_error: 12.8570 - accuracy: 0.7883 - val_loss: 12578.7275 - val_root_mean_squared_error: 100.3820 - val_accuracy: 0.7119\n",
            "Epoch 43/300\n",
            "5/5 [==============================] - 0s 8ms/step - loss: 256.9825 - root_mean_squared_error: 12.8303 - accuracy: 0.7883 - val_loss: 12577.8379 - val_root_mean_squared_error: 100.3779 - val_accuracy: 0.7119\n",
            "Epoch 44/300\n",
            "5/5 [==============================] - 0s 12ms/step - loss: 256.8926 - root_mean_squared_error: 12.0967 - accuracy: 0.7883 - val_loss: 12577.0137 - val_root_mean_squared_error: 100.3741 - val_accuracy: 0.7119\n",
            "Epoch 45/300\n",
            "5/5 [==============================] - 0s 11ms/step - loss: 256.8055 - root_mean_squared_error: 11.6322 - accuracy: 0.7883 - val_loss: 12576.1357 - val_root_mean_squared_error: 100.3700 - val_accuracy: 0.7119\n",
            "Epoch 46/300\n",
            "5/5 [==============================] - 0s 9ms/step - loss: 256.7085 - root_mean_squared_error: 17.1496 - accuracy: 0.7883 - val_loss: 12574.9932 - val_root_mean_squared_error: 100.3647 - val_accuracy: 0.7119\n",
            "Epoch 47/300\n",
            "5/5 [==============================] - 0s 10ms/step - loss: 256.5928 - root_mean_squared_error: 16.2860 - accuracy: 0.7883 - val_loss: 12574.1826 - val_root_mean_squared_error: 100.3610 - val_accuracy: 0.7119\n",
            "Epoch 48/300\n",
            "5/5 [==============================] - 0s 10ms/step - loss: 256.5104 - root_mean_squared_error: 12.1174 - accuracy: 0.7883 - val_loss: 12573.7051 - val_root_mean_squared_error: 100.3588 - val_accuracy: 0.6949\n",
            "Epoch 49/300\n",
            "5/5 [==============================] - 0s 10ms/step - loss: 256.4569 - root_mean_squared_error: 11.1236 - accuracy: 0.7883 - val_loss: 12573.1455 - val_root_mean_squared_error: 100.3562 - val_accuracy: 0.6949\n",
            "Epoch 50/300\n",
            "5/5 [==============================] - 0s 10ms/step - loss: 256.3923 - root_mean_squared_error: 12.2402 - accuracy: 0.7883 - val_loss: 12572.4785 - val_root_mean_squared_error: 100.3531 - val_accuracy: 0.6949\n",
            "Epoch 51/300\n",
            "5/5 [==============================] - 0s 14ms/step - loss: 256.3239 - root_mean_squared_error: 10.7938 - accuracy: 0.7883 - val_loss: 12571.7334 - val_root_mean_squared_error: 100.3496 - val_accuracy: 0.6949\n",
            "Epoch 00051: early stopping\n"
          ]
        }
      ]
    },
    {
      "cell_type": "code",
      "source": [
        "plt.figure(figsize=(10,10))\n",
        "\n",
        "a = [history.history[\"accuracy\"][i]*100 for i in range(len(history.history[\"accuracy\"]))]\n",
        "plt.plot(history.epoch, a, color=\"mediumorchid\", label=\"Training accuracy\")\n",
        "plt.plot(history.epoch, history.history[\"root_mean_squared_error\"], color=\"teal\", label=\"Training RMSE\")\n",
        "\n",
        "plt.xlabel(\"Epochs\", fontsize=12)\n",
        "plt.title(\"Inspection on training accuracy and training RMSE\", fontsize=15)\n",
        "plt.legend(loc=7)\n",
        "\n",
        "plt.show()"
      ],
      "metadata": {
        "colab": {
          "base_uri": "https://localhost:8080/",
          "height": 627
        },
        "id": "IWv2Slj7qQWw",
        "outputId": "aaa769b8-6c36-44d4-92ce-01e83a21c332"
      },
      "execution_count": 73,
      "outputs": [
        {
          "output_type": "display_data",
          "data": {
            "image/png": "[encoded data removed]",
            "text/plain": [
              "<Figure size 720x720 with 1 Axes>"
            ]
          },
          "metadata": {
            "needs_background": "light"
          }
        }
      ]
    },
    {
      "cell_type": "code",
      "source": [
        "plt.figure(figsize=(10,10))\n",
        "\n",
        "b = [history.history[\"val_accuracy\"][i]*100 for i in range(len(history.history[\"val_accuracy\"]))]\n",
        "plt.plot(history.epoch, b, color=\"mediumorchid\", label=\"Validation accuracy\")\n",
        "plt.plot(history.epoch, history.history[\"val_root_mean_squared_error\"], color=\"teal\", label=\"Validation RMSE\")\n",
        "\n",
        "plt.xlabel(\"Epochs\", fontsize=12)\n",
        "plt.title(\"Inspection on training accuracy and Validation RMSE\", fontsize=15)\n",
        "plt.legend(loc=7)\n",
        "\n",
        "plt.show()"
      ],
      "metadata": {
        "colab": {
          "base_uri": "https://localhost:8080/",
          "height": 627
        },
        "id": "oUumRCWDzzwQ",
        "outputId": "79ef5b9d-e180-4bb5-bd18-49db02059d59"
      },
      "execution_count": 72,
      "outputs": [
        {
          "output_type": "display_data",
          "data": {
            "image/png": "[encoded data removed]",
            "text/plain": [
              "<Figure size 720x720 with 1 Axes>"
            ]
          },
          "metadata": {
            "needs_background": "light"
          }
        }
      ]
    },
    {
      "cell_type": "code",
      "source": [
        "score = model.evaluate(train_X_scaled, train_Y, verbose=0)\n",
        "accuracy_ANN = score[2] * 100\n",
        "rmse_ANN = score[1]\n",
        "print(\"Model Accuracy: {:.2f}%\".format(accuracy_ANN))\n",
        "print(\"RMSE value for ANN: {:.2f}\".format(rmse_ANN))"
      ],
      "metadata": {
        "colab": {
          "base_uri": "https://localhost:8080/"
        },
        "id": "_HJHNrMGgG2d",
        "outputId": "b8c6b25e-4084-4392-88be-5be09f73555d"
      },
      "execution_count": 63,
      "outputs": [
        {
          "output_type": "stream",
          "name": "stdout",
          "text": [
            "Model Accuracy: 76.02%\n",
            "RMSE value for ANN: 37.32\n"
          ]
        }
      ]
    },
    {
      "cell_type": "markdown",
      "source": [
        "### **Linear Regression**"
      ],
      "metadata": {
        "id": "J_TgtN_wAScx"
      }
    },
    {
      "cell_type": "code",
      "source": [
        "from sklearn.linear_model import LinearRegression"
      ],
      "metadata": {
        "id": "Ey8FFbol_9Bz"
      },
      "execution_count": 64,
      "outputs": []
    },
    {
      "cell_type": "code",
      "source": [
        "model_LR = LinearRegression().fit(train_X, train_Y)\n",
        "pred_y = model_LR.predict(train_X)\n",
        "rmse_LR = root_mean_squared_error(train_Y, pred_y)\n",
        "accuracy_LR = model_LR.score(train_X, train_Y) * 100\n",
        "print(\"Accuracy of Linear Regression model: {:.2f}%\".format(accuracy_LR))\n",
        "print(\"RMSE of Linear Regression model: {:.2f}\".format(rmse_LR))"
      ],
      "metadata": {
        "colab": {
          "base_uri": "https://localhost:8080/"
        },
        "id": "QBV75s-XAboc",
        "outputId": "9ec19f36-2337-4bd9-8726-8195e08b26e9"
      },
      "execution_count": 67,
      "outputs": [
        {
          "output_type": "stream",
          "name": "stdout",
          "text": [
            "Accuracy of Linear Regression model: 19.35%\n",
            "RMSE of Linear Regression model: 55.73\n"
          ]
        }
      ]
    },
    {
      "cell_type": "markdown",
      "source": [
        "#### **Visualization of the analysis on the accuracy rate of different models**"
      ],
      "metadata": {
        "id": "By7xb7hyfZfC"
      }
    },
    {
      "cell_type": "code",
      "source": [
        "plt.figure(figsize=(8,5))\n",
        "\n",
        "model_name = [\"Artificial\\nNeural\\nNetwork\", \"Linear\\nRegression\"]\n",
        "acc_list = [accuracy_ANN, accuracy_LR]\n",
        "\n",
        "plt.bar(model_name, acc_list, width=0.1, color= \"peachpuff\")\n",
        "plt.xlabel(\"Model Name\", fontsize=12)\n",
        "plt.ylabel(\"Percentage Rate\\n(%)\", fontsize=12)\n",
        "plt.title(\"\\nVisualizing on the accuracy percentage of the implemented models\\n\", fontsize=12)\n",
        "plt.show()"
      ],
      "metadata": {
        "colab": {
          "base_uri": "https://localhost:8080/",
          "height": 406
        },
        "id": "_zL7j-bna1tM",
        "outputId": "8e14f600-6875-427c-b740-e0d9598f16be"
      },
      "execution_count": 68,
      "outputs": [
        {
          "output_type": "display_data",
          "data": {
            "image/png": "[encoded data removed]",
            "text/plain": [
              "<Figure size 576x360 with 1 Axes>"
            ]
          },
          "metadata": {
            "needs_background": "light"
          }
        }
      ]
    },
    {
      "cell_type": "code",
      "source": [
        "plt.figure(figsize=(9,5))\n",
        "\n",
        "model_name = [\"Artificial\\nNeural\\nNetwork\", \"Linear\\nRegression\"]\n",
        "acc_list = [rmse_ANN, rmse_LR]\n",
        "\n",
        "plt.bar(model_name, acc_list, width=0.1, color= \"magenta\")\n",
        "plt.xlabel(\"Model Name\\n\", fontsize=12)\n",
        "plt.ylabel(\"\\nRMSE value\\n(Root Mean Square Error)\\n\", fontsize=12)\n",
        "plt.title(\"\\nVisualizing on the RMSE value of the implemented models\\n\", fontsize=12)\n",
        "plt.show()"
      ],
      "metadata": {
        "colab": {
          "base_uri": "https://localhost:8080/",
          "height": 421
        },
        "id": "bTqrpJxqg9AZ",
        "outputId": "e1b95308-b562-479d-9a5f-c084e16c8c15"
      },
      "execution_count": 69,
      "outputs": [
        {
          "output_type": "display_data",
          "data": {
            "image/png": "[encoded data removed]",
            "text/plain": [
              "<Figure size 648x360 with 1 Axes>"
            ]
          },
          "metadata": {
            "needs_background": "light"
          }
        }
      ]
    }
  ],
  "metadata": {
    "colab": {
      "collapsed_sections": [],
      "name": "Big_data_assignment_project_covid.ipynb",
      "provenance": [],
      "include_colab_link": true
    },
    "kernelspec": {
      "display_name": "Python 3",
      "name": "python3"
    },
    "language_info": {
      "name": "python"
    }
  },
  "nbformat": 4,
  "nbformat_minor": 0
}