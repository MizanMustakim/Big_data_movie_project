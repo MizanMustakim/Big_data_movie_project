{
  "cells": [
    {
      "cell_type": "markdown",
      "metadata": {
        "id": "view-in-github",
        "colab_type": "text"
      },
      "source": [
        "<a href=\"https://colab.research.google.com/github/MizanMustakim/Big_data_movie_project/blob/main/Big_data_assignment_project_covid.ipynb\" target=\"_parent\"><img src=\"https://colab.research.google.com/assets/colab-badge.svg\" alt=\"Open In Colab\"/></a>"
      ]
    },
    {
      "cell_type": "markdown",
      "metadata": {
        "id": "3GfUSNoUMrLz"
      },
      "source": [
        "# Data Collection work"
      ]
    },
    {
      "cell_type": "markdown",
      "metadata": {
        "id": "OHJpYVqmM3ZL"
      },
      "source": [
        "**Import the libraries**"
      ]
    },
    {
      "cell_type": "code",
      "source": [
        "import warnings\n",
        "warnings.filterwarnings(\"ignore\")"
      ],
      "metadata": {
        "id": "rbyPOdYDLXIH"
      },
      "execution_count": 1,
      "outputs": []
    },
    {
      "cell_type": "code",
      "execution_count": 2,
      "metadata": {
        "id": "vM0GBsSTpg32"
      },
      "outputs": [],
      "source": [
        "from bs4 import BeautifulSoup\n",
        "import requests\n",
        "import pandas as pd\n",
        "import urllib"
      ]
    },
    {
      "cell_type": "markdown",
      "metadata": {
        "id": "3v7a2VxIM_yU"
      },
      "source": [
        "**Collecting DATA_1**"
      ]
    },
    {
      "cell_type": "code",
      "execution_count": 3,
      "metadata": {
        "id": "M7p-bJPnpuUI"
      },
      "outputs": [],
      "source": [
        "url = \"https://www.worldometers.info/coronavirus/?utm_campaign=homeAdvegas1?%22%20%5Cl%22countries\"\n",
        "data = requests.get(url)\n",
        "soup = BeautifulSoup(data.text,'html5lib')"
      ]
    },
    {
      "cell_type": "code",
      "execution_count": 4,
      "metadata": {
        "id": "dyKSZNSLp1zI"
      },
      "outputs": [],
      "source": [
        "covid_dict = {}\n",
        "div = soup.find_all(\"div\", {\"id\": \"ExplorerContainer\"})\n",
        "for i in div:\n",
        "  content_div = i.find(\"div\",{\"class\":\"tableTab\"})\n",
        "  covid_dict[i.find(\"h1\").text.replace(\":\",\"\").strip()] = content_div.find(\"span\").text.strip()"
      ]
    },
    {
      "cell_type": "code",
      "execution_count": 5,
      "metadata": {
        "colab": {
          "base_uri": "https://localhost:8080/"
        },
        "id": "-H5sknHaqrBy",
        "outputId": "c8458294-60a4-4a81-e6aa-e48efecb73f0"
      },
      "outputs": [
        {
          "output_type": "stream",
          "name": "stdout",
          "text": [
            "['Country,Other', 'TotalCases', 'NewCases', 'TotalDeaths', 'NewDeaths', 'TotalRecovered', 'NewRecovered', 'ActiveCases', 'Serious,Critical', 'TotCases/1M pop', 'Deaths/1M pop', 'TotalTests', 'Tests/1M pop', 'Population']\n"
          ]
        }
      ],
      "source": [
        "tables = soup.find_all('table')\n",
        "table_header = tables[0].find_all('th')\n",
        "table_head = []\n",
        "for i in range(15):\n",
        "  if i != 0:\n",
        "    table_head.append(table_header[i].text.replace(\"\\n\",\"\").replace(\"\\xa0\",\"\"))\n",
        "print(table_head)"
      ]
    },
    {
      "cell_type": "code",
      "execution_count": 6,
      "metadata": {
        "id": "6LiNPZ4Kq2mB"
      },
      "outputs": [],
      "source": [
        "Covid_data = pd.DataFrame(columns=table_head)\n",
        "for row in tables[0].tbody.find_all('tr'):\n",
        "  col = row.find_all('td')\n",
        "  if (col != []):\n",
        "    country = col[1].text.strip()\n",
        "    totalCases = col[2].text.strip()\n",
        "    newCases = col[3].text.strip()\n",
        "    totalDeaths = col[4].text.strip()\n",
        "    newDeaths = col[5].text.strip()\n",
        "    totalRecovered = col[6].text.strip()\n",
        "    newRecovered = col[7].text.strip()\n",
        "    activeCases = col[8].text.strip()\n",
        "    serious = col[9].text.strip()\n",
        "    totalCases_per_m = col[10].text.strip()\n",
        "    deaths = col[11].text.strip()\n",
        "    totalTests = col[12].text.strip()\n",
        "    tests_per_m = col[13].text.strip()\n",
        "    population = col[14].text.strip()\n",
        "    Covid_data = Covid_data.append({\"Country,Other\":country,\"TotalCases\":totalCases,\"NewCases\":newCases,\n",
        "                                    \"TotalDeaths\":totalDeaths,\"NewDeaths\":newDeaths,\"TotalRecovered\":totalRecovered,\n",
        "                                    \"NewRecovered\":newRecovered,\"ActiveCases\":activeCases,\"Serious,Critical\":serious,\n",
        "                                    \"TotCases/1M pop\":totalCases_per_m,\"Deaths/1M pop\":deaths,\"TotalTests\":totalTests,\n",
        "                                    \"Tests/1M pop\":tests_per_m,\"Population\":population},ignore_index=True)"
      ]
    },
    {
      "cell_type": "code",
      "execution_count": 7,
      "metadata": {
        "id": "R1nM9qORq6CA"
      },
      "outputs": [],
      "source": [
        "Covid_data.drop(Covid_data.index[:7],inplace=True)\n",
        "Covid_data.to_csv(\"Covid_data.csv\",index=False)"
      ]
    },
    {
      "cell_type": "markdown",
      "metadata": {
        "id": "1RDKmH3cNI60"
      },
      "source": [
        "**Collecting DATA_2**"
      ]
    },
    {
      "cell_type": "code",
      "execution_count": 8,
      "metadata": {
        "colab": {
          "base_uri": "https://localhost:8080/"
        },
        "id": "Jn_dGN_Zrsq_",
        "outputId": "ea4bbbf4-ea50-40c5-9756-279333d9a553"
      },
      "outputs": [
        {
          "output_type": "stream",
          "name": "stdout",
          "text": [
            "--2022-01-07 10:53:56--  https://covid.ourworldindata.org/data/owid-covid-data.csv\n",
            "Resolving covid.ourworldindata.org (covid.ourworldindata.org)... 104.21.233.137, 104.21.233.138, 2606:4700:3038::6815:e98a, ...\n",
            "Connecting to covid.ourworldindata.org (covid.ourworldindata.org)|104.21.233.137|:443... connected.\n",
            "HTTP request sent, awaiting response... 200 OK\n",
            "Length: unspecified [text/csv]\n",
            "Saving to: ‘owid-covid-data.csv’\n",
            "\n",
            "owid-covid-data.csv     [     <=>            ]  40.91M  44.2MB/s    in 0.9s    \n",
            "\n",
            "2022-01-07 10:53:58 (44.2 MB/s) - ‘owid-covid-data.csv’ saved [42902343]\n",
            "\n"
          ]
        }
      ],
      "source": [
        "!wget --no-check-certificate \\\n",
        "  https://covid.ourworldindata.org/data/owid-covid-data.csv #\\\n",
        "#   -O /content/owid-covid-data.csv"
      ]
    },
    {
      "cell_type": "markdown",
      "metadata": {
        "id": "g2UyLBpaNNAs"
      },
      "source": [
        "# Data Processing Work"
      ]
    },
    {
      "cell_type": "markdown",
      "metadata": {
        "id": "2w08T7wmNVCy"
      },
      "source": [
        "**Install PySpark**"
      ]
    },
    {
      "cell_type": "code",
      "execution_count": 9,
      "metadata": {
        "colab": {
          "base_uri": "https://localhost:8080/"
        },
        "id": "32I8LNJg941-",
        "outputId": "b318fd6a-3a48-4058-cd00-e5e77c787926"
      },
      "outputs": [
        {
          "output_type": "stream",
          "name": "stdout",
          "text": [
            "Collecting pyspark\n",
            "  Downloading pyspark-3.2.0.tar.gz (281.3 MB)\n",
            "\u001b[K     |████████████████████████████████| 281.3 MB 44 kB/s \n",
            "\u001b[?25hCollecting py4j==0.10.9.2\n",
            "  Downloading py4j-0.10.9.2-py2.py3-none-any.whl (198 kB)\n",
            "\u001b[K     |████████████████████████████████| 198 kB 46.3 MB/s \n",
            "\u001b[?25hBuilding wheels for collected packages: pyspark\n",
            "  Building wheel for pyspark (setup.py) ... \u001b[?25l\u001b[?25hdone\n",
            "  Created wheel for pyspark: filename=pyspark-3.2.0-py2.py3-none-any.whl size=281805912 sha256=54dec1a990cb6c511d87c900ff60f02ca37e3e5387da02b53322547cf8577f05\n",
            "  Stored in directory: /root/.cache/pip/wheels/0b/de/d2/9be5d59d7331c6c2a7c1b6d1a4f463ce107332b1ecd4e80718\n",
            "Successfully built pyspark\n",
            "Installing collected packages: py4j, pyspark\n",
            "Successfully installed py4j-0.10.9.2 pyspark-3.2.0\n"
          ]
        }
      ],
      "source": [
        "!pip install pyspark"
      ]
    },
    {
      "cell_type": "markdown",
      "metadata": {
        "id": "mTL_fXpKNZr9"
      },
      "source": [
        "**Importing Libraries**"
      ]
    },
    {
      "cell_type": "code",
      "execution_count": 10,
      "metadata": {
        "id": "ArTbFYyG97fL"
      },
      "outputs": [],
      "source": [
        "import pyspark\n",
        "from pyspark.sql import SparkSession\n",
        "from pyspark.sql.types import StructType,StructField, StringType, IntegerType, DecimalType, LongType\n",
        "from pyspark.sql.types import ArrayType, DoubleType, BooleanType\n",
        "from pyspark.sql.functions import col,array_contains\n",
        "from pyspark.sql.functions import regexp_replace, regexp_extract, col\n",
        "from pyspark.sql.types import IntegerType"
      ]
    },
    {
      "cell_type": "markdown",
      "metadata": {
        "id": "6dQxjuckNvZD"
      },
      "source": [
        "**Pre-processing DATA with PySpark**"
      ]
    },
    {
      "cell_type": "markdown",
      "metadata": {
        "id": "XA5zXDgvkHr4"
      },
      "source": [
        "**vaccine Data**"
      ]
    },
    {
      "cell_type": "markdown",
      "metadata": {
        "id": "YB7lNgI1ldme"
      },
      "source": [
        "Reading the vaccination csv data in **PySpark**"
      ]
    },
    {
      "cell_type": "code",
      "execution_count": 11,
      "metadata": {
        "colab": {
          "base_uri": "https://localhost:8080/"
        },
        "id": "-F2PNlSD_QnU",
        "outputId": "176afa8f-238d-4d23-c799-9b5feeb2eb0b"
      },
      "outputs": [
        {
          "output_type": "stream",
          "name": "stdout",
          "text": [
            "+--------+---------+-----------+----------+-----------+---------+------------------+------------+----------+-------------------+-----------------------+---------------------+------------------------------+------------------------+----------------------+-------------------------------+-----------------+------------+------------------------+-------------+-------------------------+---------------------+---------------------------------+----------------------+----------------------------------+---------+-----------+------------------------+----------------------+------------------+-------------------------------+-------------+--------------+-----------+------------------+-----------------+-----------------------+--------------+----------------+-------------------------+------------------------------+-----------------------------+-----------------------------------+--------------------------+-------------------------------------+------------------------------+------------------------------------------+----------------+----------+------------------+----------+-------------+-------------+--------------+---------------+---------------------+-------------------+--------------+------------+----------------------+--------------------------+---------------+-----------------------+------------------------------------+---------------------------+----------------+---------------------------------------+\n",
            "|iso_code|continent|    Country|      date|total_cases|new_cases|new_cases_smoothed|total_deaths|new_deaths|new_deaths_smoothed|total_cases_per_million|new_cases_per_million|new_cases_smoothed_per_million|total_deaths_per_million|new_deaths_per_million|new_deaths_smoothed_per_million|reproduction_rate|icu_patients|icu_patients_per_million|hosp_patients|hosp_patients_per_million|weekly_icu_admissions|weekly_icu_admissions_per_million|weekly_hosp_admissions|weekly_hosp_admissions_per_million|new_tests|total_tests|total_tests_per_thousand|new_tests_per_thousand|new_tests_smoothed|new_tests_smoothed_per_thousand|positive_rate|tests_per_case|tests_units|total_vaccinations|people_vaccinated|people_fully_vaccinated|total_boosters|new_vaccinations|new_vaccinations_smoothed|total_vaccinations_per_hundred|people_vaccinated_per_hundred|people_fully_vaccinated_per_hundred|total_boosters_per_hundred|new_vaccinations_smoothed_per_million|new_people_vaccinated_smoothed|new_people_vaccinated_smoothed_per_hundred|stringency_index|population|population_density|median_age|aged_65_older|aged_70_older|gdp_per_capita|extreme_poverty|cardiovasc_death_rate|diabetes_prevalence|female_smokers|male_smokers|handwashing_facilities|hospital_beds_per_thousand|life_expectancy|human_development_index|excess_mortality_cumulative_absolute|excess_mortality_cumulative|excess_mortality|excess_mortality_cumulative_per_million|\n",
            "+--------+---------+-----------+----------+-----------+---------+------------------+------------+----------+-------------------+-----------------------+---------------------+------------------------------+------------------------+----------------------+-------------------------------+-----------------+------------+------------------------+-------------+-------------------------+---------------------+---------------------------------+----------------------+----------------------------------+---------+-----------+------------------------+----------------------+------------------+-------------------------------+-------------+--------------+-----------+------------------+-----------------+-----------------------+--------------+----------------+-------------------------+------------------------------+-----------------------------+-----------------------------------+--------------------------+-------------------------------------+------------------------------+------------------------------------------+----------------+----------+------------------+----------+-------------+-------------+--------------+---------------+---------------------+-------------------+--------------+------------+----------------------+--------------------------+---------------+-----------------------+------------------------------------+---------------------------+----------------+---------------------------------------+\n",
            "|     AFG|     Asia|Afghanistan|2020-02-24|        5.0|      5.0|              null|        null|      null|               null|                  0.126|                0.126|                          null|                    null|                  null|                           null|             null|        null|                    null|         null|                     null|                 null|                             null|                  null|                              null|     null|       null|                    null|                  null|              null|                           null|         null|          null|       null|              null|             null|                   null|          null|            null|                     null|                          null|                         null|                               null|                      null|                                 null|                          null|                                      null|            8.33|39835428.0|            54.422|      18.6|        2.581|        1.337|      1803.987|           null|              597.029|               9.59|          null|        null|                37.746|                       0.5|          64.83|                  0.511|                                null|                       null|            null|                                   null|\n",
            "|     AFG|     Asia|Afghanistan|2020-02-25|        5.0|      0.0|              null|        null|      null|               null|                  0.126|                  0.0|                          null|                    null|                  null|                           null|             null|        null|                    null|         null|                     null|                 null|                             null|                  null|                              null|     null|       null|                    null|                  null|              null|                           null|         null|          null|       null|              null|             null|                   null|          null|            null|                     null|                          null|                         null|                               null|                      null|                                 null|                          null|                                      null|            8.33|39835428.0|            54.422|      18.6|        2.581|        1.337|      1803.987|           null|              597.029|               9.59|          null|        null|                37.746|                       0.5|          64.83|                  0.511|                                null|                       null|            null|                                   null|\n",
            "|     AFG|     Asia|Afghanistan|2020-02-26|        5.0|      0.0|              null|        null|      null|               null|                  0.126|                  0.0|                          null|                    null|                  null|                           null|             null|        null|                    null|         null|                     null|                 null|                             null|                  null|                              null|     null|       null|                    null|                  null|              null|                           null|         null|          null|       null|              null|             null|                   null|          null|            null|                     null|                          null|                         null|                               null|                      null|                                 null|                          null|                                      null|            8.33|39835428.0|            54.422|      18.6|        2.581|        1.337|      1803.987|           null|              597.029|               9.59|          null|        null|                37.746|                       0.5|          64.83|                  0.511|                                null|                       null|            null|                                   null|\n",
            "|     AFG|     Asia|Afghanistan|2020-02-27|        5.0|      0.0|              null|        null|      null|               null|                  0.126|                  0.0|                          null|                    null|                  null|                           null|             null|        null|                    null|         null|                     null|                 null|                             null|                  null|                              null|     null|       null|                    null|                  null|              null|                           null|         null|          null|       null|              null|             null|                   null|          null|            null|                     null|                          null|                         null|                               null|                      null|                                 null|                          null|                                      null|            8.33|39835428.0|            54.422|      18.6|        2.581|        1.337|      1803.987|           null|              597.029|               9.59|          null|        null|                37.746|                       0.5|          64.83|                  0.511|                                null|                       null|            null|                                   null|\n",
            "|     AFG|     Asia|Afghanistan|2020-02-28|        5.0|      0.0|              null|        null|      null|               null|                  0.126|                  0.0|                          null|                    null|                  null|                           null|             null|        null|                    null|         null|                     null|                 null|                             null|                  null|                              null|     null|       null|                    null|                  null|              null|                           null|         null|          null|       null|              null|             null|                   null|          null|            null|                     null|                          null|                         null|                               null|                      null|                                 null|                          null|                                      null|            8.33|39835428.0|            54.422|      18.6|        2.581|        1.337|      1803.987|           null|              597.029|               9.59|          null|        null|                37.746|                       0.5|          64.83|                  0.511|                                null|                       null|            null|                                   null|\n",
            "|     AFG|     Asia|Afghanistan|2020-02-29|        5.0|      0.0|             0.714|        null|      null|               null|                  0.126|                  0.0|                         0.018|                    null|                  null|                           null|             null|        null|                    null|         null|                     null|                 null|                             null|                  null|                              null|     null|       null|                    null|                  null|              null|                           null|         null|          null|       null|              null|             null|                   null|          null|            null|                     null|                          null|                         null|                               null|                      null|                                 null|                          null|                                      null|            8.33|39835428.0|            54.422|      18.6|        2.581|        1.337|      1803.987|           null|              597.029|               9.59|          null|        null|                37.746|                       0.5|          64.83|                  0.511|                                null|                       null|            null|                                   null|\n",
            "|     AFG|     Asia|Afghanistan|2020-03-01|        5.0|      0.0|             0.714|        null|      null|               null|                  0.126|                  0.0|                         0.018|                    null|                  null|                           null|             null|        null|                    null|         null|                     null|                 null|                             null|                  null|                              null|     null|       null|                    null|                  null|              null|                           null|         null|          null|       null|              null|             null|                   null|          null|            null|                     null|                          null|                         null|                               null|                      null|                                 null|                          null|                                      null|           27.78|39835428.0|            54.422|      18.6|        2.581|        1.337|      1803.987|           null|              597.029|               9.59|          null|        null|                37.746|                       0.5|          64.83|                  0.511|                                null|                       null|            null|                                   null|\n",
            "|     AFG|     Asia|Afghanistan|2020-03-02|        5.0|      0.0|               0.0|        null|      null|               null|                  0.126|                  0.0|                           0.0|                    null|                  null|                           null|             null|        null|                    null|         null|                     null|                 null|                             null|                  null|                              null|     null|       null|                    null|                  null|              null|                           null|         null|          null|       null|              null|             null|                   null|          null|            null|                     null|                          null|                         null|                               null|                      null|                                 null|                          null|                                      null|           27.78|39835428.0|            54.422|      18.6|        2.581|        1.337|      1803.987|           null|              597.029|               9.59|          null|        null|                37.746|                       0.5|          64.83|                  0.511|                                null|                       null|            null|                                   null|\n",
            "|     AFG|     Asia|Afghanistan|2020-03-03|        5.0|      0.0|               0.0|        null|      null|               null|                  0.126|                  0.0|                           0.0|                    null|                  null|                           null|             null|        null|                    null|         null|                     null|                 null|                             null|                  null|                              null|     null|       null|                    null|                  null|              null|                           null|         null|          null|       null|              null|             null|                   null|          null|            null|                     null|                          null|                         null|                               null|                      null|                                 null|                          null|                                      null|           27.78|39835428.0|            54.422|      18.6|        2.581|        1.337|      1803.987|           null|              597.029|               9.59|          null|        null|                37.746|                       0.5|          64.83|                  0.511|                                null|                       null|            null|                                   null|\n",
            "|     AFG|     Asia|Afghanistan|2020-03-04|        5.0|      0.0|               0.0|        null|      null|               null|                  0.126|                  0.0|                           0.0|                    null|                  null|                           null|             null|        null|                    null|         null|                     null|                 null|                             null|                  null|                              null|     null|       null|                    null|                  null|              null|                           null|         null|          null|       null|              null|             null|                   null|          null|            null|                     null|                          null|                         null|                               null|                      null|                                 null|                          null|                                      null|           27.78|39835428.0|            54.422|      18.6|        2.581|        1.337|      1803.987|           null|              597.029|               9.59|          null|        null|                37.746|                       0.5|          64.83|                  0.511|                                null|                       null|            null|                                   null|\n",
            "+--------+---------+-----------+----------+-----------+---------+------------------+------------+----------+-------------------+-----------------------+---------------------+------------------------------+------------------------+----------------------+-------------------------------+-----------------+------------+------------------------+-------------+-------------------------+---------------------+---------------------------------+----------------------+----------------------------------+---------+-----------+------------------------+----------------------+------------------+-------------------------------+-------------+--------------+-----------+------------------+-----------------+-----------------------+--------------+----------------+-------------------------+------------------------------+-----------------------------+-----------------------------------+--------------------------+-------------------------------------+------------------------------+------------------------------------------+----------------+----------+------------------+----------+-------------+-------------+--------------+---------------+---------------------+-------------------+--------------+------------+----------------------+--------------------------+---------------+-----------------------+------------------------------------+---------------------------+----------------+---------------------------------------+\n",
            "only showing top 10 rows\n",
            "\n"
          ]
        }
      ],
      "source": [
        "spark = SparkSession.builder.appName('CSV reader').getOrCreate()\n",
        "\n",
        "#extract\n",
        "df = '/content/owid-covid-data.csv'\n",
        "sdfData = spark.read.csv(df, header=True, sep=\",\").cache()\n",
        "sdfData = sdfData.withColumnRenamed(\"location\", \"Country\")\n",
        "\n",
        "sdfData.show(10)"
      ]
    },
    {
      "cell_type": "markdown",
      "metadata": {
        "id": "Uu2fFrsHloiw"
      },
      "source": [
        "Checking the Schema of the created dataframe"
      ]
    },
    {
      "cell_type": "code",
      "execution_count": 12,
      "metadata": {
        "colab": {
          "base_uri": "https://localhost:8080/"
        },
        "id": "CYB-BggsAQsr",
        "outputId": "2765961f-f395-4433-d8c3-5623570cdb62"
      },
      "outputs": [
        {
          "output_type": "stream",
          "name": "stdout",
          "text": [
            "root\n",
            " |-- iso_code: string (nullable = true)\n",
            " |-- continent: string (nullable = true)\n",
            " |-- Country: string (nullable = true)\n",
            " |-- date: string (nullable = true)\n",
            " |-- total_cases: string (nullable = true)\n",
            " |-- new_cases: string (nullable = true)\n",
            " |-- new_cases_smoothed: string (nullable = true)\n",
            " |-- total_deaths: string (nullable = true)\n",
            " |-- new_deaths: string (nullable = true)\n",
            " |-- new_deaths_smoothed: string (nullable = true)\n",
            " |-- total_cases_per_million: string (nullable = true)\n",
            " |-- new_cases_per_million: string (nullable = true)\n",
            " |-- new_cases_smoothed_per_million: string (nullable = true)\n",
            " |-- total_deaths_per_million: string (nullable = true)\n",
            " |-- new_deaths_per_million: string (nullable = true)\n",
            " |-- new_deaths_smoothed_per_million: string (nullable = true)\n",
            " |-- reproduction_rate: string (nullable = true)\n",
            " |-- icu_patients: string (nullable = true)\n",
            " |-- icu_patients_per_million: string (nullable = true)\n",
            " |-- hosp_patients: string (nullable = true)\n",
            " |-- hosp_patients_per_million: string (nullable = true)\n",
            " |-- weekly_icu_admissions: string (nullable = true)\n",
            " |-- weekly_icu_admissions_per_million: string (nullable = true)\n",
            " |-- weekly_hosp_admissions: string (nullable = true)\n",
            " |-- weekly_hosp_admissions_per_million: string (nullable = true)\n",
            " |-- new_tests: string (nullable = true)\n",
            " |-- total_tests: string (nullable = true)\n",
            " |-- total_tests_per_thousand: string (nullable = true)\n",
            " |-- new_tests_per_thousand: string (nullable = true)\n",
            " |-- new_tests_smoothed: string (nullable = true)\n",
            " |-- new_tests_smoothed_per_thousand: string (nullable = true)\n",
            " |-- positive_rate: string (nullable = true)\n",
            " |-- tests_per_case: string (nullable = true)\n",
            " |-- tests_units: string (nullable = true)\n",
            " |-- total_vaccinations: string (nullable = true)\n",
            " |-- people_vaccinated: string (nullable = true)\n",
            " |-- people_fully_vaccinated: string (nullable = true)\n",
            " |-- total_boosters: string (nullable = true)\n",
            " |-- new_vaccinations: string (nullable = true)\n",
            " |-- new_vaccinations_smoothed: string (nullable = true)\n",
            " |-- total_vaccinations_per_hundred: string (nullable = true)\n",
            " |-- people_vaccinated_per_hundred: string (nullable = true)\n",
            " |-- people_fully_vaccinated_per_hundred: string (nullable = true)\n",
            " |-- total_boosters_per_hundred: string (nullable = true)\n",
            " |-- new_vaccinations_smoothed_per_million: string (nullable = true)\n",
            " |-- new_people_vaccinated_smoothed: string (nullable = true)\n",
            " |-- new_people_vaccinated_smoothed_per_hundred: string (nullable = true)\n",
            " |-- stringency_index: string (nullable = true)\n",
            " |-- population: string (nullable = true)\n",
            " |-- population_density: string (nullable = true)\n",
            " |-- median_age: string (nullable = true)\n",
            " |-- aged_65_older: string (nullable = true)\n",
            " |-- aged_70_older: string (nullable = true)\n",
            " |-- gdp_per_capita: string (nullable = true)\n",
            " |-- extreme_poverty: string (nullable = true)\n",
            " |-- cardiovasc_death_rate: string (nullable = true)\n",
            " |-- diabetes_prevalence: string (nullable = true)\n",
            " |-- female_smokers: string (nullable = true)\n",
            " |-- male_smokers: string (nullable = true)\n",
            " |-- handwashing_facilities: string (nullable = true)\n",
            " |-- hospital_beds_per_thousand: string (nullable = true)\n",
            " |-- life_expectancy: string (nullable = true)\n",
            " |-- human_development_index: string (nullable = true)\n",
            " |-- excess_mortality_cumulative_absolute: string (nullable = true)\n",
            " |-- excess_mortality_cumulative: string (nullable = true)\n",
            " |-- excess_mortality: string (nullable = true)\n",
            " |-- excess_mortality_cumulative_per_million: string (nullable = true)\n",
            "\n"
          ]
        }
      ],
      "source": [
        "sdfData.printSchema()"
      ]
    },
    {
      "cell_type": "markdown",
      "metadata": {
        "id": "vVgAdYeEl12V"
      },
      "source": [
        "Separate the new_vaccination info of the day before the current day from data table."
      ]
    },
    {
      "cell_type": "code",
      "source": [
        "from datetime import date\n",
        "import datetime"
      ],
      "metadata": {
        "id": "aQWW0MlJJlZ_"
      },
      "execution_count": 13,
      "outputs": []
    },
    {
      "cell_type": "code",
      "execution_count": 14,
      "metadata": {
        "colab": {
          "base_uri": "https://localhost:8080/"
        },
        "id": "2MrjDNTD_Qwz",
        "outputId": "c76f4c37-5123-49d1-faf7-41d49de2bb1a"
      },
      "outputs": [
        {
          "output_type": "stream",
          "name": "stdout",
          "text": [
            "+-------------------+-------------+----------------+-----------+\n",
            "|            Country|    continent|Total_vaccinated| population|\n",
            "+-------------------+-------------+----------------+-----------+\n",
            "|        Afghanistan|         Asia|        19368570| 39835428.0|\n",
            "|            Albania|       Europe|       125081646|  2872934.0|\n",
            "|            Algeria|       Africa|       106450533| 44616626.0|\n",
            "|            Andorra|       Europe|          909138|    77354.0|\n",
            "|             Angola|       Africa|       120976841| 33933611.0|\n",
            "|           Anguilla|North America|          271433|    15125.0|\n",
            "|Antigua and Barbuda|North America|         3340114|    98728.0|\n",
            "|          Argentina|South America|      6099070777| 45605823.0|\n",
            "|            Armenia|         Asia|        11360818|  2968128.0|\n",
            "|              Aruba|North America|        15512497|   107195.0|\n",
            "|          Australia|      Oceania|      3147217956| 25788217.0|\n",
            "|            Austria|       Europe|      1425423963|  9043072.0|\n",
            "|         Azerbaijan|         Asia|       781679873| 10223344.0|\n",
            "|            Bahamas|North America|         2816239|   396914.0|\n",
            "|            Bahrain|         Asia|       316074364|  1748295.0|\n",
            "|         Bangladesh|         Asia|      4428149369|166303494.0|\n",
            "|           Barbados|North America|        30997520|   287708.0|\n",
            "|            Belarus|       Europe|        61088382|  9442867.0|\n",
            "|            Belgium|       Europe|      2027123378| 11632334.0|\n",
            "|             Belize|North America|        11039270|   404915.0|\n",
            "+-------------------+-------------+----------------+-----------+\n",
            "only showing top 20 rows\n",
            "\n"
          ]
        }
      ],
      "source": [
        "#transform\n",
        "sdfData.registerTempTable(\"vaccine\")\n",
        "\n",
        "today = date.today() - datetime.timedelta(days=1)\n",
        "\n",
        "\n",
        "vaccine_data = spark.sql('SELECT Country, continent,\\\n",
        "                          SUM(cast(people_vaccinated as int)) as Total_vaccinated\\\n",
        "                          FROM vaccine \\\n",
        "                          WHERE continent <> \"null\" \\\n",
        "                          GROUP BY Country, continent')\n",
        "\n",
        "population_data = spark.sql('SELECT Country, population \\\n",
        "                          FROM vaccine \\\n",
        "                          WHERE date = \"{}\" AND continent <> \"null\"'.format(today.strftime(\"%Y-%m-%d\")))\n",
        "\n",
        "\n",
        "vaccine_data = vaccine_data.join(population_data, [\"Country\"], how=\"outer\")\n",
        "\n",
        "vaccine_data.show()"
      ]
    },
    {
      "cell_type": "markdown",
      "metadata": {
        "id": "XxAguzJWmNLX"
      },
      "source": [
        "Checking the schema of the new DataFrame"
      ]
    },
    {
      "cell_type": "code",
      "execution_count": 15,
      "metadata": {
        "colab": {
          "base_uri": "https://localhost:8080/"
        },
        "id": "Nm0S7ud4QhpS",
        "outputId": "02be2643-edc6-43f6-ec74-08fb4c29ed58"
      },
      "outputs": [
        {
          "output_type": "stream",
          "name": "stdout",
          "text": [
            "root\n",
            " |-- Country: string (nullable = true)\n",
            " |-- continent: string (nullable = true)\n",
            " |-- Total_vaccinated: long (nullable = true)\n",
            " |-- population: string (nullable = true)\n",
            "\n"
          ]
        }
      ],
      "source": [
        "vaccine_data.printSchema()"
      ]
    },
    {
      "cell_type": "markdown",
      "metadata": {
        "id": "vOiV9P-wmSdE"
      },
      "source": [
        "Converting the string data type into the integer data type of new_vaccination data and population data."
      ]
    },
    {
      "cell_type": "code",
      "execution_count": 16,
      "metadata": {
        "id": "eaysouxiQsFl"
      },
      "outputs": [],
      "source": [
        "data = [\"Total_vaccinated\", \"population\"]\n",
        "\n",
        "for i in data:\n",
        "    vaccine_data = vaccine_data.withColumn(i, vaccine_data[i].cast(LongType()))"
      ]
    },
    {
      "cell_type": "markdown",
      "metadata": {
        "id": "Cz1JE6pLnHM4"
      },
      "source": [
        "Now again check the schema, and get the difference."
      ]
    },
    {
      "cell_type": "code",
      "execution_count": 17,
      "metadata": {
        "colab": {
          "base_uri": "https://localhost:8080/"
        },
        "id": "La4eXfooQsIb",
        "outputId": "136bd6db-5f86-4528-804a-03828309e191"
      },
      "outputs": [
        {
          "output_type": "stream",
          "name": "stdout",
          "text": [
            "root\n",
            " |-- Country: string (nullable = true)\n",
            " |-- continent: string (nullable = true)\n",
            " |-- Total_vaccinated: long (nullable = true)\n",
            " |-- population: long (nullable = true)\n",
            "\n"
          ]
        }
      ],
      "source": [
        "vaccine_data.printSchema()"
      ]
    },
    {
      "cell_type": "markdown",
      "metadata": {
        "id": "4RHpe3Chccpl"
      },
      "source": [
        "Now replace the null values with zero(0)"
      ]
    },
    {
      "cell_type": "code",
      "execution_count": 18,
      "metadata": {
        "colab": {
          "base_uri": "https://localhost:8080/"
        },
        "id": "YHOJyAK_Sw1i",
        "outputId": "05f369a1-aa66-43b1-83d0-0a435e64385e"
      },
      "outputs": [
        {
          "output_type": "stream",
          "name": "stdout",
          "text": [
            "+-------------------+-------------+----------------+----------+\n",
            "|            Country|    continent|Total_vaccinated|population|\n",
            "+-------------------+-------------+----------------+----------+\n",
            "|        Afghanistan|         Asia|        19368570|  39835428|\n",
            "|            Albania|       Europe|       125081646|   2872934|\n",
            "|            Algeria|       Africa|       106450533|  44616626|\n",
            "|            Andorra|       Europe|          909138|     77354|\n",
            "|             Angola|       Africa|       120976841|  33933611|\n",
            "|           Anguilla|North America|          271433|     15125|\n",
            "|Antigua and Barbuda|North America|         3340114|     98728|\n",
            "|          Argentina|South America|      6099070777|  45605823|\n",
            "|            Armenia|         Asia|        11360818|   2968128|\n",
            "|              Aruba|North America|        15512497|    107195|\n",
            "|          Australia|      Oceania|      3147217956|  25788217|\n",
            "|            Austria|       Europe|      1425423963|   9043072|\n",
            "|         Azerbaijan|         Asia|       781679873|  10223344|\n",
            "|            Bahamas|North America|         2816239|    396914|\n",
            "|            Bahrain|         Asia|       316074364|   1748295|\n",
            "|         Bangladesh|         Asia|      4428149369| 166303494|\n",
            "|           Barbados|North America|        30997520|    287708|\n",
            "|            Belarus|       Europe|        61088382|   9442867|\n",
            "|            Belgium|       Europe|      2027123378|  11632334|\n",
            "|             Belize|North America|        11039270|    404915|\n",
            "+-------------------+-------------+----------------+----------+\n",
            "only showing top 20 rows\n",
            "\n"
          ]
        }
      ],
      "source": [
        "vaccine_data = vaccine_data.fillna(value=0)\n",
        "vaccine_data.show()"
      ]
    },
    {
      "cell_type": "markdown",
      "metadata": {
        "id": "QHUquqRknlo9"
      },
      "source": [
        "Checking the DataFrame shape"
      ]
    },
    {
      "cell_type": "code",
      "execution_count": 19,
      "metadata": {
        "colab": {
          "base_uri": "https://localhost:8080/"
        },
        "id": "SwB_vWnRKz0B",
        "outputId": "1f0a0e7d-a1e9-450a-9538-ac43df1b5fd3"
      },
      "outputs": [
        {
          "output_type": "stream",
          "name": "stdout",
          "text": [
            "(225, 4)\n"
          ]
        }
      ],
      "source": [
        "print((vaccine_data.count(), len(vaccine_data.columns)))"
      ]
    },
    {
      "cell_type": "markdown",
      "metadata": {
        "id": "2My4ZseJnrPt"
      },
      "source": [
        "Storing the pre-processed data into the data warehouse."
      ]
    },
    {
      "cell_type": "code",
      "execution_count": 20,
      "metadata": {
        "id": "oZjQGvYUcaVJ"
      },
      "outputs": [],
      "source": [
        "vaccine_data.coalesce(1).write.format(\"com.databricks.spark.csv\").option(\"header\", \"true\").save(\"vaccine_data.csv\")"
      ]
    },
    {
      "cell_type": "markdown",
      "metadata": {
        "id": "-DoZHqzu6BdG"
      },
      "source": [
        "# Covid Data"
      ]
    },
    {
      "cell_type": "markdown",
      "metadata": {
        "id": "mY-K_PHmn7Hs"
      },
      "source": [
        "Load the csv file of covid data in **PySpark**"
      ]
    },
    {
      "cell_type": "code",
      "execution_count": 21,
      "metadata": {
        "colab": {
          "base_uri": "https://localhost:8080/"
        },
        "id": "tstfyR2m6her",
        "outputId": "a75a8861-2a95-41a5-972b-35e30cf2e328"
      },
      "outputs": [
        {
          "output_type": "stream",
          "name": "stdout",
          "text": [
            "+-------------+-----------+--------+-----------+---------+--------------+------------+-----------+----------------+---------------+-------------+-----------+------------+-------------+\n",
            "|Country,Other| TotalCases|NewCases|TotalDeaths|NewDeaths|TotalRecovered|NewRecovered|ActiveCases|Serious,Critical|TotCases/1M pop|Deaths/1M pop| TotalTests|Tests/1M pop|   Population|\n",
            "+-------------+-----------+--------+-----------+---------+--------------+------------+-----------+----------------+---------------+-------------+-----------+------------+-------------+\n",
            "|        World|300,977,578|+274,137|  5,491,606|   +1,764|   257,660,959|    +132,035| 37,825,013|          92,889|         38,613|        704.5|       null|        null|         null|\n",
            "|          USA| 59,564,116|    null|    855,843|     null|    42,089,198|        null| 16,619,075|          21,467|        178,368|        2,563|829,437,395|   2,483,791|  333,940,077|\n",
            "|        India| 35,226,386|    null|    483,178|     null|    34,371,845|        null|    371,363|           8,944|         25,152|          345|686,819,128|     490,399|1,400,531,874|\n",
            "|       Brazil| 22,395,322|    null|    619,730|     null|    21,567,845|        null|    207,747|           8,318|        104,239|        2,885| 63,776,166|     296,846|  214,845,887|\n",
            "+-------------+-----------+--------+-----------+---------+--------------+------------+-----------+----------------+---------------+-------------+-----------+------------+-------------+\n",
            "only showing top 4 rows\n",
            "\n"
          ]
        }
      ],
      "source": [
        "spark = SparkSession.builder.appName('CSV reader').getOrCreate()\n",
        "\n",
        "#extract\n",
        "df = '/content/Covid_data.csv'\n",
        "covid_dfData = spark.read.csv(df, header=True, sep=\",\").cache()\n",
        "\n",
        "covid_dfData.show(4)"
      ]
    },
    {
      "cell_type": "markdown",
      "metadata": {
        "id": "orBTOJMpo-q_"
      },
      "source": [
        "Lets change the Column name from \"Country,other\" to \"Country\""
      ]
    },
    {
      "cell_type": "code",
      "execution_count": 22,
      "metadata": {
        "colab": {
          "base_uri": "https://localhost:8080/"
        },
        "id": "jpu-xjvGpIBt",
        "outputId": "10732046-bbd9-466c-e241-f29a13c81787"
      },
      "outputs": [
        {
          "output_type": "stream",
          "name": "stdout",
          "text": [
            "+-------+-----------+--------+-----------+---------+--------------+------------+-----------+----------------+---------------+-------------+-----------+------------+-------------+\n",
            "|Country| TotalCases|NewCases|TotalDeaths|NewDeaths|TotalRecovered|NewRecovered|ActiveCases|Critical_patient|TotCases/1M pop|Deaths/1M pop| TotalTests|Tests/1M pop|   Population|\n",
            "+-------+-----------+--------+-----------+---------+--------------+------------+-----------+----------------+---------------+-------------+-----------+------------+-------------+\n",
            "|  World|300,977,578|+274,137|  5,491,606|   +1,764|   257,660,959|    +132,035| 37,825,013|          92,889|         38,613|        704.5|       null|        null|         null|\n",
            "|    USA| 59,564,116|    null|    855,843|     null|    42,089,198|        null| 16,619,075|          21,467|        178,368|        2,563|829,437,395|   2,483,791|  333,940,077|\n",
            "|  India| 35,226,386|    null|    483,178|     null|    34,371,845|        null|    371,363|           8,944|         25,152|          345|686,819,128|     490,399|1,400,531,874|\n",
            "| Brazil| 22,395,322|    null|    619,730|     null|    21,567,845|        null|    207,747|           8,318|        104,239|        2,885| 63,776,166|     296,846|  214,845,887|\n",
            "+-------+-----------+--------+-----------+---------+--------------+------------+-----------+----------------+---------------+-------------+-----------+------------+-------------+\n",
            "only showing top 4 rows\n",
            "\n"
          ]
        }
      ],
      "source": [
        "covid_dfData = covid_dfData.withColumnRenamed(\"Country,Other\", \"Country\")\n",
        "covid_dfData = covid_dfData.withColumnRenamed(\"Serious,Critical\", \"Critical_patient\")\n",
        "covid_dfData.show(4)"
      ]
    },
    {
      "cell_type": "markdown",
      "metadata": {
        "id": "cSLyYaYuoHP2"
      },
      "source": [
        "Separate the columns named \"Country\", \"TotalCases\", \"NewCases\", \"NewDeaths\", \"TotalDeaths\", \"TotalRecovered\" from the data frame. And convert them from string data type into integer data type, excxept the column named \"Country\"."
      ]
    },
    {
      "cell_type": "code",
      "execution_count": 23,
      "metadata": {
        "id": "-oiW3IIVE6YS"
      },
      "outputs": [],
      "source": [
        "covid_selected_data = covid_dfData[\"Country\", \"TotalCases\", \"NewCases\", \"NewDeaths\", \"Critical_patient\", \"TotalDeaths\", \"TotalRecovered\"]"
      ]
    },
    {
      "cell_type": "code",
      "execution_count": 24,
      "metadata": {
        "id": "G-n0mVcxDCPj"
      },
      "outputs": [],
      "source": [
        "data = [\"TotalCases\", \"NewCases\", \"NewDeaths\", \"Critical_patient\", \"TotalDeaths\", \"TotalRecovered\"]\n",
        "\n",
        "for i in data:\n",
        "    covid_selected_data = covid_selected_data.withColumn(i, regexp_replace(i, ',', ''))\n",
        "    covid_selected_data = covid_selected_data.withColumn(i, covid_selected_data[i].cast(IntegerType()))"
      ]
    },
    {
      "cell_type": "code",
      "execution_count": 25,
      "metadata": {
        "colab": {
          "base_uri": "https://localhost:8080/"
        },
        "id": "y-TbH19QTLJn",
        "outputId": "a8ba0734-42b4-4bd6-f089-ae19ad938416"
      },
      "outputs": [
        {
          "output_type": "stream",
          "name": "stdout",
          "text": [
            "root\n",
            " |-- Country: string (nullable = true)\n",
            " |-- TotalCases: integer (nullable = true)\n",
            " |-- NewCases: integer (nullable = true)\n",
            " |-- NewDeaths: integer (nullable = true)\n",
            " |-- Critical_patient: integer (nullable = true)\n",
            " |-- TotalDeaths: integer (nullable = true)\n",
            " |-- TotalRecovered: integer (nullable = true)\n",
            "\n"
          ]
        }
      ],
      "source": [
        "covid_selected_data.printSchema()"
      ]
    },
    {
      "cell_type": "code",
      "execution_count": 26,
      "metadata": {
        "colab": {
          "base_uri": "https://localhost:8080/"
        },
        "id": "-nj0qhU5FKPw",
        "outputId": "c4d156a9-c232-4b40-ab00-5edd57067e25"
      },
      "outputs": [
        {
          "output_type": "stream",
          "name": "stdout",
          "text": [
            "+------------+----------+--------+---------+----------------+-----------+--------------+\n",
            "|     Country|TotalCases|NewCases|NewDeaths|Critical_patient|TotalDeaths|TotalRecovered|\n",
            "+------------+----------+--------+---------+----------------+-----------+--------------+\n",
            "|       World| 300977578|  274137|     1764|           92889|    5491606|     257660959|\n",
            "|         USA|  59564116|    null|     null|           21467|     855843|      42089198|\n",
            "|       India|  35226386|    null|     null|            8944|     483178|      34371845|\n",
            "|      Brazil|  22395322|    null|     null|            8318|     619730|      21567845|\n",
            "|          UK|  14015065|    null|     null|             875|     149515|      10620728|\n",
            "|      France|  11183238|    null|     null|            3333|     125013|       8393827|\n",
            "|      Russia|  10618035|   16735|      787|            2300|     314604|       9645712|\n",
            "|      Turkey|   9787274|    null|     null|            1128|      83231|       9217669|\n",
            "|     Germany|   7399003|    null|     null|            4636|     114207|       6664800|\n",
            "|       Italy|   6975465|    null|     null|            1467|     138474|       5243412|\n",
            "|       Spain|   6922466|    null|     null|            2005|      89837|       5124221|\n",
            "|        Iran|   6203046|    null|     null|            2209|     131802|       6047528|\n",
            "|   Argentina|   6025303|    null|     null|            1572|     117386|       5427191|\n",
            "|    Colombia|   5242672|    null|     null|             342|     130191|       5006108|\n",
            "|   Indonesia|   4265187|     518|        5|            null|     144121|       4115572|\n",
            "|      Poland|   4191193|   11902|      117|            1858|      99428|       3697523|\n",
            "|      Mexico|   4055095|   25821|      128|            4798|     299933|       3325558|\n",
            "|     Ukraine|   3696468|    7177|      192|             177|      97088|       3506509|\n",
            "|South Africa|   3504554|    null|     null|             546|      92112|       3260642|\n",
            "| Netherlands|   3247900|    null|     null|             436|      21041|       2769789|\n",
            "+------------+----------+--------+---------+----------------+-----------+--------------+\n",
            "only showing top 20 rows\n",
            "\n"
          ]
        }
      ],
      "source": [
        "covid_selected_data.show()"
      ]
    },
    {
      "cell_type": "markdown",
      "metadata": {
        "id": "HacUYU8-ptV9"
      },
      "source": [
        "Fill the null value with zero(0)."
      ]
    },
    {
      "cell_type": "code",
      "execution_count": 27,
      "metadata": {
        "colab": {
          "base_uri": "https://localhost:8080/"
        },
        "id": "rmR_p8X4FPD5",
        "outputId": "501101c2-6e27-4750-a993-560c7b95193b"
      },
      "outputs": [
        {
          "output_type": "stream",
          "name": "stdout",
          "text": [
            "+-------+----------+--------+---------+----------------+-----------+--------------+\n",
            "|Country|TotalCases|NewCases|NewDeaths|Critical_patient|TotalDeaths|TotalRecovered|\n",
            "+-------+----------+--------+---------+----------------+-----------+--------------+\n",
            "|  World| 300977578|  274137|     1764|           92889|    5491606|     257660959|\n",
            "|    USA|  59564116|       0|        0|           21467|     855843|      42089198|\n",
            "|  India|  35226386|       0|        0|            8944|     483178|      34371845|\n",
            "| Brazil|  22395322|       0|        0|            8318|     619730|      21567845|\n",
            "|     UK|  14015065|       0|        0|             875|     149515|      10620728|\n",
            "| France|  11183238|       0|        0|            3333|     125013|       8393827|\n",
            "| Russia|  10618035|   16735|      787|            2300|     314604|       9645712|\n",
            "| Turkey|   9787274|       0|        0|            1128|      83231|       9217669|\n",
            "|Germany|   7399003|       0|        0|            4636|     114207|       6664800|\n",
            "|  Italy|   6975465|       0|        0|            1467|     138474|       5243412|\n",
            "+-------+----------+--------+---------+----------------+-----------+--------------+\n",
            "only showing top 10 rows\n",
            "\n"
          ]
        }
      ],
      "source": [
        "covid_selected_data = covid_selected_data.fillna(value=0)\n",
        "covid_selected_data.show(10)"
      ]
    },
    {
      "cell_type": "markdown",
      "metadata": {
        "id": "gAZkrgAbrEj8"
      },
      "source": [
        "Storing the pre-processed data into the data warehouse."
      ]
    },
    {
      "cell_type": "code",
      "execution_count": 28,
      "metadata": {
        "id": "ftnStQvaq7pT"
      },
      "outputs": [],
      "source": [
        "covid_selected_data.coalesce(1).write.format(\"com.databricks.spark.csv\").option(\"header\", \"true\").save(\"covid_data.csv\")"
      ]
    },
    {
      "cell_type": "markdown",
      "metadata": {
        "id": "KhWC5cCvqv2E"
      },
      "source": [
        "# Now concatening these two datasets what we have pre-processed above. And process them."
      ]
    },
    {
      "cell_type": "code",
      "execution_count": 29,
      "metadata": {
        "colab": {
          "base_uri": "https://localhost:8080/"
        },
        "id": "IrvE6DjLNxj5",
        "outputId": "0a96a9b2-5070-4b44-9479-ba6f7b3ea701"
      },
      "outputs": [
        {
          "output_type": "stream",
          "name": "stdout",
          "text": [
            "+-------------------+----------+--------+---------+----------------+-----------+--------------+-------------+----------------+----------+\n",
            "|            Country|TotalCases|NewCases|NewDeaths|Critical_patient|TotalDeaths|TotalRecovered|    continent|Total_vaccinated|population|\n",
            "+-------------------+----------+--------+---------+----------------+-----------+--------------+-------------+----------------+----------+\n",
            "|        Afghanistan|    158290|      11|        0|            1124|       7368|        145764|         Asia|        19368570|  39835428|\n",
            "|            Albania|    214941|       0|        0|              23|       3233|        202386|       Europe|       125081646|   2872934|\n",
            "|            Algeria|    220825|       0|        0|              34|       6318|        151604|       Africa|       106450533|  44616626|\n",
            "|            Andorra|     25289|       0|        0|              31|        141|         21511|       Europe|          909138|     77354|\n",
            "|             Angola|     87625|       0|        0|               7|       1799|         70266|       Africa|       120976841|  33933611|\n",
            "|           Anguilla|      1777|       0|        0|               0|          6|          1702|North America|          271433|     15125|\n",
            "|Antigua and Barbuda|      4715|       0|        0|               1|        119|          4097|North America|         3340114|     98728|\n",
            "|          Argentina|   6025303|       0|        0|            1572|     117386|       5427191|South America|      6099070777|  45605823|\n",
            "|            Armenia|    345518|     129|        4|               0|       7997|        332588|         Asia|        11360818|   2968128|\n",
            "|              Aruba|     25254|       0|        0|               6|        181|         20802|North America|        15512497|    107195|\n",
            "|          Australia|    762500|   78273|       20|             269|       2321|        351637|      Oceania|      3147217956|  25788217|\n",
            "|            Austria|   1321725|    8786|        7|             278|      13830|       1250567|       Europe|      1425423963|   9043072|\n",
            "|         Azerbaijan|    619502|       0|        0|               0|       8422|        603906|         Asia|       781679873|  10223344|\n",
            "|            Bahamas|     26701|       0|        0|               4|        717|         21964|North America|         2816239|    396914|\n",
            "|            Bahrain|    287939|       0|        0|               2|       1395|        278737|         Asia|       316074364|   1748295|\n",
            "|         Bangladesh|   1589947|       0|        0|            1349|      28097|       1550364|         Asia|      4428149369| 166303494|\n",
            "|           Barbados|     30597|       0|        0|               0|        264|         28146|North America|        30997520|    287708|\n",
            "|            Belarus|    704907|       0|        0|               0|       5669|        697953|       Europe|        61088382|   9442867|\n",
            "|            Belgium|   2206992|   27282|       17|             471|      28446|       1840477|       Europe|      2027123378|  11632334|\n",
            "|             Belize|     35206|       0|        0|               4|        605|         30856|North America|        11039270|    404915|\n",
            "+-------------------+----------+--------+---------+----------------+-----------+--------------+-------------+----------------+----------+\n",
            "only showing top 20 rows\n",
            "\n"
          ]
        }
      ],
      "source": [
        "final_df = covid_selected_data.join(vaccine_data, [\"Country\"], how=\"outer\")\n",
        "final_df.show()"
      ]
    },
    {
      "cell_type": "markdown",
      "metadata": {
        "id": "L0wOvVZOvBOm"
      },
      "source": [
        "Checking the final dataframe's size"
      ]
    },
    {
      "cell_type": "code",
      "execution_count": 30,
      "metadata": {
        "colab": {
          "base_uri": "https://localhost:8080/"
        },
        "id": "MNSe3zFoNxm0",
        "outputId": "c640d8c4-a6cd-4dad-e983-0d976c85bd57"
      },
      "outputs": [
        {
          "output_type": "stream",
          "name": "stdout",
          "text": [
            "(254, 10)\n"
          ]
        }
      ],
      "source": [
        "print((final_df.count(), len(final_df.columns)))"
      ]
    },
    {
      "cell_type": "markdown",
      "metadata": {
        "id": "uzGqGxxavWLz"
      },
      "source": [
        "Dropping all NA values from the column named \"Population\", so that we can get all country data except other data."
      ]
    },
    {
      "cell_type": "code",
      "execution_count": 31,
      "metadata": {
        "colab": {
          "base_uri": "https://localhost:8080/"
        },
        "id": "mQzrmVDGPkrI",
        "outputId": "dea79185-3dcd-4b33-c957-cdcabd327052"
      },
      "outputs": [
        {
          "output_type": "stream",
          "name": "stdout",
          "text": [
            "+-------------------+----------+--------+---------+----------------+-----------+--------------+-------------+----------------+----------+\n",
            "|            Country|TotalCases|NewCases|NewDeaths|Critical_patient|TotalDeaths|TotalRecovered|    continent|Total_vaccinated|population|\n",
            "+-------------------+----------+--------+---------+----------------+-----------+--------------+-------------+----------------+----------+\n",
            "|        Afghanistan|    158290|      11|        0|            1124|       7368|        145764|         Asia|        19368570|  39835428|\n",
            "|            Albania|    214941|       0|        0|              23|       3233|        202386|       Europe|       125081646|   2872934|\n",
            "|            Algeria|    220825|       0|        0|              34|       6318|        151604|       Africa|       106450533|  44616626|\n",
            "|            Andorra|     25289|       0|        0|              31|        141|         21511|       Europe|          909138|     77354|\n",
            "|             Angola|     87625|       0|        0|               7|       1799|         70266|       Africa|       120976841|  33933611|\n",
            "|           Anguilla|      1777|       0|        0|               0|          6|          1702|North America|          271433|     15125|\n",
            "|Antigua and Barbuda|      4715|       0|        0|               1|        119|          4097|North America|         3340114|     98728|\n",
            "|          Argentina|   6025303|       0|        0|            1572|     117386|       5427191|South America|      6099070777|  45605823|\n",
            "|            Armenia|    345518|     129|        4|               0|       7997|        332588|         Asia|        11360818|   2968128|\n",
            "|              Aruba|     25254|       0|        0|               6|        181|         20802|North America|        15512497|    107195|\n",
            "|          Australia|    762500|   78273|       20|             269|       2321|        351637|      Oceania|      3147217956|  25788217|\n",
            "|            Austria|   1321725|    8786|        7|             278|      13830|       1250567|       Europe|      1425423963|   9043072|\n",
            "|         Azerbaijan|    619502|       0|        0|               0|       8422|        603906|         Asia|       781679873|  10223344|\n",
            "|            Bahamas|     26701|       0|        0|               4|        717|         21964|North America|         2816239|    396914|\n",
            "|            Bahrain|    287939|       0|        0|               2|       1395|        278737|         Asia|       316074364|   1748295|\n",
            "|         Bangladesh|   1589947|       0|        0|            1349|      28097|       1550364|         Asia|      4428149369| 166303494|\n",
            "|           Barbados|     30597|       0|        0|               0|        264|         28146|North America|        30997520|    287708|\n",
            "|            Belarus|    704907|       0|        0|               0|       5669|        697953|       Europe|        61088382|   9442867|\n",
            "|            Belgium|   2206992|   27282|       17|             471|      28446|       1840477|       Europe|      2027123378|  11632334|\n",
            "|             Belize|     35206|       0|        0|               4|        605|         30856|North America|        11039270|    404915|\n",
            "+-------------------+----------+--------+---------+----------------+-----------+--------------+-------------+----------------+----------+\n",
            "only showing top 20 rows\n",
            "\n"
          ]
        }
      ],
      "source": [
        "final_df = final_df.na.drop(subset=[\"population\"])\n",
        "final_df.show()"
      ]
    },
    {
      "cell_type": "markdown",
      "metadata": {
        "id": "5b5tSIvvvqlR"
      },
      "source": [
        "Now checking again the dataframe's size"
      ]
    },
    {
      "cell_type": "code",
      "execution_count": 32,
      "metadata": {
        "colab": {
          "base_uri": "https://localhost:8080/"
        },
        "id": "NtnUJ5sxPktn",
        "outputId": "44cb7548-620e-4b6e-9800-840cc627cd90"
      },
      "outputs": [
        {
          "output_type": "stream",
          "name": "stdout",
          "text": [
            "(225, 10)\n"
          ]
        }
      ],
      "source": [
        "print((final_df.count(), len(final_df.columns)))"
      ]
    },
    {
      "cell_type": "markdown",
      "metadata": {
        "id": "zmvCFio3xP05"
      },
      "source": [
        "The following code is to get the list data of any particular column. Here we tried to get the distinct data of continent column."
      ]
    },
    {
      "cell_type": "code",
      "execution_count": 33,
      "metadata": {
        "colab": {
          "base_uri": "https://localhost:8080/"
        },
        "id": "81ZQKa-bOW5o",
        "outputId": "01a2135f-fe51-46f6-d81c-af921861e7e9"
      },
      "outputs": [
        {
          "output_type": "stream",
          "name": "stdout",
          "text": [
            "Total number of continent:  6\n",
            "['Europe', 'Africa', 'North America', 'South America', 'Oceania', 'Asia']\n"
          ]
        }
      ],
      "source": [
        "continent = final_df.select(\"continent\").distinct().rdd.flatMap(list).collect()\n",
        "print(\"Total number of continent: \",len(continent))\n",
        "print(continent)"
      ]
    },
    {
      "cell_type": "markdown",
      "metadata": {
        "id": "qnY2Smcyc-wU"
      },
      "source": [
        "Getting the distinct data of country column."
      ]
    },
    {
      "cell_type": "code",
      "execution_count": 34,
      "metadata": {
        "colab": {
          "base_uri": "https://localhost:8080/"
        },
        "id": "_pnDVsEDUnbm",
        "outputId": "8abf795f-23df-4624-84a6-51c312e8e853"
      },
      "outputs": [
        {
          "output_type": "stream",
          "name": "stdout",
          "text": [
            "Total number of country:  225\n",
            "['Chad', 'Anguilla', 'Paraguay', 'Russia', 'Macao', 'Yemen', 'Senegal', 'Sweden', 'Tokelau', 'Kiribati', 'Guyana', 'Eritrea', 'Jersey', 'Philippines', 'Djibouti', 'Tonga', 'Malaysia', 'Singapore', 'Fiji', 'Turkey', 'Malawi', 'Iraq', 'Sint Maarten (Dutch part)', 'Germany', 'Comoros', 'Afghanistan', 'Cambodia', 'Jordan', 'Maldives', 'Rwanda', 'Saint Helena', 'Sudan', 'Palau', 'France', 'Turks and Caicos Islands', 'Greece', 'Kosovo', 'Sri Lanka', 'Montserrat', 'British Virgin Islands', 'Dominica', 'Taiwan', 'Algeria', 'Equatorial Guinea', 'Togo', 'Slovakia', 'Argentina', 'Angola', 'Belgium', 'Vatican', 'San Marino', 'Ecuador', 'Qatar', 'Bonaire Sint Eustatius and Saba', 'Lesotho', 'Albania', 'Madagascar', 'Finland', 'New Caledonia', 'Ghana', 'Myanmar', 'Nicaragua', 'Guernsey', 'Benin', 'Peru', 'Sierra Leone', 'Bahamas', 'China', 'Curacao', 'India', 'United States', 'Belarus', 'Kuwait', 'Malta', 'Sao Tome and Principe', 'Marshall Islands', 'Somalia', 'Tuvalu', 'Chile', 'Tajikistan', 'Cayman Islands', 'Isle of Man', 'Northern Cyprus', 'Croatia', 'Burundi', 'Andorra', 'Bolivia', 'Nigeria', 'Gabon', 'Italy', 'Suriname', 'Lithuania', 'Norway', 'Turkmenistan', 'Saint Pierre and Miquelon', 'Spain', 'Cuba', 'Mauritania', 'Czechia', 'Central African Republic', 'Denmark', 'Niger', 'Bangladesh', 'Barbados', 'Iran', 'Ireland', 'Pitcairn', 'Congo', 'Liechtenstein', 'Laos', 'Thailand', 'Bhutan', 'Monaco', 'Morocco', 'Cape Verde', 'Panama', 'Hong Kong', 'Nauru', 'Ukraine', 'Venezuela', 'Iceland', 'Israel', 'Saint Kitts and Nevis', 'Faeroe Islands', 'French Polynesia', 'Oman', 'South Korea', 'Cyprus', 'Gibraltar', 'Palestine', 'Uruguay', \"Cote d'Ivoire\", 'Mexico', 'Aruba', 'Estonia', 'Georgia', 'Montenegro', 'Zimbabwe', 'Indonesia', 'Saint Vincent and the Grenadines', 'Guatemala', 'Mongolia', 'Azerbaijan', 'Libya', 'Grenada', 'Armenia', 'Liberia', 'Tunisia', 'Honduras', 'Syria', 'Trinidad and Tobago', 'Saudi Arabia', 'Uganda', 'Wallis and Futuna', 'Namibia', 'Switzerland', 'Zambia', 'Ethiopia', 'Eswatini', 'Jamaica', 'Latvia', 'Brunei', 'South Sudan', 'United Arab Emirates', 'Saint Lucia', 'Guinea', 'Canada', 'Timor', 'Seychelles', 'Kyrgyzstan', 'North Macedonia', 'Samoa', 'Uzbekistan', 'Mozambique', 'Cook Islands', 'Belize', 'Brazil', 'Gambia', 'Kenya', 'Lebanon', 'Antigua and Barbuda', 'Slovenia', 'Dominican Republic', 'Botswana', 'Japan', 'Tanzania', 'Falkland Islands', 'Luxembourg', 'New Zealand', 'Bosnia and Herzegovina', 'Greenland', 'Haiti', 'Poland', 'Micronesia (country)', 'Portugal', 'Australia', 'Cameroon', 'Papua New Guinea', 'Guinea-Bissau', 'Romania', 'Bulgaria', 'Solomon Islands', 'Austria', 'Nepal', 'Costa Rica', 'Egypt', 'El Salvador', 'Kazakhstan', 'Serbia', 'Burkina Faso', 'South Africa', 'Bermuda', 'Bahrain', 'Colombia', 'Hungary', 'Democratic Republic of Congo', 'Pakistan', 'Vanuatu', 'Niue', 'Mauritius', 'Moldova', 'United Kingdom', 'Vietnam', 'Mali', 'Netherlands']\n"
          ]
        }
      ],
      "source": [
        "country = final_df.select(\"country\").distinct().rdd.flatMap(list).collect()\n",
        "print(\"Total number of country: \",len(country))\n",
        "print(country)"
      ]
    },
    {
      "cell_type": "markdown",
      "metadata": {
        "id": "3Vk1uuaQdGyM"
      },
      "source": [
        "Save the data to the data warehouse"
      ]
    },
    {
      "cell_type": "code",
      "execution_count": 35,
      "metadata": {
        "id": "tdVacrpkyNLO"
      },
      "outputs": [],
      "source": [
        "final_df.coalesce(1).write.format(\"com.databricks.spark.csv\").option(\"header\", \"true\").save(\"final_df_data.csv\")"
      ]
    },
    {
      "cell_type": "markdown",
      "metadata": {
        "id": "WGDn7uVOVHg2"
      },
      "source": [
        "# Visualising the Data"
      ]
    },
    {
      "cell_type": "markdown",
      "metadata": {
        "id": "aiajYzBWdMg1"
      },
      "source": [
        "Import libraries"
      ]
    },
    {
      "cell_type": "code",
      "execution_count": 36,
      "metadata": {
        "id": "As_xq75UyNOo"
      },
      "outputs": [],
      "source": [
        "%matplotlib inline\n",
        "import matplotlib.pyplot as plt"
      ]
    },
    {
      "cell_type": "markdown",
      "metadata": {
        "id": "BQW64IWodO_j"
      },
      "source": [
        "Load the final dataset from data warehouse"
      ]
    },
    {
      "cell_type": "code",
      "execution_count": 37,
      "metadata": {
        "colab": {
          "base_uri": "https://localhost:8080/"
        },
        "id": "dE7dP63UX7SW",
        "outputId": "68746f20-5683-46d4-be0d-0885220f7ddb"
      },
      "outputs": [
        {
          "output_type": "stream",
          "name": "stdout",
          "text": [
            "+--------------------+----------+--------+---------+----------------+-----------+--------------+-------------+----------------+----------+\n",
            "|             Country|TotalCases|NewCases|NewDeaths|Critical_patient|TotalDeaths|TotalRecovered|    continent|Total_vaccinated|population|\n",
            "+--------------------+----------+--------+---------+----------------+-----------+--------------+-------------+----------------+----------+\n",
            "|         Afghanistan|    158290|      11|        0|            1124|       7368|        145764|         Asia|        19368570|  39835428|\n",
            "|             Albania|    214941|       0|        0|              23|       3233|        202386|       Europe|       125081646|   2872934|\n",
            "|             Algeria|    220825|       0|        0|              34|       6318|        151604|       Africa|       106450533|  44616626|\n",
            "|             Andorra|     25289|       0|        0|              31|        141|         21511|       Europe|          909138|     77354|\n",
            "|              Angola|     87625|       0|        0|               7|       1799|         70266|       Africa|       120976841|  33933611|\n",
            "|            Anguilla|      1777|       0|        0|               0|          6|          1702|North America|          271433|     15125|\n",
            "| Antigua and Barbuda|      4715|       0|        0|               1|        119|          4097|North America|         3340114|     98728|\n",
            "|           Argentina|   6025303|       0|        0|            1572|     117386|       5427191|South America|      6099070777|  45605823|\n",
            "|             Armenia|    345518|     129|        4|               0|       7997|        332588|         Asia|        11360818|   2968128|\n",
            "|               Aruba|     25254|       0|        0|               6|        181|         20802|North America|        15512497|    107195|\n",
            "|           Australia|    762500|   78273|       20|             269|       2321|        351637|      Oceania|      3147217956|  25788217|\n",
            "|             Austria|   1321725|    8786|        7|             278|      13830|       1250567|       Europe|      1425423963|   9043072|\n",
            "|          Azerbaijan|    619502|       0|        0|               0|       8422|        603906|         Asia|       781679873|  10223344|\n",
            "|             Bahamas|     26701|       0|        0|               4|        717|         21964|North America|         2816239|    396914|\n",
            "|             Bahrain|    287939|       0|        0|               2|       1395|        278737|         Asia|       316074364|   1748295|\n",
            "|          Bangladesh|   1589947|       0|        0|            1349|      28097|       1550364|         Asia|      4428149369| 166303494|\n",
            "|            Barbados|     30597|       0|        0|               0|        264|         28146|North America|        30997520|    287708|\n",
            "|             Belarus|    704907|       0|        0|               0|       5669|        697953|       Europe|        61088382|   9442867|\n",
            "|             Belgium|   2206992|   27282|       17|             471|      28446|       1840477|       Europe|      2027123378|  11632334|\n",
            "|              Belize|     35206|       0|        0|               4|        605|         30856|North America|        11039270|    404915|\n",
            "|               Benin|     25522|       0|        0|               5|        161|         24823|       Africa|        10361794|  12451031|\n",
            "|             Bermuda|      7191|     255|        0|               0|        110|          5970|North America|         1341143|     62092|\n",
            "|              Bhutan|      2671|       0|        0|               0|          3|          2654|         Asia|        44847104|    779900|\n",
            "|             Bolivia|    652819|   11002|       40|             220|      19888|        540099|South America|       884607739|  11832936|\n",
            "|Bonaire Sint Eust...|      null|    null|     null|            null|       null|          null|North America|           24835|     26445|\n",
            "|Bosnia and Herzeg...|    297333|       0|        0|               0|      13568|        192218|       Europe|         8014055|   3263459|\n",
            "|            Botswana|    229855|       0|        0|               1|       2475|        216424|       Africa|        18742753|   2397240|\n",
            "|              Brazil|  22395322|       0|        0|            8318|     619730|      21567845|South America|     29665106873| 213993441|\n",
            "|British Virgin Is...|      4207|       0|        0|               8|         40|             0|North America|          397563|     30423|\n",
            "|              Brunei|     15532|       0|        0|               1|         98|         15331|         Asia|        31191420|    441532|\n",
            "|            Bulgaria|    770001|       0|        0|             509|      31375|        617448|       Europe|       116425499|   6896655|\n",
            "|        Burkina Faso|     18637|       0|        0|               0|        333|         17150|       Africa|         4606959|  21497097|\n",
            "|             Burundi|     33551|    1475|        0|               0|         38|           773|       Africa|           24203|  12255429|\n",
            "|            Cambodia|    120564|      11|        0|               0|       3015|        116991|         Asia|      2326356701|  16946446|\n",
            "|            Cameroon|    109367|       0|        0|              13|       1851|        106050|       Africa|        15551663|  27224262|\n",
            "|              Canada|   2437822|       0|        0|             455|      30584|       2030568|North America|      7136219204|  38067913|\n",
            "|          Cape Verde|      null|    null|     null|            null|       null|          null|       Africa|         6392698|    561901|\n",
            "|      Cayman Islands|     10186|     466|        0|              11|         12|          5237|North America|         3929989|     66498|\n",
            "|Central African R...|      null|    null|     null|            null|       null|          null|       Africa|         3897812|   4919987|\n",
            "|                Chad|      6183|       0|        0|               0|        184|          4874|       Africa|         3427817|  16914985|\n",
            "+--------------------+----------+--------+---------+----------------+-----------+--------------+-------------+----------------+----------+\n",
            "only showing top 40 rows\n",
            "\n"
          ]
        }
      ],
      "source": [
        "spark = SparkSession.builder.appName('CSV reader').getOrCreate()\n",
        "\n",
        "#extract\n",
        "df = '/content/final_df_data.csv'\n",
        "final_data = spark.read.csv(df, header=True, sep=\",\").cache()\n",
        "\n",
        "final_data.show(40)"
      ]
    },
    {
      "cell_type": "markdown",
      "metadata": {
        "id": "RGft2rlk-IoP"
      },
      "source": [
        "Checking if there are any inetger column in string format."
      ]
    },
    {
      "cell_type": "code",
      "execution_count": 38,
      "metadata": {
        "colab": {
          "base_uri": "https://localhost:8080/"
        },
        "id": "_3Rve4Cf-HYZ",
        "outputId": "4ab29270-3e05-41b3-ad72-17b1af021c13"
      },
      "outputs": [
        {
          "output_type": "stream",
          "name": "stdout",
          "text": [
            "root\n",
            " |-- Country: string (nullable = true)\n",
            " |-- TotalCases: string (nullable = true)\n",
            " |-- NewCases: string (nullable = true)\n",
            " |-- NewDeaths: string (nullable = true)\n",
            " |-- Critical_patient: string (nullable = true)\n",
            " |-- TotalDeaths: string (nullable = true)\n",
            " |-- TotalRecovered: string (nullable = true)\n",
            " |-- continent: string (nullable = true)\n",
            " |-- Total_vaccinated: string (nullable = true)\n",
            " |-- population: string (nullable = true)\n",
            "\n"
          ]
        }
      ],
      "source": [
        "final_data.printSchema()"
      ]
    },
    {
      "cell_type": "markdown",
      "metadata": {
        "id": "6t6SuQUf9yn1"
      },
      "source": [
        "Since there are some string columns yet. So first convert them into integer type, and then replace null value with 0."
      ]
    },
    {
      "cell_type": "code",
      "execution_count": 39,
      "metadata": {
        "id": "74rREkQO5Yat"
      },
      "outputs": [],
      "source": [
        "data = [\"TotalCases\", \"NewCases\", \"NewDeaths\", \"TotalDeaths\", \"Critical_patient\", \"TotalRecovered\", \"Total_vaccinated\", \"population\"]\n",
        "\n",
        "for i in data:\n",
        "    final_data = final_data.withColumn(i, final_data[i].cast(LongType()))"
      ]
    },
    {
      "cell_type": "code",
      "execution_count": 40,
      "metadata": {
        "colab": {
          "base_uri": "https://localhost:8080/"
        },
        "id": "QX63L0oJzO3o",
        "outputId": "fa7fba6c-ca73-4c59-ff82-3486dd69db63"
      },
      "outputs": [
        {
          "output_type": "stream",
          "name": "stdout",
          "text": [
            "root\n",
            " |-- Country: string (nullable = true)\n",
            " |-- TotalCases: long (nullable = true)\n",
            " |-- NewCases: long (nullable = true)\n",
            " |-- NewDeaths: long (nullable = true)\n",
            " |-- Critical_patient: long (nullable = true)\n",
            " |-- TotalDeaths: long (nullable = true)\n",
            " |-- TotalRecovered: long (nullable = true)\n",
            " |-- continent: string (nullable = true)\n",
            " |-- Total_vaccinated: long (nullable = true)\n",
            " |-- population: long (nullable = true)\n",
            "\n"
          ]
        }
      ],
      "source": [
        "final_data.printSchema()"
      ]
    },
    {
      "cell_type": "code",
      "execution_count": 41,
      "metadata": {
        "id": "WlChhHUb4iMA"
      },
      "outputs": [],
      "source": [
        "final_data = final_data.na.fill(value=0)"
      ]
    },
    {
      "cell_type": "markdown",
      "metadata": {
        "id": "Mpl8H77j-aEY"
      },
      "source": [
        "***Total Death analysis on different continent.***"
      ]
    },
    {
      "cell_type": "markdown",
      "metadata": {
        "id": "mCEt1_h9-tDK"
      },
      "source": [
        "Separate them from the data table."
      ]
    },
    {
      "cell_type": "code",
      "execution_count": 42,
      "metadata": {
        "colab": {
          "base_uri": "https://localhost:8080/"
        },
        "id": "TS5kU8W1yNSx",
        "outputId": "6fa9e150-51f3-47e5-cb9c-761d9320e977"
      },
      "outputs": [
        {
          "output_type": "stream",
          "name": "stdout",
          "text": [
            "+-------------+-----------+----------------+--------------+\n",
            "|    continent|TotalDeaths|Total_vaccinated|TotalRecovered|\n",
            "+-------------+-----------+----------------+--------------+\n",
            "|       Europe|    1396924|     88475395831|      66406731|\n",
            "|       Africa|     228065|      8536119870|       8659320|\n",
            "|North America|     397396|     82466398616|       8936108|\n",
            "|South America|    1193483|     49809026700|      36094858|\n",
            "|      Oceania|       4592|      3746082812|        464910|\n",
            "|         Asia|    1252069|    230977985693|      80990766|\n",
            "+-------------+-----------+----------------+--------------+\n",
            "\n"
          ]
        }
      ],
      "source": [
        "final_data.registerTempTable(\"final_data\")\n",
        "c = spark.sql(\"SELECT continent, SUM(TotalDeaths) as TotalDeaths, \\\n",
        "              SUM(Total_vaccinated) as Total_vaccinated, \\\n",
        "              SUM(TotalRecovered) as TotalRecovered \\\n",
        "              FROM final_data \\\n",
        "              GROUP BY continent\")\n",
        "c.show()"
      ]
    },
    {
      "cell_type": "markdown",
      "metadata": {
        "id": "xfnvEWZq-xgX"
      },
      "source": [
        "Storing the data into the variables, so that later we can plot them."
      ]
    },
    {
      "cell_type": "code",
      "execution_count": 43,
      "metadata": {
        "id": "XvoDT2o07IJ8"
      },
      "outputs": [],
      "source": [
        "total_death = c.select(\"TotalDeaths\").rdd.flatMap(list).collect()\n",
        "continent = c.select(\"continent\").rdd.flatMap(list).collect()\n",
        "total_vaccinations = c.select(\"Total_vaccinated\").rdd.flatMap(list).collect()\n",
        "TotalRecovered = c.select(\"TotalRecovered\").rdd.flatMap(list).collect()"
      ]
    },
    {
      "cell_type": "markdown",
      "metadata": {
        "id": "DRvkaiVj-5jT"
      },
      "source": [
        "Visualizing the death rate on every region by Pie Chart."
      ]
    },
    {
      "cell_type": "code",
      "execution_count": 44,
      "metadata": {
        "colab": {
          "base_uri": "https://localhost:8080/",
          "height": 591
        },
        "id": "DZ-m5X9bWTYZ",
        "outputId": "ae586fed-d620-4adc-eb9e-fc46c629db9b"
      },
      "outputs": [
        {
          "output_type": "display_data",
          "data": {
            "image/png": "[encoded data removed]",
            "text/plain": [
              "<Figure size 864x720 with 1 Axes>"
            ]
          },
          "metadata": {}
        }
      ],
      "source": [
        "fig = plt.figure(figsize=(12, 10))\n",
        "plt.pie(total_death, autopct='%1.1f%%', startangle=140, radius=1, labels=continent)\n",
        "plt.title(\"The number of Total Death in percentage according to the continent\")\n",
        "plt.legend()\n",
        "plt.show()"
      ]
    },
    {
      "cell_type": "markdown",
      "metadata": {
        "id": "crTRb_rC18DJ"
      },
      "source": [
        "Visualizing the vaccination rate on every region in Bar plot."
      ]
    },
    {
      "cell_type": "code",
      "execution_count": 45,
      "metadata": {
        "colab": {
          "base_uri": "https://localhost:8080/",
          "height": 404
        },
        "id": "FVnxxTQDWTdS",
        "outputId": "2e7a9adb-5896-4c57-c92a-f31fe2724487"
      },
      "outputs": [
        {
          "output_type": "display_data",
          "data": {
            "image/png": "[encoded data removed]",
            "text/plain": [
              "<Figure size 864x432 with 1 Axes>"
            ]
          },
          "metadata": {
            "needs_background": "light"
          }
        }
      ],
      "source": [
        "fig = plt.figure(figsize=(12, 6))\n",
        "\n",
        "plt.bar(continent,total_vaccinations)\n",
        "plt.xlabel(\"Continent\")\n",
        "plt.ylabel(\"Total Vaccination\")\n",
        "plt.title(\"The number of Total vaccination vs continent\")\n",
        "plt.show()"
      ]
    },
    {
      "cell_type": "markdown",
      "metadata": {
        "id": "htjBwmygCsye"
      },
      "source": [
        "A graphical presentation of the Covid-19 scenario on every region."
      ]
    },
    {
      "cell_type": "code",
      "execution_count": 46,
      "metadata": {
        "colab": {
          "base_uri": "https://localhost:8080/",
          "height": 513
        },
        "id": "wUr9HL6RA-5N",
        "outputId": "c6d9b867-7417-4832-ec8d-8b0d2ec71364"
      },
      "outputs": [
        {
          "output_type": "display_data",
          "data": {
            "image/png": "[encoded data removed]",
            "text/plain": [
              "<Figure size 720x576 with 1 Axes>"
            ]
          },
          "metadata": {
            "needs_background": "light"
          }
        }
      ],
      "source": [
        "fig = plt.figure(figsize=(10, 8))\n",
        "\n",
        "plt.plot(continent,total_vaccinations, \"y--\", label=\"Total Vaccination\")\n",
        "plt.plot(continent,total_death, \"r--\", label=\"Total Death\")\n",
        "plt.plot(continent,TotalRecovered, \"g--\", label=\"Total Recovered\")\n",
        "plt.xlabel(\"Continent\")\n",
        "plt.legend()\n",
        "plt.title(\"The graphical view of death, vaccination and recovery rate in every region\")\n",
        "plt.show()"
      ]
    },
    {
      "cell_type": "markdown",
      "source": [
        "**Machine Learning Model**"
      ],
      "metadata": {
        "id": "GLs-YP0bck0r"
      }
    },
    {
      "cell_type": "code",
      "source": [
        "import tensorflow as tf\n",
        "from keras import backend\n",
        "from keras.callbacks import EarlyStopping"
      ],
      "metadata": {
        "id": "k654bobFct6w"
      },
      "execution_count": 47,
      "outputs": []
    },
    {
      "cell_type": "code",
      "source": [
        "train_data = pd.read_csv(\"/content/final_df_data.csv/part-00000-5e060194-7044-4416-b879-6a70e161a5c5-c000.csv\")\n",
        "train_data.head()"
      ],
      "metadata": {
        "colab": {
          "base_uri": "https://localhost:8080/",
          "height": 206
        },
        "id": "pAzjB8qXc_Sm",
        "outputId": "445dce01-7233-4cfa-e61e-32f17cf854bc"
      },
      "execution_count": 49,
      "outputs": [
        {
          "output_type": "execute_result",
          "data": {
            "text/html": [
              "\n",
              "  <div id=\"df-eff0f4b0-9033-4ff0-946e-5f4befdda451\">\n",
              "    <div class=\"colab-df-container\">\n",
              "      <div>\n",
              "<style scoped>\n",
              "    .dataframe tbody tr th:only-of-type {\n",
              "        vertical-align: middle;\n",
              "    }\n",
              "\n",
              "    .dataframe tbody tr th {\n",
              "        vertical-align: top;\n",
              "    }\n",
              "\n",
              "    .dataframe thead th {\n",
              "        text-align: right;\n",
              "    }\n",
              "</style>\n",
              "<table border=\"1\" class=\"dataframe\">\n",
              "  <thead>\n",
              "    <tr style=\"text-align: right;\">\n",
              "      <th></th>\n",
              "      <th>Country</th>\n",
              "      <th>TotalCases</th>\n",
              "      <th>NewCases</th>\n",
              "      <th>NewDeaths</th>\n",
              "      <th>Critical_patient</th>\n",
              "      <th>TotalDeaths</th>\n",
              "      <th>TotalRecovered</th>\n",
              "      <th>continent</th>\n",
              "      <th>Total_vaccinated</th>\n",
              "      <th>population</th>\n",
              "    </tr>\n",
              "  </thead>\n",
              "  <tbody>\n",
              "    <tr>\n",
              "      <th>0</th>\n",
              "      <td>Afghanistan</td>\n",
              "      <td>158290.0</td>\n",
              "      <td>11.0</td>\n",
              "      <td>0.0</td>\n",
              "      <td>1124.0</td>\n",
              "      <td>7368.0</td>\n",
              "      <td>145764.0</td>\n",
              "      <td>Asia</td>\n",
              "      <td>19368570</td>\n",
              "      <td>39835428</td>\n",
              "    </tr>\n",
              "    <tr>\n",
              "      <th>1</th>\n",
              "      <td>Albania</td>\n",
              "      <td>214941.0</td>\n",
              "      <td>0.0</td>\n",
              "      <td>0.0</td>\n",
              "      <td>23.0</td>\n",
              "      <td>3233.0</td>\n",
              "      <td>202386.0</td>\n",
              "      <td>Europe</td>\n",
              "      <td>125081646</td>\n",
              "      <td>2872934</td>\n",
              "    </tr>\n",
              "    <tr>\n",
              "      <th>2</th>\n",
              "      <td>Algeria</td>\n",
              "      <td>220825.0</td>\n",
              "      <td>0.0</td>\n",
              "      <td>0.0</td>\n",
              "      <td>34.0</td>\n",
              "      <td>6318.0</td>\n",
              "      <td>151604.0</td>\n",
              "      <td>Africa</td>\n",
              "      <td>106450533</td>\n",
              "      <td>44616626</td>\n",
              "    </tr>\n",
              "    <tr>\n",
              "      <th>3</th>\n",
              "      <td>Andorra</td>\n",
              "      <td>25289.0</td>\n",
              "      <td>0.0</td>\n",
              "      <td>0.0</td>\n",
              "      <td>31.0</td>\n",
              "      <td>141.0</td>\n",
              "      <td>21511.0</td>\n",
              "      <td>Europe</td>\n",
              "      <td>909138</td>\n",
              "      <td>77354</td>\n",
              "    </tr>\n",
              "    <tr>\n",
              "      <th>4</th>\n",
              "      <td>Angola</td>\n",
              "      <td>87625.0</td>\n",
              "      <td>0.0</td>\n",
              "      <td>0.0</td>\n",
              "      <td>7.0</td>\n",
              "      <td>1799.0</td>\n",
              "      <td>70266.0</td>\n",
              "      <td>Africa</td>\n",
              "      <td>120976841</td>\n",
              "      <td>33933611</td>\n",
              "    </tr>\n",
              "  </tbody>\n",
              "</table>\n",
              "</div>\n",
              "      <button class=\"colab-df-convert\" onclick=\"convertToInteractive('df-eff0f4b0-9033-4ff0-946e-5f4befdda451')\"\n",
              "              title=\"Convert this dataframe to an interactive table.\"\n",
              "              style=\"display:none;\">\n",
              "        \n",
              "  <svg xmlns=\"http://www.w3.org/2000/svg\" height=\"24px\"viewBox=\"0 0 24 24\"\n",
              "       width=\"24px\">\n",
              "    <path d=\"M0 0h24v24H0V0z\" fill=\"none\"/>\n",
              "    <path d=\"M18.56 5.44l.94 2.06.94-2.06 2.06-.94-2.06-.94-.94-2.06-.94 2.06-2.06.94zm-11 1L8.5 8.5l.94-2.06 2.06-.94-2.06-.94L8.5 2.5l-.94 2.06-2.06.94zm10 10l.94 2.06.94-2.06 2.06-.94-2.06-.94-.94-2.06-.94 2.06-2.06.94z\"/><path d=\"M17.41 7.96l-1.37-1.37c-.4-.4-.92-.59-1.43-.59-.52 0-1.04.2-1.43.59L10.3 9.45l-7.72 7.72c-.78.78-.78 2.05 0 2.83L4 21.41c.39.39.9.59 1.41.59.51 0 1.02-.2 1.41-.59l7.78-7.78 2.81-2.81c.8-.78.8-2.07 0-2.86zM5.41 20L4 18.59l7.72-7.72 1.47 1.35L5.41 20z\"/>\n",
              "  </svg>\n",
              "      </button>\n",
              "      \n",
              "  <style>\n",
              "    .colab-df-container {\n",
              "      display:flex;\n",
              "      flex-wrap:wrap;\n",
              "      gap: 12px;\n",
              "    }\n",
              "\n",
              "    .colab-df-convert {\n",
              "      background-color: #E8F0FE;\n",
              "      border: none;\n",
              "      border-radius: 50%;\n",
              "      cursor: pointer;\n",
              "      display: none;\n",
              "      fill: #1967D2;\n",
              "      height: 32px;\n",
              "      padding: 0 0 0 0;\n",
              "      width: 32px;\n",
              "    }\n",
              "\n",
              "    .colab-df-convert:hover {\n",
              "      background-color: #E2EBFA;\n",
              "      box-shadow: 0px 1px 2px rgba(60, 64, 67, 0.3), 0px 1px 3px 1px rgba(60, 64, 67, 0.15);\n",
              "      fill: #174EA6;\n",
              "    }\n",
              "\n",
              "    [theme=dark] .colab-df-convert {\n",
              "      background-color: #3B4455;\n",
              "      fill: #D2E3FC;\n",
              "    }\n",
              "\n",
              "    [theme=dark] .colab-df-convert:hover {\n",
              "      background-color: #434B5C;\n",
              "      box-shadow: 0px 1px 3px 1px rgba(0, 0, 0, 0.15);\n",
              "      filter: drop-shadow(0px 1px 2px rgba(0, 0, 0, 0.3));\n",
              "      fill: #FFFFFF;\n",
              "    }\n",
              "  </style>\n",
              "\n",
              "      <script>\n",
              "        const buttonEl =\n",
              "          document.querySelector('#df-eff0f4b0-9033-4ff0-946e-5f4befdda451 button.colab-df-convert');\n",
              "        buttonEl.style.display =\n",
              "          google.colab.kernel.accessAllowed ? 'block' : 'none';\n",
              "\n",
              "        async function convertToInteractive(key) {\n",
              "          const element = document.querySelector('#df-eff0f4b0-9033-4ff0-946e-5f4befdda451');\n",
              "          const dataTable =\n",
              "            await google.colab.kernel.invokeFunction('convertToInteractive',\n",
              "                                                     [key], {});\n",
              "          if (!dataTable) return;\n",
              "\n",
              "          const docLinkHtml = 'Like what you see? Visit the ' +\n",
              "            '<a target=\"_blank\" href=https://colab.research.google.com/notebooks/data_table.ipynb>data table notebook</a>'\n",
              "            + ' to learn more about interactive tables.';\n",
              "          element.innerHTML = '';\n",
              "          dataTable['output_type'] = 'display_data';\n",
              "          await google.colab.output.renderOutput(dataTable, element);\n",
              "          const docLink = document.createElement('div');\n",
              "          docLink.innerHTML = docLinkHtml;\n",
              "          element.appendChild(docLink);\n",
              "        }\n",
              "      </script>\n",
              "    </div>\n",
              "  </div>\n",
              "  "
            ],
            "text/plain": [
              "       Country  TotalCases  NewCases  ...  continent  Total_vaccinated  population\n",
              "0  Afghanistan    158290.0      11.0  ...       Asia          19368570    39835428\n",
              "1      Albania    214941.0       0.0  ...     Europe         125081646     2872934\n",
              "2      Algeria    220825.0       0.0  ...     Africa         106450533    44616626\n",
              "3      Andorra     25289.0       0.0  ...     Europe            909138       77354\n",
              "4       Angola     87625.0       0.0  ...     Africa         120976841    33933611\n",
              "\n",
              "[5 rows x 10 columns]"
            ]
          },
          "metadata": {},
          "execution_count": 49
        }
      ]
    },
    {
      "cell_type": "code",
      "source": [
        "train_data.isnull().sum()"
      ],
      "metadata": {
        "colab": {
          "base_uri": "https://localhost:8080/"
        },
        "id": "Jc4R0ZDdjHp5",
        "outputId": "0004b4d0-9116-4e33-d101-3a319e88d1d6"
      },
      "execution_count": 50,
      "outputs": [
        {
          "output_type": "execute_result",
          "data": {
            "text/plain": [
              "Country              0\n",
              "TotalCases          29\n",
              "NewCases            29\n",
              "NewDeaths           29\n",
              "Critical_patient    29\n",
              "TotalDeaths         29\n",
              "TotalRecovered      29\n",
              "continent            0\n",
              "Total_vaccinated     0\n",
              "population           0\n",
              "dtype: int64"
            ]
          },
          "metadata": {},
          "execution_count": 50
        }
      ]
    },
    {
      "cell_type": "code",
      "source": [
        "train_data = train_data.dropna()"
      ],
      "metadata": {
        "id": "EV8mhc3NetgZ"
      },
      "execution_count": 51,
      "outputs": []
    },
    {
      "cell_type": "code",
      "source": [
        "train_X = train_data[[\"TotalCases\",  \"Critical_patient\", \"TotalDeaths\", \"TotalRecovered\", \"Total_vaccinated\", \"population\"]]\n",
        "train_Y = train_data[[\"NewDeaths\"]]"
      ],
      "metadata": {
        "id": "lMaUbY0sfGVW"
      },
      "execution_count": 52,
      "outputs": []
    },
    {
      "cell_type": "code",
      "source": [
        "train_Y.max()"
      ],
      "metadata": {
        "colab": {
          "base_uri": "https://localhost:8080/"
        },
        "id": "c_7sdTHmnH7l",
        "outputId": "a44d3468-35d9-417e-81d1-e493f5795e94"
      },
      "execution_count": 53,
      "outputs": [
        {
          "output_type": "execute_result",
          "data": {
            "text/plain": [
              "NewDeaths    787.0\n",
              "dtype: float64"
            ]
          },
          "metadata": {},
          "execution_count": 53
        }
      ]
    },
    {
      "cell_type": "code",
      "source": [
        "train_X.astype(\"float64\")"
      ],
      "metadata": {
        "colab": {
          "base_uri": "https://localhost:8080/",
          "height": 423
        },
        "id": "oOErEMIWhR9z",
        "outputId": "704b9d01-067a-4a76-85cd-e31175f31f0e"
      },
      "execution_count": 54,
      "outputs": [
        {
          "output_type": "execute_result",
          "data": {
            "text/html": [
              "\n",
              "  <div id=\"df-bbd56d31-c9c9-4a18-a1ba-fd4b3ac5808d\">\n",
              "    <div class=\"colab-df-container\">\n",
              "      <div>\n",
              "<style scoped>\n",
              "    .dataframe tbody tr th:only-of-type {\n",
              "        vertical-align: middle;\n",
              "    }\n",
              "\n",
              "    .dataframe tbody tr th {\n",
              "        vertical-align: top;\n",
              "    }\n",
              "\n",
              "    .dataframe thead th {\n",
              "        text-align: right;\n",
              "    }\n",
              "</style>\n",
              "<table border=\"1\" class=\"dataframe\">\n",
              "  <thead>\n",
              "    <tr style=\"text-align: right;\">\n",
              "      <th></th>\n",
              "      <th>TotalCases</th>\n",
              "      <th>Critical_patient</th>\n",
              "      <th>TotalDeaths</th>\n",
              "      <th>TotalRecovered</th>\n",
              "      <th>Total_vaccinated</th>\n",
              "      <th>population</th>\n",
              "    </tr>\n",
              "  </thead>\n",
              "  <tbody>\n",
              "    <tr>\n",
              "      <th>0</th>\n",
              "      <td>158290.0</td>\n",
              "      <td>1124.0</td>\n",
              "      <td>7368.0</td>\n",
              "      <td>145764.0</td>\n",
              "      <td>1.936857e+07</td>\n",
              "      <td>39835428.0</td>\n",
              "    </tr>\n",
              "    <tr>\n",
              "      <th>1</th>\n",
              "      <td>214941.0</td>\n",
              "      <td>23.0</td>\n",
              "      <td>3233.0</td>\n",
              "      <td>202386.0</td>\n",
              "      <td>1.250816e+08</td>\n",
              "      <td>2872934.0</td>\n",
              "    </tr>\n",
              "    <tr>\n",
              "      <th>2</th>\n",
              "      <td>220825.0</td>\n",
              "      <td>34.0</td>\n",
              "      <td>6318.0</td>\n",
              "      <td>151604.0</td>\n",
              "      <td>1.064505e+08</td>\n",
              "      <td>44616626.0</td>\n",
              "    </tr>\n",
              "    <tr>\n",
              "      <th>3</th>\n",
              "      <td>25289.0</td>\n",
              "      <td>31.0</td>\n",
              "      <td>141.0</td>\n",
              "      <td>21511.0</td>\n",
              "      <td>9.091380e+05</td>\n",
              "      <td>77354.0</td>\n",
              "    </tr>\n",
              "    <tr>\n",
              "      <th>4</th>\n",
              "      <td>87625.0</td>\n",
              "      <td>7.0</td>\n",
              "      <td>1799.0</td>\n",
              "      <td>70266.0</td>\n",
              "      <td>1.209768e+08</td>\n",
              "      <td>33933611.0</td>\n",
              "    </tr>\n",
              "    <tr>\n",
              "      <th>...</th>\n",
              "      <td>...</td>\n",
              "      <td>...</td>\n",
              "      <td>...</td>\n",
              "      <td>...</td>\n",
              "      <td>...</td>\n",
              "      <td>...</td>\n",
              "    </tr>\n",
              "    <tr>\n",
              "      <th>220</th>\n",
              "      <td>1843563.0</td>\n",
              "      <td>6626.0</td>\n",
              "      <td>33644.0</td>\n",
              "      <td>1464415.0</td>\n",
              "      <td>5.964231e+09</td>\n",
              "      <td>98168829.0</td>\n",
              "    </tr>\n",
              "    <tr>\n",
              "      <th>221</th>\n",
              "      <td>454.0</td>\n",
              "      <td>0.0</td>\n",
              "      <td>7.0</td>\n",
              "      <td>438.0</td>\n",
              "      <td>1.666560e+05</td>\n",
              "      <td>11094.0</td>\n",
              "    </tr>\n",
              "    <tr>\n",
              "      <th>222</th>\n",
              "      <td>10152.0</td>\n",
              "      <td>23.0</td>\n",
              "      <td>1986.0</td>\n",
              "      <td>7043.0</td>\n",
              "      <td>5.874860e+06</td>\n",
              "      <td>30490639.0</td>\n",
              "    </tr>\n",
              "    <tr>\n",
              "      <th>223</th>\n",
              "      <td>274087.0</td>\n",
              "      <td>317.0</td>\n",
              "      <td>3782.0</td>\n",
              "      <td>236878.0</td>\n",
              "      <td>1.762387e+07</td>\n",
              "      <td>18920657.0</td>\n",
              "    </tr>\n",
              "    <tr>\n",
              "      <th>224</th>\n",
              "      <td>220178.0</td>\n",
              "      <td>12.0</td>\n",
              "      <td>5108.0</td>\n",
              "      <td>191000.0</td>\n",
              "      <td>5.528093e+08</td>\n",
              "      <td>15092171.0</td>\n",
              "    </tr>\n",
              "  </tbody>\n",
              "</table>\n",
              "<p>196 rows × 6 columns</p>\n",
              "</div>\n",
              "      <button class=\"colab-df-convert\" onclick=\"convertToInteractive('df-bbd56d31-c9c9-4a18-a1ba-fd4b3ac5808d')\"\n",
              "              title=\"Convert this dataframe to an interactive table.\"\n",
              "              style=\"display:none;\">\n",
              "        \n",
              "  <svg xmlns=\"http://www.w3.org/2000/svg\" height=\"24px\"viewBox=\"0 0 24 24\"\n",
              "       width=\"24px\">\n",
              "    <path d=\"M0 0h24v24H0V0z\" fill=\"none\"/>\n",
              "    <path d=\"M18.56 5.44l.94 2.06.94-2.06 2.06-.94-2.06-.94-.94-2.06-.94 2.06-2.06.94zm-11 1L8.5 8.5l.94-2.06 2.06-.94-2.06-.94L8.5 2.5l-.94 2.06-2.06.94zm10 10l.94 2.06.94-2.06 2.06-.94-2.06-.94-.94-2.06-.94 2.06-2.06.94z\"/><path d=\"M17.41 7.96l-1.37-1.37c-.4-.4-.92-.59-1.43-.59-.52 0-1.04.2-1.43.59L10.3 9.45l-7.72 7.72c-.78.78-.78 2.05 0 2.83L4 21.41c.39.39.9.59 1.41.59.51 0 1.02-.2 1.41-.59l7.78-7.78 2.81-2.81c.8-.78.8-2.07 0-2.86zM5.41 20L4 18.59l7.72-7.72 1.47 1.35L5.41 20z\"/>\n",
              "  </svg>\n",
              "      </button>\n",
              "      \n",
              "  <style>\n",
              "    .colab-df-container {\n",
              "      display:flex;\n",
              "      flex-wrap:wrap;\n",
              "      gap: 12px;\n",
              "    }\n",
              "\n",
              "    .colab-df-convert {\n",
              "      background-color: #E8F0FE;\n",
              "      border: none;\n",
              "      border-radius: 50%;\n",
              "      cursor: pointer;\n",
              "      display: none;\n",
              "      fill: #1967D2;\n",
              "      height: 32px;\n",
              "      padding: 0 0 0 0;\n",
              "      width: 32px;\n",
              "    }\n",
              "\n",
              "    .colab-df-convert:hover {\n",
              "      background-color: #E2EBFA;\n",
              "      box-shadow: 0px 1px 2px rgba(60, 64, 67, 0.3), 0px 1px 3px 1px rgba(60, 64, 67, 0.15);\n",
              "      fill: #174EA6;\n",
              "    }\n",
              "\n",
              "    [theme=dark] .colab-df-convert {\n",
              "      background-color: #3B4455;\n",
              "      fill: #D2E3FC;\n",
              "    }\n",
              "\n",
              "    [theme=dark] .colab-df-convert:hover {\n",
              "      background-color: #434B5C;\n",
              "      box-shadow: 0px 1px 3px 1px rgba(0, 0, 0, 0.15);\n",
              "      filter: drop-shadow(0px 1px 2px rgba(0, 0, 0, 0.3));\n",
              "      fill: #FFFFFF;\n",
              "    }\n",
              "  </style>\n",
              "\n",
              "      <script>\n",
              "        const buttonEl =\n",
              "          document.querySelector('#df-bbd56d31-c9c9-4a18-a1ba-fd4b3ac5808d button.colab-df-convert');\n",
              "        buttonEl.style.display =\n",
              "          google.colab.kernel.accessAllowed ? 'block' : 'none';\n",
              "\n",
              "        async function convertToInteractive(key) {\n",
              "          const element = document.querySelector('#df-bbd56d31-c9c9-4a18-a1ba-fd4b3ac5808d');\n",
              "          const dataTable =\n",
              "            await google.colab.kernel.invokeFunction('convertToInteractive',\n",
              "                                                     [key], {});\n",
              "          if (!dataTable) return;\n",
              "\n",
              "          const docLinkHtml = 'Like what you see? Visit the ' +\n",
              "            '<a target=\"_blank\" href=https://colab.research.google.com/notebooks/data_table.ipynb>data table notebook</a>'\n",
              "            + ' to learn more about interactive tables.';\n",
              "          element.innerHTML = '';\n",
              "          dataTable['output_type'] = 'display_data';\n",
              "          await google.colab.output.renderOutput(dataTable, element);\n",
              "          const docLink = document.createElement('div');\n",
              "          docLink.innerHTML = docLinkHtml;\n",
              "          element.appendChild(docLink);\n",
              "        }\n",
              "      </script>\n",
              "    </div>\n",
              "  </div>\n",
              "  "
            ],
            "text/plain": [
              "     TotalCases  Critical_patient  ...  Total_vaccinated  population\n",
              "0      158290.0            1124.0  ...      1.936857e+07  39835428.0\n",
              "1      214941.0              23.0  ...      1.250816e+08   2872934.0\n",
              "2      220825.0              34.0  ...      1.064505e+08  44616626.0\n",
              "3       25289.0              31.0  ...      9.091380e+05     77354.0\n",
              "4       87625.0               7.0  ...      1.209768e+08  33933611.0\n",
              "..          ...               ...  ...               ...         ...\n",
              "220   1843563.0            6626.0  ...      5.964231e+09  98168829.0\n",
              "221       454.0               0.0  ...      1.666560e+05     11094.0\n",
              "222     10152.0              23.0  ...      5.874860e+06  30490639.0\n",
              "223    274087.0             317.0  ...      1.762387e+07  18920657.0\n",
              "224    220178.0              12.0  ...      5.528093e+08  15092171.0\n",
              "\n",
              "[196 rows x 6 columns]"
            ]
          },
          "metadata": {},
          "execution_count": 54
        }
      ]
    },
    {
      "cell_type": "code",
      "source": [
        "from sklearn.preprocessing import RobustScaler\n",
        "from sklearn.preprocessing import MinMaxScaler"
      ],
      "metadata": {
        "id": "jD-edmSHk_Mi"
      },
      "execution_count": 55,
      "outputs": []
    },
    {
      "cell_type": "code",
      "source": [
        "minmax = MinMaxScaler()\n",
        "train_X_scaled = minmax.fit_transform(train_X)"
      ],
      "metadata": {
        "id": "6q3MzsMNuvBv"
      },
      "execution_count": 57,
      "outputs": []
    },
    {
      "cell_type": "markdown",
      "source": [
        "### **Artificial Neural Network**"
      ],
      "metadata": {
        "id": "-5xUGI2SAGO7"
      }
    },
    {
      "cell_type": "code",
      "source": [
        "model = tf.keras.models.Sequential([tf.keras.layers.Dense(units=8, activation=\"relu\", input_shape=[train_X.shape[1]]),\n",
        "                                    tf.keras.layers.Dense(units=1)])\n",
        "model.summary()"
      ],
      "metadata": {
        "colab": {
          "base_uri": "https://localhost:8080/"
        },
        "id": "iNzvqtcLe4VF",
        "outputId": "128964e6-34a6-4e85-ef41-108d52737536"
      },
      "execution_count": 98,
      "outputs": [
        {
          "output_type": "stream",
          "name": "stdout",
          "text": [
            "Model: \"sequential_15\"\n",
            "_________________________________________________________________\n",
            " Layer (type)                Output Shape              Param #   \n",
            "=================================================================\n",
            " dense_30 (Dense)            (None, 8)                 56        \n",
            "                                                                 \n",
            " dense_31 (Dense)            (None, 1)                 9         \n",
            "                                                                 \n",
            "=================================================================\n",
            "Total params: 65\n",
            "Trainable params: 65\n",
            "Non-trainable params: 0\n",
            "_________________________________________________________________\n"
          ]
        }
      ]
    },
    {
      "cell_type": "code",
      "source": [
        "def root_mean_squared_error(y_true, y_pred):\n",
        "    return backend.sqrt(backend.mean(backend.square(y_pred - y_true)))"
      ],
      "metadata": {
        "id": "vuByprrgf2Ld"
      },
      "execution_count": 77,
      "outputs": []
    },
    {
      "cell_type": "code",
      "source": [
        "es_callback = EarlyStopping(monitor='accuracy', mode='min', verbose=1, patience=50)\n",
        "\n",
        "epoch = 300\n",
        "\n",
        "model.compile(loss=\"mse\", optimizer=\"rmsprop\", metrics=[root_mean_squared_error, \"accuracy\"])\n",
        "\n",
        "# model.compile(loss=root_mean_squared_error, optimizer='rmsprop', metrics=[\"loss\", \"accuracy\"])\n",
        "history = model.fit(train_X_scaled, \n",
        "                    train_Y,\n",
        "                    epochs = epoch,\n",
        "                    validation_split = 0.3,\n",
        "                    callbacks=[es_callback])"
      ],
      "metadata": {
        "colab": {
          "base_uri": "https://localhost:8080/"
        },
        "id": "Tkr7l4Zaf_UM",
        "outputId": "05f78b40-0e83-4e55-b433-2acc9b4af4f5"
      },
      "execution_count": 99,
      "outputs": [
        {
          "output_type": "stream",
          "name": "stdout",
          "text": [
            "Epoch 1/300\n",
            "5/5 [==============================] - 1s 46ms/step - loss: 236.6717 - root_mean_squared_error: 12.9420 - accuracy: 0.8832 - val_loss: 11670.6299 - val_root_mean_squared_error: 89.9134 - val_accuracy: 0.8305\n",
            "Epoch 2/300\n",
            "5/5 [==============================] - 0s 11ms/step - loss: 236.5167 - root_mean_squared_error: 9.8947 - accuracy: 0.8832 - val_loss: 11669.7041 - val_root_mean_squared_error: 89.9091 - val_accuracy: 0.8305\n",
            "Epoch 3/300\n",
            "5/5 [==============================] - 0s 8ms/step - loss: 236.4168 - root_mean_squared_error: 10.6659 - accuracy: 0.8832 - val_loss: 11668.8379 - val_root_mean_squared_error: 89.9052 - val_accuracy: 0.8305\n",
            "Epoch 4/300\n",
            "5/5 [==============================] - 0s 9ms/step - loss: 236.3320 - root_mean_squared_error: 10.7332 - accuracy: 0.8832 - val_loss: 11668.0156 - val_root_mean_squared_error: 89.9014 - val_accuracy: 0.8305\n",
            "Epoch 5/300\n",
            "5/5 [==============================] - 0s 10ms/step - loss: 236.2511 - root_mean_squared_error: 10.2784 - accuracy: 0.8832 - val_loss: 11667.2588 - val_root_mean_squared_error: 89.8979 - val_accuracy: 0.8305\n",
            "Epoch 6/300\n",
            "5/5 [==============================] - 0s 10ms/step - loss: 236.1726 - root_mean_squared_error: 12.7483 - accuracy: 0.8832 - val_loss: 11666.4346 - val_root_mean_squared_error: 89.8941 - val_accuracy: 0.8305\n",
            "Epoch 7/300\n",
            "5/5 [==============================] - 0s 9ms/step - loss: 236.0906 - root_mean_squared_error: 12.5480 - accuracy: 0.8832 - val_loss: 11665.6338 - val_root_mean_squared_error: 89.8904 - val_accuracy: 0.8305\n",
            "Epoch 8/300\n",
            "5/5 [==============================] - 0s 10ms/step - loss: 236.0148 - root_mean_squared_error: 10.1305 - accuracy: 0.8832 - val_loss: 11665.0068 - val_root_mean_squared_error: 89.8876 - val_accuracy: 0.8305\n",
            "Epoch 9/300\n",
            "5/5 [==============================] - 0s 9ms/step - loss: 235.9591 - root_mean_squared_error: 10.6211 - accuracy: 0.8832 - val_loss: 11664.3877 - val_root_mean_squared_error: 89.8848 - val_accuracy: 0.8305\n",
            "Epoch 10/300\n",
            "5/5 [==============================] - 0s 9ms/step - loss: 235.9032 - root_mean_squared_error: 10.0654 - accuracy: 0.8832 - val_loss: 11663.8496 - val_root_mean_squared_error: 89.8823 - val_accuracy: 0.8305\n",
            "Epoch 11/300\n",
            "5/5 [==============================] - 0s 9ms/step - loss: 235.8476 - root_mean_squared_error: 10.8248 - accuracy: 0.8832 - val_loss: 11663.2305 - val_root_mean_squared_error: 89.8795 - val_accuracy: 0.8305\n",
            "Epoch 12/300\n",
            "5/5 [==============================] - 0s 8ms/step - loss: 235.7962 - root_mean_squared_error: 9.1699 - accuracy: 0.8832 - val_loss: 11662.6699 - val_root_mean_squared_error: 89.8769 - val_accuracy: 0.8305\n",
            "Epoch 13/300\n",
            "5/5 [==============================] - 0s 8ms/step - loss: 235.7395 - root_mean_squared_error: 13.8221 - accuracy: 0.8832 - val_loss: 11661.8740 - val_root_mean_squared_error: 89.8733 - val_accuracy: 0.8305\n",
            "Epoch 14/300\n",
            "5/5 [==============================] - 0s 8ms/step - loss: 235.6674 - root_mean_squared_error: 12.1323 - accuracy: 0.8832 - val_loss: 11661.2588 - val_root_mean_squared_error: 89.8706 - val_accuracy: 0.8305\n",
            "Epoch 15/300\n",
            "5/5 [==============================] - 0s 8ms/step - loss: 235.6125 - root_mean_squared_error: 11.3465 - accuracy: 0.8832 - val_loss: 11660.6514 - val_root_mean_squared_error: 89.8679 - val_accuracy: 0.8305\n",
            "Epoch 16/300\n",
            "5/5 [==============================] - 0s 9ms/step - loss: 235.5625 - root_mean_squared_error: 9.4400 - accuracy: 0.8832 - val_loss: 11660.1416 - val_root_mean_squared_error: 89.8656 - val_accuracy: 0.8305\n",
            "Epoch 17/300\n",
            "5/5 [==============================] - 0s 9ms/step - loss: 235.5147 - root_mean_squared_error: 15.5317 - accuracy: 0.8832 - val_loss: 11659.2988 - val_root_mean_squared_error: 89.8618 - val_accuracy: 0.8305\n",
            "Epoch 18/300\n",
            "5/5 [==============================] - 0s 8ms/step - loss: 235.4548 - root_mean_squared_error: 8.6062 - accuracy: 0.8832 - val_loss: 11659.0508 - val_root_mean_squared_error: 89.8607 - val_accuracy: 0.8305\n",
            "Epoch 19/300\n",
            "5/5 [==============================] - 0s 9ms/step - loss: 235.4268 - root_mean_squared_error: 11.4074 - accuracy: 0.8832 - val_loss: 11658.7363 - val_root_mean_squared_error: 89.8593 - val_accuracy: 0.8305\n",
            "Epoch 20/300\n",
            "5/5 [==============================] - 0s 9ms/step - loss: 235.3938 - root_mean_squared_error: 15.5298 - accuracy: 0.8832 - val_loss: 11658.2715 - val_root_mean_squared_error: 89.8571 - val_accuracy: 0.8305\n",
            "Epoch 21/300\n",
            "5/5 [==============================] - 0s 8ms/step - loss: 235.3474 - root_mean_squared_error: 11.1538 - accuracy: 0.8832 - val_loss: 11657.8545 - val_root_mean_squared_error: 89.8553 - val_accuracy: 0.8305\n",
            "Epoch 22/300\n",
            "5/5 [==============================] - 0s 8ms/step - loss: 235.3078 - root_mean_squared_error: 15.6932 - accuracy: 0.8832 - val_loss: 11657.3203 - val_root_mean_squared_error: 89.8528 - val_accuracy: 0.8305\n",
            "Epoch 23/300\n",
            "5/5 [==============================] - 0s 8ms/step - loss: 235.2589 - root_mean_squared_error: 11.1657 - accuracy: 0.8832 - val_loss: 11656.7891 - val_root_mean_squared_error: 89.8504 - val_accuracy: 0.8305\n",
            "Epoch 24/300\n",
            "5/5 [==============================] - 0s 8ms/step - loss: 235.2113 - root_mean_squared_error: 10.7686 - accuracy: 0.8832 - val_loss: 11656.3320 - val_root_mean_squared_error: 89.8484 - val_accuracy: 0.8305\n",
            "Epoch 25/300\n",
            "5/5 [==============================] - 0s 10ms/step - loss: 235.1727 - root_mean_squared_error: 9.8452 - accuracy: 0.8832 - val_loss: 11655.8711 - val_root_mean_squared_error: 89.8464 - val_accuracy: 0.8305\n",
            "Epoch 26/300\n",
            "5/5 [==============================] - 0s 8ms/step - loss: 235.1288 - root_mean_squared_error: 11.7006 - accuracy: 0.8832 - val_loss: 11655.3389 - val_root_mean_squared_error: 89.8440 - val_accuracy: 0.8305\n",
            "Epoch 27/300\n",
            "5/5 [==============================] - 0s 13ms/step - loss: 235.0803 - root_mean_squared_error: 10.8373 - accuracy: 0.8832 - val_loss: 11654.7900 - val_root_mean_squared_error: 89.8415 - val_accuracy: 0.8305\n",
            "Epoch 28/300\n",
            "5/5 [==============================] - 0s 9ms/step - loss: 235.0355 - root_mean_squared_error: 10.5593 - accuracy: 0.8832 - val_loss: 11654.3047 - val_root_mean_squared_error: 89.8394 - val_accuracy: 0.8305\n",
            "Epoch 29/300\n",
            "5/5 [==============================] - 0s 8ms/step - loss: 234.9884 - root_mean_squared_error: 10.9730 - accuracy: 0.8832 - val_loss: 11653.7451 - val_root_mean_squared_error: 89.8368 - val_accuracy: 0.8305\n",
            "Epoch 30/300\n",
            "5/5 [==============================] - 0s 9ms/step - loss: 234.9384 - root_mean_squared_error: 12.9242 - accuracy: 0.8832 - val_loss: 11653.1592 - val_root_mean_squared_error: 89.8342 - val_accuracy: 0.8305\n",
            "Epoch 31/300\n",
            "5/5 [==============================] - 0s 9ms/step - loss: 234.8875 - root_mean_squared_error: 10.0218 - accuracy: 0.8832 - val_loss: 11652.6680 - val_root_mean_squared_error: 89.8320 - val_accuracy: 0.8305\n",
            "Epoch 32/300\n",
            "5/5 [==============================] - 0s 8ms/step - loss: 234.8441 - root_mean_squared_error: 9.9345 - accuracy: 0.8832 - val_loss: 11652.2031 - val_root_mean_squared_error: 89.8299 - val_accuracy: 0.8305\n",
            "Epoch 33/300\n",
            "5/5 [==============================] - 0s 9ms/step - loss: 234.8000 - root_mean_squared_error: 11.9087 - accuracy: 0.8832 - val_loss: 11651.6396 - val_root_mean_squared_error: 89.8274 - val_accuracy: 0.8305\n",
            "Epoch 34/300\n",
            "5/5 [==============================] - 0s 8ms/step - loss: 234.7480 - root_mean_squared_error: 10.1692 - accuracy: 0.8832 - val_loss: 11651.1855 - val_root_mean_squared_error: 89.8254 - val_accuracy: 0.8305\n",
            "Epoch 35/300\n",
            "5/5 [==============================] - 0s 8ms/step - loss: 234.7012 - root_mean_squared_error: 12.9608 - accuracy: 0.8832 - val_loss: 11650.6240 - val_root_mean_squared_error: 89.8228 - val_accuracy: 0.8305\n",
            "Epoch 36/300\n",
            "5/5 [==============================] - 0s 8ms/step - loss: 234.6526 - root_mean_squared_error: 9.6530 - accuracy: 0.8832 - val_loss: 11650.0752 - val_root_mean_squared_error: 89.8204 - val_accuracy: 0.8305\n",
            "Epoch 37/300\n",
            "5/5 [==============================] - 0s 9ms/step - loss: 234.6028 - root_mean_squared_error: 11.8284 - accuracy: 0.8832 - val_loss: 11649.5723 - val_root_mean_squared_error: 89.8181 - val_accuracy: 0.8305\n",
            "Epoch 38/300\n",
            "5/5 [==============================] - 0s 8ms/step - loss: 234.5620 - root_mean_squared_error: 9.1673 - accuracy: 0.8832 - val_loss: 11649.0967 - val_root_mean_squared_error: 89.8160 - val_accuracy: 0.8305\n",
            "Epoch 39/300\n",
            "5/5 [==============================] - 0s 8ms/step - loss: 234.5135 - root_mean_squared_error: 10.5318 - accuracy: 0.8832 - val_loss: 11648.6504 - val_root_mean_squared_error: 89.8140 - val_accuracy: 0.8305\n",
            "Epoch 40/300\n",
            "5/5 [==============================] - 0s 10ms/step - loss: 234.4667 - root_mean_squared_error: 15.5820 - accuracy: 0.8832 - val_loss: 11648.1025 - val_root_mean_squared_error: 89.8115 - val_accuracy: 0.8305\n",
            "Epoch 41/300\n",
            "5/5 [==============================] - 0s 8ms/step - loss: 234.4119 - root_mean_squared_error: 10.6325 - accuracy: 0.8832 - val_loss: 11647.7334 - val_root_mean_squared_error: 89.8098 - val_accuracy: 0.8305\n",
            "Epoch 42/300\n",
            "5/5 [==============================] - 0s 9ms/step - loss: 234.3698 - root_mean_squared_error: 12.1805 - accuracy: 0.8832 - val_loss: 11647.3340 - val_root_mean_squared_error: 89.8080 - val_accuracy: 0.8305\n",
            "Epoch 43/300\n",
            "5/5 [==============================] - 0s 9ms/step - loss: 234.3218 - root_mean_squared_error: 16.3440 - accuracy: 0.8832 - val_loss: 11646.6172 - val_root_mean_squared_error: 89.8047 - val_accuracy: 0.8305\n",
            "Epoch 44/300\n",
            "5/5 [==============================] - 0s 9ms/step - loss: 234.2619 - root_mean_squared_error: 11.1863 - accuracy: 0.8832 - val_loss: 11646.3857 - val_root_mean_squared_error: 89.8036 - val_accuracy: 0.8305\n",
            "Epoch 45/300\n",
            "5/5 [==============================] - 0s 9ms/step - loss: 234.2334 - root_mean_squared_error: 10.2584 - accuracy: 0.8832 - val_loss: 11646.1426 - val_root_mean_squared_error: 89.8025 - val_accuracy: 0.8305\n",
            "Epoch 46/300\n",
            "5/5 [==============================] - 0s 8ms/step - loss: 234.1997 - root_mean_squared_error: 15.0666 - accuracy: 0.8832 - val_loss: 11645.7412 - val_root_mean_squared_error: 89.8006 - val_accuracy: 0.8305\n",
            "Epoch 47/300\n",
            "5/5 [==============================] - 0s 8ms/step - loss: 234.1520 - root_mean_squared_error: 11.4248 - accuracy: 0.8832 - val_loss: 11645.4482 - val_root_mean_squared_error: 89.7992 - val_accuracy: 0.8305\n",
            "Epoch 48/300\n",
            "5/5 [==============================] - 0s 10ms/step - loss: 234.1175 - root_mean_squared_error: 10.7464 - accuracy: 0.8832 - val_loss: 11645.1445 - val_root_mean_squared_error: 89.7978 - val_accuracy: 0.8305\n",
            "Epoch 49/300\n",
            "5/5 [==============================] - 0s 9ms/step - loss: 234.0798 - root_mean_squared_error: 12.8673 - accuracy: 0.8832 - val_loss: 11644.6221 - val_root_mean_squared_error: 89.7954 - val_accuracy: 0.8305\n",
            "Epoch 50/300\n",
            "5/5 [==============================] - 0s 8ms/step - loss: 234.0321 - root_mean_squared_error: 10.6141 - accuracy: 0.8832 - val_loss: 11644.2793 - val_root_mean_squared_error: 89.7939 - val_accuracy: 0.8305\n",
            "Epoch 51/300\n",
            "5/5 [==============================] - 0s 8ms/step - loss: 233.9923 - root_mean_squared_error: 10.8976 - accuracy: 0.8832 - val_loss: 11643.8867 - val_root_mean_squared_error: 89.7922 - val_accuracy: 0.8305\n",
            "Epoch 00051: early stopping\n"
          ]
        }
      ]
    },
    {
      "cell_type": "code",
      "source": [
        "score = model.evaluate(train_X_scaled, train_Y, verbose=0)\n",
        "accuracy_ANN = score[2] * 100\n",
        "rmse_ANN = score[1]\n",
        "print(\"Model Accuracy: {:.2f}%\".format( accuracy))\n",
        "print(\"RMSE value for ANN: {:.2f}\".format(rmse_ANN))"
      ],
      "metadata": {
        "colab": {
          "base_uri": "https://localhost:8080/"
        },
        "id": "_HJHNrMGgG2d",
        "outputId": "3d253f9c-1ec0-4abf-f36b-43e8a117067f"
      },
      "execution_count": 104,
      "outputs": [
        {
          "output_type": "stream",
          "name": "stdout",
          "text": [
            "Model Accuracy: 86.73%\n",
            "RMSE value for ANN: 33.37\n"
          ]
        }
      ]
    },
    {
      "cell_type": "markdown",
      "source": [
        "### **Linear Regression**"
      ],
      "metadata": {
        "id": "J_TgtN_wAScx"
      }
    },
    {
      "cell_type": "code",
      "source": [
        "from sklearn.linear_model import LinearRegression"
      ],
      "metadata": {
        "id": "Ey8FFbol_9Bz"
      },
      "execution_count": 64,
      "outputs": []
    },
    {
      "cell_type": "code",
      "source": [
        "model_LR = LinearRegression().fit(train_X, train_Y)\n",
        "pred_y = model_LR.predict(train_X)\n",
        "rmse_LR = root_mean_squared_error(train_Y, pred_y)\n",
        "accuracy_LR = model_LR.score(train_X, train_Y) * 100\n",
        "print(\"Accuracy of Linear Regression model: {:.2f}\".format())"
      ],
      "metadata": {
        "id": "QBV75s-XAboc"
      },
      "execution_count": 107,
      "outputs": []
    },
    {
      "cell_type": "markdown",
      "source": [
        "#### **Visualization of the analysis on the accuracy rate of different models**"
      ],
      "metadata": {
        "id": "By7xb7hyfZfC"
      }
    },
    {
      "cell_type": "code",
      "source": [
        "plt.figure(figsize=(8,5))\n",
        "\n",
        "model_name = [\"Artificial\\nNeural\\nNetwork\", \"Linear\\nRegression\"]\n",
        "acc_list = [accuracy_ANN, accuracy_LR]\n",
        "\n",
        "plt.bar(model_name, acc_list, width=0.1, color= \"peachpuff\")\n",
        "plt.xlabel(\"Model Name\", fontsize=12)\n",
        "plt.ylabel(\"Percentage Rate\\n(%)\", fontsize=12)\n",
        "plt.title(\"\\nVisualizing on the accuracy percentage of the implemented models\\n\", fontsize=12)\n",
        "plt.show()"
      ],
      "metadata": {
        "colab": {
          "base_uri": "https://localhost:8080/",
          "height": 406
        },
        "id": "_zL7j-bna1tM",
        "outputId": "a340d616-fa59-4ffb-ab44-12a384db1e3e"
      },
      "execution_count": 120,
      "outputs": [
        {
          "output_type": "display_data",
          "data": {
            "image/png": "[encoded data removed]",
            "text/plain": [
              "<Figure size 576x360 with 1 Axes>"
            ]
          },
          "metadata": {
            "needs_background": "light"
          }
        }
      ]
    }
  ],
  "metadata": {
    "colab": {
      "collapsed_sections": [],
      "name": "Big_data_assignment_project_covid.ipynb",
      "provenance": [],
      "include_colab_link": true
    },
    "kernelspec": {
      "display_name": "Python 3",
      "name": "python3"
    },
    "language_info": {
      "name": "python"
    }
  },
  "nbformat": 4,
  "nbformat_minor": 0
}