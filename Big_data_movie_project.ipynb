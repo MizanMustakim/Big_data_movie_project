{
  "nbformat": 4,
  "nbformat_minor": 0,
  "metadata": {
    "colab": {
      "name": "Big_data_movie_project.ipynb",
      "provenance": [],
      "authorship_tag": "ABX9TyO/oic5Yy63OwD/2skQ3O4A",
      "include_colab_link": true
    },
    "kernelspec": {
      "name": "python3",
      "display_name": "Python 3"
    },
    "language_info": {
      "name": "python"
    }
  },
  "cells": [
    {
      "cell_type": "markdown",
      "metadata": {
        "id": "view-in-github",
        "colab_type": "text"
      },
      "source": [
        "<a href=\"https://colab.research.google.com/github/MizanMustakim/Big_data_movie_project/blob/main/Big_data_movie_project.ipynb\" target=\"_parent\"><img src=\"https://colab.research.google.com/assets/colab-badge.svg\" alt=\"Open In Colab\"/></a>"
      ]
    },
    {
      "cell_type": "code",
      "source": [
        "import warnings\n",
        "warnings.filterwarnings(\"ignore\")"
      ],
      "metadata": {
        "id": "ti2_SGhDTdWz"
      },
      "execution_count": 1,
      "outputs": []
    },
    {
      "cell_type": "code",
      "execution_count": 2,
      "metadata": {
        "colab": {
          "base_uri": "https://localhost:8080/"
        },
        "id": "8voL_gwuwNyd",
        "outputId": "fc22a377-4a5c-441e-b203-1d501b2af37b"
      },
      "outputs": [
        {
          "output_type": "stream",
          "name": "stdout",
          "text": [
            "Drive already mounted at /content/drive; to attempt to forcibly remount, call drive.mount(\"/content/drive\", force_remount=True).\n"
          ]
        }
      ],
      "source": [
        "from google.colab import drive\n",
        "drive.mount(\"/content/drive\")"
      ]
    },
    {
      "cell_type": "code",
      "source": [
        "import pandas as pd\n",
        "import matplotlib.pyplot as plt\n",
        "import zipfile\n",
        "import os\n",
        "import seaborn as sns\n",
        "import numpy as np"
      ],
      "metadata": {
        "id": "YAHs3Z3Py13-"
      },
      "execution_count": 3,
      "outputs": []
    },
    {
      "cell_type": "markdown",
      "source": [
        "# **Dataset Work**\n",
        "\n",
        "## **Dataset download**\n",
        "> Dataset link: https://grouplens.org/datasets/movielens/1m/"
      ],
      "metadata": {
        "id": "ZFeXZSPMaiaA"
      }
    },
    {
      "cell_type": "code",
      "source": [
        "!wget --no-check-certificate \\\n",
        "https://files.grouplens.org/datasets/movielens/ml-1m.zip"
      ],
      "metadata": {
        "colab": {
          "base_uri": "https://localhost:8080/"
        },
        "id": "DC8XnRXZZfSn",
        "outputId": "fabc9f16-5bfb-46b3-c58f-401063dade0e"
      },
      "execution_count": 4,
      "outputs": [
        {
          "output_type": "stream",
          "name": "stdout",
          "text": [
            "--2022-01-05 09:32:07--  https://files.grouplens.org/datasets/movielens/ml-1m.zip\n",
            "Resolving files.grouplens.org (files.grouplens.org)... 128.101.65.152\n",
            "Connecting to files.grouplens.org (files.grouplens.org)|128.101.65.152|:443... connected.\n",
            "HTTP request sent, awaiting response... 200 OK\n",
            "Length: 5917549 (5.6M) [application/zip]\n",
            "Saving to: ‘ml-1m.zip.2’\n",
            "\n",
            "ml-1m.zip.2         100%[===================>]   5.64M  20.6MB/s    in 0.3s    \n",
            "\n",
            "2022-01-05 09:32:08 (20.6 MB/s) - ‘ml-1m.zip.2’ saved [5917549/5917549]\n",
            "\n"
          ]
        }
      ]
    },
    {
      "cell_type": "markdown",
      "source": [
        "Extracting the downloaded zip file"
      ],
      "metadata": {
        "id": "PhcprpaC-_53"
      }
    },
    {
      "cell_type": "code",
      "source": [
        "local_zip = \"/content/ml-1m.zip\"\n",
        "zip_ref = zipfile.ZipFile(local_zip, 'r')\n",
        "zip_ref.extractall('/content/movie_data')\n",
        "zip_ref.close()"
      ],
      "metadata": {
        "id": "6e1XHpgLZ9n-"
      },
      "execution_count": 5,
      "outputs": []
    },
    {
      "cell_type": "markdown",
      "source": [
        "## **Data Preprocessing**"
      ],
      "metadata": {
        "id": "zGPxm1FB_FXe"
      }
    },
    {
      "cell_type": "code",
      "source": [
        "# Define file directories\n",
        "MOVIELENS_DIR = '/content/movie_data/ml-1m'\n",
        "USER_DATA_FILE = '/content/movie_data/ml-1m/users.dat'\n",
        "MOVIE_DATA_FILE = '/content/movie_data/ml-1m/movies.dat'\n",
        "RATING_DATA_FILE = '/content/movie_data/ml-1m/ratings.dat'"
      ],
      "metadata": {
        "id": "EkAFNhL-6hoT"
      },
      "execution_count": 6,
      "outputs": []
    },
    {
      "cell_type": "code",
      "source": [
        "# Specify User's Age and Occupation Column\n",
        "AGES = { 1: \"Under 18\", 18: \"18-24\", 25: \"25-34\", 35: \"35-44\", 45: \"45-49\", 50: \"50-55\", 56: \"56+\" }\n",
        "OCCUPATIONS = { 0: \"other or not specified\", 1: \"academic/educator\", 2: \"artist\", 3: \"clerical/admin\",\n",
        "                4: \"college/grad student\", 5: \"customer service\", 6: \"doctor/health care\",\n",
        "                7: \"executive/managerial\", 8: \"farmer\", 9: \"homemaker\", 10: \"K-12 student\", 11: \"lawyer\",\n",
        "                12: \"programmer\", 13: \"retired\", 14: \"sales/marketing\", 15: \"scientist\", 16: \"self-employed\",\n",
        "                17: \"technician/engineer\", 18: \"tradesman/craftsman\", 19: \"unemployed\", 20: \"writer\" }"
      ],
      "metadata": {
        "id": "6p02kizD6h1L"
      },
      "execution_count": 7,
      "outputs": []
    },
    {
      "cell_type": "code",
      "source": [
        "# Define csv files to be saved into\n",
        "USERS_CSV_FILE = 'users.csv'\n",
        "MOVIES_CSV_FILE = 'movies.csv'\n",
        "RATINGS_CSV_FILE = 'ratings.csv'"
      ],
      "metadata": {
        "id": "WSsDhqIV6h32"
      },
      "execution_count": 8,
      "outputs": []
    },
    {
      "cell_type": "code",
      "source": [
        "# Read the Ratings File\n",
        "ratings = pd.read_csv(os.path.join(MOVIELENS_DIR, RATING_DATA_FILE), \n",
        "                    sep='::', \n",
        "                    engine='python', \n",
        "                    encoding='latin-1',\n",
        "                    names=['user_id', 'movie_id', 'rating', 'timestamp'])\n",
        "\n",
        "# Set max_userid to the maximum user_id in the ratings\n",
        "max_userid = ratings['user_id'].drop_duplicates().max()\n",
        "# Set max_movieid to the maximum movie_id in the ratings\n",
        "max_movieid = ratings['movie_id'].drop_duplicates().max()\n",
        "\n",
        "# Process ratings dataframe for Keras Deep Learning model\n",
        "# Add user_emb_id column whose values == user_id - 1\n",
        "ratings['user_emb_id'] = ratings['user_id'] - 1\n",
        "# Add movie_emb_id column whose values == movie_id - 1\n",
        "ratings['movie_emb_id'] = ratings['movie_id'] - 1\n",
        "\n",
        "print(len(ratings), 'ratings loaded')"
      ],
      "metadata": {
        "colab": {
          "base_uri": "https://localhost:8080/"
        },
        "id": "d1SpJmdv6h7N",
        "outputId": "cb6e5bed-e8fc-4e32-b69a-34cb93126ab9"
      },
      "execution_count": 9,
      "outputs": [
        {
          "output_type": "stream",
          "name": "stdout",
          "text": [
            "1000209 ratings loaded\n"
          ]
        }
      ]
    },
    {
      "cell_type": "code",
      "source": [
        "# Save into ratings.csv\n",
        "ratings.to_csv(RATINGS_CSV_FILE, \n",
        "               sep='\\t', \n",
        "               header=True, \n",
        "               encoding='latin-1', \n",
        "               columns=['user_id', 'movie_id', 'rating', 'timestamp', 'user_emb_id', 'movie_emb_id'])\n",
        "print('Saved to', RATINGS_CSV_FILE)"
      ],
      "metadata": {
        "colab": {
          "base_uri": "https://localhost:8080/"
        },
        "id": "IQXAe0Ct7LVF",
        "outputId": "64dffef9-9d58-402b-c91e-011a9ff08c08"
      },
      "execution_count": 10,
      "outputs": [
        {
          "output_type": "stream",
          "name": "stdout",
          "text": [
            "Saved to ratings.csv\n"
          ]
        }
      ]
    },
    {
      "cell_type": "code",
      "source": [
        "# Read the Users File\n",
        "users = pd.read_csv(os.path.join(MOVIELENS_DIR, USER_DATA_FILE), \n",
        "                    sep='::', \n",
        "                    engine='python', \n",
        "                    encoding='latin-1',\n",
        "                    names=['user_id', 'gender', 'age', 'occupation', 'zipcode'])\n",
        "users['age_desc'] = users['age'].apply(lambda x: AGES[x])\n",
        "users['occ_desc'] = users['occupation'].apply(lambda x: OCCUPATIONS[x])\n",
        "print(len(users), 'descriptions of', max_userid, 'users loaded.')"
      ],
      "metadata": {
        "colab": {
          "base_uri": "https://localhost:8080/"
        },
        "id": "gl18gwrN7LYP",
        "outputId": "69122b2b-89d1-4ee4-fc5d-a412a00831bf"
      },
      "execution_count": 11,
      "outputs": [
        {
          "output_type": "stream",
          "name": "stdout",
          "text": [
            "6040 descriptions of 6040 users loaded.\n"
          ]
        }
      ]
    },
    {
      "cell_type": "code",
      "source": [
        "# Save into users.csv\n",
        "users.to_csv(USERS_CSV_FILE, \n",
        "             sep='\\t', \n",
        "             header=True, \n",
        "             encoding='latin-1',\n",
        "             columns=['user_id', 'gender', 'age', 'occupation', 'zipcode', 'age_desc', 'occ_desc'])\n",
        "print('Saved to', USERS_CSV_FILE)"
      ],
      "metadata": {
        "colab": {
          "base_uri": "https://localhost:8080/"
        },
        "id": "iHl2cjTk7Lb7",
        "outputId": "d0aea38c-e8e4-434f-c7e6-ba65570d8aaf"
      },
      "execution_count": 12,
      "outputs": [
        {
          "output_type": "stream",
          "name": "stdout",
          "text": [
            "Saved to users.csv\n"
          ]
        }
      ]
    },
    {
      "cell_type": "code",
      "source": [
        "# Read the Movies File\n",
        "movies = pd.read_csv(os.path.join(MOVIELENS_DIR, MOVIE_DATA_FILE), \n",
        "                    sep='::', \n",
        "                    engine='python', \n",
        "                    encoding='latin-1',\n",
        "                    names=['movie_id', 'title', 'genres'])\n",
        "print(len(movies), 'descriptions of', max_movieid, 'movies loaded.')"
      ],
      "metadata": {
        "colab": {
          "base_uri": "https://localhost:8080/"
        },
        "id": "cXLT7Eul96A1",
        "outputId": "f6bcbe7e-8884-4127-a1be-c218cade0ac0"
      },
      "execution_count": 13,
      "outputs": [
        {
          "output_type": "stream",
          "name": "stdout",
          "text": [
            "3883 descriptions of 3952 movies loaded.\n"
          ]
        }
      ]
    },
    {
      "cell_type": "code",
      "source": [
        "# Save into movies.csv\n",
        "movies.to_csv(MOVIES_CSV_FILE, \n",
        "              sep='\\t', \n",
        "              header=True, \n",
        "              columns=['movie_id', 'title', 'genres'])\n",
        "print('Saved to', MOVIES_CSV_FILE)"
      ],
      "metadata": {
        "colab": {
          "base_uri": "https://localhost:8080/"
        },
        "id": "V39qGD2M96Dd",
        "outputId": "9ac17fb6-2446-4cd9-db6e-91f3d8cec5bb"
      },
      "execution_count": 14,
      "outputs": [
        {
          "output_type": "stream",
          "name": "stdout",
          "text": [
            "Saved to movies.csv\n"
          ]
        }
      ]
    },
    {
      "cell_type": "code",
      "source": [
        "movie_df = pd.read_csv(\"/content/movies.csv\", sep=\"\\t\")\n",
        "movie_df = movie_df.drop([\"Unnamed: 0\"], axis=1)\n",
        "\n",
        "rating_df = pd.read_csv(\"/content/ratings.csv\", sep=\"\\t\")\n",
        "rating_df = rating_df.drop([\"Unnamed: 0\"], axis=1)\n",
        "\n",
        "user_df = pd.read_csv(\"/content/users.csv\", sep=\"\\t\")\n",
        "user_df = user_df.drop([\"Unnamed: 0\"], axis=1)"
      ],
      "metadata": {
        "id": "87jRiKLJzNrm"
      },
      "execution_count": 15,
      "outputs": []
    },
    {
      "cell_type": "markdown",
      "source": [
        "Checking NAN values in all dataframes"
      ],
      "metadata": {
        "id": "aLFBAos8NoSy"
      }
    },
    {
      "cell_type": "code",
      "source": [
        "movie_df.isna().sum()"
      ],
      "metadata": {
        "colab": {
          "base_uri": "https://localhost:8080/"
        },
        "id": "B8GzNCmzAzLJ",
        "outputId": "3febc477-1be0-4fea-9ed4-6408aafff91b"
      },
      "execution_count": 16,
      "outputs": [
        {
          "output_type": "execute_result",
          "data": {
            "text/plain": [
              "movie_id    0\n",
              "title       0\n",
              "genres      0\n",
              "dtype: int64"
            ]
          },
          "metadata": {},
          "execution_count": 16
        }
      ]
    },
    {
      "cell_type": "code",
      "source": [
        "rating_df.isna().sum()"
      ],
      "metadata": {
        "colab": {
          "base_uri": "https://localhost:8080/"
        },
        "id": "NdwVEHpUNatD",
        "outputId": "9abb5e95-b767-41cf-8ffb-825c43a51d74"
      },
      "execution_count": 17,
      "outputs": [
        {
          "output_type": "execute_result",
          "data": {
            "text/plain": [
              "user_id         0\n",
              "movie_id        0\n",
              "rating          0\n",
              "timestamp       0\n",
              "user_emb_id     0\n",
              "movie_emb_id    0\n",
              "dtype: int64"
            ]
          },
          "metadata": {},
          "execution_count": 17
        }
      ]
    },
    {
      "cell_type": "code",
      "source": [
        "user_df.isna().sum()"
      ],
      "metadata": {
        "colab": {
          "base_uri": "https://localhost:8080/"
        },
        "id": "jXpfT2QGNavq",
        "outputId": "de2ee4cc-6af7-4937-8ad7-64dda422ef7d"
      },
      "execution_count": 18,
      "outputs": [
        {
          "output_type": "execute_result",
          "data": {
            "text/plain": [
              "user_id       0\n",
              "gender        0\n",
              "age           0\n",
              "occupation    0\n",
              "zipcode       0\n",
              "age_desc      0\n",
              "occ_desc      0\n",
              "dtype: int64"
            ]
          },
          "metadata": {},
          "execution_count": 18
        }
      ]
    },
    {
      "cell_type": "markdown",
      "source": [
        "**Movies**"
      ],
      "metadata": {
        "id": "S8b-3hcR-u0C"
      }
    },
    {
      "cell_type": "code",
      "source": [
        "movie_df.head()"
      ],
      "metadata": {
        "colab": {
          "base_uri": "https://localhost:8080/",
          "height": 0
        },
        "id": "Y_PU-rbx-hy0",
        "outputId": "97a9ccc4-821d-44f9-b172-07dafeccf1d3"
      },
      "execution_count": 19,
      "outputs": [
        {
          "output_type": "execute_result",
          "data": {
            "text/html": [
              "\n",
              "  <div id=\"df-78073eb9-5bbd-43d8-a375-c5941c6294d8\">\n",
              "    <div class=\"colab-df-container\">\n",
              "      <div>\n",
              "<style scoped>\n",
              "    .dataframe tbody tr th:only-of-type {\n",
              "        vertical-align: middle;\n",
              "    }\n",
              "\n",
              "    .dataframe tbody tr th {\n",
              "        vertical-align: top;\n",
              "    }\n",
              "\n",
              "    .dataframe thead th {\n",
              "        text-align: right;\n",
              "    }\n",
              "</style>\n",
              "<table border=\"1\" class=\"dataframe\">\n",
              "  <thead>\n",
              "    <tr style=\"text-align: right;\">\n",
              "      <th></th>\n",
              "      <th>movie_id</th>\n",
              "      <th>title</th>\n",
              "      <th>genres</th>\n",
              "    </tr>\n",
              "  </thead>\n",
              "  <tbody>\n",
              "    <tr>\n",
              "      <th>0</th>\n",
              "      <td>1</td>\n",
              "      <td>Toy Story (1995)</td>\n",
              "      <td>Animation|Children's|Comedy</td>\n",
              "    </tr>\n",
              "    <tr>\n",
              "      <th>1</th>\n",
              "      <td>2</td>\n",
              "      <td>Jumanji (1995)</td>\n",
              "      <td>Adventure|Children's|Fantasy</td>\n",
              "    </tr>\n",
              "    <tr>\n",
              "      <th>2</th>\n",
              "      <td>3</td>\n",
              "      <td>Grumpier Old Men (1995)</td>\n",
              "      <td>Comedy|Romance</td>\n",
              "    </tr>\n",
              "    <tr>\n",
              "      <th>3</th>\n",
              "      <td>4</td>\n",
              "      <td>Waiting to Exhale (1995)</td>\n",
              "      <td>Comedy|Drama</td>\n",
              "    </tr>\n",
              "    <tr>\n",
              "      <th>4</th>\n",
              "      <td>5</td>\n",
              "      <td>Father of the Bride Part II (1995)</td>\n",
              "      <td>Comedy</td>\n",
              "    </tr>\n",
              "  </tbody>\n",
              "</table>\n",
              "</div>\n",
              "      <button class=\"colab-df-convert\" onclick=\"convertToInteractive('df-78073eb9-5bbd-43d8-a375-c5941c6294d8')\"\n",
              "              title=\"Convert this dataframe to an interactive table.\"\n",
              "              style=\"display:none;\">\n",
              "        \n",
              "  <svg xmlns=\"http://www.w3.org/2000/svg\" height=\"24px\"viewBox=\"0 0 24 24\"\n",
              "       width=\"24px\">\n",
              "    <path d=\"M0 0h24v24H0V0z\" fill=\"none\"/>\n",
              "    <path d=\"M18.56 5.44l.94 2.06.94-2.06 2.06-.94-2.06-.94-.94-2.06-.94 2.06-2.06.94zm-11 1L8.5 8.5l.94-2.06 2.06-.94-2.06-.94L8.5 2.5l-.94 2.06-2.06.94zm10 10l.94 2.06.94-2.06 2.06-.94-2.06-.94-.94-2.06-.94 2.06-2.06.94z\"/><path d=\"M17.41 7.96l-1.37-1.37c-.4-.4-.92-.59-1.43-.59-.52 0-1.04.2-1.43.59L10.3 9.45l-7.72 7.72c-.78.78-.78 2.05 0 2.83L4 21.41c.39.39.9.59 1.41.59.51 0 1.02-.2 1.41-.59l7.78-7.78 2.81-2.81c.8-.78.8-2.07 0-2.86zM5.41 20L4 18.59l7.72-7.72 1.47 1.35L5.41 20z\"/>\n",
              "  </svg>\n",
              "      </button>\n",
              "      \n",
              "  <style>\n",
              "    .colab-df-container {\n",
              "      display:flex;\n",
              "      flex-wrap:wrap;\n",
              "      gap: 12px;\n",
              "    }\n",
              "\n",
              "    .colab-df-convert {\n",
              "      background-color: #E8F0FE;\n",
              "      border: none;\n",
              "      border-radius: 50%;\n",
              "      cursor: pointer;\n",
              "      display: none;\n",
              "      fill: #1967D2;\n",
              "      height: 32px;\n",
              "      padding: 0 0 0 0;\n",
              "      width: 32px;\n",
              "    }\n",
              "\n",
              "    .colab-df-convert:hover {\n",
              "      background-color: #E2EBFA;\n",
              "      box-shadow: 0px 1px 2px rgba(60, 64, 67, 0.3), 0px 1px 3px 1px rgba(60, 64, 67, 0.15);\n",
              "      fill: #174EA6;\n",
              "    }\n",
              "\n",
              "    [theme=dark] .colab-df-convert {\n",
              "      background-color: #3B4455;\n",
              "      fill: #D2E3FC;\n",
              "    }\n",
              "\n",
              "    [theme=dark] .colab-df-convert:hover {\n",
              "      background-color: #434B5C;\n",
              "      box-shadow: 0px 1px 3px 1px rgba(0, 0, 0, 0.15);\n",
              "      filter: drop-shadow(0px 1px 2px rgba(0, 0, 0, 0.3));\n",
              "      fill: #FFFFFF;\n",
              "    }\n",
              "  </style>\n",
              "\n",
              "      <script>\n",
              "        const buttonEl =\n",
              "          document.querySelector('#df-78073eb9-5bbd-43d8-a375-c5941c6294d8 button.colab-df-convert');\n",
              "        buttonEl.style.display =\n",
              "          google.colab.kernel.accessAllowed ? 'block' : 'none';\n",
              "\n",
              "        async function convertToInteractive(key) {\n",
              "          const element = document.querySelector('#df-78073eb9-5bbd-43d8-a375-c5941c6294d8');\n",
              "          const dataTable =\n",
              "            await google.colab.kernel.invokeFunction('convertToInteractive',\n",
              "                                                     [key], {});\n",
              "          if (!dataTable) return;\n",
              "\n",
              "          const docLinkHtml = 'Like what you see? Visit the ' +\n",
              "            '<a target=\"_blank\" href=https://colab.research.google.com/notebooks/data_table.ipynb>data table notebook</a>'\n",
              "            + ' to learn more about interactive tables.';\n",
              "          element.innerHTML = '';\n",
              "          dataTable['output_type'] = 'display_data';\n",
              "          await google.colab.output.renderOutput(dataTable, element);\n",
              "          const docLink = document.createElement('div');\n",
              "          docLink.innerHTML = docLinkHtml;\n",
              "          element.appendChild(docLink);\n",
              "        }\n",
              "      </script>\n",
              "    </div>\n",
              "  </div>\n",
              "  "
            ],
            "text/plain": [
              "   movie_id                               title                        genres\n",
              "0         1                    Toy Story (1995)   Animation|Children's|Comedy\n",
              "1         2                      Jumanji (1995)  Adventure|Children's|Fantasy\n",
              "2         3             Grumpier Old Men (1995)                Comedy|Romance\n",
              "3         4            Waiting to Exhale (1995)                  Comedy|Drama\n",
              "4         5  Father of the Bride Part II (1995)                        Comedy"
            ]
          },
          "metadata": {},
          "execution_count": 19
        }
      ]
    },
    {
      "cell_type": "code",
      "source": [
        "movie_df.shape"
      ],
      "metadata": {
        "colab": {
          "base_uri": "https://localhost:8080/"
        },
        "id": "1L1n152aSWPL",
        "outputId": "1541abfe-df78-4a44-9217-f0475aef34cd"
      },
      "execution_count": 20,
      "outputs": [
        {
          "output_type": "execute_result",
          "data": {
            "text/plain": [
              "(3883, 3)"
            ]
          },
          "metadata": {},
          "execution_count": 20
        }
      ]
    },
    {
      "cell_type": "code",
      "source": [
        "%matplotlib inline\n",
        "import wordcloud\n",
        "from wordcloud import WordCloud, STOPWORDS\n",
        "\n",
        "# Create a wordcloud of the movie titles\n",
        "movie_df['title'] = movie_df['title'].fillna(\"\").astype('str')\n",
        "title_corpus = ' '.join(movie_df['title'])\n",
        "title_wordcloud = WordCloud(stopwords=STOPWORDS, background_color='black', height=2000, width=4000).generate(title_corpus)\n",
        "\n",
        "# Plot the wordcloud\n",
        "plt.figure(figsize=(16,8))\n",
        "plt.imshow(title_wordcloud)\n",
        "plt.axis('off')\n",
        "plt.show()"
      ],
      "metadata": {
        "colab": {
          "base_uri": "https://localhost:8080/",
          "height": 0
        },
        "id": "f80wOwze_ZsH",
        "outputId": "8d05be72-3c6c-4ecc-a319-126355f8b833"
      },
      "execution_count": 21,
      "outputs": [
        {
          "output_type": "display_data",
          "data": {
            "image/png": "[encoded data removed]",
            "text/plain": [
              "<Figure size 1152x576 with 1 Axes>"
            ]
          },
          "metadata": {
            "needs_background": "light"
          }
        }
      ]
    },
    {
      "cell_type": "markdown",
      "source": [
        "**Ratings**"
      ],
      "metadata": {
        "id": "osOvPRfflxKF"
      }
    },
    {
      "cell_type": "code",
      "source": [
        "rating_df.head()"
      ],
      "metadata": {
        "id": "Vn7kvtKI_Z4Y",
        "colab": {
          "base_uri": "https://localhost:8080/",
          "height": 0
        },
        "outputId": "3b5df796-e0aa-40b0-ddfa-c81176423769"
      },
      "execution_count": 22,
      "outputs": [
        {
          "output_type": "execute_result",
          "data": {
            "text/html": [
              "\n",
              "  <div id=\"df-7ab5f6e5-c95a-4916-9998-b7e6c1e89dd4\">\n",
              "    <div class=\"colab-df-container\">\n",
              "      <div>\n",
              "<style scoped>\n",
              "    .dataframe tbody tr th:only-of-type {\n",
              "        vertical-align: middle;\n",
              "    }\n",
              "\n",
              "    .dataframe tbody tr th {\n",
              "        vertical-align: top;\n",
              "    }\n",
              "\n",
              "    .dataframe thead th {\n",
              "        text-align: right;\n",
              "    }\n",
              "</style>\n",
              "<table border=\"1\" class=\"dataframe\">\n",
              "  <thead>\n",
              "    <tr style=\"text-align: right;\">\n",
              "      <th></th>\n",
              "      <th>user_id</th>\n",
              "      <th>movie_id</th>\n",
              "      <th>rating</th>\n",
              "      <th>timestamp</th>\n",
              "      <th>user_emb_id</th>\n",
              "      <th>movie_emb_id</th>\n",
              "    </tr>\n",
              "  </thead>\n",
              "  <tbody>\n",
              "    <tr>\n",
              "      <th>0</th>\n",
              "      <td>1</td>\n",
              "      <td>1193</td>\n",
              "      <td>5</td>\n",
              "      <td>978300760</td>\n",
              "      <td>0</td>\n",
              "      <td>1192</td>\n",
              "    </tr>\n",
              "    <tr>\n",
              "      <th>1</th>\n",
              "      <td>1</td>\n",
              "      <td>661</td>\n",
              "      <td>3</td>\n",
              "      <td>978302109</td>\n",
              "      <td>0</td>\n",
              "      <td>660</td>\n",
              "    </tr>\n",
              "    <tr>\n",
              "      <th>2</th>\n",
              "      <td>1</td>\n",
              "      <td>914</td>\n",
              "      <td>3</td>\n",
              "      <td>978301968</td>\n",
              "      <td>0</td>\n",
              "      <td>913</td>\n",
              "    </tr>\n",
              "    <tr>\n",
              "      <th>3</th>\n",
              "      <td>1</td>\n",
              "      <td>3408</td>\n",
              "      <td>4</td>\n",
              "      <td>978300275</td>\n",
              "      <td>0</td>\n",
              "      <td>3407</td>\n",
              "    </tr>\n",
              "    <tr>\n",
              "      <th>4</th>\n",
              "      <td>1</td>\n",
              "      <td>2355</td>\n",
              "      <td>5</td>\n",
              "      <td>978824291</td>\n",
              "      <td>0</td>\n",
              "      <td>2354</td>\n",
              "    </tr>\n",
              "  </tbody>\n",
              "</table>\n",
              "</div>\n",
              "      <button class=\"colab-df-convert\" onclick=\"convertToInteractive('df-7ab5f6e5-c95a-4916-9998-b7e6c1e89dd4')\"\n",
              "              title=\"Convert this dataframe to an interactive table.\"\n",
              "              style=\"display:none;\">\n",
              "        \n",
              "  <svg xmlns=\"http://www.w3.org/2000/svg\" height=\"24px\"viewBox=\"0 0 24 24\"\n",
              "       width=\"24px\">\n",
              "    <path d=\"M0 0h24v24H0V0z\" fill=\"none\"/>\n",
              "    <path d=\"M18.56 5.44l.94 2.06.94-2.06 2.06-.94-2.06-.94-.94-2.06-.94 2.06-2.06.94zm-11 1L8.5 8.5l.94-2.06 2.06-.94-2.06-.94L8.5 2.5l-.94 2.06-2.06.94zm10 10l.94 2.06.94-2.06 2.06-.94-2.06-.94-.94-2.06-.94 2.06-2.06.94z\"/><path d=\"M17.41 7.96l-1.37-1.37c-.4-.4-.92-.59-1.43-.59-.52 0-1.04.2-1.43.59L10.3 9.45l-7.72 7.72c-.78.78-.78 2.05 0 2.83L4 21.41c.39.39.9.59 1.41.59.51 0 1.02-.2 1.41-.59l7.78-7.78 2.81-2.81c.8-.78.8-2.07 0-2.86zM5.41 20L4 18.59l7.72-7.72 1.47 1.35L5.41 20z\"/>\n",
              "  </svg>\n",
              "      </button>\n",
              "      \n",
              "  <style>\n",
              "    .colab-df-container {\n",
              "      display:flex;\n",
              "      flex-wrap:wrap;\n",
              "      gap: 12px;\n",
              "    }\n",
              "\n",
              "    .colab-df-convert {\n",
              "      background-color: #E8F0FE;\n",
              "      border: none;\n",
              "      border-radius: 50%;\n",
              "      cursor: pointer;\n",
              "      display: none;\n",
              "      fill: #1967D2;\n",
              "      height: 32px;\n",
              "      padding: 0 0 0 0;\n",
              "      width: 32px;\n",
              "    }\n",
              "\n",
              "    .colab-df-convert:hover {\n",
              "      background-color: #E2EBFA;\n",
              "      box-shadow: 0px 1px 2px rgba(60, 64, 67, 0.3), 0px 1px 3px 1px rgba(60, 64, 67, 0.15);\n",
              "      fill: #174EA6;\n",
              "    }\n",
              "\n",
              "    [theme=dark] .colab-df-convert {\n",
              "      background-color: #3B4455;\n",
              "      fill: #D2E3FC;\n",
              "    }\n",
              "\n",
              "    [theme=dark] .colab-df-convert:hover {\n",
              "      background-color: #434B5C;\n",
              "      box-shadow: 0px 1px 3px 1px rgba(0, 0, 0, 0.15);\n",
              "      filter: drop-shadow(0px 1px 2px rgba(0, 0, 0, 0.3));\n",
              "      fill: #FFFFFF;\n",
              "    }\n",
              "  </style>\n",
              "\n",
              "      <script>\n",
              "        const buttonEl =\n",
              "          document.querySelector('#df-7ab5f6e5-c95a-4916-9998-b7e6c1e89dd4 button.colab-df-convert');\n",
              "        buttonEl.style.display =\n",
              "          google.colab.kernel.accessAllowed ? 'block' : 'none';\n",
              "\n",
              "        async function convertToInteractive(key) {\n",
              "          const element = document.querySelector('#df-7ab5f6e5-c95a-4916-9998-b7e6c1e89dd4');\n",
              "          const dataTable =\n",
              "            await google.colab.kernel.invokeFunction('convertToInteractive',\n",
              "                                                     [key], {});\n",
              "          if (!dataTable) return;\n",
              "\n",
              "          const docLinkHtml = 'Like what you see? Visit the ' +\n",
              "            '<a target=\"_blank\" href=https://colab.research.google.com/notebooks/data_table.ipynb>data table notebook</a>'\n",
              "            + ' to learn more about interactive tables.';\n",
              "          element.innerHTML = '';\n",
              "          dataTable['output_type'] = 'display_data';\n",
              "          await google.colab.output.renderOutput(dataTable, element);\n",
              "          const docLink = document.createElement('div');\n",
              "          docLink.innerHTML = docLinkHtml;\n",
              "          element.appendChild(docLink);\n",
              "        }\n",
              "      </script>\n",
              "    </div>\n",
              "  </div>\n",
              "  "
            ],
            "text/plain": [
              "   user_id  movie_id  rating  timestamp  user_emb_id  movie_emb_id\n",
              "0        1      1193       5  978300760            0          1192\n",
              "1        1       661       3  978302109            0           660\n",
              "2        1       914       3  978301968            0           913\n",
              "3        1      3408       4  978300275            0          3407\n",
              "4        1      2355       5  978824291            0          2354"
            ]
          },
          "metadata": {},
          "execution_count": 22
        }
      ]
    },
    {
      "cell_type": "code",
      "source": [
        "# Fill NaN values in user_id and movie_id column with 0\n",
        "rating_df['user_id'] = rating_df['user_id'].fillna(0)\n",
        "rating_df['movie_id'] = rating_df['movie_id'].fillna(0)\n",
        "\n",
        "# Replace NaN values in rating column with average of all values\n",
        "rating_df['rating'] = rating_df['rating'].fillna(rating_df['rating'].mean())"
      ],
      "metadata": {
        "id": "8uJclIowjCAN"
      },
      "execution_count": 23,
      "outputs": []
    },
    {
      "cell_type": "code",
      "source": [
        "# Get summary statistics of rating\n",
        "rating_df['rating'].describe()"
      ],
      "metadata": {
        "colab": {
          "base_uri": "https://localhost:8080/"
        },
        "id": "TRot895J_FsK",
        "outputId": "ec8ea189-2846-419a-b329-16fb95d5990a"
      },
      "execution_count": 24,
      "outputs": [
        {
          "output_type": "execute_result",
          "data": {
            "text/plain": [
              "count    1.000209e+06\n",
              "mean     3.581564e+00\n",
              "std      1.117102e+00\n",
              "min      1.000000e+00\n",
              "25%      3.000000e+00\n",
              "50%      4.000000e+00\n",
              "75%      4.000000e+00\n",
              "max      5.000000e+00\n",
              "Name: rating, dtype: float64"
            ]
          },
          "metadata": {},
          "execution_count": 24
        }
      ]
    },
    {
      "cell_type": "code",
      "source": [
        "plt.figure(figsize=(12,8))\n",
        "\n",
        "# Display distribution of rating\n",
        "ax = sns.countplot(x = rating_df['rating'].fillna(rating_df['rating'].median()), data= rating_df)\n",
        "ax.set_yticklabels([num for num in ax.get_yticks()])\n",
        "plt.tick_params(labelsize = 15)\n",
        "plt.title(\"Count of Ratings\", fontsize = 20)\n",
        "plt.xlabel(\"Ratings\", fontsize = 20)\n",
        "plt.ylabel(\"Number of Ratings\", fontsize = 20)\n",
        "plt.show()"
      ],
      "metadata": {
        "colab": {
          "base_uri": "https://localhost:8080/",
          "height": 0
        },
        "id": "RvVQueg8_LCy",
        "outputId": "b7564216-df0b-472a-cb72-db95ef9427e4"
      },
      "execution_count": 25,
      "outputs": [
        {
          "output_type": "display_data",
          "data": {
            "image/png": "[encoded data removed]",
            "text/plain": [
              "<Figure size 864x576 with 1 Axes>"
            ]
          },
          "metadata": {
            "needs_background": "light"
          }
        }
      ]
    },
    {
      "cell_type": "markdown",
      "source": [
        "**Genres**\n",
        ">The genres variable will surely be important while building the recommendation engines since it describes the content of the film (i.e. Animation, Horror, Sci-Fi). A basic assumption is that films in the same genre should have similar contents. I'll attempt to see exactly which genres are the most popular."
      ],
      "metadata": {
        "id": "tmBare7RbU9B"
      }
    },
    {
      "cell_type": "code",
      "source": [
        "# Make a census of the genre keywords\n",
        "genre_labels = set()\n",
        "for s in movie_df['genres'].str.split('|').values:\n",
        "    genre_labels = genre_labels.union(set(s))\n",
        "\n",
        "# Function that counts the number of times each of the genre keywords appear\n",
        "def count_word(dataset, ref_col, census):\n",
        "    keyword_count = dict()\n",
        "    for s in census: \n",
        "        keyword_count[s] = 0\n",
        "    for census_keywords in dataset[ref_col].str.split('|'):        \n",
        "        if type(census_keywords) == float and pd.isnull(census_keywords): \n",
        "            continue        \n",
        "        for s in [s for s in census_keywords if s in census]: \n",
        "            if pd.notnull(s): \n",
        "                keyword_count[s] += 1\n",
        "    #______________________________________________________________________\n",
        "    # convert the dictionary in a list to sort the keywords by frequency\n",
        "    keyword_occurences = []\n",
        "    for k,v in keyword_count.items():\n",
        "        keyword_occurences.append([k,v])\n",
        "    keyword_occurences.sort(key = lambda x:x[1], reverse = True)\n",
        "    return keyword_occurences, keyword_count\n",
        "\n",
        "# Calling this function gives access to a list of genre keywords which are sorted by decreasing frequency\n",
        "keyword_occurences, dum = count_word(movie_df, 'genres', genre_labels)\n",
        "keyword_occurences[:5]"
      ],
      "metadata": {
        "id": "WTXhnXtNAFQL",
        "colab": {
          "base_uri": "https://localhost:8080/"
        },
        "outputId": "d24d940d-c37a-4708-cbda-e3a310fbfe86"
      },
      "execution_count": 26,
      "outputs": [
        {
          "output_type": "execute_result",
          "data": {
            "text/plain": [
              "[['Drama', 1603],\n",
              " ['Comedy', 1200],\n",
              " ['Action', 503],\n",
              " ['Thriller', 492],\n",
              " ['Romance', 471]]"
            ]
          },
          "metadata": {},
          "execution_count": 26
        }
      ]
    },
    {
      "cell_type": "markdown",
      "source": [
        "The top 5 genres are, in that respect order: Drama, Comedy, Thriller, Action and Romance. I'll show this on a wordcloud too in order to make it more visually appealing."
      ],
      "metadata": {
        "id": "sm2h9-Peblov"
      }
    },
    {
      "cell_type": "code",
      "source": [
        "# Define the dictionary used to produce the genre wordcloud\n",
        "genres = dict()\n",
        "trunc_occurences = keyword_occurences\n",
        "for s in trunc_occurences:\n",
        "    genres[s[0]] = s[1]\n",
        "\n",
        "# Create the wordcloud\n",
        "genre_wordcloud = WordCloud(width=1000,height=400, background_color='black')\n",
        "genre_wordcloud.generate_from_frequencies(genres)\n",
        "\n",
        "# Plot the wordcloud\n",
        "f, ax = plt.subplots(figsize=(16, 8))\n",
        "plt.imshow(genre_wordcloud, interpolation=\"bilinear\")\n",
        "plt.axis('off')\n",
        "plt.show()"
      ],
      "metadata": {
        "id": "zUb9zDxdAFSq",
        "colab": {
          "base_uri": "https://localhost:8080/",
          "height": 0
        },
        "outputId": "ac2dd9fc-f945-4e64-e016-ab85c2683589"
      },
      "execution_count": 27,
      "outputs": [
        {
          "output_type": "display_data",
          "data": {
            "image/png": "[encoded data removed]",
            "text/plain": [
              "<Figure size 1152x576 with 1 Axes>"
            ]
          },
          "metadata": {
            "needs_background": "light"
          }
        }
      ]
    },
    {
      "cell_type": "markdown",
      "source": [
        "***Merging the datasets***"
      ],
      "metadata": {
        "id": "LKIfFq2Xwww-"
      }
    },
    {
      "cell_type": "code",
      "source": [
        "# Join all 2 files into one dataframe\n",
        "dataset = pd.merge(pd.merge(movie_df, rating_df), user_df)"
      ],
      "metadata": {
        "id": "Z1unIkWOvpgH"
      },
      "execution_count": 28,
      "outputs": []
    },
    {
      "cell_type": "code",
      "source": [
        "dataset.head()"
      ],
      "metadata": {
        "colab": {
          "base_uri": "https://localhost:8080/",
          "height": 0
        },
        "id": "5QOhEHkwvSbO",
        "outputId": "44a47c23-3591-46cd-b9bc-ea6c3f765c01"
      },
      "execution_count": 29,
      "outputs": [
        {
          "output_type": "execute_result",
          "data": {
            "text/html": [
              "\n",
              "  <div id=\"df-9e0f837a-3192-4a1f-81da-bb0c29ef39cb\">\n",
              "    <div class=\"colab-df-container\">\n",
              "      <div>\n",
              "<style scoped>\n",
              "    .dataframe tbody tr th:only-of-type {\n",
              "        vertical-align: middle;\n",
              "    }\n",
              "\n",
              "    .dataframe tbody tr th {\n",
              "        vertical-align: top;\n",
              "    }\n",
              "\n",
              "    .dataframe thead th {\n",
              "        text-align: right;\n",
              "    }\n",
              "</style>\n",
              "<table border=\"1\" class=\"dataframe\">\n",
              "  <thead>\n",
              "    <tr style=\"text-align: right;\">\n",
              "      <th></th>\n",
              "      <th>movie_id</th>\n",
              "      <th>title</th>\n",
              "      <th>genres</th>\n",
              "      <th>user_id</th>\n",
              "      <th>rating</th>\n",
              "      <th>timestamp</th>\n",
              "      <th>user_emb_id</th>\n",
              "      <th>movie_emb_id</th>\n",
              "      <th>gender</th>\n",
              "      <th>age</th>\n",
              "      <th>occupation</th>\n",
              "      <th>zipcode</th>\n",
              "      <th>age_desc</th>\n",
              "      <th>occ_desc</th>\n",
              "    </tr>\n",
              "  </thead>\n",
              "  <tbody>\n",
              "    <tr>\n",
              "      <th>0</th>\n",
              "      <td>1</td>\n",
              "      <td>Toy Story (1995)</td>\n",
              "      <td>Animation|Children's|Comedy</td>\n",
              "      <td>1</td>\n",
              "      <td>5</td>\n",
              "      <td>978824268</td>\n",
              "      <td>0</td>\n",
              "      <td>0</td>\n",
              "      <td>F</td>\n",
              "      <td>1</td>\n",
              "      <td>10</td>\n",
              "      <td>48067</td>\n",
              "      <td>Under 18</td>\n",
              "      <td>K-12 student</td>\n",
              "    </tr>\n",
              "    <tr>\n",
              "      <th>1</th>\n",
              "      <td>48</td>\n",
              "      <td>Pocahontas (1995)</td>\n",
              "      <td>Animation|Children's|Musical|Romance</td>\n",
              "      <td>1</td>\n",
              "      <td>5</td>\n",
              "      <td>978824351</td>\n",
              "      <td>0</td>\n",
              "      <td>47</td>\n",
              "      <td>F</td>\n",
              "      <td>1</td>\n",
              "      <td>10</td>\n",
              "      <td>48067</td>\n",
              "      <td>Under 18</td>\n",
              "      <td>K-12 student</td>\n",
              "    </tr>\n",
              "    <tr>\n",
              "      <th>2</th>\n",
              "      <td>150</td>\n",
              "      <td>Apollo 13 (1995)</td>\n",
              "      <td>Drama</td>\n",
              "      <td>1</td>\n",
              "      <td>5</td>\n",
              "      <td>978301777</td>\n",
              "      <td>0</td>\n",
              "      <td>149</td>\n",
              "      <td>F</td>\n",
              "      <td>1</td>\n",
              "      <td>10</td>\n",
              "      <td>48067</td>\n",
              "      <td>Under 18</td>\n",
              "      <td>K-12 student</td>\n",
              "    </tr>\n",
              "    <tr>\n",
              "      <th>3</th>\n",
              "      <td>260</td>\n",
              "      <td>Star Wars: Episode IV - A New Hope (1977)</td>\n",
              "      <td>Action|Adventure|Fantasy|Sci-Fi</td>\n",
              "      <td>1</td>\n",
              "      <td>4</td>\n",
              "      <td>978300760</td>\n",
              "      <td>0</td>\n",
              "      <td>259</td>\n",
              "      <td>F</td>\n",
              "      <td>1</td>\n",
              "      <td>10</td>\n",
              "      <td>48067</td>\n",
              "      <td>Under 18</td>\n",
              "      <td>K-12 student</td>\n",
              "    </tr>\n",
              "    <tr>\n",
              "      <th>4</th>\n",
              "      <td>527</td>\n",
              "      <td>Schindler's List (1993)</td>\n",
              "      <td>Drama|War</td>\n",
              "      <td>1</td>\n",
              "      <td>5</td>\n",
              "      <td>978824195</td>\n",
              "      <td>0</td>\n",
              "      <td>526</td>\n",
              "      <td>F</td>\n",
              "      <td>1</td>\n",
              "      <td>10</td>\n",
              "      <td>48067</td>\n",
              "      <td>Under 18</td>\n",
              "      <td>K-12 student</td>\n",
              "    </tr>\n",
              "  </tbody>\n",
              "</table>\n",
              "</div>\n",
              "      <button class=\"colab-df-convert\" onclick=\"convertToInteractive('df-9e0f837a-3192-4a1f-81da-bb0c29ef39cb')\"\n",
              "              title=\"Convert this dataframe to an interactive table.\"\n",
              "              style=\"display:none;\">\n",
              "        \n",
              "  <svg xmlns=\"http://www.w3.org/2000/svg\" height=\"24px\"viewBox=\"0 0 24 24\"\n",
              "       width=\"24px\">\n",
              "    <path d=\"M0 0h24v24H0V0z\" fill=\"none\"/>\n",
              "    <path d=\"M18.56 5.44l.94 2.06.94-2.06 2.06-.94-2.06-.94-.94-2.06-.94 2.06-2.06.94zm-11 1L8.5 8.5l.94-2.06 2.06-.94-2.06-.94L8.5 2.5l-.94 2.06-2.06.94zm10 10l.94 2.06.94-2.06 2.06-.94-2.06-.94-.94-2.06-.94 2.06-2.06.94z\"/><path d=\"M17.41 7.96l-1.37-1.37c-.4-.4-.92-.59-1.43-.59-.52 0-1.04.2-1.43.59L10.3 9.45l-7.72 7.72c-.78.78-.78 2.05 0 2.83L4 21.41c.39.39.9.59 1.41.59.51 0 1.02-.2 1.41-.59l7.78-7.78 2.81-2.81c.8-.78.8-2.07 0-2.86zM5.41 20L4 18.59l7.72-7.72 1.47 1.35L5.41 20z\"/>\n",
              "  </svg>\n",
              "      </button>\n",
              "      \n",
              "  <style>\n",
              "    .colab-df-container {\n",
              "      display:flex;\n",
              "      flex-wrap:wrap;\n",
              "      gap: 12px;\n",
              "    }\n",
              "\n",
              "    .colab-df-convert {\n",
              "      background-color: #E8F0FE;\n",
              "      border: none;\n",
              "      border-radius: 50%;\n",
              "      cursor: pointer;\n",
              "      display: none;\n",
              "      fill: #1967D2;\n",
              "      height: 32px;\n",
              "      padding: 0 0 0 0;\n",
              "      width: 32px;\n",
              "    }\n",
              "\n",
              "    .colab-df-convert:hover {\n",
              "      background-color: #E2EBFA;\n",
              "      box-shadow: 0px 1px 2px rgba(60, 64, 67, 0.3), 0px 1px 3px 1px rgba(60, 64, 67, 0.15);\n",
              "      fill: #174EA6;\n",
              "    }\n",
              "\n",
              "    [theme=dark] .colab-df-convert {\n",
              "      background-color: #3B4455;\n",
              "      fill: #D2E3FC;\n",
              "    }\n",
              "\n",
              "    [theme=dark] .colab-df-convert:hover {\n",
              "      background-color: #434B5C;\n",
              "      box-shadow: 0px 1px 3px 1px rgba(0, 0, 0, 0.15);\n",
              "      filter: drop-shadow(0px 1px 2px rgba(0, 0, 0, 0.3));\n",
              "      fill: #FFFFFF;\n",
              "    }\n",
              "  </style>\n",
              "\n",
              "      <script>\n",
              "        const buttonEl =\n",
              "          document.querySelector('#df-9e0f837a-3192-4a1f-81da-bb0c29ef39cb button.colab-df-convert');\n",
              "        buttonEl.style.display =\n",
              "          google.colab.kernel.accessAllowed ? 'block' : 'none';\n",
              "\n",
              "        async function convertToInteractive(key) {\n",
              "          const element = document.querySelector('#df-9e0f837a-3192-4a1f-81da-bb0c29ef39cb');\n",
              "          const dataTable =\n",
              "            await google.colab.kernel.invokeFunction('convertToInteractive',\n",
              "                                                     [key], {});\n",
              "          if (!dataTable) return;\n",
              "\n",
              "          const docLinkHtml = 'Like what you see? Visit the ' +\n",
              "            '<a target=\"_blank\" href=https://colab.research.google.com/notebooks/data_table.ipynb>data table notebook</a>'\n",
              "            + ' to learn more about interactive tables.';\n",
              "          element.innerHTML = '';\n",
              "          dataTable['output_type'] = 'display_data';\n",
              "          await google.colab.output.renderOutput(dataTable, element);\n",
              "          const docLink = document.createElement('div');\n",
              "          docLink.innerHTML = docLinkHtml;\n",
              "          element.appendChild(docLink);\n",
              "        }\n",
              "      </script>\n",
              "    </div>\n",
              "  </div>\n",
              "  "
            ],
            "text/plain": [
              "   movie_id                                      title  ...  age_desc      occ_desc\n",
              "0         1                           Toy Story (1995)  ...  Under 18  K-12 student\n",
              "1        48                          Pocahontas (1995)  ...  Under 18  K-12 student\n",
              "2       150                           Apollo 13 (1995)  ...  Under 18  K-12 student\n",
              "3       260  Star Wars: Episode IV - A New Hope (1977)  ...  Under 18  K-12 student\n",
              "4       527                    Schindler's List (1993)  ...  Under 18  K-12 student\n",
              "\n",
              "[5 rows x 14 columns]"
            ]
          },
          "metadata": {},
          "execution_count": 29
        }
      ]
    },
    {
      "cell_type": "markdown",
      "source": [
        "# Simple Recommenders\n",
        "> This recommenders offer generalized recommendations to every user, based on movie popularity and/or genre. The basic idea behind this system is that movies that are more popular and critically acclaimed will have a higher probability of being liked by the average audience. An example could be IMDB Top 250."
      ],
      "metadata": {
        "id": "QubJv144u8Id"
      }
    },
    {
      "cell_type": "markdown",
      "source": [
        "***Preprocessing*** for making this model"
      ],
      "metadata": {
        "id": "4as_ANfrw9w8"
      }
    },
    {
      "cell_type": "code",
      "source": [
        "df_1 = dataset[[\"title\", \"genres\", \"rating\"]]\n",
        "df_1.head()"
      ],
      "metadata": {
        "colab": {
          "base_uri": "https://localhost:8080/",
          "height": 0
        },
        "id": "6OO9nAynvxAU",
        "outputId": "2824744d-e1a6-47b3-e40e-fc0e6e810f7c"
      },
      "execution_count": 30,
      "outputs": [
        {
          "output_type": "execute_result",
          "data": {
            "text/html": [
              "\n",
              "  <div id=\"df-05fe766a-91be-4732-95c1-1c9f59683163\">\n",
              "    <div class=\"colab-df-container\">\n",
              "      <div>\n",
              "<style scoped>\n",
              "    .dataframe tbody tr th:only-of-type {\n",
              "        vertical-align: middle;\n",
              "    }\n",
              "\n",
              "    .dataframe tbody tr th {\n",
              "        vertical-align: top;\n",
              "    }\n",
              "\n",
              "    .dataframe thead th {\n",
              "        text-align: right;\n",
              "    }\n",
              "</style>\n",
              "<table border=\"1\" class=\"dataframe\">\n",
              "  <thead>\n",
              "    <tr style=\"text-align: right;\">\n",
              "      <th></th>\n",
              "      <th>title</th>\n",
              "      <th>genres</th>\n",
              "      <th>rating</th>\n",
              "    </tr>\n",
              "  </thead>\n",
              "  <tbody>\n",
              "    <tr>\n",
              "      <th>0</th>\n",
              "      <td>Toy Story (1995)</td>\n",
              "      <td>Animation|Children's|Comedy</td>\n",
              "      <td>5</td>\n",
              "    </tr>\n",
              "    <tr>\n",
              "      <th>1</th>\n",
              "      <td>Pocahontas (1995)</td>\n",
              "      <td>Animation|Children's|Musical|Romance</td>\n",
              "      <td>5</td>\n",
              "    </tr>\n",
              "    <tr>\n",
              "      <th>2</th>\n",
              "      <td>Apollo 13 (1995)</td>\n",
              "      <td>Drama</td>\n",
              "      <td>5</td>\n",
              "    </tr>\n",
              "    <tr>\n",
              "      <th>3</th>\n",
              "      <td>Star Wars: Episode IV - A New Hope (1977)</td>\n",
              "      <td>Action|Adventure|Fantasy|Sci-Fi</td>\n",
              "      <td>4</td>\n",
              "    </tr>\n",
              "    <tr>\n",
              "      <th>4</th>\n",
              "      <td>Schindler's List (1993)</td>\n",
              "      <td>Drama|War</td>\n",
              "      <td>5</td>\n",
              "    </tr>\n",
              "  </tbody>\n",
              "</table>\n",
              "</div>\n",
              "      <button class=\"colab-df-convert\" onclick=\"convertToInteractive('df-05fe766a-91be-4732-95c1-1c9f59683163')\"\n",
              "              title=\"Convert this dataframe to an interactive table.\"\n",
              "              style=\"display:none;\">\n",
              "        \n",
              "  <svg xmlns=\"http://www.w3.org/2000/svg\" height=\"24px\"viewBox=\"0 0 24 24\"\n",
              "       width=\"24px\">\n",
              "    <path d=\"M0 0h24v24H0V0z\" fill=\"none\"/>\n",
              "    <path d=\"M18.56 5.44l.94 2.06.94-2.06 2.06-.94-2.06-.94-.94-2.06-.94 2.06-2.06.94zm-11 1L8.5 8.5l.94-2.06 2.06-.94-2.06-.94L8.5 2.5l-.94 2.06-2.06.94zm10 10l.94 2.06.94-2.06 2.06-.94-2.06-.94-.94-2.06-.94 2.06-2.06.94z\"/><path d=\"M17.41 7.96l-1.37-1.37c-.4-.4-.92-.59-1.43-.59-.52 0-1.04.2-1.43.59L10.3 9.45l-7.72 7.72c-.78.78-.78 2.05 0 2.83L4 21.41c.39.39.9.59 1.41.59.51 0 1.02-.2 1.41-.59l7.78-7.78 2.81-2.81c.8-.78.8-2.07 0-2.86zM5.41 20L4 18.59l7.72-7.72 1.47 1.35L5.41 20z\"/>\n",
              "  </svg>\n",
              "      </button>\n",
              "      \n",
              "  <style>\n",
              "    .colab-df-container {\n",
              "      display:flex;\n",
              "      flex-wrap:wrap;\n",
              "      gap: 12px;\n",
              "    }\n",
              "\n",
              "    .colab-df-convert {\n",
              "      background-color: #E8F0FE;\n",
              "      border: none;\n",
              "      border-radius: 50%;\n",
              "      cursor: pointer;\n",
              "      display: none;\n",
              "      fill: #1967D2;\n",
              "      height: 32px;\n",
              "      padding: 0 0 0 0;\n",
              "      width: 32px;\n",
              "    }\n",
              "\n",
              "    .colab-df-convert:hover {\n",
              "      background-color: #E2EBFA;\n",
              "      box-shadow: 0px 1px 2px rgba(60, 64, 67, 0.3), 0px 1px 3px 1px rgba(60, 64, 67, 0.15);\n",
              "      fill: #174EA6;\n",
              "    }\n",
              "\n",
              "    [theme=dark] .colab-df-convert {\n",
              "      background-color: #3B4455;\n",
              "      fill: #D2E3FC;\n",
              "    }\n",
              "\n",
              "    [theme=dark] .colab-df-convert:hover {\n",
              "      background-color: #434B5C;\n",
              "      box-shadow: 0px 1px 3px 1px rgba(0, 0, 0, 0.15);\n",
              "      filter: drop-shadow(0px 1px 2px rgba(0, 0, 0, 0.3));\n",
              "      fill: #FFFFFF;\n",
              "    }\n",
              "  </style>\n",
              "\n",
              "      <script>\n",
              "        const buttonEl =\n",
              "          document.querySelector('#df-05fe766a-91be-4732-95c1-1c9f59683163 button.colab-df-convert');\n",
              "        buttonEl.style.display =\n",
              "          google.colab.kernel.accessAllowed ? 'block' : 'none';\n",
              "\n",
              "        async function convertToInteractive(key) {\n",
              "          const element = document.querySelector('#df-05fe766a-91be-4732-95c1-1c9f59683163');\n",
              "          const dataTable =\n",
              "            await google.colab.kernel.invokeFunction('convertToInteractive',\n",
              "                                                     [key], {});\n",
              "          if (!dataTable) return;\n",
              "\n",
              "          const docLinkHtml = 'Like what you see? Visit the ' +\n",
              "            '<a target=\"_blank\" href=https://colab.research.google.com/notebooks/data_table.ipynb>data table notebook</a>'\n",
              "            + ' to learn more about interactive tables.';\n",
              "          element.innerHTML = '';\n",
              "          dataTable['output_type'] = 'display_data';\n",
              "          await google.colab.output.renderOutput(dataTable, element);\n",
              "          const docLink = document.createElement('div');\n",
              "          docLink.innerHTML = docLinkHtml;\n",
              "          element.appendChild(docLink);\n",
              "        }\n",
              "      </script>\n",
              "    </div>\n",
              "  </div>\n",
              "  "
            ],
            "text/plain": [
              "                                       title  ... rating\n",
              "0                           Toy Story (1995)  ...      5\n",
              "1                          Pocahontas (1995)  ...      5\n",
              "2                           Apollo 13 (1995)  ...      5\n",
              "3  Star Wars: Episode IV - A New Hope (1977)  ...      4\n",
              "4                    Schindler's List (1993)  ...      5\n",
              "\n",
              "[5 rows x 3 columns]"
            ]
          },
          "metadata": {},
          "execution_count": 30
        }
      ]
    },
    {
      "cell_type": "code",
      "source": [
        "df_1 = df_1.groupby([\"title\"]).agg(**{\"avg_rating\":(\"rating\", \"mean\"), \"rate_count\": (\"rating\", \"count\")}).reset_index()\n",
        "df_1.head()"
      ],
      "metadata": {
        "colab": {
          "base_uri": "https://localhost:8080/",
          "height": 0
        },
        "id": "oFHS-rqPwVII",
        "outputId": "ec3a3646-31cf-45e9-9ca8-b1937139d9a5"
      },
      "execution_count": 31,
      "outputs": [
        {
          "output_type": "execute_result",
          "data": {
            "text/html": [
              "\n",
              "  <div id=\"df-71405bc5-5e9a-4a22-b939-d8f122717f07\">\n",
              "    <div class=\"colab-df-container\">\n",
              "      <div>\n",
              "<style scoped>\n",
              "    .dataframe tbody tr th:only-of-type {\n",
              "        vertical-align: middle;\n",
              "    }\n",
              "\n",
              "    .dataframe tbody tr th {\n",
              "        vertical-align: top;\n",
              "    }\n",
              "\n",
              "    .dataframe thead th {\n",
              "        text-align: right;\n",
              "    }\n",
              "</style>\n",
              "<table border=\"1\" class=\"dataframe\">\n",
              "  <thead>\n",
              "    <tr style=\"text-align: right;\">\n",
              "      <th></th>\n",
              "      <th>title</th>\n",
              "      <th>avg_rating</th>\n",
              "      <th>rate_count</th>\n",
              "    </tr>\n",
              "  </thead>\n",
              "  <tbody>\n",
              "    <tr>\n",
              "      <th>0</th>\n",
              "      <td>$1,000,000 Duck (1971)</td>\n",
              "      <td>3.027027</td>\n",
              "      <td>37</td>\n",
              "    </tr>\n",
              "    <tr>\n",
              "      <th>1</th>\n",
              "      <td>'Night Mother (1986)</td>\n",
              "      <td>3.371429</td>\n",
              "      <td>70</td>\n",
              "    </tr>\n",
              "    <tr>\n",
              "      <th>2</th>\n",
              "      <td>'Til There Was You (1997)</td>\n",
              "      <td>2.692308</td>\n",
              "      <td>52</td>\n",
              "    </tr>\n",
              "    <tr>\n",
              "      <th>3</th>\n",
              "      <td>'burbs, The (1989)</td>\n",
              "      <td>2.910891</td>\n",
              "      <td>303</td>\n",
              "    </tr>\n",
              "    <tr>\n",
              "      <th>4</th>\n",
              "      <td>...And Justice for All (1979)</td>\n",
              "      <td>3.713568</td>\n",
              "      <td>199</td>\n",
              "    </tr>\n",
              "  </tbody>\n",
              "</table>\n",
              "</div>\n",
              "      <button class=\"colab-df-convert\" onclick=\"convertToInteractive('df-71405bc5-5e9a-4a22-b939-d8f122717f07')\"\n",
              "              title=\"Convert this dataframe to an interactive table.\"\n",
              "              style=\"display:none;\">\n",
              "        \n",
              "  <svg xmlns=\"http://www.w3.org/2000/svg\" height=\"24px\"viewBox=\"0 0 24 24\"\n",
              "       width=\"24px\">\n",
              "    <path d=\"M0 0h24v24H0V0z\" fill=\"none\"/>\n",
              "    <path d=\"M18.56 5.44l.94 2.06.94-2.06 2.06-.94-2.06-.94-.94-2.06-.94 2.06-2.06.94zm-11 1L8.5 8.5l.94-2.06 2.06-.94-2.06-.94L8.5 2.5l-.94 2.06-2.06.94zm10 10l.94 2.06.94-2.06 2.06-.94-2.06-.94-.94-2.06-.94 2.06-2.06.94z\"/><path d=\"M17.41 7.96l-1.37-1.37c-.4-.4-.92-.59-1.43-.59-.52 0-1.04.2-1.43.59L10.3 9.45l-7.72 7.72c-.78.78-.78 2.05 0 2.83L4 21.41c.39.39.9.59 1.41.59.51 0 1.02-.2 1.41-.59l7.78-7.78 2.81-2.81c.8-.78.8-2.07 0-2.86zM5.41 20L4 18.59l7.72-7.72 1.47 1.35L5.41 20z\"/>\n",
              "  </svg>\n",
              "      </button>\n",
              "      \n",
              "  <style>\n",
              "    .colab-df-container {\n",
              "      display:flex;\n",
              "      flex-wrap:wrap;\n",
              "      gap: 12px;\n",
              "    }\n",
              "\n",
              "    .colab-df-convert {\n",
              "      background-color: #E8F0FE;\n",
              "      border: none;\n",
              "      border-radius: 50%;\n",
              "      cursor: pointer;\n",
              "      display: none;\n",
              "      fill: #1967D2;\n",
              "      height: 32px;\n",
              "      padding: 0 0 0 0;\n",
              "      width: 32px;\n",
              "    }\n",
              "\n",
              "    .colab-df-convert:hover {\n",
              "      background-color: #E2EBFA;\n",
              "      box-shadow: 0px 1px 2px rgba(60, 64, 67, 0.3), 0px 1px 3px 1px rgba(60, 64, 67, 0.15);\n",
              "      fill: #174EA6;\n",
              "    }\n",
              "\n",
              "    [theme=dark] .colab-df-convert {\n",
              "      background-color: #3B4455;\n",
              "      fill: #D2E3FC;\n",
              "    }\n",
              "\n",
              "    [theme=dark] .colab-df-convert:hover {\n",
              "      background-color: #434B5C;\n",
              "      box-shadow: 0px 1px 3px 1px rgba(0, 0, 0, 0.15);\n",
              "      filter: drop-shadow(0px 1px 2px rgba(0, 0, 0, 0.3));\n",
              "      fill: #FFFFFF;\n",
              "    }\n",
              "  </style>\n",
              "\n",
              "      <script>\n",
              "        const buttonEl =\n",
              "          document.querySelector('#df-71405bc5-5e9a-4a22-b939-d8f122717f07 button.colab-df-convert');\n",
              "        buttonEl.style.display =\n",
              "          google.colab.kernel.accessAllowed ? 'block' : 'none';\n",
              "\n",
              "        async function convertToInteractive(key) {\n",
              "          const element = document.querySelector('#df-71405bc5-5e9a-4a22-b939-d8f122717f07');\n",
              "          const dataTable =\n",
              "            await google.colab.kernel.invokeFunction('convertToInteractive',\n",
              "                                                     [key], {});\n",
              "          if (!dataTable) return;\n",
              "\n",
              "          const docLinkHtml = 'Like what you see? Visit the ' +\n",
              "            '<a target=\"_blank\" href=https://colab.research.google.com/notebooks/data_table.ipynb>data table notebook</a>'\n",
              "            + ' to learn more about interactive tables.';\n",
              "          element.innerHTML = '';\n",
              "          dataTable['output_type'] = 'display_data';\n",
              "          await google.colab.output.renderOutput(dataTable, element);\n",
              "          const docLink = document.createElement('div');\n",
              "          docLink.innerHTML = docLinkHtml;\n",
              "          element.appendChild(docLink);\n",
              "        }\n",
              "      </script>\n",
              "    </div>\n",
              "  </div>\n",
              "  "
            ],
            "text/plain": [
              "                           title  avg_rating  rate_count\n",
              "0         $1,000,000 Duck (1971)    3.027027          37\n",
              "1           'Night Mother (1986)    3.371429          70\n",
              "2      'Til There Was You (1997)    2.692308          52\n",
              "3             'burbs, The (1989)    2.910891         303\n",
              "4  ...And Justice for All (1979)    3.713568         199"
            ]
          },
          "metadata": {},
          "execution_count": 31
        }
      ]
    },
    {
      "cell_type": "code",
      "source": [
        "df_1.shape"
      ],
      "metadata": {
        "colab": {
          "base_uri": "https://localhost:8080/"
        },
        "id": "W3VdwvKJwVKy",
        "outputId": "3be5d1bf-8e7a-4b1c-848c-7a7a55cac998"
      },
      "execution_count": 32,
      "outputs": [
        {
          "output_type": "execute_result",
          "data": {
            "text/plain": [
              "(3706, 3)"
            ]
          },
          "metadata": {},
          "execution_count": 32
        }
      ]
    },
    {
      "cell_type": "code",
      "source": [
        "# Calculate mean of vote average column\n",
        "C = df_1['avg_rating'].mean()\n",
        "print(C)"
      ],
      "metadata": {
        "colab": {
          "base_uri": "https://localhost:8080/"
        },
        "id": "YoAyQY1fvxDA",
        "outputId": "3fd2046c-5bdc-49d5-e9e9-fa4b4f7673af"
      },
      "execution_count": 33,
      "outputs": [
        {
          "output_type": "stream",
          "name": "stdout",
          "text": [
            "3.2388921779108975\n"
          ]
        }
      ]
    },
    {
      "cell_type": "code",
      "source": [
        "# Calculate the minimum number of votes required to be in the chart, m\n",
        "m = df_1['rate_count'].quantile(0.90)\n",
        "print(m)"
      ],
      "metadata": {
        "colab": {
          "base_uri": "https://localhost:8080/"
        },
        "id": "JjbTOVf3vxFX",
        "outputId": "8ca7ca67-ab2d-4b55-af59-a8dfe2746587"
      },
      "execution_count": 34,
      "outputs": [
        {
          "output_type": "stream",
          "name": "stdout",
          "text": [
            "729.5\n"
          ]
        }
      ]
    },
    {
      "cell_type": "code",
      "source": [
        "# Filter out all qualified movies into a new DataFrame\n",
        "q_movies = df_1.copy().loc[df_1['rate_count'] >= m]\n",
        "q_movies.shape"
      ],
      "metadata": {
        "colab": {
          "base_uri": "https://localhost:8080/"
        },
        "id": "H3ci_WOWvxH2",
        "outputId": "ad00ef14-8323-467a-cdf6-5bc152bdf076"
      },
      "execution_count": 35,
      "outputs": [
        {
          "output_type": "execute_result",
          "data": {
            "text/plain": [
              "(371, 3)"
            ]
          },
          "metadata": {},
          "execution_count": 35
        }
      ]
    },
    {
      "cell_type": "markdown",
      "source": [
        "*WeightedRating (WR)* = ($\\frac{v}{v + m}$ $.$ ${R}$ ) + ($\\frac{m}{v+m}$ $.$ ${C}$ )\n",
        "\n",
        "In the above equation,\n",
        "* v is the number of votes for the movie;\n",
        "* m is the minimum votes required to be listed in the chart;\n",
        "* R is the average rating of the movie;\n",
        "* C is the mean vote across the whole report."
      ],
      "metadata": {
        "id": "zfukpchdxWlV"
      }
    },
    {
      "cell_type": "code",
      "source": [
        "# Function that computes the weighted rating of each movie\n",
        "def weighted_rating(x, m=m, C=C):\n",
        "    v = x['rate_count']\n",
        "    R = x['avg_rating']\n",
        "    # Calculation based on the IMDB formula\n",
        "    return (v/(v+m) * R) + (m/(m+v) * C)"
      ],
      "metadata": {
        "id": "N-qAUYAlvxKX"
      },
      "execution_count": 36,
      "outputs": []
    },
    {
      "cell_type": "code",
      "source": [
        "# Define a new feature 'score' and calculate its value with `weighted_rating()`\n",
        "q_movies['score'] = q_movies.apply(weighted_rating, axis=1)"
      ],
      "metadata": {
        "id": "feljZc-j3hhY"
      },
      "execution_count": 37,
      "outputs": []
    },
    {
      "cell_type": "code",
      "source": [
        "#Sort movies based on score calculated above\n",
        "q_movies = q_movies.sort_values('score', ascending=False)\n",
        "\n",
        "#Print the top 15 movies\n",
        "q_movies[['title', 'rate_count', 'avg_rating', 'score']].head(5)"
      ],
      "metadata": {
        "colab": {
          "base_uri": "https://localhost:8080/",
          "height": 0
        },
        "id": "DbkuYMEr3uit",
        "outputId": "b9075ba7-1b97-47ae-9e3e-bb006960e2b0"
      },
      "execution_count": 38,
      "outputs": [
        {
          "output_type": "execute_result",
          "data": {
            "text/html": [
              "\n",
              "  <div id=\"df-dff7ce55-bca0-4585-a8f1-d8a4bedacd13\">\n",
              "    <div class=\"colab-df-container\">\n",
              "      <div>\n",
              "<style scoped>\n",
              "    .dataframe tbody tr th:only-of-type {\n",
              "        vertical-align: middle;\n",
              "    }\n",
              "\n",
              "    .dataframe tbody tr th {\n",
              "        vertical-align: top;\n",
              "    }\n",
              "\n",
              "    .dataframe thead th {\n",
              "        text-align: right;\n",
              "    }\n",
              "</style>\n",
              "<table border=\"1\" class=\"dataframe\">\n",
              "  <thead>\n",
              "    <tr style=\"text-align: right;\">\n",
              "      <th></th>\n",
              "      <th>title</th>\n",
              "      <th>rate_count</th>\n",
              "      <th>avg_rating</th>\n",
              "      <th>score</th>\n",
              "    </tr>\n",
              "  </thead>\n",
              "  <tbody>\n",
              "    <tr>\n",
              "      <th>2970</th>\n",
              "      <td>Shawshank Redemption, The (1994)</td>\n",
              "      <td>2227</td>\n",
              "      <td>4.554558</td>\n",
              "      <td>4.229925</td>\n",
              "    </tr>\n",
              "    <tr>\n",
              "      <th>3153</th>\n",
              "      <td>Star Wars: Episode IV - A New Hope (1977)</td>\n",
              "      <td>2991</td>\n",
              "      <td>4.453694</td>\n",
              "      <td>4.215501</td>\n",
              "    </tr>\n",
              "    <tr>\n",
              "      <th>1354</th>\n",
              "      <td>Godfather, The (1972)</td>\n",
              "      <td>2223</td>\n",
              "      <td>4.524966</td>\n",
              "      <td>4.207205</td>\n",
              "    </tr>\n",
              "    <tr>\n",
              "      <th>2901</th>\n",
              "      <td>Schindler's List (1993)</td>\n",
              "      <td>2304</td>\n",
              "      <td>4.510417</td>\n",
              "      <td>4.204639</td>\n",
              "    </tr>\n",
              "    <tr>\n",
              "      <th>2711</th>\n",
              "      <td>Raiders of the Lost Ark (1981)</td>\n",
              "      <td>2514</td>\n",
              "      <td>4.477725</td>\n",
              "      <td>4.199097</td>\n",
              "    </tr>\n",
              "  </tbody>\n",
              "</table>\n",
              "</div>\n",
              "      <button class=\"colab-df-convert\" onclick=\"convertToInteractive('df-dff7ce55-bca0-4585-a8f1-d8a4bedacd13')\"\n",
              "              title=\"Convert this dataframe to an interactive table.\"\n",
              "              style=\"display:none;\">\n",
              "        \n",
              "  <svg xmlns=\"http://www.w3.org/2000/svg\" height=\"24px\"viewBox=\"0 0 24 24\"\n",
              "       width=\"24px\">\n",
              "    <path d=\"M0 0h24v24H0V0z\" fill=\"none\"/>\n",
              "    <path d=\"M18.56 5.44l.94 2.06.94-2.06 2.06-.94-2.06-.94-.94-2.06-.94 2.06-2.06.94zm-11 1L8.5 8.5l.94-2.06 2.06-.94-2.06-.94L8.5 2.5l-.94 2.06-2.06.94zm10 10l.94 2.06.94-2.06 2.06-.94-2.06-.94-.94-2.06-.94 2.06-2.06.94z\"/><path d=\"M17.41 7.96l-1.37-1.37c-.4-.4-.92-.59-1.43-.59-.52 0-1.04.2-1.43.59L10.3 9.45l-7.72 7.72c-.78.78-.78 2.05 0 2.83L4 21.41c.39.39.9.59 1.41.59.51 0 1.02-.2 1.41-.59l7.78-7.78 2.81-2.81c.8-.78.8-2.07 0-2.86zM5.41 20L4 18.59l7.72-7.72 1.47 1.35L5.41 20z\"/>\n",
              "  </svg>\n",
              "      </button>\n",
              "      \n",
              "  <style>\n",
              "    .colab-df-container {\n",
              "      display:flex;\n",
              "      flex-wrap:wrap;\n",
              "      gap: 12px;\n",
              "    }\n",
              "\n",
              "    .colab-df-convert {\n",
              "      background-color: #E8F0FE;\n",
              "      border: none;\n",
              "      border-radius: 50%;\n",
              "      cursor: pointer;\n",
              "      display: none;\n",
              "      fill: #1967D2;\n",
              "      height: 32px;\n",
              "      padding: 0 0 0 0;\n",
              "      width: 32px;\n",
              "    }\n",
              "\n",
              "    .colab-df-convert:hover {\n",
              "      background-color: #E2EBFA;\n",
              "      box-shadow: 0px 1px 2px rgba(60, 64, 67, 0.3), 0px 1px 3px 1px rgba(60, 64, 67, 0.15);\n",
              "      fill: #174EA6;\n",
              "    }\n",
              "\n",
              "    [theme=dark] .colab-df-convert {\n",
              "      background-color: #3B4455;\n",
              "      fill: #D2E3FC;\n",
              "    }\n",
              "\n",
              "    [theme=dark] .colab-df-convert:hover {\n",
              "      background-color: #434B5C;\n",
              "      box-shadow: 0px 1px 3px 1px rgba(0, 0, 0, 0.15);\n",
              "      filter: drop-shadow(0px 1px 2px rgba(0, 0, 0, 0.3));\n",
              "      fill: #FFFFFF;\n",
              "    }\n",
              "  </style>\n",
              "\n",
              "      <script>\n",
              "        const buttonEl =\n",
              "          document.querySelector('#df-dff7ce55-bca0-4585-a8f1-d8a4bedacd13 button.colab-df-convert');\n",
              "        buttonEl.style.display =\n",
              "          google.colab.kernel.accessAllowed ? 'block' : 'none';\n",
              "\n",
              "        async function convertToInteractive(key) {\n",
              "          const element = document.querySelector('#df-dff7ce55-bca0-4585-a8f1-d8a4bedacd13');\n",
              "          const dataTable =\n",
              "            await google.colab.kernel.invokeFunction('convertToInteractive',\n",
              "                                                     [key], {});\n",
              "          if (!dataTable) return;\n",
              "\n",
              "          const docLinkHtml = 'Like what you see? Visit the ' +\n",
              "            '<a target=\"_blank\" href=https://colab.research.google.com/notebooks/data_table.ipynb>data table notebook</a>'\n",
              "            + ' to learn more about interactive tables.';\n",
              "          element.innerHTML = '';\n",
              "          dataTable['output_type'] = 'display_data';\n",
              "          await google.colab.output.renderOutput(dataTable, element);\n",
              "          const docLink = document.createElement('div');\n",
              "          docLink.innerHTML = docLinkHtml;\n",
              "          element.appendChild(docLink);\n",
              "        }\n",
              "      </script>\n",
              "    </div>\n",
              "  </div>\n",
              "  "
            ],
            "text/plain": [
              "                                          title  ...     score\n",
              "2970           Shawshank Redemption, The (1994)  ...  4.229925\n",
              "3153  Star Wars: Episode IV - A New Hope (1977)  ...  4.215501\n",
              "1354                      Godfather, The (1972)  ...  4.207205\n",
              "2901                    Schindler's List (1993)  ...  4.204639\n",
              "2711             Raiders of the Lost Ark (1981)  ...  4.199097\n",
              "\n",
              "[5 rows x 4 columns]"
            ]
          },
          "metadata": {},
          "execution_count": 38
        }
      ]
    },
    {
      "cell_type": "markdown",
      "source": [
        "RMSE (Root Mean Square Error) value"
      ],
      "metadata": {
        "id": "LfRoo0XaduS9"
      }
    },
    {
      "cell_type": "code",
      "source": [
        "from sklearn.metrics import mean_squared_error"
      ],
      "metadata": {
        "id": "CvPx764h3ulC"
      },
      "execution_count": 39,
      "outputs": []
    },
    {
      "cell_type": "code",
      "source": [
        "pred = q_movies.score\n",
        "actual = q_movies.avg_rating\n",
        "rmse_SR = np.sqrt(mean_squared_error(pred, actual))\n",
        "print(\"RMSE value for this model:\",rmse_SR)"
      ],
      "metadata": {
        "colab": {
          "base_uri": "https://localhost:8080/"
        },
        "id": "LGLT4c_fednH",
        "outputId": "a168c010-332d-4e68-f175-c817f4ae10da"
      },
      "execution_count": 40,
      "outputs": [
        {
          "output_type": "stream",
          "name": "stdout",
          "text": [
            "RMSE value for this model: 0.2500016380645881\n"
          ]
        }
      ]
    },
    {
      "cell_type": "markdown",
      "source": [
        "# **Content Based Recommendation model**"
      ],
      "metadata": {
        "id": "UeNisKzNH-4T"
      }
    },
    {
      "cell_type": "code",
      "source": [
        "# Break up the big genre string into a string array\n",
        "movie_df['genres'] = movie_df['genres'].str.split('|')\n",
        "# Convert genres to string value\n",
        "movie_df['genres'] = movie_df['genres'].fillna(\"\").astype('str')"
      ],
      "metadata": {
        "id": "K2fP25LyAFVS"
      },
      "execution_count": 41,
      "outputs": []
    },
    {
      "cell_type": "code",
      "source": [
        "movie_df.head()"
      ],
      "metadata": {
        "id": "dgrqu6QeAFX5",
        "colab": {
          "base_uri": "https://localhost:8080/",
          "height": 0
        },
        "outputId": "697d5c75-fe9f-46f9-c36b-a2d3c840cf8f"
      },
      "execution_count": 42,
      "outputs": [
        {
          "output_type": "execute_result",
          "data": {
            "text/html": [
              "\n",
              "  <div id=\"df-076d17e5-c611-4d7d-9ebb-7f522769d0c9\">\n",
              "    <div class=\"colab-df-container\">\n",
              "      <div>\n",
              "<style scoped>\n",
              "    .dataframe tbody tr th:only-of-type {\n",
              "        vertical-align: middle;\n",
              "    }\n",
              "\n",
              "    .dataframe tbody tr th {\n",
              "        vertical-align: top;\n",
              "    }\n",
              "\n",
              "    .dataframe thead th {\n",
              "        text-align: right;\n",
              "    }\n",
              "</style>\n",
              "<table border=\"1\" class=\"dataframe\">\n",
              "  <thead>\n",
              "    <tr style=\"text-align: right;\">\n",
              "      <th></th>\n",
              "      <th>movie_id</th>\n",
              "      <th>title</th>\n",
              "      <th>genres</th>\n",
              "    </tr>\n",
              "  </thead>\n",
              "  <tbody>\n",
              "    <tr>\n",
              "      <th>0</th>\n",
              "      <td>1</td>\n",
              "      <td>Toy Story (1995)</td>\n",
              "      <td>['Animation', \"Children's\", 'Comedy']</td>\n",
              "    </tr>\n",
              "    <tr>\n",
              "      <th>1</th>\n",
              "      <td>2</td>\n",
              "      <td>Jumanji (1995)</td>\n",
              "      <td>['Adventure', \"Children's\", 'Fantasy']</td>\n",
              "    </tr>\n",
              "    <tr>\n",
              "      <th>2</th>\n",
              "      <td>3</td>\n",
              "      <td>Grumpier Old Men (1995)</td>\n",
              "      <td>['Comedy', 'Romance']</td>\n",
              "    </tr>\n",
              "    <tr>\n",
              "      <th>3</th>\n",
              "      <td>4</td>\n",
              "      <td>Waiting to Exhale (1995)</td>\n",
              "      <td>['Comedy', 'Drama']</td>\n",
              "    </tr>\n",
              "    <tr>\n",
              "      <th>4</th>\n",
              "      <td>5</td>\n",
              "      <td>Father of the Bride Part II (1995)</td>\n",
              "      <td>['Comedy']</td>\n",
              "    </tr>\n",
              "  </tbody>\n",
              "</table>\n",
              "</div>\n",
              "      <button class=\"colab-df-convert\" onclick=\"convertToInteractive('df-076d17e5-c611-4d7d-9ebb-7f522769d0c9')\"\n",
              "              title=\"Convert this dataframe to an interactive table.\"\n",
              "              style=\"display:none;\">\n",
              "        \n",
              "  <svg xmlns=\"http://www.w3.org/2000/svg\" height=\"24px\"viewBox=\"0 0 24 24\"\n",
              "       width=\"24px\">\n",
              "    <path d=\"M0 0h24v24H0V0z\" fill=\"none\"/>\n",
              "    <path d=\"M18.56 5.44l.94 2.06.94-2.06 2.06-.94-2.06-.94-.94-2.06-.94 2.06-2.06.94zm-11 1L8.5 8.5l.94-2.06 2.06-.94-2.06-.94L8.5 2.5l-.94 2.06-2.06.94zm10 10l.94 2.06.94-2.06 2.06-.94-2.06-.94-.94-2.06-.94 2.06-2.06.94z\"/><path d=\"M17.41 7.96l-1.37-1.37c-.4-.4-.92-.59-1.43-.59-.52 0-1.04.2-1.43.59L10.3 9.45l-7.72 7.72c-.78.78-.78 2.05 0 2.83L4 21.41c.39.39.9.59 1.41.59.51 0 1.02-.2 1.41-.59l7.78-7.78 2.81-2.81c.8-.78.8-2.07 0-2.86zM5.41 20L4 18.59l7.72-7.72 1.47 1.35L5.41 20z\"/>\n",
              "  </svg>\n",
              "      </button>\n",
              "      \n",
              "  <style>\n",
              "    .colab-df-container {\n",
              "      display:flex;\n",
              "      flex-wrap:wrap;\n",
              "      gap: 12px;\n",
              "    }\n",
              "\n",
              "    .colab-df-convert {\n",
              "      background-color: #E8F0FE;\n",
              "      border: none;\n",
              "      border-radius: 50%;\n",
              "      cursor: pointer;\n",
              "      display: none;\n",
              "      fill: #1967D2;\n",
              "      height: 32px;\n",
              "      padding: 0 0 0 0;\n",
              "      width: 32px;\n",
              "    }\n",
              "\n",
              "    .colab-df-convert:hover {\n",
              "      background-color: #E2EBFA;\n",
              "      box-shadow: 0px 1px 2px rgba(60, 64, 67, 0.3), 0px 1px 3px 1px rgba(60, 64, 67, 0.15);\n",
              "      fill: #174EA6;\n",
              "    }\n",
              "\n",
              "    [theme=dark] .colab-df-convert {\n",
              "      background-color: #3B4455;\n",
              "      fill: #D2E3FC;\n",
              "    }\n",
              "\n",
              "    [theme=dark] .colab-df-convert:hover {\n",
              "      background-color: #434B5C;\n",
              "      box-shadow: 0px 1px 3px 1px rgba(0, 0, 0, 0.15);\n",
              "      filter: drop-shadow(0px 1px 2px rgba(0, 0, 0, 0.3));\n",
              "      fill: #FFFFFF;\n",
              "    }\n",
              "  </style>\n",
              "\n",
              "      <script>\n",
              "        const buttonEl =\n",
              "          document.querySelector('#df-076d17e5-c611-4d7d-9ebb-7f522769d0c9 button.colab-df-convert');\n",
              "        buttonEl.style.display =\n",
              "          google.colab.kernel.accessAllowed ? 'block' : 'none';\n",
              "\n",
              "        async function convertToInteractive(key) {\n",
              "          const element = document.querySelector('#df-076d17e5-c611-4d7d-9ebb-7f522769d0c9');\n",
              "          const dataTable =\n",
              "            await google.colab.kernel.invokeFunction('convertToInteractive',\n",
              "                                                     [key], {});\n",
              "          if (!dataTable) return;\n",
              "\n",
              "          const docLinkHtml = 'Like what you see? Visit the ' +\n",
              "            '<a target=\"_blank\" href=https://colab.research.google.com/notebooks/data_table.ipynb>data table notebook</a>'\n",
              "            + ' to learn more about interactive tables.';\n",
              "          element.innerHTML = '';\n",
              "          dataTable['output_type'] = 'display_data';\n",
              "          await google.colab.output.renderOutput(dataTable, element);\n",
              "          const docLink = document.createElement('div');\n",
              "          docLink.innerHTML = docLinkHtml;\n",
              "          element.appendChild(docLink);\n",
              "        }\n",
              "      </script>\n",
              "    </div>\n",
              "  </div>\n",
              "  "
            ],
            "text/plain": [
              "   movie_id  ...                                  genres\n",
              "0         1  ...   ['Animation', \"Children's\", 'Comedy']\n",
              "1         2  ...  ['Adventure', \"Children's\", 'Fantasy']\n",
              "2         3  ...                   ['Comedy', 'Romance']\n",
              "3         4  ...                     ['Comedy', 'Drama']\n",
              "4         5  ...                              ['Comedy']\n",
              "\n",
              "[5 rows x 3 columns]"
            ]
          },
          "metadata": {},
          "execution_count": 42
        }
      ]
    },
    {
      "cell_type": "code",
      "source": [
        "from sklearn.feature_extraction.text import TfidfVectorizer"
      ],
      "metadata": {
        "id": "bBo6nBqYpuXY"
      },
      "execution_count": 43,
      "outputs": []
    },
    {
      "cell_type": "code",
      "source": [
        "tf = TfidfVectorizer(analyzer='word',ngram_range=(1, 2),min_df=0, stop_words='english')\n",
        "tfidf_matrix = tf.fit_transform(movie_df['genres'])\n",
        "tfidf_matrix.shape"
      ],
      "metadata": {
        "colab": {
          "base_uri": "https://localhost:8080/"
        },
        "id": "rj-Mtcl1p979",
        "outputId": "6296a80e-165d-428f-b0ae-e8cc23f244fb"
      },
      "execution_count": 44,
      "outputs": [
        {
          "output_type": "execute_result",
          "data": {
            "text/plain": [
              "(3883, 127)"
            ]
          },
          "metadata": {},
          "execution_count": 44
        }
      ]
    },
    {
      "cell_type": "markdown",
      "source": [
        "I will be using the [Cosine Similarity](https://masongallo.github.io/machine/learning,/python/2016/07/29/cosine-similarity.html) to calculate a numeric quantity that denotes the similarity between two movies. Since we have used the TF-IDF Vectorizer, calculating the Dot Product will directly give us the Cosine Similarity Score. Therefore, we will use sklearn's **linear_kernel** instead of cosine_similarities since it is much faster.\n"
      ],
      "metadata": {
        "id": "gFSW1Q9lqtuo"
      }
    },
    {
      "cell_type": "code",
      "source": [
        "from sklearn.metrics.pairwise import linear_kernel"
      ],
      "metadata": {
        "id": "5DYoan2DqJQp"
      },
      "execution_count": 45,
      "outputs": []
    },
    {
      "cell_type": "code",
      "source": [
        "cosine_sim = linear_kernel(tfidf_matrix, tfidf_matrix)\n",
        "print(cosine_sim[:4, :4])"
      ],
      "metadata": {
        "colab": {
          "base_uri": "https://localhost:8080/"
        },
        "id": "Dy2QVDt-qJTS",
        "outputId": "1f5f90db-7c31-42a7-a46d-0762bc8e4d62"
      },
      "execution_count": 46,
      "outputs": [
        {
          "output_type": "stream",
          "name": "stdout",
          "text": [
            "[[1.         0.14193614 0.09010857 0.1056164 ]\n",
            " [0.14193614 1.         0.         0.        ]\n",
            " [0.09010857 0.         1.         0.1719888 ]\n",
            " [0.1056164  0.         0.1719888  1.        ]]\n"
          ]
        }
      ]
    },
    {
      "cell_type": "markdown",
      "source": [
        "I now have a pairwise cosine similarity matrix for all the movies in the dataset. The next step is to write a function that returns the 20 most similar movies based on the cosine similarity score."
      ],
      "metadata": {
        "id": "cqEtm0lpqpqy"
      }
    },
    {
      "cell_type": "code",
      "source": [
        "# Build a 1-dimensional array with movie titles\n",
        "titles = movie_df['title']\n",
        "indices = pd.Series(movie_df.index, index=movie_df['title'])\n",
        "\n",
        "# Function that get movie recommendations based on the cosine similarity score of movie genres\n",
        "def genre_recommendations(title):\n",
        "    idx = indices[title]\n",
        "    sim_scores = list(enumerate(cosine_sim[idx]))\n",
        "    sim_scores = sorted(sim_scores, key=lambda x: x[1], reverse=True)\n",
        "    sim_scores = sim_scores[1:21]\n",
        "    movie_indices = [i[0] for i in sim_scores]\n",
        "    return titles.iloc[movie_indices]"
      ],
      "metadata": {
        "id": "DeFGbO1qqJVp"
      },
      "execution_count": 47,
      "outputs": []
    },
    {
      "cell_type": "code",
      "source": [
        "print(genre_recommendations('Good Will Hunting (1997)').head(5))"
      ],
      "metadata": {
        "colab": {
          "base_uri": "https://localhost:8080/"
        },
        "id": "jQULwf31r5sZ",
        "outputId": "9b5f01f8-6608-4f29-b20c-f87f762782db"
      },
      "execution_count": 48,
      "outputs": [
        {
          "output_type": "stream",
          "name": "stdout",
          "text": [
            "25                                       Othello (1995)\n",
            "26                                  Now and Then (1995)\n",
            "29    Shanghai Triad (Yao a yao yao dao waipo qiao) ...\n",
            "30                               Dangerous Minds (1995)\n",
            "35                              Dead Man Walking (1995)\n",
            "Name: title, dtype: object\n"
          ]
        }
      ]
    },
    {
      "cell_type": "code",
      "source": [
        "print(genre_recommendations('Toy Story (1995)').head(5))"
      ],
      "metadata": {
        "colab": {
          "base_uri": "https://localhost:8080/"
        },
        "id": "BZIJtH-DqJak",
        "outputId": "36c8e82c-d848-4406-adb1-a3efc997853b"
      },
      "execution_count": 49,
      "outputs": [
        {
          "output_type": "stream",
          "name": "stdout",
          "text": [
            "1050        Aladdin and the King of Thieves (1996)\n",
            "2072                      American Tail, An (1986)\n",
            "2073    American Tail: Fievel Goes West, An (1991)\n",
            "2285                     Rugrats Movie, The (1998)\n",
            "2286                          Bug's Life, A (1998)\n",
            "Name: title, dtype: object\n"
          ]
        }
      ]
    },
    {
      "cell_type": "code",
      "source": [
        "print(genre_recommendations('Saving Private Ryan (1998)').head(5))"
      ],
      "metadata": {
        "colab": {
          "base_uri": "https://localhost:8080/"
        },
        "id": "FHR1l9uQ8IBt",
        "outputId": "c94287ef-db73-4a93-bee6-03760a5c7d05"
      },
      "execution_count": 50,
      "outputs": [
        {
          "output_type": "stream",
          "name": "stdout",
          "text": [
            "461           Heaven & Earth (1993)\n",
            "1204       Full Metal Jacket (1987)\n",
            "1214    Boat, The (Das Boot) (1981)\n",
            "1222                   Glory (1989)\n",
            "1545               G.I. Jane (1997)\n",
            "Name: title, dtype: object\n"
          ]
        }
      ]
    },
    {
      "cell_type": "markdown",
      "source": [
        "# **Collaborative Filtering Recommendation Model**"
      ],
      "metadata": {
        "id": "OtiojWNZh4Ni"
      }
    },
    {
      "cell_type": "code",
      "source": [
        "from sklearn.model_selection import train_test_split"
      ],
      "metadata": {
        "id": "D3yi3Q7riCEf"
      },
      "execution_count": 51,
      "outputs": []
    },
    {
      "cell_type": "code",
      "source": [
        "data = rating_df[[\"user_id\", \"movie_id\", \"rating\"]]\n",
        "data = data.sample(frac=0.01)\n",
        "data.shape"
      ],
      "metadata": {
        "id": "JJQDXIZlkZ6W",
        "colab": {
          "base_uri": "https://localhost:8080/"
        },
        "outputId": "d5e14bf3-7631-49c6-9756-4c762d340475"
      },
      "execution_count": 52,
      "outputs": [
        {
          "output_type": "execute_result",
          "data": {
            "text/plain": [
              "(10002, 3)"
            ]
          },
          "metadata": {},
          "execution_count": 52
        }
      ]
    },
    {
      "cell_type": "code",
      "source": [
        "train_data, test_data = train_test_split(data, test_size=0.3)"
      ],
      "metadata": {
        "id": "yKvWsnAaj95f"
      },
      "execution_count": 53,
      "outputs": []
    },
    {
      "cell_type": "code",
      "source": [
        "# Create two user-item matrices, one for training and another for testing\n",
        "train_data_matrix = train_data.to_numpy()\n",
        "test_data_matrix = test_data.to_numpy()\n",
        "data_matrix = data.to_numpy()\n",
        "\n",
        "# Check their shape\n",
        "print(train_data_matrix.shape)\n",
        "print(test_data_matrix.shape)\n",
        "print(data_matrix.shape)"
      ],
      "metadata": {
        "colab": {
          "base_uri": "https://localhost:8080/"
        },
        "id": "LFR7oFydlAEo",
        "outputId": "0134df43-f8a2-4e5f-b0ca-90ef9034cf57"
      },
      "execution_count": 54,
      "outputs": [
        {
          "output_type": "stream",
          "name": "stdout",
          "text": [
            "(7001, 3)\n",
            "(3001, 3)\n",
            "(10002, 3)\n"
          ]
        }
      ]
    },
    {
      "cell_type": "code",
      "source": [
        "from sklearn.metrics.pairwise import pairwise_distances"
      ],
      "metadata": {
        "id": "HW5mOEdrmN89"
      },
      "execution_count": 55,
      "outputs": []
    },
    {
      "cell_type": "code",
      "source": [
        "# User Similarity Matrix\n",
        "user_correlation = 1 - pairwise_distances(train_data, metric='correlation')\n",
        "user_correlation[np.isnan(user_correlation)] = 0\n",
        "print(user_correlation[:4, :4])"
      ],
      "metadata": {
        "id": "44j6FjIblAIC",
        "colab": {
          "base_uri": "https://localhost:8080/"
        },
        "outputId": "4d4be910-5a24-4510-92ab-32ea643a935e"
      },
      "execution_count": 56,
      "outputs": [
        {
          "output_type": "stream",
          "name": "stdout",
          "text": [
            "[[ 1.          0.94514845 -0.09533066  0.80633199]\n",
            " [ 0.94514845  1.          0.23505185  0.95529962]\n",
            " [-0.09533066  0.23505185  1.          0.51190133]\n",
            " [ 0.80633199  0.95529962  0.51190133  1.        ]]\n"
          ]
        }
      ]
    },
    {
      "cell_type": "code",
      "source": [
        "# Item Similarity Matrix\n",
        "item_correlation = 1 - pairwise_distances(train_data_matrix.T, metric='correlation')\n",
        "item_correlation[np.isnan(item_correlation)] = 0\n",
        "print(item_correlation[:4, :4])"
      ],
      "metadata": {
        "id": "cAo4uJEKmC8t",
        "colab": {
          "base_uri": "https://localhost:8080/"
        },
        "outputId": "ff6c3e04-c363-4837-e4a0-39f131ef87dc"
      },
      "execution_count": 57,
      "outputs": [
        {
          "output_type": "stream",
          "name": "stdout",
          "text": [
            "[[ 1.         -0.01552978  0.02446135]\n",
            " [-0.01552978  1.         -0.08911235]\n",
            " [ 0.02446135 -0.08911235  1.        ]]\n"
          ]
        }
      ]
    },
    {
      "cell_type": "code",
      "source": [
        "# Function to predict ratings\n",
        "def predict(ratings, similarity, type='user'):\n",
        "    if type == 'user':\n",
        "        mean_user_rating = ratings.mean(axis=1)\n",
        "        # Use np.newaxis so that mean_user_rating has same format as ratings\n",
        "        ratings_diff = (ratings - mean_user_rating[:, np.newaxis])\n",
        "        pred = mean_user_rating[:, np.newaxis] + similarity.dot(ratings_diff) / np.array([np.abs(similarity).sum(axis=1)]).T\n",
        "    elif type == 'item':\n",
        "        pred = ratings.dot(similarity) / np.array([np.abs(similarity).sum(axis=1)])\n",
        "    return pred"
      ],
      "metadata": {
        "id": "19wCy14CmDC1"
      },
      "execution_count": 58,
      "outputs": []
    },
    {
      "cell_type": "code",
      "source": [
        "from sklearn.metrics import mean_squared_error\n",
        "from math import sqrt\n",
        "\n",
        "# Function to calculate RMSE\n",
        "def rmse(pred, actual):\n",
        "    # Ignore nonzero terms.\n",
        "    pred = pred[actual.nonzero()].flatten()\n",
        "    actual = actual[actual.nonzero()].flatten()\n",
        "    return sqrt(mean_squared_error(pred, actual))"
      ],
      "metadata": {
        "id": "qfOEeBcICb9o"
      },
      "execution_count": 59,
      "outputs": []
    },
    {
      "cell_type": "code",
      "source": [
        "# Predict ratings on the training data with both similarity score\n",
        "user_prediction = predict(train_data_matrix, user_correlation, type='user')\n",
        "item_prediction = predict(train_data_matrix, item_correlation, type='item')\n",
        "\n",
        "# RMSE on the test data\n",
        "print('User-based CF RMSE: ' + str(rmse(user_prediction, test_data_matrix)))\n",
        "print('Item-based CF RMSE: ' + str(rmse(item_prediction, test_data_matrix)))"
      ],
      "metadata": {
        "colab": {
          "base_uri": "https://localhost:8080/"
        },
        "id": "cxZ9yNZQCjXf",
        "outputId": "76063fb4-7394-43d9-ca8e-18d88eee4264"
      },
      "execution_count": 60,
      "outputs": [
        {
          "output_type": "stream",
          "name": "stdout",
          "text": [
            "User-based CF RMSE: 1413.5643812522833\n",
            "Item-based CF RMSE: 1617.384044894395\n"
          ]
        }
      ]
    },
    {
      "cell_type": "code",
      "source": [
        "# RMSE on the train data\n",
        "print('User-based CF RMSE: ' + str(rmse(user_prediction, train_data_matrix)))\n",
        "print('Item-based CF RMSE: ' + str(rmse(item_prediction, train_data_matrix)))"
      ],
      "metadata": {
        "colab": {
          "base_uri": "https://localhost:8080/"
        },
        "id": "X7VYKEVpCjaZ",
        "outputId": "e241976a-3367-40f7-ad0e-781d32d94417"
      },
      "execution_count": 61,
      "outputs": [
        {
          "output_type": "stream",
          "name": "stdout",
          "text": [
            "User-based CF RMSE: 695.0781070864928\n",
            "Item-based CF RMSE: 185.06182706130613\n"
          ]
        }
      ]
    },
    {
      "cell_type": "code",
      "source": [
        "# User Similarity Matrix\n",
        "user_correlation_1 = 1 - pairwise_distances(data, metric='correlation')\n",
        "user_correlation_1[np.isnan(user_correlation_1)] = 0\n",
        "print(user_correlation_1[:4, :4])\n",
        "\n",
        "# Item Similarity Matrix\n",
        "item_correlation_1 = 1 - pairwise_distances(data_matrix.T, metric='correlation')\n",
        "item_correlation_1[np.isnan(item_correlation_1)] = 0\n",
        "print(item_correlation_1[:4, :4])\n",
        "\n",
        "# Predict ratings on the whole data with both similarity score\n",
        "user_prediction_1 = predict(data_matrix, user_correlation_1, type='user')\n",
        "item_prediction_1 = predict(data_matrix, item_correlation_1, type='item')\n",
        "\n",
        "# RMSE on the whole data\n",
        "\n",
        "rmse_ub_cf = rmse(user_prediction_1, data_matrix)\n",
        "rmse_ib_cf = rmse(item_prediction_1, data_matrix)\n",
        "print('User-based CF RMSE: ' + str(rmse_ub_cf))\n",
        "print('Item-based CF RMSE: ' + str(rmse_ib_cf))"
      ],
      "metadata": {
        "colab": {
          "base_uri": "https://localhost:8080/"
        },
        "id": "kBr3ZzaNXPS0",
        "outputId": "86740846-b02b-43d5-bc1f-a6e75d5c406e"
      },
      "execution_count": 62,
      "outputs": [
        {
          "output_type": "stream",
          "name": "stdout",
          "text": [
            "[[1.         0.7365415  0.39029502 0.03631523]\n",
            " [0.7365415  1.         0.91021606 0.70269387]\n",
            " [0.39029502 0.91021606 1.         0.9342562 ]\n",
            " [0.03631523 0.70269387 0.9342562  1.        ]]\n",
            "[[ 1.         -0.01456267  0.02110212]\n",
            " [-0.01456267  1.         -0.08402015]\n",
            " [ 0.02110212 -0.08402015  1.        ]]\n",
            "User-based CF RMSE: 695.7367994277615\n",
            "Item-based CF RMSE: 173.62656724136917\n"
          ]
        }
      ]
    },
    {
      "cell_type": "markdown",
      "source": [
        "# TDM data"
      ],
      "metadata": {
        "id": "xtfYFIevAAcj"
      }
    },
    {
      "cell_type": "code",
      "source": [
        "tdm_df = pd.read_csv(\"/content/drive/MyDrive/Big_data_project/data/tmdb_5000_movies.csv\")\n",
        "tdm_df.head(1)"
      ],
      "metadata": {
        "colab": {
          "base_uri": "https://localhost:8080/",
          "height": 231
        },
        "id": "jcp3oTHmmxN0",
        "outputId": "151f536c-4478-46ff-df87-83e54126b0c2"
      },
      "execution_count": 63,
      "outputs": [
        {
          "output_type": "execute_result",
          "data": {
            "text/html": [
              "\n",
              "  <div id=\"df-17aa245f-8ddf-4bb1-95dc-ddf2895d08d0\">\n",
              "    <div class=\"colab-df-container\">\n",
              "      <div>\n",
              "<style scoped>\n",
              "    .dataframe tbody tr th:only-of-type {\n",
              "        vertical-align: middle;\n",
              "    }\n",
              "\n",
              "    .dataframe tbody tr th {\n",
              "        vertical-align: top;\n",
              "    }\n",
              "\n",
              "    .dataframe thead th {\n",
              "        text-align: right;\n",
              "    }\n",
              "</style>\n",
              "<table border=\"1\" class=\"dataframe\">\n",
              "  <thead>\n",
              "    <tr style=\"text-align: right;\">\n",
              "      <th></th>\n",
              "      <th>budget</th>\n",
              "      <th>genres</th>\n",
              "      <th>homepage</th>\n",
              "      <th>id</th>\n",
              "      <th>keywords</th>\n",
              "      <th>original_language</th>\n",
              "      <th>original_title</th>\n",
              "      <th>overview</th>\n",
              "      <th>popularity</th>\n",
              "      <th>production_companies</th>\n",
              "      <th>production_countries</th>\n",
              "      <th>release_date</th>\n",
              "      <th>revenue</th>\n",
              "      <th>runtime</th>\n",
              "      <th>spoken_languages</th>\n",
              "      <th>status</th>\n",
              "      <th>tagline</th>\n",
              "      <th>title</th>\n",
              "      <th>vote_average</th>\n",
              "      <th>vote_count</th>\n",
              "    </tr>\n",
              "  </thead>\n",
              "  <tbody>\n",
              "    <tr>\n",
              "      <th>0</th>\n",
              "      <td>237000000</td>\n",
              "      <td>[{\"id\": 28, \"name\": \"Action\"}, {\"id\": 12, \"nam...</td>\n",
              "      <td>http://www.avatarmovie.com/</td>\n",
              "      <td>19995</td>\n",
              "      <td>[{\"id\": 1463, \"name\": \"culture clash\"}, {\"id\":...</td>\n",
              "      <td>en</td>\n",
              "      <td>Avatar</td>\n",
              "      <td>In the 22nd century, a paraplegic Marine is di...</td>\n",
              "      <td>150.437577</td>\n",
              "      <td>[{\"name\": \"Ingenious Film Partners\", \"id\": 289...</td>\n",
              "      <td>[{\"iso_3166_1\": \"US\", \"name\": \"United States o...</td>\n",
              "      <td>2009-12-10</td>\n",
              "      <td>2787965087</td>\n",
              "      <td>162.0</td>\n",
              "      <td>[{\"iso_639_1\": \"en\", \"name\": \"English\"}, {\"iso...</td>\n",
              "      <td>Released</td>\n",
              "      <td>Enter the World of Pandora.</td>\n",
              "      <td>Avatar</td>\n",
              "      <td>7.2</td>\n",
              "      <td>11800</td>\n",
              "    </tr>\n",
              "  </tbody>\n",
              "</table>\n",
              "</div>\n",
              "      <button class=\"colab-df-convert\" onclick=\"convertToInteractive('df-17aa245f-8ddf-4bb1-95dc-ddf2895d08d0')\"\n",
              "              title=\"Convert this dataframe to an interactive table.\"\n",
              "              style=\"display:none;\">\n",
              "        \n",
              "  <svg xmlns=\"http://www.w3.org/2000/svg\" height=\"24px\"viewBox=\"0 0 24 24\"\n",
              "       width=\"24px\">\n",
              "    <path d=\"M0 0h24v24H0V0z\" fill=\"none\"/>\n",
              "    <path d=\"M18.56 5.44l.94 2.06.94-2.06 2.06-.94-2.06-.94-.94-2.06-.94 2.06-2.06.94zm-11 1L8.5 8.5l.94-2.06 2.06-.94-2.06-.94L8.5 2.5l-.94 2.06-2.06.94zm10 10l.94 2.06.94-2.06 2.06-.94-2.06-.94-.94-2.06-.94 2.06-2.06.94z\"/><path d=\"M17.41 7.96l-1.37-1.37c-.4-.4-.92-.59-1.43-.59-.52 0-1.04.2-1.43.59L10.3 9.45l-7.72 7.72c-.78.78-.78 2.05 0 2.83L4 21.41c.39.39.9.59 1.41.59.51 0 1.02-.2 1.41-.59l7.78-7.78 2.81-2.81c.8-.78.8-2.07 0-2.86zM5.41 20L4 18.59l7.72-7.72 1.47 1.35L5.41 20z\"/>\n",
              "  </svg>\n",
              "      </button>\n",
              "      \n",
              "  <style>\n",
              "    .colab-df-container {\n",
              "      display:flex;\n",
              "      flex-wrap:wrap;\n",
              "      gap: 12px;\n",
              "    }\n",
              "\n",
              "    .colab-df-convert {\n",
              "      background-color: #E8F0FE;\n",
              "      border: none;\n",
              "      border-radius: 50%;\n",
              "      cursor: pointer;\n",
              "      display: none;\n",
              "      fill: #1967D2;\n",
              "      height: 32px;\n",
              "      padding: 0 0 0 0;\n",
              "      width: 32px;\n",
              "    }\n",
              "\n",
              "    .colab-df-convert:hover {\n",
              "      background-color: #E2EBFA;\n",
              "      box-shadow: 0px 1px 2px rgba(60, 64, 67, 0.3), 0px 1px 3px 1px rgba(60, 64, 67, 0.15);\n",
              "      fill: #174EA6;\n",
              "    }\n",
              "\n",
              "    [theme=dark] .colab-df-convert {\n",
              "      background-color: #3B4455;\n",
              "      fill: #D2E3FC;\n",
              "    }\n",
              "\n",
              "    [theme=dark] .colab-df-convert:hover {\n",
              "      background-color: #434B5C;\n",
              "      box-shadow: 0px 1px 3px 1px rgba(0, 0, 0, 0.15);\n",
              "      filter: drop-shadow(0px 1px 2px rgba(0, 0, 0, 0.3));\n",
              "      fill: #FFFFFF;\n",
              "    }\n",
              "  </style>\n",
              "\n",
              "      <script>\n",
              "        const buttonEl =\n",
              "          document.querySelector('#df-17aa245f-8ddf-4bb1-95dc-ddf2895d08d0 button.colab-df-convert');\n",
              "        buttonEl.style.display =\n",
              "          google.colab.kernel.accessAllowed ? 'block' : 'none';\n",
              "\n",
              "        async function convertToInteractive(key) {\n",
              "          const element = document.querySelector('#df-17aa245f-8ddf-4bb1-95dc-ddf2895d08d0');\n",
              "          const dataTable =\n",
              "            await google.colab.kernel.invokeFunction('convertToInteractive',\n",
              "                                                     [key], {});\n",
              "          if (!dataTable) return;\n",
              "\n",
              "          const docLinkHtml = 'Like what you see? Visit the ' +\n",
              "            '<a target=\"_blank\" href=https://colab.research.google.com/notebooks/data_table.ipynb>data table notebook</a>'\n",
              "            + ' to learn more about interactive tables.';\n",
              "          element.innerHTML = '';\n",
              "          dataTable['output_type'] = 'display_data';\n",
              "          await google.colab.output.renderOutput(dataTable, element);\n",
              "          const docLink = document.createElement('div');\n",
              "          docLink.innerHTML = docLinkHtml;\n",
              "          element.appendChild(docLink);\n",
              "        }\n",
              "      </script>\n",
              "    </div>\n",
              "  </div>\n",
              "  "
            ],
            "text/plain": [
              "      budget  ... vote_count\n",
              "0  237000000  ...      11800\n",
              "\n",
              "[1 rows x 20 columns]"
            ]
          },
          "metadata": {},
          "execution_count": 63
        }
      ]
    },
    {
      "cell_type": "code",
      "source": [
        "data = tdm_df[[\"id\", \"title\", \"genres\", \"keywords\", \"vote_average\", \"vote_count\"]]\n",
        "data.head()"
      ],
      "metadata": {
        "colab": {
          "base_uri": "https://localhost:8080/",
          "height": 206
        },
        "id": "RQx9YkrrM2XW",
        "outputId": "a50c2d63-b0da-4696-d78b-1dbd955b8e9e"
      },
      "execution_count": 64,
      "outputs": [
        {
          "output_type": "execute_result",
          "data": {
            "text/html": [
              "\n",
              "  <div id=\"df-c0461fcf-fc4a-4b82-8f6b-ed547d664deb\">\n",
              "    <div class=\"colab-df-container\">\n",
              "      <div>\n",
              "<style scoped>\n",
              "    .dataframe tbody tr th:only-of-type {\n",
              "        vertical-align: middle;\n",
              "    }\n",
              "\n",
              "    .dataframe tbody tr th {\n",
              "        vertical-align: top;\n",
              "    }\n",
              "\n",
              "    .dataframe thead th {\n",
              "        text-align: right;\n",
              "    }\n",
              "</style>\n",
              "<table border=\"1\" class=\"dataframe\">\n",
              "  <thead>\n",
              "    <tr style=\"text-align: right;\">\n",
              "      <th></th>\n",
              "      <th>id</th>\n",
              "      <th>title</th>\n",
              "      <th>genres</th>\n",
              "      <th>keywords</th>\n",
              "      <th>vote_average</th>\n",
              "      <th>vote_count</th>\n",
              "    </tr>\n",
              "  </thead>\n",
              "  <tbody>\n",
              "    <tr>\n",
              "      <th>0</th>\n",
              "      <td>19995</td>\n",
              "      <td>Avatar</td>\n",
              "      <td>[{\"id\": 28, \"name\": \"Action\"}, {\"id\": 12, \"nam...</td>\n",
              "      <td>[{\"id\": 1463, \"name\": \"culture clash\"}, {\"id\":...</td>\n",
              "      <td>7.2</td>\n",
              "      <td>11800</td>\n",
              "    </tr>\n",
              "    <tr>\n",
              "      <th>1</th>\n",
              "      <td>285</td>\n",
              "      <td>Pirates of the Caribbean: At World's End</td>\n",
              "      <td>[{\"id\": 12, \"name\": \"Adventure\"}, {\"id\": 14, \"...</td>\n",
              "      <td>[{\"id\": 270, \"name\": \"ocean\"}, {\"id\": 726, \"na...</td>\n",
              "      <td>6.9</td>\n",
              "      <td>4500</td>\n",
              "    </tr>\n",
              "    <tr>\n",
              "      <th>2</th>\n",
              "      <td>206647</td>\n",
              "      <td>Spectre</td>\n",
              "      <td>[{\"id\": 28, \"name\": \"Action\"}, {\"id\": 12, \"nam...</td>\n",
              "      <td>[{\"id\": 470, \"name\": \"spy\"}, {\"id\": 818, \"name...</td>\n",
              "      <td>6.3</td>\n",
              "      <td>4466</td>\n",
              "    </tr>\n",
              "    <tr>\n",
              "      <th>3</th>\n",
              "      <td>49026</td>\n",
              "      <td>The Dark Knight Rises</td>\n",
              "      <td>[{\"id\": 28, \"name\": \"Action\"}, {\"id\": 80, \"nam...</td>\n",
              "      <td>[{\"id\": 849, \"name\": \"dc comics\"}, {\"id\": 853,...</td>\n",
              "      <td>7.6</td>\n",
              "      <td>9106</td>\n",
              "    </tr>\n",
              "    <tr>\n",
              "      <th>4</th>\n",
              "      <td>49529</td>\n",
              "      <td>John Carter</td>\n",
              "      <td>[{\"id\": 28, \"name\": \"Action\"}, {\"id\": 12, \"nam...</td>\n",
              "      <td>[{\"id\": 818, \"name\": \"based on novel\"}, {\"id\":...</td>\n",
              "      <td>6.1</td>\n",
              "      <td>2124</td>\n",
              "    </tr>\n",
              "  </tbody>\n",
              "</table>\n",
              "</div>\n",
              "      <button class=\"colab-df-convert\" onclick=\"convertToInteractive('df-c0461fcf-fc4a-4b82-8f6b-ed547d664deb')\"\n",
              "              title=\"Convert this dataframe to an interactive table.\"\n",
              "              style=\"display:none;\">\n",
              "        \n",
              "  <svg xmlns=\"http://www.w3.org/2000/svg\" height=\"24px\"viewBox=\"0 0 24 24\"\n",
              "       width=\"24px\">\n",
              "    <path d=\"M0 0h24v24H0V0z\" fill=\"none\"/>\n",
              "    <path d=\"M18.56 5.44l.94 2.06.94-2.06 2.06-.94-2.06-.94-.94-2.06-.94 2.06-2.06.94zm-11 1L8.5 8.5l.94-2.06 2.06-.94-2.06-.94L8.5 2.5l-.94 2.06-2.06.94zm10 10l.94 2.06.94-2.06 2.06-.94-2.06-.94-.94-2.06-.94 2.06-2.06.94z\"/><path d=\"M17.41 7.96l-1.37-1.37c-.4-.4-.92-.59-1.43-.59-.52 0-1.04.2-1.43.59L10.3 9.45l-7.72 7.72c-.78.78-.78 2.05 0 2.83L4 21.41c.39.39.9.59 1.41.59.51 0 1.02-.2 1.41-.59l7.78-7.78 2.81-2.81c.8-.78.8-2.07 0-2.86zM5.41 20L4 18.59l7.72-7.72 1.47 1.35L5.41 20z\"/>\n",
              "  </svg>\n",
              "      </button>\n",
              "      \n",
              "  <style>\n",
              "    .colab-df-container {\n",
              "      display:flex;\n",
              "      flex-wrap:wrap;\n",
              "      gap: 12px;\n",
              "    }\n",
              "\n",
              "    .colab-df-convert {\n",
              "      background-color: #E8F0FE;\n",
              "      border: none;\n",
              "      border-radius: 50%;\n",
              "      cursor: pointer;\n",
              "      display: none;\n",
              "      fill: #1967D2;\n",
              "      height: 32px;\n",
              "      padding: 0 0 0 0;\n",
              "      width: 32px;\n",
              "    }\n",
              "\n",
              "    .colab-df-convert:hover {\n",
              "      background-color: #E2EBFA;\n",
              "      box-shadow: 0px 1px 2px rgba(60, 64, 67, 0.3), 0px 1px 3px 1px rgba(60, 64, 67, 0.15);\n",
              "      fill: #174EA6;\n",
              "    }\n",
              "\n",
              "    [theme=dark] .colab-df-convert {\n",
              "      background-color: #3B4455;\n",
              "      fill: #D2E3FC;\n",
              "    }\n",
              "\n",
              "    [theme=dark] .colab-df-convert:hover {\n",
              "      background-color: #434B5C;\n",
              "      box-shadow: 0px 1px 3px 1px rgba(0, 0, 0, 0.15);\n",
              "      filter: drop-shadow(0px 1px 2px rgba(0, 0, 0, 0.3));\n",
              "      fill: #FFFFFF;\n",
              "    }\n",
              "  </style>\n",
              "\n",
              "      <script>\n",
              "        const buttonEl =\n",
              "          document.querySelector('#df-c0461fcf-fc4a-4b82-8f6b-ed547d664deb button.colab-df-convert');\n",
              "        buttonEl.style.display =\n",
              "          google.colab.kernel.accessAllowed ? 'block' : 'none';\n",
              "\n",
              "        async function convertToInteractive(key) {\n",
              "          const element = document.querySelector('#df-c0461fcf-fc4a-4b82-8f6b-ed547d664deb');\n",
              "          const dataTable =\n",
              "            await google.colab.kernel.invokeFunction('convertToInteractive',\n",
              "                                                     [key], {});\n",
              "          if (!dataTable) return;\n",
              "\n",
              "          const docLinkHtml = 'Like what you see? Visit the ' +\n",
              "            '<a target=\"_blank\" href=https://colab.research.google.com/notebooks/data_table.ipynb>data table notebook</a>'\n",
              "            + ' to learn more about interactive tables.';\n",
              "          element.innerHTML = '';\n",
              "          dataTable['output_type'] = 'display_data';\n",
              "          await google.colab.output.renderOutput(dataTable, element);\n",
              "          const docLink = document.createElement('div');\n",
              "          docLink.innerHTML = docLinkHtml;\n",
              "          element.appendChild(docLink);\n",
              "        }\n",
              "      </script>\n",
              "    </div>\n",
              "  </div>\n",
              "  "
            ],
            "text/plain": [
              "       id                                     title  ... vote_average vote_count\n",
              "0   19995                                    Avatar  ...          7.2      11800\n",
              "1     285  Pirates of the Caribbean: At World's End  ...          6.9       4500\n",
              "2  206647                                   Spectre  ...          6.3       4466\n",
              "3   49026                     The Dark Knight Rises  ...          7.6       9106\n",
              "4   49529                               John Carter  ...          6.1       2124\n",
              "\n",
              "[5 rows x 6 columns]"
            ]
          },
          "metadata": {},
          "execution_count": 64
        }
      ]
    },
    {
      "cell_type": "code",
      "source": [
        "# Parse the stringified features into their corresponding python objects\n",
        "from ast import literal_eval"
      ],
      "metadata": {
        "id": "E6NIVLbgR4Kd"
      },
      "execution_count": 65,
      "outputs": []
    },
    {
      "cell_type": "code",
      "source": [
        "features = ['keywords', 'genres']\n",
        "for feature in features:\n",
        "    data[feature] = data[feature].apply(literal_eval)"
      ],
      "metadata": {
        "id": "iRgtx9tOSs0j"
      },
      "execution_count": 66,
      "outputs": []
    },
    {
      "cell_type": "code",
      "source": [
        "def get_list(x):\n",
        "    if isinstance(x, list):\n",
        "        names = [i['name'] for i in x]\n",
        "        return names\n",
        "\n",
        "    #Return empty list in case of missing/malformed data\n",
        "    return []"
      ],
      "metadata": {
        "id": "AguRq4WkSs3G"
      },
      "execution_count": 67,
      "outputs": []
    },
    {
      "cell_type": "code",
      "source": [
        "for feature in features:\n",
        "    data[feature] = data[feature].apply(get_list)"
      ],
      "metadata": {
        "id": "txqc5Qk7eJL6"
      },
      "execution_count": 68,
      "outputs": []
    },
    {
      "cell_type": "code",
      "source": [
        "data.head()"
      ],
      "metadata": {
        "colab": {
          "base_uri": "https://localhost:8080/",
          "height": 206
        },
        "id": "yKjKgLYAefMH",
        "outputId": "1b2f5211-3c62-43bc-f160-e9c5e985e38d"
      },
      "execution_count": 69,
      "outputs": [
        {
          "output_type": "execute_result",
          "data": {
            "text/html": [
              "\n",
              "  <div id=\"df-408cacf0-1e65-40c5-93fd-f9bec02d415a\">\n",
              "    <div class=\"colab-df-container\">\n",
              "      <div>\n",
              "<style scoped>\n",
              "    .dataframe tbody tr th:only-of-type {\n",
              "        vertical-align: middle;\n",
              "    }\n",
              "\n",
              "    .dataframe tbody tr th {\n",
              "        vertical-align: top;\n",
              "    }\n",
              "\n",
              "    .dataframe thead th {\n",
              "        text-align: right;\n",
              "    }\n",
              "</style>\n",
              "<table border=\"1\" class=\"dataframe\">\n",
              "  <thead>\n",
              "    <tr style=\"text-align: right;\">\n",
              "      <th></th>\n",
              "      <th>id</th>\n",
              "      <th>title</th>\n",
              "      <th>genres</th>\n",
              "      <th>keywords</th>\n",
              "      <th>vote_average</th>\n",
              "      <th>vote_count</th>\n",
              "    </tr>\n",
              "  </thead>\n",
              "  <tbody>\n",
              "    <tr>\n",
              "      <th>0</th>\n",
              "      <td>19995</td>\n",
              "      <td>Avatar</td>\n",
              "      <td>[Action, Adventure, Fantasy, Science Fiction]</td>\n",
              "      <td>[culture clash, future, space war, space colon...</td>\n",
              "      <td>7.2</td>\n",
              "      <td>11800</td>\n",
              "    </tr>\n",
              "    <tr>\n",
              "      <th>1</th>\n",
              "      <td>285</td>\n",
              "      <td>Pirates of the Caribbean: At World's End</td>\n",
              "      <td>[Adventure, Fantasy, Action]</td>\n",
              "      <td>[ocean, drug abuse, exotic island, east india ...</td>\n",
              "      <td>6.9</td>\n",
              "      <td>4500</td>\n",
              "    </tr>\n",
              "    <tr>\n",
              "      <th>2</th>\n",
              "      <td>206647</td>\n",
              "      <td>Spectre</td>\n",
              "      <td>[Action, Adventure, Crime]</td>\n",
              "      <td>[spy, based on novel, secret agent, sequel, mi...</td>\n",
              "      <td>6.3</td>\n",
              "      <td>4466</td>\n",
              "    </tr>\n",
              "    <tr>\n",
              "      <th>3</th>\n",
              "      <td>49026</td>\n",
              "      <td>The Dark Knight Rises</td>\n",
              "      <td>[Action, Crime, Drama, Thriller]</td>\n",
              "      <td>[dc comics, crime fighter, terrorist, secret i...</td>\n",
              "      <td>7.6</td>\n",
              "      <td>9106</td>\n",
              "    </tr>\n",
              "    <tr>\n",
              "      <th>4</th>\n",
              "      <td>49529</td>\n",
              "      <td>John Carter</td>\n",
              "      <td>[Action, Adventure, Science Fiction]</td>\n",
              "      <td>[based on novel, mars, medallion, space travel...</td>\n",
              "      <td>6.1</td>\n",
              "      <td>2124</td>\n",
              "    </tr>\n",
              "  </tbody>\n",
              "</table>\n",
              "</div>\n",
              "      <button class=\"colab-df-convert\" onclick=\"convertToInteractive('df-408cacf0-1e65-40c5-93fd-f9bec02d415a')\"\n",
              "              title=\"Convert this dataframe to an interactive table.\"\n",
              "              style=\"display:none;\">\n",
              "        \n",
              "  <svg xmlns=\"http://www.w3.org/2000/svg\" height=\"24px\"viewBox=\"0 0 24 24\"\n",
              "       width=\"24px\">\n",
              "    <path d=\"M0 0h24v24H0V0z\" fill=\"none\"/>\n",
              "    <path d=\"M18.56 5.44l.94 2.06.94-2.06 2.06-.94-2.06-.94-.94-2.06-.94 2.06-2.06.94zm-11 1L8.5 8.5l.94-2.06 2.06-.94-2.06-.94L8.5 2.5l-.94 2.06-2.06.94zm10 10l.94 2.06.94-2.06 2.06-.94-2.06-.94-.94-2.06-.94 2.06-2.06.94z\"/><path d=\"M17.41 7.96l-1.37-1.37c-.4-.4-.92-.59-1.43-.59-.52 0-1.04.2-1.43.59L10.3 9.45l-7.72 7.72c-.78.78-.78 2.05 0 2.83L4 21.41c.39.39.9.59 1.41.59.51 0 1.02-.2 1.41-.59l7.78-7.78 2.81-2.81c.8-.78.8-2.07 0-2.86zM5.41 20L4 18.59l7.72-7.72 1.47 1.35L5.41 20z\"/>\n",
              "  </svg>\n",
              "      </button>\n",
              "      \n",
              "  <style>\n",
              "    .colab-df-container {\n",
              "      display:flex;\n",
              "      flex-wrap:wrap;\n",
              "      gap: 12px;\n",
              "    }\n",
              "\n",
              "    .colab-df-convert {\n",
              "      background-color: #E8F0FE;\n",
              "      border: none;\n",
              "      border-radius: 50%;\n",
              "      cursor: pointer;\n",
              "      display: none;\n",
              "      fill: #1967D2;\n",
              "      height: 32px;\n",
              "      padding: 0 0 0 0;\n",
              "      width: 32px;\n",
              "    }\n",
              "\n",
              "    .colab-df-convert:hover {\n",
              "      background-color: #E2EBFA;\n",
              "      box-shadow: 0px 1px 2px rgba(60, 64, 67, 0.3), 0px 1px 3px 1px rgba(60, 64, 67, 0.15);\n",
              "      fill: #174EA6;\n",
              "    }\n",
              "\n",
              "    [theme=dark] .colab-df-convert {\n",
              "      background-color: #3B4455;\n",
              "      fill: #D2E3FC;\n",
              "    }\n",
              "\n",
              "    [theme=dark] .colab-df-convert:hover {\n",
              "      background-color: #434B5C;\n",
              "      box-shadow: 0px 1px 3px 1px rgba(0, 0, 0, 0.15);\n",
              "      filter: drop-shadow(0px 1px 2px rgba(0, 0, 0, 0.3));\n",
              "      fill: #FFFFFF;\n",
              "    }\n",
              "  </style>\n",
              "\n",
              "      <script>\n",
              "        const buttonEl =\n",
              "          document.querySelector('#df-408cacf0-1e65-40c5-93fd-f9bec02d415a button.colab-df-convert');\n",
              "        buttonEl.style.display =\n",
              "          google.colab.kernel.accessAllowed ? 'block' : 'none';\n",
              "\n",
              "        async function convertToInteractive(key) {\n",
              "          const element = document.querySelector('#df-408cacf0-1e65-40c5-93fd-f9bec02d415a');\n",
              "          const dataTable =\n",
              "            await google.colab.kernel.invokeFunction('convertToInteractive',\n",
              "                                                     [key], {});\n",
              "          if (!dataTable) return;\n",
              "\n",
              "          const docLinkHtml = 'Like what you see? Visit the ' +\n",
              "            '<a target=\"_blank\" href=https://colab.research.google.com/notebooks/data_table.ipynb>data table notebook</a>'\n",
              "            + ' to learn more about interactive tables.';\n",
              "          element.innerHTML = '';\n",
              "          dataTable['output_type'] = 'display_data';\n",
              "          await google.colab.output.renderOutput(dataTable, element);\n",
              "          const docLink = document.createElement('div');\n",
              "          docLink.innerHTML = docLinkHtml;\n",
              "          element.appendChild(docLink);\n",
              "        }\n",
              "      </script>\n",
              "    </div>\n",
              "  </div>\n",
              "  "
            ],
            "text/plain": [
              "       id                                     title  ... vote_average vote_count\n",
              "0   19995                                    Avatar  ...          7.2      11800\n",
              "1     285  Pirates of the Caribbean: At World's End  ...          6.9       4500\n",
              "2  206647                                   Spectre  ...          6.3       4466\n",
              "3   49026                     The Dark Knight Rises  ...          7.6       9106\n",
              "4   49529                               John Carter  ...          6.1       2124\n",
              "\n",
              "[5 rows x 6 columns]"
            ]
          },
          "metadata": {},
          "execution_count": 69
        }
      ]
    },
    {
      "cell_type": "code",
      "source": [
        "genre_list = []\n",
        "keyword_list = []\n",
        "for i in range(data.shape[0]):\n",
        "    b = data.genres[i]\n",
        "    for j in b:\n",
        "        if j not in genre_list:\n",
        "            genre_list.append(j)\n",
        "    c = data.keywords[i]\n",
        "    for j in c:\n",
        "        if j not in keyword_list:\n",
        "            keyword_list.append(j)\n",
        "len(genre_list)\n",
        "len(keyword_list)"
      ],
      "metadata": {
        "colab": {
          "base_uri": "https://localhost:8080/"
        },
        "id": "1qUG8G7HefOs",
        "outputId": "470f827b-712c-46c0-da2f-fbe1729ca206"
      },
      "execution_count": 70,
      "outputs": [
        {
          "output_type": "execute_result",
          "data": {
            "text/plain": [
              "9813"
            ]
          },
          "metadata": {},
          "execution_count": 70
        }
      ]
    },
    {
      "cell_type": "code",
      "source": [
        "d = data.drop([\"genres\", \"keywords\", \"id\"], axis=1)\n",
        "d.head()"
      ],
      "metadata": {
        "colab": {
          "base_uri": "https://localhost:8080/",
          "height": 206
        },
        "id": "Ud7QmAnbefVu",
        "outputId": "d64e2541-5212-4382-ace8-7e05c2ce8b5a"
      },
      "execution_count": 71,
      "outputs": [
        {
          "output_type": "execute_result",
          "data": {
            "text/html": [
              "\n",
              "  <div id=\"df-0e986b40-bb63-4200-b579-18093074b21d\">\n",
              "    <div class=\"colab-df-container\">\n",
              "      <div>\n",
              "<style scoped>\n",
              "    .dataframe tbody tr th:only-of-type {\n",
              "        vertical-align: middle;\n",
              "    }\n",
              "\n",
              "    .dataframe tbody tr th {\n",
              "        vertical-align: top;\n",
              "    }\n",
              "\n",
              "    .dataframe thead th {\n",
              "        text-align: right;\n",
              "    }\n",
              "</style>\n",
              "<table border=\"1\" class=\"dataframe\">\n",
              "  <thead>\n",
              "    <tr style=\"text-align: right;\">\n",
              "      <th></th>\n",
              "      <th>title</th>\n",
              "      <th>vote_average</th>\n",
              "      <th>vote_count</th>\n",
              "    </tr>\n",
              "  </thead>\n",
              "  <tbody>\n",
              "    <tr>\n",
              "      <th>0</th>\n",
              "      <td>Avatar</td>\n",
              "      <td>7.2</td>\n",
              "      <td>11800</td>\n",
              "    </tr>\n",
              "    <tr>\n",
              "      <th>1</th>\n",
              "      <td>Pirates of the Caribbean: At World's End</td>\n",
              "      <td>6.9</td>\n",
              "      <td>4500</td>\n",
              "    </tr>\n",
              "    <tr>\n",
              "      <th>2</th>\n",
              "      <td>Spectre</td>\n",
              "      <td>6.3</td>\n",
              "      <td>4466</td>\n",
              "    </tr>\n",
              "    <tr>\n",
              "      <th>3</th>\n",
              "      <td>The Dark Knight Rises</td>\n",
              "      <td>7.6</td>\n",
              "      <td>9106</td>\n",
              "    </tr>\n",
              "    <tr>\n",
              "      <th>4</th>\n",
              "      <td>John Carter</td>\n",
              "      <td>6.1</td>\n",
              "      <td>2124</td>\n",
              "    </tr>\n",
              "  </tbody>\n",
              "</table>\n",
              "</div>\n",
              "      <button class=\"colab-df-convert\" onclick=\"convertToInteractive('df-0e986b40-bb63-4200-b579-18093074b21d')\"\n",
              "              title=\"Convert this dataframe to an interactive table.\"\n",
              "              style=\"display:none;\">\n",
              "        \n",
              "  <svg xmlns=\"http://www.w3.org/2000/svg\" height=\"24px\"viewBox=\"0 0 24 24\"\n",
              "       width=\"24px\">\n",
              "    <path d=\"M0 0h24v24H0V0z\" fill=\"none\"/>\n",
              "    <path d=\"M18.56 5.44l.94 2.06.94-2.06 2.06-.94-2.06-.94-.94-2.06-.94 2.06-2.06.94zm-11 1L8.5 8.5l.94-2.06 2.06-.94-2.06-.94L8.5 2.5l-.94 2.06-2.06.94zm10 10l.94 2.06.94-2.06 2.06-.94-2.06-.94-.94-2.06-.94 2.06-2.06.94z\"/><path d=\"M17.41 7.96l-1.37-1.37c-.4-.4-.92-.59-1.43-.59-.52 0-1.04.2-1.43.59L10.3 9.45l-7.72 7.72c-.78.78-.78 2.05 0 2.83L4 21.41c.39.39.9.59 1.41.59.51 0 1.02-.2 1.41-.59l7.78-7.78 2.81-2.81c.8-.78.8-2.07 0-2.86zM5.41 20L4 18.59l7.72-7.72 1.47 1.35L5.41 20z\"/>\n",
              "  </svg>\n",
              "      </button>\n",
              "      \n",
              "  <style>\n",
              "    .colab-df-container {\n",
              "      display:flex;\n",
              "      flex-wrap:wrap;\n",
              "      gap: 12px;\n",
              "    }\n",
              "\n",
              "    .colab-df-convert {\n",
              "      background-color: #E8F0FE;\n",
              "      border: none;\n",
              "      border-radius: 50%;\n",
              "      cursor: pointer;\n",
              "      display: none;\n",
              "      fill: #1967D2;\n",
              "      height: 32px;\n",
              "      padding: 0 0 0 0;\n",
              "      width: 32px;\n",
              "    }\n",
              "\n",
              "    .colab-df-convert:hover {\n",
              "      background-color: #E2EBFA;\n",
              "      box-shadow: 0px 1px 2px rgba(60, 64, 67, 0.3), 0px 1px 3px 1px rgba(60, 64, 67, 0.15);\n",
              "      fill: #174EA6;\n",
              "    }\n",
              "\n",
              "    [theme=dark] .colab-df-convert {\n",
              "      background-color: #3B4455;\n",
              "      fill: #D2E3FC;\n",
              "    }\n",
              "\n",
              "    [theme=dark] .colab-df-convert:hover {\n",
              "      background-color: #434B5C;\n",
              "      box-shadow: 0px 1px 3px 1px rgba(0, 0, 0, 0.15);\n",
              "      filter: drop-shadow(0px 1px 2px rgba(0, 0, 0, 0.3));\n",
              "      fill: #FFFFFF;\n",
              "    }\n",
              "  </style>\n",
              "\n",
              "      <script>\n",
              "        const buttonEl =\n",
              "          document.querySelector('#df-0e986b40-bb63-4200-b579-18093074b21d button.colab-df-convert');\n",
              "        buttonEl.style.display =\n",
              "          google.colab.kernel.accessAllowed ? 'block' : 'none';\n",
              "\n",
              "        async function convertToInteractive(key) {\n",
              "          const element = document.querySelector('#df-0e986b40-bb63-4200-b579-18093074b21d');\n",
              "          const dataTable =\n",
              "            await google.colab.kernel.invokeFunction('convertToInteractive',\n",
              "                                                     [key], {});\n",
              "          if (!dataTable) return;\n",
              "\n",
              "          const docLinkHtml = 'Like what you see? Visit the ' +\n",
              "            '<a target=\"_blank\" href=https://colab.research.google.com/notebooks/data_table.ipynb>data table notebook</a>'\n",
              "            + ' to learn more about interactive tables.';\n",
              "          element.innerHTML = '';\n",
              "          dataTable['output_type'] = 'display_data';\n",
              "          await google.colab.output.renderOutput(dataTable, element);\n",
              "          const docLink = document.createElement('div');\n",
              "          docLink.innerHTML = docLinkHtml;\n",
              "          element.appendChild(docLink);\n",
              "        }\n",
              "      </script>\n",
              "    </div>\n",
              "  </div>\n",
              "  "
            ],
            "text/plain": [
              "                                      title  vote_average  vote_count\n",
              "0                                    Avatar           7.2       11800\n",
              "1  Pirates of the Caribbean: At World's End           6.9        4500\n",
              "2                                   Spectre           6.3        4466\n",
              "3                     The Dark Knight Rises           7.6        9106\n",
              "4                               John Carter           6.1        2124"
            ]
          },
          "metadata": {},
          "execution_count": 71
        }
      ]
    },
    {
      "cell_type": "code",
      "source": [
        "for i in genre_list:\n",
        "    d[i] = \"\"\n",
        "\n",
        "for i in range(data.shape[0]):\n",
        "    b = data.genres[i]\n",
        "    for j in genre_list:\n",
        "        if j in b:\n",
        "            d[j][i] = 1\n",
        "        else:\n",
        "            d[j][i] = 0"
      ],
      "metadata": {
        "id": "bjrBs_tCefYs"
      },
      "execution_count": 72,
      "outputs": []
    },
    {
      "cell_type": "code",
      "source": [
        "d.head()"
      ],
      "metadata": {
        "colab": {
          "base_uri": "https://localhost:8080/",
          "height": 409
        },
        "id": "jJjNystieJOj",
        "outputId": "05e289b5-d10f-4819-ac8b-96e19a11a2d3"
      },
      "execution_count": 73,
      "outputs": [
        {
          "output_type": "execute_result",
          "data": {
            "text/html": [
              "\n",
              "  <div id=\"df-373c2372-578b-49b6-9719-ae6bb90d9a48\">\n",
              "    <div class=\"colab-df-container\">\n",
              "      <div>\n",
              "<style scoped>\n",
              "    .dataframe tbody tr th:only-of-type {\n",
              "        vertical-align: middle;\n",
              "    }\n",
              "\n",
              "    .dataframe tbody tr th {\n",
              "        vertical-align: top;\n",
              "    }\n",
              "\n",
              "    .dataframe thead th {\n",
              "        text-align: right;\n",
              "    }\n",
              "</style>\n",
              "<table border=\"1\" class=\"dataframe\">\n",
              "  <thead>\n",
              "    <tr style=\"text-align: right;\">\n",
              "      <th></th>\n",
              "      <th>title</th>\n",
              "      <th>vote_average</th>\n",
              "      <th>vote_count</th>\n",
              "      <th>Action</th>\n",
              "      <th>Adventure</th>\n",
              "      <th>Fantasy</th>\n",
              "      <th>Science Fiction</th>\n",
              "      <th>Crime</th>\n",
              "      <th>Drama</th>\n",
              "      <th>Thriller</th>\n",
              "      <th>Animation</th>\n",
              "      <th>Family</th>\n",
              "      <th>Western</th>\n",
              "      <th>Comedy</th>\n",
              "      <th>Romance</th>\n",
              "      <th>Horror</th>\n",
              "      <th>Mystery</th>\n",
              "      <th>History</th>\n",
              "      <th>War</th>\n",
              "      <th>Music</th>\n",
              "      <th>Documentary</th>\n",
              "      <th>Foreign</th>\n",
              "      <th>TV Movie</th>\n",
              "    </tr>\n",
              "  </thead>\n",
              "  <tbody>\n",
              "    <tr>\n",
              "      <th>0</th>\n",
              "      <td>Avatar</td>\n",
              "      <td>7.2</td>\n",
              "      <td>11800</td>\n",
              "      <td>1</td>\n",
              "      <td>1</td>\n",
              "      <td>1</td>\n",
              "      <td>1</td>\n",
              "      <td>0</td>\n",
              "      <td>0</td>\n",
              "      <td>0</td>\n",
              "      <td>0</td>\n",
              "      <td>0</td>\n",
              "      <td>0</td>\n",
              "      <td>0</td>\n",
              "      <td>0</td>\n",
              "      <td>0</td>\n",
              "      <td>0</td>\n",
              "      <td>0</td>\n",
              "      <td>0</td>\n",
              "      <td>0</td>\n",
              "      <td>0</td>\n",
              "      <td>0</td>\n",
              "      <td>0</td>\n",
              "    </tr>\n",
              "    <tr>\n",
              "      <th>1</th>\n",
              "      <td>Pirates of the Caribbean: At World's End</td>\n",
              "      <td>6.9</td>\n",
              "      <td>4500</td>\n",
              "      <td>1</td>\n",
              "      <td>1</td>\n",
              "      <td>1</td>\n",
              "      <td>0</td>\n",
              "      <td>0</td>\n",
              "      <td>0</td>\n",
              "      <td>0</td>\n",
              "      <td>0</td>\n",
              "      <td>0</td>\n",
              "      <td>0</td>\n",
              "      <td>0</td>\n",
              "      <td>0</td>\n",
              "      <td>0</td>\n",
              "      <td>0</td>\n",
              "      <td>0</td>\n",
              "      <td>0</td>\n",
              "      <td>0</td>\n",
              "      <td>0</td>\n",
              "      <td>0</td>\n",
              "      <td>0</td>\n",
              "    </tr>\n",
              "    <tr>\n",
              "      <th>2</th>\n",
              "      <td>Spectre</td>\n",
              "      <td>6.3</td>\n",
              "      <td>4466</td>\n",
              "      <td>1</td>\n",
              "      <td>1</td>\n",
              "      <td>0</td>\n",
              "      <td>0</td>\n",
              "      <td>1</td>\n",
              "      <td>0</td>\n",
              "      <td>0</td>\n",
              "      <td>0</td>\n",
              "      <td>0</td>\n",
              "      <td>0</td>\n",
              "      <td>0</td>\n",
              "      <td>0</td>\n",
              "      <td>0</td>\n",
              "      <td>0</td>\n",
              "      <td>0</td>\n",
              "      <td>0</td>\n",
              "      <td>0</td>\n",
              "      <td>0</td>\n",
              "      <td>0</td>\n",
              "      <td>0</td>\n",
              "    </tr>\n",
              "    <tr>\n",
              "      <th>3</th>\n",
              "      <td>The Dark Knight Rises</td>\n",
              "      <td>7.6</td>\n",
              "      <td>9106</td>\n",
              "      <td>1</td>\n",
              "      <td>0</td>\n",
              "      <td>0</td>\n",
              "      <td>0</td>\n",
              "      <td>1</td>\n",
              "      <td>1</td>\n",
              "      <td>1</td>\n",
              "      <td>0</td>\n",
              "      <td>0</td>\n",
              "      <td>0</td>\n",
              "      <td>0</td>\n",
              "      <td>0</td>\n",
              "      <td>0</td>\n",
              "      <td>0</td>\n",
              "      <td>0</td>\n",
              "      <td>0</td>\n",
              "      <td>0</td>\n",
              "      <td>0</td>\n",
              "      <td>0</td>\n",
              "      <td>0</td>\n",
              "    </tr>\n",
              "    <tr>\n",
              "      <th>4</th>\n",
              "      <td>John Carter</td>\n",
              "      <td>6.1</td>\n",
              "      <td>2124</td>\n",
              "      <td>1</td>\n",
              "      <td>1</td>\n",
              "      <td>0</td>\n",
              "      <td>1</td>\n",
              "      <td>0</td>\n",
              "      <td>0</td>\n",
              "      <td>0</td>\n",
              "      <td>0</td>\n",
              "      <td>0</td>\n",
              "      <td>0</td>\n",
              "      <td>0</td>\n",
              "      <td>0</td>\n",
              "      <td>0</td>\n",
              "      <td>0</td>\n",
              "      <td>0</td>\n",
              "      <td>0</td>\n",
              "      <td>0</td>\n",
              "      <td>0</td>\n",
              "      <td>0</td>\n",
              "      <td>0</td>\n",
              "    </tr>\n",
              "  </tbody>\n",
              "</table>\n",
              "</div>\n",
              "      <button class=\"colab-df-convert\" onclick=\"convertToInteractive('df-373c2372-578b-49b6-9719-ae6bb90d9a48')\"\n",
              "              title=\"Convert this dataframe to an interactive table.\"\n",
              "              style=\"display:none;\">\n",
              "        \n",
              "  <svg xmlns=\"http://www.w3.org/2000/svg\" height=\"24px\"viewBox=\"0 0 24 24\"\n",
              "       width=\"24px\">\n",
              "    <path d=\"M0 0h24v24H0V0z\" fill=\"none\"/>\n",
              "    <path d=\"M18.56 5.44l.94 2.06.94-2.06 2.06-.94-2.06-.94-.94-2.06-.94 2.06-2.06.94zm-11 1L8.5 8.5l.94-2.06 2.06-.94-2.06-.94L8.5 2.5l-.94 2.06-2.06.94zm10 10l.94 2.06.94-2.06 2.06-.94-2.06-.94-.94-2.06-.94 2.06-2.06.94z\"/><path d=\"M17.41 7.96l-1.37-1.37c-.4-.4-.92-.59-1.43-.59-.52 0-1.04.2-1.43.59L10.3 9.45l-7.72 7.72c-.78.78-.78 2.05 0 2.83L4 21.41c.39.39.9.59 1.41.59.51 0 1.02-.2 1.41-.59l7.78-7.78 2.81-2.81c.8-.78.8-2.07 0-2.86zM5.41 20L4 18.59l7.72-7.72 1.47 1.35L5.41 20z\"/>\n",
              "  </svg>\n",
              "      </button>\n",
              "      \n",
              "  <style>\n",
              "    .colab-df-container {\n",
              "      display:flex;\n",
              "      flex-wrap:wrap;\n",
              "      gap: 12px;\n",
              "    }\n",
              "\n",
              "    .colab-df-convert {\n",
              "      background-color: #E8F0FE;\n",
              "      border: none;\n",
              "      border-radius: 50%;\n",
              "      cursor: pointer;\n",
              "      display: none;\n",
              "      fill: #1967D2;\n",
              "      height: 32px;\n",
              "      padding: 0 0 0 0;\n",
              "      width: 32px;\n",
              "    }\n",
              "\n",
              "    .colab-df-convert:hover {\n",
              "      background-color: #E2EBFA;\n",
              "      box-shadow: 0px 1px 2px rgba(60, 64, 67, 0.3), 0px 1px 3px 1px rgba(60, 64, 67, 0.15);\n",
              "      fill: #174EA6;\n",
              "    }\n",
              "\n",
              "    [theme=dark] .colab-df-convert {\n",
              "      background-color: #3B4455;\n",
              "      fill: #D2E3FC;\n",
              "    }\n",
              "\n",
              "    [theme=dark] .colab-df-convert:hover {\n",
              "      background-color: #434B5C;\n",
              "      box-shadow: 0px 1px 3px 1px rgba(0, 0, 0, 0.15);\n",
              "      filter: drop-shadow(0px 1px 2px rgba(0, 0, 0, 0.3));\n",
              "      fill: #FFFFFF;\n",
              "    }\n",
              "  </style>\n",
              "\n",
              "      <script>\n",
              "        const buttonEl =\n",
              "          document.querySelector('#df-373c2372-578b-49b6-9719-ae6bb90d9a48 button.colab-df-convert');\n",
              "        buttonEl.style.display =\n",
              "          google.colab.kernel.accessAllowed ? 'block' : 'none';\n",
              "\n",
              "        async function convertToInteractive(key) {\n",
              "          const element = document.querySelector('#df-373c2372-578b-49b6-9719-ae6bb90d9a48');\n",
              "          const dataTable =\n",
              "            await google.colab.kernel.invokeFunction('convertToInteractive',\n",
              "                                                     [key], {});\n",
              "          if (!dataTable) return;\n",
              "\n",
              "          const docLinkHtml = 'Like what you see? Visit the ' +\n",
              "            '<a target=\"_blank\" href=https://colab.research.google.com/notebooks/data_table.ipynb>data table notebook</a>'\n",
              "            + ' to learn more about interactive tables.';\n",
              "          element.innerHTML = '';\n",
              "          dataTable['output_type'] = 'display_data';\n",
              "          await google.colab.output.renderOutput(dataTable, element);\n",
              "          const docLink = document.createElement('div');\n",
              "          docLink.innerHTML = docLinkHtml;\n",
              "          element.appendChild(docLink);\n",
              "        }\n",
              "      </script>\n",
              "    </div>\n",
              "  </div>\n",
              "  "
            ],
            "text/plain": [
              "                                      title  vote_average  ...  Foreign TV Movie\n",
              "0                                    Avatar           7.2  ...        0        0\n",
              "1  Pirates of the Caribbean: At World's End           6.9  ...        0        0\n",
              "2                                   Spectre           6.3  ...        0        0\n",
              "3                     The Dark Knight Rises           7.6  ...        0        0\n",
              "4                               John Carter           6.1  ...        0        0\n",
              "\n",
              "[5 rows x 23 columns]"
            ]
          },
          "metadata": {},
          "execution_count": 73
        }
      ]
    },
    {
      "cell_type": "markdown",
      "source": [
        "Select 30 keywords of the movies randomly"
      ],
      "metadata": {
        "id": "kaScp__vms7W"
      }
    },
    {
      "cell_type": "code",
      "source": [
        "kw_random = np.random.choice(keyword_list, 1000)\n",
        "kw_random"
      ],
      "metadata": {
        "colab": {
          "base_uri": "https://localhost:8080/"
        },
        "id": "gyUrPHJFmpNQ",
        "outputId": "74fb1e6b-eb47-49df-b74a-fe066150bb84"
      },
      "execution_count": 74,
      "outputs": [
        {
          "output_type": "execute_result",
          "data": {
            "text/plain": [
              "array(['sunglasses', 'deception', 'exploding planet', 'bail jumper',\n",
              "       'bust', 'nepal', 'fat woman', 'philadelphia eagles',\n",
              "       'revenge plot', 'buffalo', 'ancient india', 'cyborg',\n",
              "       'war memorial', 'father murder', 'sentence', 'transportation',\n",
              "       'sexual disorder', 'witness to murder', 'audio recording',\n",
              "       'ark of the covenant', 'iron man', 'frigate', 'blonde woman',\n",
              "       'mind control', 'igloo', 'sci-fi thriller', 'buddha', 'wild party',\n",
              "       'vienna opera', 'mechanic', 'tarot cards', 'mimes', 'armada',\n",
              "       'man-woman relation', 'heterosexual', 'gambler',\n",
              "       'renewing wedding vows', 'australian aborigine', 'skinny dipping',\n",
              "       'divorced parents', 'retiree', 'radioactive', 'obsessive love',\n",
              "       'urbanisierung', 'beforecreditsstinger', 'queen elizabeth i',\n",
              "       'unhappiness', 'intelligence agency', 'post', 'diary',\n",
              "       'burnt face', 'old mansion', 'fairies', 'jujitsu', 'purgatory',\n",
              "       'world supremacy', 'politician', 'spontaneous combustion',\n",
              "       'next door neighbor', 'multiple stabbings', 'reading a book',\n",
              "       'kennel', 'head blown off', 'discovery',\n",
              "       'father daughter relationship', 'surveillance camera', 'bloodshed',\n",
              "       'military crime', 'leonardo da vinci', 'overweight', 'emperor',\n",
              "       'molecular biologist', 'supermarket', 'cliff', 'nobility', 'sect',\n",
              "       'new ager', 'mathematics', 'indian chief', 'computer scientist',\n",
              "       'captain', 'fortune', 'mime', 'drummer', 'resistance fighter',\n",
              "       'political drama', 'strong man', 'cajun', 'car bomb',\n",
              "       'heart transplant', 'orlando florida', 'route 66', 'manipulation',\n",
              "       'sea turtle', 'australian', 'bayou', 'tennis player',\n",
              "       'blindness and impaired vision', 'russian revolution 1917',\n",
              "       'middle school', 'family holiday', 'tavern', 'plan',\n",
              "       'jewel robbery', 'university', 'mutilation', 'railway car',\n",
              "       'creator', 'chemical leak', 'rocky mountains', 'giant', 'ship',\n",
              "       'mutations', 'substance', 'microchip', 'witch trial',\n",
              "       'chance encounter', 'satire', 'military unit', 'evil spirit',\n",
              "       'human cannonball', 'french girl', 'documentary filmmaking',\n",
              "       'apple computer', 'dilemma', 'reference to the big bad wolf',\n",
              "       'yucatec maya language', 'baccarat', 'rock and roll',\n",
              "       'missing pet', 'damsel in distress', 'sex slavery', 'gay brother',\n",
              "       'ideology', 'spell', 'nemesis', 'foolish', 'handcuffs', 'buddy',\n",
              "       'tv production', 'corpse in coffin', 'chases and races', 'traitor',\n",
              "       'fictionalized history', 'prison warden', 'bet', 'hospital bed',\n",
              "       'private plane', 'curse', 'enterprise-e', 'nursing school',\n",
              "       'ghost ship', 'unplugged electronic works', 'old age',\n",
              "       'business woman', 'mysterious killer', 'gathering', 'filmdreh',\n",
              "       'on the run', 'bestiality', 'restaurant critic', 'jewelry store',\n",
              "       'cleaning lady', 'legalized murder', 'viral video', 'museum',\n",
              "       'albino', 'zebra', 'cheating fiancée', 'javelin',\n",
              "       'discontentedness and displeasedness', 'allies', 'prince charles',\n",
              "       'dead teenager', 'free love', 'vatican', 'invisible man',\n",
              "       'star spangled banner', 'experimental surgery', 'tycoon',\n",
              "       'defense industry', 'weasel', 'gibraltar', 'film festivals',\n",
              "       'film crew', 'chick flick', 'autism', 'aunt niece relationship',\n",
              "       'housekeeper', 'american civil war', 'lahore', 'monty python',\n",
              "       'child custody', 'diving suit', 'mountain', 'bee sting', 'fiancée',\n",
              "       'jamaica', 'camera', 'tonto', 'airship', 'jellybean',\n",
              "       'totalitarian', 'houseboat', 'approved school ', 'wall of fire',\n",
              "       'prisoner', 'dirty tricks', 'porn actress', 'heart transplant',\n",
              "       'recess', 'head wound', 'gotham city', 'humanitarian',\n",
              "       'religious delusions', 'whale', 'isolated house', 'reluctant hero',\n",
              "       'amateur detective', 'coat', 'werewolf', 'dyr', 'prize money',\n",
              "       'channel islands', 'outbreak', 'saloon', 'fictionalized biography',\n",
              "       'lgbt athlete', 'thalassophobia', 'silent film star', 'railgun',\n",
              "       'cannabis', 'pig mask', 'foot race', 'gothic',\n",
              "       'evangelical christianity', 'transporter', 'lover (female)',\n",
              "       'compass', 'cyclops', 'shaving cream', 'modern life', 'woodstock',\n",
              "       'loser', 'deification', 'explicit sex', 'spook',\n",
              "       'death of patient', 'creativity', 'possessed', 'karaoke', 'wake',\n",
              "       'travel', 'dollar', 'recreational vehicle', 'wallace & gromit',\n",
              "       'vampire sex', 'snowing', 'unwanted kiss', 'fetishism', 'howling',\n",
              "       'oktoberfest', 'the simpsons', 'season', 'worker', 'dark',\n",
              "       'compassion', 'magic', 'drug scene', 'stowaway', 'chameleon',\n",
              "       'mirror', 'nobel prize', 'anti hero', 'theremin', 'reality show',\n",
              "       'masked man', 'one night', 'watching a movie', 'snake',\n",
              "       'village people', 'docudrama', 'entrapment', 'synagogue',\n",
              "       'claustrophobia', 'police operation', 'maquiladora',\n",
              "       'arrow in back', 'indian tribe', 'kinky', 'naked scene',\n",
              "       'dance hall', 'white dove', 'pen pals', 'rango', 'pity sex',\n",
              "       'wounded', 'stolen identity', 'eaten alive', 'irish mob',\n",
              "       'englishwoman', 'texas', 'girl scouts', 'smoking',\n",
              "       'suspicion of murder', 'doctor', 'zookeeper', 'cut-off arm',\n",
              "       'verona italy', 'stanley cup', 'quebec', 'american president',\n",
              "       'tank car', 'childlessness', 'legs', 'gang member',\n",
              "       'salem massachusetts', 'speed', 'marilyn monroe', 'stolen money',\n",
              "       'slacker', 'self help guru', 'hysteria', 'bone', 'swing',\n",
              "       'infertility', 'man vs machine', 'evil circus', 'guitar case',\n",
              "       'flesh eating', 'crimea', 'secret base', 'french revolution',\n",
              "       'mysticism', 'death of father', 'seasickness', 'sultriness',\n",
              "       'weaver', 'bar', 'poverty', 'graboids', 'fine art',\n",
              "       'borderline personality disorder', 'theremin', 'daytona',\n",
              "       'buried treasure', 'watching tv', 'teacher student sex',\n",
              "       'attempted robbery', 'cleopatra', 'fiancé fiancée relationship',\n",
              "       'based on comic book', 'aurora borealis', 'dublin', 'wild child',\n",
              "       'crime novelist', 'urban setting', 'dead father', 'michael myers',\n",
              "       'suburban chicago', 'corporate take over', 'buddies',\n",
              "       'bus accident', 'lover (female)', 'whistle', 'social services',\n",
              "       'magic trick', 'gold mining town', 'elephant trainer',\n",
              "       'escape artist', 'leisure', 'faithlessness', 'pripyat', 'occult',\n",
              "       'train accident', 'kongo', 'doc holliday', 'shot in the heart',\n",
              "       'confederate', 'playwright', 'sex tape', 'laguna beach california',\n",
              "       'jewish', 'police officer shot', 'feel-good ending', 'asian woman',\n",
              "       'crane', 'ruins', 'crying', 'wedding reception', 'storm',\n",
              "       'magical creature', 'one by one', 'coffee shop', 'aztec indian',\n",
              "       'redemption', 'doll', 'black slave', 'hmong', 'war memorial',\n",
              "       'pharaoh', 'theology', 'disturbing', 'billard', 'peer pressure',\n",
              "       'high school dance', 'espionage', 'cosmetics and hygiene',\n",
              "       'django', 'commoner', 'spanish', 'glitch', 'comeuppance',\n",
              "       'invisible man', 'mission control', 'japanese mythology',\n",
              "       'mind reading', 'narcotics', 'olympic athlete', 'cryptography',\n",
              "       'suitcase', 'based on toy', 'environmentalism', 'all girl band',\n",
              "       'banana boat', 'cigarette', 'dance club', 'law man', 'seclusion',\n",
              "       'extra credit assignment', 'jackass', 'province', 'tony stark',\n",
              "       'birth of twins', 'in love with enemy',\n",
              "       'inventions and discoveries', 'chef', 'surfboard', 'earth',\n",
              "       'secretary', 'best selling author', 'morality tale', 'epidemic',\n",
              "       'slave trade', 'symbolism', 'munchies', 'behavior', 'kongo',\n",
              "       'radiation sickness', 'intelligence', 'superpowers', 'puke',\n",
              "       'moving on', 'generations conflict', 'texas', 'spaghetti western',\n",
              "       'demon', 'ceremony', 'reanimated corpse', 'art class', 'regret',\n",
              "       'landfill', 'vanity project', 'bomber', 'responsability',\n",
              "       'way of life', 'approach', 'head injury', 'mayor', 'masochism',\n",
              "       'wood', 'soft boiled egg', 'laughing', 'seven years war',\n",
              "       'school teacher', 'country music', 'teachers and students',\n",
              "       'art school', 'hole', 'team building',\n",
              "       'blindness and impaired vision', 'immigration', 'social class',\n",
              "       'wedding arranger', 'extremsport', 'pirate', 'skid row',\n",
              "       'police psychologist', 'gambling', 'war memorial',\n",
              "       'irish civil war', 'wildlife', 'lava', 'abusive husband', 'towel',\n",
              "       'support group', 'ranch', 'bruce frederick joseph springsteen',\n",
              "       'healing power', 'tangier morocco', 'inheritance', 'motorboat',\n",
              "       'comic book art', 'free love', 'candle', 'test flight',\n",
              "       'hidden corpse', 'bank heist', 'record producer', 'biker film',\n",
              "       'washed up star', 'route 66', 'sawed off shotgun', 'toupee',\n",
              "       'company', 'conveyor belt', 'man change', 'sheriff', 'downsizing',\n",
              "       'trapped underwater\\xa0', 'submarine', 'intern',\n",
              "       'nuclear radiation', 'pretend', 'metrosexual', 'science', 'vespa',\n",
              "       'secret love', 'changing history', 'sleepwalking', 'potted plant',\n",
              "       'japanese', 'shot through a door', 'tuba', 'investment firm',\n",
              "       'panda', 'heroism', 'sombrero', 'incompetence', 'treasure hunt',\n",
              "       'allied forces', 'starships', 'landmine', 'asbestos',\n",
              "       'romantic rivalry', 'supermarket', 'briefcase', 'jack of spades',\n",
              "       'soviet', 'dare', 'pipe smoking', 'ronin', 'fate', 'tavern',\n",
              "       'flight attendant', 'crook couple', 'mirror', 'dynamite',\n",
              "       'leap in time', 'normandy', 'vinegar', 'tavern', 'drug lord',\n",
              "       'child', 'dictatorship', 'manhunt', 'collision', 'red sox',\n",
              "       'warlock', 'b movie', 'welding', 'french noir', 'psycho',\n",
              "       'bloody fight', 'survivor', 'mall', 'identity crisis',\n",
              "       'fairy tale', 'american', 'police state', 'pandemic',\n",
              "       'cartoon cat', 'deer', 'police raid', '1930s', 'singing contest',\n",
              "       'oxygen tank', 'hicktown', 'punk rocker', 'pacific theater',\n",
              "       'haunted house', 'intelligence agency', 'monaco', 'rube',\n",
              "       'midwife', 'great white shark', 'play', 'motel', 'teuflisch',\n",
              "       'bűnös utakon', 'quantum mechanics', 'log cabin', 'customs',\n",
              "       'rocker', 'tzar', 'loyalty', 'learning disability',\n",
              "       'canuxploitation', 'chaos theory', 'horse racing', 'morning',\n",
              "       'organized crime', 'rescue mission', 'sorcerer', 'orgy',\n",
              "       'law school', 'shinjuku', 'music business', 'obsessive quest',\n",
              "       'envy', 'ancient astronaut', 'glass pipe', 'big business',\n",
              "       'half breed', 'prisoners of war', 'caregiver', 'nun in love',\n",
              "       'police badge', 'corporate greed', 'roach',\n",
              "       'multiple perspectives', 'site of pilgrimage', 'danger of life',\n",
              "       'hostess', 'safecracker', 'magic trick', 'septic tank',\n",
              "       'duct tape', 'george w. bush', 'molecular biologist',\n",
              "       'determination', 'spotlight', 'melodrama', 'software engineer',\n",
              "       'royal flying corps', 'overthrow olympus', 'naive children',\n",
              "       'down feather', 'hatchet', 'one man army', 'brothers',\n",
              "       'avant-garde', 'cut-off arm', 'newspaper man', 'core melt', 'cgi',\n",
              "       'stabbing', 'dealer', 'irish immigrant', 'hit man', 'ant',\n",
              "       'dark secrets', \"women's prison\", 'alien',\n",
              "       'violence against women', 'playing god', 'cigarette smoking',\n",
              "       'colonialism', 'chief', 'alien', 'disillusionment',\n",
              "       'seven deadly sins', 'dead lover', 'war', 'staff', 'commando',\n",
              "       'ghetto', 'southwestern u.s.', 'top secret', 'snake attack',\n",
              "       'kentucky', 'author', 'gala', 'prosecution', 'skunk', 'estate',\n",
              "       'panzer', 'morning', 'first person shooter', 'stolen money',\n",
              "       'tradition', 'foster parents', 'reunion', 'fast food restaurant',\n",
              "       'asia', 'lightning bolt', 'missing in action',\n",
              "       'negligent homicide', 'cartoon', 'dance club', 'twinkie',\n",
              "       'running', 'fortune teller', 'break-up', 'costume party',\n",
              "       'alcohol', 'khumba', 'simulation', 'western roman empire',\n",
              "       'chained', 'beastmaster', 'terraforming', 'crop duster',\n",
              "       'argument', 'communication', 'porn actress', 'night watchman',\n",
              "       'compton california', 'archdiocese', 'wedding day', 'lingerie',\n",
              "       'child psychologist', 'engine', 'alcohol', 'container',\n",
              "       'ancient civilization', 'bridegroom', 'u.s. military', 'film',\n",
              "       'playground', 'evacuation', 'killer', 'isolated', 'lifeboat',\n",
              "       'fund raiser', 'pretending to be rich', 'yoda', 'expert', 'snow',\n",
              "       'bathrobe', 'jade', 'turbulence', 'semi autobiographical',\n",
              "       'rail car', \"asperger's\", 'addict', 'bachelorette party',\n",
              "       'ice skating', 'german officer', 'high school rivalry', 'gospel',\n",
              "       'professional reputation', 'record store', 'button', 'tv reporter',\n",
              "       'future sport', 'girlfriend from china', 'product licensing',\n",
              "       'commando unit', 'gonzo', 'endangered species', 'perónism',\n",
              "       'cons and scams', 'composer', 'bitch', 'fur trapper', 'preacher',\n",
              "       'screaming', 'beatboxing', 'time capsule', 'hypothermia',\n",
              "       'tragic hero', 'observer', 'negligent homicide', 'open air cinema',\n",
              "       'flashback within a flashback', 'australia', 'decapitation',\n",
              "       'medusa', 'roller-skating', 'atlantic city', 'bronze age',\n",
              "       'prom night', 'opera', 'giant monster', 'artillery',\n",
              "       'record company', 'first date',\n",
              "       'white male pretending to be black', 'naval battle', 'rescue boat',\n",
              "       'monsoon', 'retirement', 'out of control', 'burning man', 'galier',\n",
              "       'bishop', 'blackjack', 'co-parenting', 'terrarium', 'pavilion',\n",
              "       'open air cinema', 'marital separation', 'red army', 'estate',\n",
              "       'wallace & gromit', 'kidney transplant ', 'bedtime story',\n",
              "       'mockumentary', 'troubadour', 'chat session', 'lost at sea',\n",
              "       'renovation', 'blow job', 'match', 'environmental law', 'idealism',\n",
              "       'professional thief', 'file clerk', 'gypsies',\n",
              "       'man man relationship', 'ant-hill', 'translation', 'hypnotism',\n",
              "       'tap dancing', 'epilepsy', 'cheese', 'delusion', 'female hero',\n",
              "       'apartment', 'pottery', 'horniness', 'roman empire', 'rome',\n",
              "       'neo nazism', 'symbol', 'feel-good ending', 'cross', 'moving',\n",
              "       'animation', 'big business', 'medical', 'siren', 'traffic jam',\n",
              "       'totalitarian regime', 'ghost rider', 'puppet', 'mythology',\n",
              "       'popularity', 'older brother younger sister', 'pinata',\n",
              "       'budget cutting', 'low-budget', 'shortage of money', 'launch code',\n",
              "       'meerkat', 'elephant seal', 'fracking', 'prizefighting', 'bottle',\n",
              "       'school party', 'tokyo japan', 'break-up', 'merger',\n",
              "       \"philosopher's stone\", 'clown makeup', 'cryonics', 'burning man',\n",
              "       'salt lake city utah', 'rausschmeißer', 'quest', 'b-girl',\n",
              "       'shot in the chin', 'vomit', 'canon', 'door', 'super villain',\n",
              "       'truck driver', 'transport of prisoners', 'trance', 'vienna opera',\n",
              "       'police academy', 'suicide', 'ecw', 'deafness',\n",
              "       'escape from prison', 'military school', 'commando unit', 'duck',\n",
              "       'starfleet', 'photograph', 'tower block', 'cowardliness',\n",
              "       'lawlessness', 'alternate history', 'graduation', 'new age',\n",
              "       'cool hair', 'bullet time', 'gypsies', 'blaxploitation',\n",
              "       'preacher', 'abortion', 'smoke', 'ex-detainee', 'twin brother',\n",
              "       'ex nazi', 'sundance kid', 'fabergé egg', 'nervous breakdown',\n",
              "       'asian man', 'rubber mask', 'producer', 'traitor',\n",
              "       'chinese restaurant', 'fantasy world', 'head of state',\n",
              "       'vandalism', 'pre-code', 'swat', 'pop singer', 'monty python',\n",
              "       'paternity', 'suv', 'confession', 'eating and drinking',\n",
              "       'reference to google', 'underwear', 'trapped in space',\n",
              "       'stuffed animal', 'aftercreditsstinger', 'martial arts tournament',\n",
              "       'feudality', 'lancaster, pa', 'trapped', 'dog cat friendship',\n",
              "       'ufo', 'mumblegore', 'stuck in elevator', 'rope bridge',\n",
              "       'stolen novel', 'transvestism', 'artist colony', 'rookie',\n",
              "       'fictional government agency', 'new life', 'mina', 'taiwanese',\n",
              "       'business trip', 'transgender', 'loss of parents', 'political',\n",
              "       'train ride', 'tunnel construction', 'cowboy costume',\n",
              "       'meaning of life', 'journey shown on map', 'weekend', 'campaign',\n",
              "       'fake commercial', 'synthetic drug', 'gum', 'half-brother',\n",
              "       'vanishing figure', 'multiple perspectives', 'deserter',\n",
              "       'middle ages', 'drink', 'living dead', 'dock', 'dostoevsky',\n",
              "       'squire', 'peer pressure', 'state fair', 'martin luther king',\n",
              "       'ocean liner', 'heroin', 'alabama', 'imperial russia',\n",
              "       'wolf costume', 'moral dilemma', 'microchip', 'dressmaker',\n",
              "       'mutations', 'boxer shorts', 'cup', 'servant', 'disembowelment',\n",
              "       'daydream', 'serenade', 'knocked out', 'billion dollars',\n",
              "       'head coach', 'shadowhunter', 'transport of prisoners',\n",
              "       'floppy disk', 'night creatures', 'lenin', 'potted plant',\n",
              "       'dc comics'], dtype='<U48')"
            ]
          },
          "metadata": {},
          "execution_count": 74
        }
      ]
    },
    {
      "cell_type": "code",
      "source": [
        "for i in kw_random:\n",
        "    d[i] = \"\"\n",
        "\n",
        "for i in range(data.shape[0]):\n",
        "    b = data.keywords[i]\n",
        "    for j in kw_random:\n",
        "        if j in b:\n",
        "            d[j][i] = 1\n",
        "        else:\n",
        "            d[j][i] = 0"
      ],
      "metadata": {
        "id": "8Znbv8K0mpP_"
      },
      "execution_count": 75,
      "outputs": []
    },
    {
      "cell_type": "code",
      "source": [
        "d.head()"
      ],
      "metadata": {
        "colab": {
          "base_uri": "https://localhost:8080/",
          "height": 456
        },
        "id": "t5zqlEPQmpTH",
        "outputId": "9f3199b3-8c95-425a-9a93-6657120c858a"
      },
      "execution_count": 76,
      "outputs": [
        {
          "output_type": "execute_result",
          "data": {
            "text/html": [
              "\n",
              "  <div id=\"df-c9186cc9-cebb-479d-8566-c463423175cd\">\n",
              "    <div class=\"colab-df-container\">\n",
              "      <div>\n",
              "<style scoped>\n",
              "    .dataframe tbody tr th:only-of-type {\n",
              "        vertical-align: middle;\n",
              "    }\n",
              "\n",
              "    .dataframe tbody tr th {\n",
              "        vertical-align: top;\n",
              "    }\n",
              "\n",
              "    .dataframe thead th {\n",
              "        text-align: right;\n",
              "    }\n",
              "</style>\n",
              "<table border=\"1\" class=\"dataframe\">\n",
              "  <thead>\n",
              "    <tr style=\"text-align: right;\">\n",
              "      <th></th>\n",
              "      <th>title</th>\n",
              "      <th>vote_average</th>\n",
              "      <th>vote_count</th>\n",
              "      <th>Action</th>\n",
              "      <th>Adventure</th>\n",
              "      <th>Fantasy</th>\n",
              "      <th>Science Fiction</th>\n",
              "      <th>Crime</th>\n",
              "      <th>Drama</th>\n",
              "      <th>Thriller</th>\n",
              "      <th>Animation</th>\n",
              "      <th>Family</th>\n",
              "      <th>Western</th>\n",
              "      <th>Comedy</th>\n",
              "      <th>Romance</th>\n",
              "      <th>Horror</th>\n",
              "      <th>Mystery</th>\n",
              "      <th>History</th>\n",
              "      <th>War</th>\n",
              "      <th>Music</th>\n",
              "      <th>Documentary</th>\n",
              "      <th>Foreign</th>\n",
              "      <th>TV Movie</th>\n",
              "      <th>sunglasses</th>\n",
              "      <th>deception</th>\n",
              "      <th>exploding planet</th>\n",
              "      <th>bail jumper</th>\n",
              "      <th>bust</th>\n",
              "      <th>nepal</th>\n",
              "      <th>fat woman</th>\n",
              "      <th>philadelphia eagles</th>\n",
              "      <th>revenge plot</th>\n",
              "      <th>buffalo</th>\n",
              "      <th>ancient india</th>\n",
              "      <th>cyborg</th>\n",
              "      <th>war memorial</th>\n",
              "      <th>father murder</th>\n",
              "      <th>sentence</th>\n",
              "      <th>transportation</th>\n",
              "      <th>sexual disorder</th>\n",
              "      <th>...</th>\n",
              "      <th>cowboy costume</th>\n",
              "      <th>meaning of life</th>\n",
              "      <th>journey shown on map</th>\n",
              "      <th>weekend</th>\n",
              "      <th>campaign</th>\n",
              "      <th>fake commercial</th>\n",
              "      <th>synthetic drug</th>\n",
              "      <th>gum</th>\n",
              "      <th>half-brother</th>\n",
              "      <th>vanishing figure</th>\n",
              "      <th>deserter</th>\n",
              "      <th>middle ages</th>\n",
              "      <th>drink</th>\n",
              "      <th>living dead</th>\n",
              "      <th>dock</th>\n",
              "      <th>dostoevsky</th>\n",
              "      <th>squire</th>\n",
              "      <th>state fair</th>\n",
              "      <th>martin luther king</th>\n",
              "      <th>ocean liner</th>\n",
              "      <th>heroin</th>\n",
              "      <th>alabama</th>\n",
              "      <th>imperial russia</th>\n",
              "      <th>wolf costume</th>\n",
              "      <th>moral dilemma</th>\n",
              "      <th>dressmaker</th>\n",
              "      <th>boxer shorts</th>\n",
              "      <th>cup</th>\n",
              "      <th>servant</th>\n",
              "      <th>disembowelment</th>\n",
              "      <th>daydream</th>\n",
              "      <th>serenade</th>\n",
              "      <th>knocked out</th>\n",
              "      <th>billion dollars</th>\n",
              "      <th>head coach</th>\n",
              "      <th>shadowhunter</th>\n",
              "      <th>floppy disk</th>\n",
              "      <th>night creatures</th>\n",
              "      <th>lenin</th>\n",
              "      <th>dc comics</th>\n",
              "    </tr>\n",
              "  </thead>\n",
              "  <tbody>\n",
              "    <tr>\n",
              "      <th>0</th>\n",
              "      <td>Avatar</td>\n",
              "      <td>7.2</td>\n",
              "      <td>11800</td>\n",
              "      <td>1</td>\n",
              "      <td>1</td>\n",
              "      <td>1</td>\n",
              "      <td>1</td>\n",
              "      <td>0</td>\n",
              "      <td>0</td>\n",
              "      <td>0</td>\n",
              "      <td>0</td>\n",
              "      <td>0</td>\n",
              "      <td>0</td>\n",
              "      <td>0</td>\n",
              "      <td>0</td>\n",
              "      <td>0</td>\n",
              "      <td>0</td>\n",
              "      <td>0</td>\n",
              "      <td>0</td>\n",
              "      <td>0</td>\n",
              "      <td>0</td>\n",
              "      <td>0</td>\n",
              "      <td>0</td>\n",
              "      <td>0</td>\n",
              "      <td>0</td>\n",
              "      <td>0</td>\n",
              "      <td>0</td>\n",
              "      <td>0</td>\n",
              "      <td>0</td>\n",
              "      <td>0</td>\n",
              "      <td>0</td>\n",
              "      <td>0</td>\n",
              "      <td>0</td>\n",
              "      <td>0</td>\n",
              "      <td>0</td>\n",
              "      <td>0</td>\n",
              "      <td>0</td>\n",
              "      <td>0</td>\n",
              "      <td>0</td>\n",
              "      <td>0</td>\n",
              "      <td>...</td>\n",
              "      <td>0</td>\n",
              "      <td>0</td>\n",
              "      <td>0</td>\n",
              "      <td>0</td>\n",
              "      <td>0</td>\n",
              "      <td>0</td>\n",
              "      <td>0</td>\n",
              "      <td>0</td>\n",
              "      <td>0</td>\n",
              "      <td>0</td>\n",
              "      <td>0</td>\n",
              "      <td>0</td>\n",
              "      <td>0</td>\n",
              "      <td>0</td>\n",
              "      <td>0</td>\n",
              "      <td>0</td>\n",
              "      <td>0</td>\n",
              "      <td>0</td>\n",
              "      <td>0</td>\n",
              "      <td>0</td>\n",
              "      <td>0</td>\n",
              "      <td>0</td>\n",
              "      <td>0</td>\n",
              "      <td>0</td>\n",
              "      <td>0</td>\n",
              "      <td>0</td>\n",
              "      <td>0</td>\n",
              "      <td>0</td>\n",
              "      <td>0</td>\n",
              "      <td>0</td>\n",
              "      <td>0</td>\n",
              "      <td>0</td>\n",
              "      <td>0</td>\n",
              "      <td>0</td>\n",
              "      <td>0</td>\n",
              "      <td>0</td>\n",
              "      <td>0</td>\n",
              "      <td>0</td>\n",
              "      <td>0</td>\n",
              "      <td>0</td>\n",
              "    </tr>\n",
              "    <tr>\n",
              "      <th>1</th>\n",
              "      <td>Pirates of the Caribbean: At World's End</td>\n",
              "      <td>6.9</td>\n",
              "      <td>4500</td>\n",
              "      <td>1</td>\n",
              "      <td>1</td>\n",
              "      <td>1</td>\n",
              "      <td>0</td>\n",
              "      <td>0</td>\n",
              "      <td>0</td>\n",
              "      <td>0</td>\n",
              "      <td>0</td>\n",
              "      <td>0</td>\n",
              "      <td>0</td>\n",
              "      <td>0</td>\n",
              "      <td>0</td>\n",
              "      <td>0</td>\n",
              "      <td>0</td>\n",
              "      <td>0</td>\n",
              "      <td>0</td>\n",
              "      <td>0</td>\n",
              "      <td>0</td>\n",
              "      <td>0</td>\n",
              "      <td>0</td>\n",
              "      <td>0</td>\n",
              "      <td>0</td>\n",
              "      <td>0</td>\n",
              "      <td>0</td>\n",
              "      <td>0</td>\n",
              "      <td>0</td>\n",
              "      <td>0</td>\n",
              "      <td>0</td>\n",
              "      <td>0</td>\n",
              "      <td>0</td>\n",
              "      <td>0</td>\n",
              "      <td>0</td>\n",
              "      <td>0</td>\n",
              "      <td>0</td>\n",
              "      <td>0</td>\n",
              "      <td>0</td>\n",
              "      <td>0</td>\n",
              "      <td>...</td>\n",
              "      <td>0</td>\n",
              "      <td>0</td>\n",
              "      <td>0</td>\n",
              "      <td>0</td>\n",
              "      <td>0</td>\n",
              "      <td>0</td>\n",
              "      <td>0</td>\n",
              "      <td>0</td>\n",
              "      <td>0</td>\n",
              "      <td>0</td>\n",
              "      <td>0</td>\n",
              "      <td>0</td>\n",
              "      <td>0</td>\n",
              "      <td>0</td>\n",
              "      <td>0</td>\n",
              "      <td>0</td>\n",
              "      <td>0</td>\n",
              "      <td>0</td>\n",
              "      <td>0</td>\n",
              "      <td>0</td>\n",
              "      <td>0</td>\n",
              "      <td>0</td>\n",
              "      <td>0</td>\n",
              "      <td>0</td>\n",
              "      <td>0</td>\n",
              "      <td>0</td>\n",
              "      <td>0</td>\n",
              "      <td>0</td>\n",
              "      <td>0</td>\n",
              "      <td>0</td>\n",
              "      <td>0</td>\n",
              "      <td>0</td>\n",
              "      <td>0</td>\n",
              "      <td>0</td>\n",
              "      <td>0</td>\n",
              "      <td>0</td>\n",
              "      <td>0</td>\n",
              "      <td>0</td>\n",
              "      <td>0</td>\n",
              "      <td>0</td>\n",
              "    </tr>\n",
              "    <tr>\n",
              "      <th>2</th>\n",
              "      <td>Spectre</td>\n",
              "      <td>6.3</td>\n",
              "      <td>4466</td>\n",
              "      <td>1</td>\n",
              "      <td>1</td>\n",
              "      <td>0</td>\n",
              "      <td>0</td>\n",
              "      <td>1</td>\n",
              "      <td>0</td>\n",
              "      <td>0</td>\n",
              "      <td>0</td>\n",
              "      <td>0</td>\n",
              "      <td>0</td>\n",
              "      <td>0</td>\n",
              "      <td>0</td>\n",
              "      <td>0</td>\n",
              "      <td>0</td>\n",
              "      <td>0</td>\n",
              "      <td>0</td>\n",
              "      <td>0</td>\n",
              "      <td>0</td>\n",
              "      <td>0</td>\n",
              "      <td>0</td>\n",
              "      <td>0</td>\n",
              "      <td>0</td>\n",
              "      <td>0</td>\n",
              "      <td>0</td>\n",
              "      <td>0</td>\n",
              "      <td>0</td>\n",
              "      <td>0</td>\n",
              "      <td>0</td>\n",
              "      <td>0</td>\n",
              "      <td>0</td>\n",
              "      <td>0</td>\n",
              "      <td>0</td>\n",
              "      <td>0</td>\n",
              "      <td>0</td>\n",
              "      <td>0</td>\n",
              "      <td>0</td>\n",
              "      <td>0</td>\n",
              "      <td>...</td>\n",
              "      <td>0</td>\n",
              "      <td>0</td>\n",
              "      <td>0</td>\n",
              "      <td>0</td>\n",
              "      <td>0</td>\n",
              "      <td>0</td>\n",
              "      <td>0</td>\n",
              "      <td>0</td>\n",
              "      <td>0</td>\n",
              "      <td>0</td>\n",
              "      <td>0</td>\n",
              "      <td>0</td>\n",
              "      <td>0</td>\n",
              "      <td>0</td>\n",
              "      <td>0</td>\n",
              "      <td>0</td>\n",
              "      <td>0</td>\n",
              "      <td>0</td>\n",
              "      <td>0</td>\n",
              "      <td>0</td>\n",
              "      <td>0</td>\n",
              "      <td>0</td>\n",
              "      <td>0</td>\n",
              "      <td>0</td>\n",
              "      <td>0</td>\n",
              "      <td>0</td>\n",
              "      <td>0</td>\n",
              "      <td>0</td>\n",
              "      <td>0</td>\n",
              "      <td>0</td>\n",
              "      <td>0</td>\n",
              "      <td>0</td>\n",
              "      <td>0</td>\n",
              "      <td>0</td>\n",
              "      <td>0</td>\n",
              "      <td>0</td>\n",
              "      <td>0</td>\n",
              "      <td>0</td>\n",
              "      <td>0</td>\n",
              "      <td>0</td>\n",
              "    </tr>\n",
              "    <tr>\n",
              "      <th>3</th>\n",
              "      <td>The Dark Knight Rises</td>\n",
              "      <td>7.6</td>\n",
              "      <td>9106</td>\n",
              "      <td>1</td>\n",
              "      <td>0</td>\n",
              "      <td>0</td>\n",
              "      <td>0</td>\n",
              "      <td>1</td>\n",
              "      <td>1</td>\n",
              "      <td>1</td>\n",
              "      <td>0</td>\n",
              "      <td>0</td>\n",
              "      <td>0</td>\n",
              "      <td>0</td>\n",
              "      <td>0</td>\n",
              "      <td>0</td>\n",
              "      <td>0</td>\n",
              "      <td>0</td>\n",
              "      <td>0</td>\n",
              "      <td>0</td>\n",
              "      <td>0</td>\n",
              "      <td>0</td>\n",
              "      <td>0</td>\n",
              "      <td>0</td>\n",
              "      <td>0</td>\n",
              "      <td>0</td>\n",
              "      <td>0</td>\n",
              "      <td>0</td>\n",
              "      <td>0</td>\n",
              "      <td>0</td>\n",
              "      <td>0</td>\n",
              "      <td>0</td>\n",
              "      <td>0</td>\n",
              "      <td>0</td>\n",
              "      <td>0</td>\n",
              "      <td>0</td>\n",
              "      <td>0</td>\n",
              "      <td>0</td>\n",
              "      <td>0</td>\n",
              "      <td>0</td>\n",
              "      <td>...</td>\n",
              "      <td>0</td>\n",
              "      <td>0</td>\n",
              "      <td>0</td>\n",
              "      <td>0</td>\n",
              "      <td>0</td>\n",
              "      <td>0</td>\n",
              "      <td>0</td>\n",
              "      <td>0</td>\n",
              "      <td>0</td>\n",
              "      <td>0</td>\n",
              "      <td>0</td>\n",
              "      <td>0</td>\n",
              "      <td>0</td>\n",
              "      <td>0</td>\n",
              "      <td>0</td>\n",
              "      <td>0</td>\n",
              "      <td>0</td>\n",
              "      <td>0</td>\n",
              "      <td>0</td>\n",
              "      <td>0</td>\n",
              "      <td>0</td>\n",
              "      <td>0</td>\n",
              "      <td>0</td>\n",
              "      <td>0</td>\n",
              "      <td>0</td>\n",
              "      <td>0</td>\n",
              "      <td>0</td>\n",
              "      <td>0</td>\n",
              "      <td>0</td>\n",
              "      <td>0</td>\n",
              "      <td>0</td>\n",
              "      <td>0</td>\n",
              "      <td>0</td>\n",
              "      <td>0</td>\n",
              "      <td>0</td>\n",
              "      <td>0</td>\n",
              "      <td>0</td>\n",
              "      <td>0</td>\n",
              "      <td>0</td>\n",
              "      <td>1</td>\n",
              "    </tr>\n",
              "    <tr>\n",
              "      <th>4</th>\n",
              "      <td>John Carter</td>\n",
              "      <td>6.1</td>\n",
              "      <td>2124</td>\n",
              "      <td>1</td>\n",
              "      <td>1</td>\n",
              "      <td>0</td>\n",
              "      <td>1</td>\n",
              "      <td>0</td>\n",
              "      <td>0</td>\n",
              "      <td>0</td>\n",
              "      <td>0</td>\n",
              "      <td>0</td>\n",
              "      <td>0</td>\n",
              "      <td>0</td>\n",
              "      <td>0</td>\n",
              "      <td>0</td>\n",
              "      <td>0</td>\n",
              "      <td>0</td>\n",
              "      <td>0</td>\n",
              "      <td>0</td>\n",
              "      <td>0</td>\n",
              "      <td>0</td>\n",
              "      <td>0</td>\n",
              "      <td>0</td>\n",
              "      <td>0</td>\n",
              "      <td>0</td>\n",
              "      <td>0</td>\n",
              "      <td>0</td>\n",
              "      <td>0</td>\n",
              "      <td>0</td>\n",
              "      <td>0</td>\n",
              "      <td>0</td>\n",
              "      <td>0</td>\n",
              "      <td>0</td>\n",
              "      <td>0</td>\n",
              "      <td>0</td>\n",
              "      <td>0</td>\n",
              "      <td>0</td>\n",
              "      <td>0</td>\n",
              "      <td>0</td>\n",
              "      <td>...</td>\n",
              "      <td>0</td>\n",
              "      <td>0</td>\n",
              "      <td>0</td>\n",
              "      <td>0</td>\n",
              "      <td>0</td>\n",
              "      <td>0</td>\n",
              "      <td>0</td>\n",
              "      <td>0</td>\n",
              "      <td>0</td>\n",
              "      <td>0</td>\n",
              "      <td>0</td>\n",
              "      <td>0</td>\n",
              "      <td>0</td>\n",
              "      <td>0</td>\n",
              "      <td>0</td>\n",
              "      <td>0</td>\n",
              "      <td>0</td>\n",
              "      <td>0</td>\n",
              "      <td>0</td>\n",
              "      <td>0</td>\n",
              "      <td>0</td>\n",
              "      <td>0</td>\n",
              "      <td>0</td>\n",
              "      <td>0</td>\n",
              "      <td>0</td>\n",
              "      <td>0</td>\n",
              "      <td>0</td>\n",
              "      <td>0</td>\n",
              "      <td>0</td>\n",
              "      <td>0</td>\n",
              "      <td>0</td>\n",
              "      <td>0</td>\n",
              "      <td>0</td>\n",
              "      <td>0</td>\n",
              "      <td>0</td>\n",
              "      <td>0</td>\n",
              "      <td>0</td>\n",
              "      <td>0</td>\n",
              "      <td>0</td>\n",
              "      <td>0</td>\n",
              "    </tr>\n",
              "  </tbody>\n",
              "</table>\n",
              "<p>5 rows × 978 columns</p>\n",
              "</div>\n",
              "      <button class=\"colab-df-convert\" onclick=\"convertToInteractive('df-c9186cc9-cebb-479d-8566-c463423175cd')\"\n",
              "              title=\"Convert this dataframe to an interactive table.\"\n",
              "              style=\"display:none;\">\n",
              "        \n",
              "  <svg xmlns=\"http://www.w3.org/2000/svg\" height=\"24px\"viewBox=\"0 0 24 24\"\n",
              "       width=\"24px\">\n",
              "    <path d=\"M0 0h24v24H0V0z\" fill=\"none\"/>\n",
              "    <path d=\"M18.56 5.44l.94 2.06.94-2.06 2.06-.94-2.06-.94-.94-2.06-.94 2.06-2.06.94zm-11 1L8.5 8.5l.94-2.06 2.06-.94-2.06-.94L8.5 2.5l-.94 2.06-2.06.94zm10 10l.94 2.06.94-2.06 2.06-.94-2.06-.94-.94-2.06-.94 2.06-2.06.94z\"/><path d=\"M17.41 7.96l-1.37-1.37c-.4-.4-.92-.59-1.43-.59-.52 0-1.04.2-1.43.59L10.3 9.45l-7.72 7.72c-.78.78-.78 2.05 0 2.83L4 21.41c.39.39.9.59 1.41.59.51 0 1.02-.2 1.41-.59l7.78-7.78 2.81-2.81c.8-.78.8-2.07 0-2.86zM5.41 20L4 18.59l7.72-7.72 1.47 1.35L5.41 20z\"/>\n",
              "  </svg>\n",
              "      </button>\n",
              "      \n",
              "  <style>\n",
              "    .colab-df-container {\n",
              "      display:flex;\n",
              "      flex-wrap:wrap;\n",
              "      gap: 12px;\n",
              "    }\n",
              "\n",
              "    .colab-df-convert {\n",
              "      background-color: #E8F0FE;\n",
              "      border: none;\n",
              "      border-radius: 50%;\n",
              "      cursor: pointer;\n",
              "      display: none;\n",
              "      fill: #1967D2;\n",
              "      height: 32px;\n",
              "      padding: 0 0 0 0;\n",
              "      width: 32px;\n",
              "    }\n",
              "\n",
              "    .colab-df-convert:hover {\n",
              "      background-color: #E2EBFA;\n",
              "      box-shadow: 0px 1px 2px rgba(60, 64, 67, 0.3), 0px 1px 3px 1px rgba(60, 64, 67, 0.15);\n",
              "      fill: #174EA6;\n",
              "    }\n",
              "\n",
              "    [theme=dark] .colab-df-convert {\n",
              "      background-color: #3B4455;\n",
              "      fill: #D2E3FC;\n",
              "    }\n",
              "\n",
              "    [theme=dark] .colab-df-convert:hover {\n",
              "      background-color: #434B5C;\n",
              "      box-shadow: 0px 1px 3px 1px rgba(0, 0, 0, 0.15);\n",
              "      filter: drop-shadow(0px 1px 2px rgba(0, 0, 0, 0.3));\n",
              "      fill: #FFFFFF;\n",
              "    }\n",
              "  </style>\n",
              "\n",
              "      <script>\n",
              "        const buttonEl =\n",
              "          document.querySelector('#df-c9186cc9-cebb-479d-8566-c463423175cd button.colab-df-convert');\n",
              "        buttonEl.style.display =\n",
              "          google.colab.kernel.accessAllowed ? 'block' : 'none';\n",
              "\n",
              "        async function convertToInteractive(key) {\n",
              "          const element = document.querySelector('#df-c9186cc9-cebb-479d-8566-c463423175cd');\n",
              "          const dataTable =\n",
              "            await google.colab.kernel.invokeFunction('convertToInteractive',\n",
              "                                                     [key], {});\n",
              "          if (!dataTable) return;\n",
              "\n",
              "          const docLinkHtml = 'Like what you see? Visit the ' +\n",
              "            '<a target=\"_blank\" href=https://colab.research.google.com/notebooks/data_table.ipynb>data table notebook</a>'\n",
              "            + ' to learn more about interactive tables.';\n",
              "          element.innerHTML = '';\n",
              "          dataTable['output_type'] = 'display_data';\n",
              "          await google.colab.output.renderOutput(dataTable, element);\n",
              "          const docLink = document.createElement('div');\n",
              "          docLink.innerHTML = docLinkHtml;\n",
              "          element.appendChild(docLink);\n",
              "        }\n",
              "      </script>\n",
              "    </div>\n",
              "  </div>\n",
              "  "
            ],
            "text/plain": [
              "                                      title  vote_average  ...  lenin dc comics\n",
              "0                                    Avatar           7.2  ...      0         0\n",
              "1  Pirates of the Caribbean: At World's End           6.9  ...      0         0\n",
              "2                                   Spectre           6.3  ...      0         0\n",
              "3                     The Dark Knight Rises           7.6  ...      0         1\n",
              "4                               John Carter           6.1  ...      0         0\n",
              "\n",
              "[5 rows x 978 columns]"
            ]
          },
          "metadata": {},
          "execution_count": 76
        }
      ]
    },
    {
      "cell_type": "code",
      "source": [
        "d.shape"
      ],
      "metadata": {
        "colab": {
          "base_uri": "https://localhost:8080/"
        },
        "id": "pGG-fGnP9ujZ",
        "outputId": "10c1ad80-c660-4845-9bc0-7a7089fd8844"
      },
      "execution_count": 77,
      "outputs": [
        {
          "output_type": "execute_result",
          "data": {
            "text/plain": [
              "(4803, 978)"
            ]
          },
          "metadata": {},
          "execution_count": 77
        }
      ]
    },
    {
      "cell_type": "code",
      "source": [
        "d.isna().any()"
      ],
      "metadata": {
        "colab": {
          "base_uri": "https://localhost:8080/"
        },
        "id": "SgRLVB1r99Ip",
        "outputId": "c72c6a60-255b-4394-91fd-f7af9c52aad7"
      },
      "execution_count": 78,
      "outputs": [
        {
          "output_type": "execute_result",
          "data": {
            "text/plain": [
              "title              False\n",
              "vote_average       False\n",
              "vote_count         False\n",
              "Action             False\n",
              "Adventure          False\n",
              "                   ...  \n",
              "shadowhunter       False\n",
              "floppy disk        False\n",
              "night creatures    False\n",
              "lenin              False\n",
              "dc comics          False\n",
              "Length: 978, dtype: bool"
            ]
          },
          "metadata": {},
          "execution_count": 78
        }
      ]
    },
    {
      "cell_type": "code",
      "source": [
        "X = d.drop([\"title\", \"vote_average\"], axis=1)\n",
        "Y = d[\"vote_average\"]"
      ],
      "metadata": {
        "id": "TqqBnlc2-KfZ"
      },
      "execution_count": 79,
      "outputs": []
    },
    {
      "cell_type": "code",
      "source": [
        "train_X, test_X, train_y, test_y = train_test_split(X, Y, test_size=0.25)"
      ],
      "metadata": {
        "id": "oSsVN3zb-kGl"
      },
      "execution_count": 80,
      "outputs": []
    },
    {
      "cell_type": "code",
      "source": [
        "train_X = np.asarray(train_X).astype(np.float32)\n",
        "train_y = np.asarray(train_y).astype(np.float32)\n",
        "\n",
        "test_X = np.asarray(test_X).astype(np.float32)\n",
        "test_y = np.asarray(test_y).astype(np.float32)"
      ],
      "metadata": {
        "id": "qG6y8aPtB4ju"
      },
      "execution_count": 81,
      "outputs": []
    },
    {
      "cell_type": "code",
      "source": [
        "import tensorflow as tf"
      ],
      "metadata": {
        "id": "FVK9ezp09IBI"
      },
      "execution_count": 82,
      "outputs": []
    },
    {
      "cell_type": "code",
      "source": [
        "from keras import backend\n",
        "from keras.callbacks import EarlyStopping"
      ],
      "metadata": {
        "id": "UrKFUivZGdbv"
      },
      "execution_count": 83,
      "outputs": []
    },
    {
      "cell_type": "code",
      "source": [
        "model = tf.keras.models.Sequential([tf.keras.layers.Dense(units=18, activation=\"relu\", input_shape=[train_X.shape[1]]),\n",
        "                                    tf.keras.layers.Dense(units=1)])\n",
        "model.summary()"
      ],
      "metadata": {
        "colab": {
          "base_uri": "https://localhost:8080/"
        },
        "id": "B8vMZjkg9ID_",
        "outputId": "4380bee6-925e-4854-9ca5-f4ae02974e94"
      },
      "execution_count": 84,
      "outputs": [
        {
          "output_type": "stream",
          "name": "stdout",
          "text": [
            "Model: \"sequential\"\n",
            "_________________________________________________________________\n",
            " Layer (type)                Output Shape              Param #   \n",
            "=================================================================\n",
            " dense (Dense)               (None, 18)                17586     \n",
            "                                                                 \n",
            " dense_1 (Dense)             (None, 1)                 19        \n",
            "                                                                 \n",
            "=================================================================\n",
            "Total params: 17,605\n",
            "Trainable params: 17,605\n",
            "Non-trainable params: 0\n",
            "_________________________________________________________________\n"
          ]
        }
      ]
    },
    {
      "cell_type": "code",
      "source": [
        "def root_mean_squared_error(y_true, y_pred):\n",
        "    return backend.sqrt(backend.mean(backend.square(y_pred - y_true))) "
      ],
      "metadata": {
        "id": "mcxdL1unEI_I"
      },
      "execution_count": 85,
      "outputs": []
    },
    {
      "cell_type": "code",
      "source": [
        "es_callback = EarlyStopping(monitor='val_loss', mode='min', verbose=1, patience=50)\n",
        "\n",
        "model.compile(loss=\"mse\", optimizer=\"adam\", metrics=[root_mean_squared_error])\n",
        "\n",
        "# model.compile(loss=root_mean_squared_error, optimizer='rmsprop', metrics=[\"loss\", \"accuracy\"])\n",
        "history = model.fit(train_X, \n",
        "                    train_y,\n",
        "                    epochs = 300,\n",
        "                    validation_split = 0.3,\n",
        "                    callbacks=[es_callback])"
      ],
      "metadata": {
        "colab": {
          "base_uri": "https://localhost:8080/"
        },
        "id": "3w-CYAOnmpWH",
        "outputId": "c7e34085-0ebb-43b1-8870-a6c196da3d32"
      },
      "execution_count": 86,
      "outputs": [
        {
          "output_type": "stream",
          "name": "stdout",
          "text": [
            "Epoch 1/300\n",
            "79/79 [==============================] - 1s 5ms/step - loss: 106.8878 - root_mean_squared_error: 8.1845 - val_loss: 22.1936 - val_root_mean_squared_error: 4.6992\n",
            "Epoch 2/300\n",
            "79/79 [==============================] - 0s 3ms/step - loss: 22.8902 - root_mean_squared_error: 4.7293 - val_loss: 16.6825 - val_root_mean_squared_error: 4.0752\n",
            "Epoch 3/300\n",
            "79/79 [==============================] - 0s 3ms/step - loss: 16.8520 - root_mean_squared_error: 4.0706 - val_loss: 13.2011 - val_root_mean_squared_error: 3.5988\n",
            "Epoch 4/300\n",
            "79/79 [==============================] - 0s 3ms/step - loss: 11.9010 - root_mean_squared_error: 3.4082 - val_loss: 9.0634 - val_root_mean_squared_error: 2.9824\n",
            "Epoch 5/300\n",
            "79/79 [==============================] - 0s 3ms/step - loss: 8.8931 - root_mean_squared_error: 2.9184 - val_loss: 6.3478 - val_root_mean_squared_error: 2.5107\n",
            "Epoch 6/300\n",
            "79/79 [==============================] - 0s 3ms/step - loss: 5.8048 - root_mean_squared_error: 2.3778 - val_loss: 4.2381 - val_root_mean_squared_error: 2.0480\n",
            "Epoch 7/300\n",
            "79/79 [==============================] - 0s 3ms/step - loss: 4.1127 - root_mean_squared_error: 2.0042 - val_loss: 3.0331 - val_root_mean_squared_error: 1.7295\n",
            "Epoch 8/300\n",
            "79/79 [==============================] - 0s 3ms/step - loss: 6.3662 - root_mean_squared_error: 2.3396 - val_loss: 3.1712 - val_root_mean_squared_error: 1.7692\n",
            "Epoch 9/300\n",
            "79/79 [==============================] - 0s 3ms/step - loss: 3.0969 - root_mean_squared_error: 1.7390 - val_loss: 2.6940 - val_root_mean_squared_error: 1.6245\n",
            "Epoch 10/300\n",
            "79/79 [==============================] - 0s 3ms/step - loss: 2.8865 - root_mean_squared_error: 1.6753 - val_loss: 2.5525 - val_root_mean_squared_error: 1.5864\n",
            "Epoch 11/300\n",
            "79/79 [==============================] - 0s 3ms/step - loss: 2.9013 - root_mean_squared_error: 1.6769 - val_loss: 2.2169 - val_root_mean_squared_error: 1.4770\n",
            "Epoch 12/300\n",
            "79/79 [==============================] - 0s 3ms/step - loss: 2.6634 - root_mean_squared_error: 1.6089 - val_loss: 2.1410 - val_root_mean_squared_error: 1.4518\n",
            "Epoch 13/300\n",
            "79/79 [==============================] - 0s 3ms/step - loss: 2.2103 - root_mean_squared_error: 1.4716 - val_loss: 2.0419 - val_root_mean_squared_error: 1.4154\n",
            "Epoch 14/300\n",
            "79/79 [==============================] - 0s 3ms/step - loss: 5.8613 - root_mean_squared_error: 2.1248 - val_loss: 10.0561 - val_root_mean_squared_error: 3.0576\n",
            "Epoch 15/300\n",
            "79/79 [==============================] - 0s 3ms/step - loss: 2.5436 - root_mean_squared_error: 1.5464 - val_loss: 2.0667 - val_root_mean_squared_error: 1.4215\n",
            "Epoch 16/300\n",
            "79/79 [==============================] - 0s 3ms/step - loss: 2.7358 - root_mean_squared_error: 1.5956 - val_loss: 2.0408 - val_root_mean_squared_error: 1.4192\n",
            "Epoch 17/300\n",
            "79/79 [==============================] - 0s 3ms/step - loss: 2.0168 - root_mean_squared_error: 1.4021 - val_loss: 1.7633 - val_root_mean_squared_error: 1.3175\n",
            "Epoch 18/300\n",
            "79/79 [==============================] - 0s 3ms/step - loss: 1.7417 - root_mean_squared_error: 1.3063 - val_loss: 1.6965 - val_root_mean_squared_error: 1.2904\n",
            "Epoch 19/300\n",
            "79/79 [==============================] - 0s 3ms/step - loss: 1.8090 - root_mean_squared_error: 1.3272 - val_loss: 1.8476 - val_root_mean_squared_error: 1.3503\n",
            "Epoch 20/300\n",
            "79/79 [==============================] - 0s 3ms/step - loss: 3.5140 - root_mean_squared_error: 1.7357 - val_loss: 1.8541 - val_root_mean_squared_error: 1.3442\n",
            "Epoch 21/300\n",
            "79/79 [==============================] - 0s 3ms/step - loss: 1.7814 - root_mean_squared_error: 1.3172 - val_loss: 3.0093 - val_root_mean_squared_error: 1.7138\n",
            "Epoch 22/300\n",
            "79/79 [==============================] - 0s 3ms/step - loss: 1.7935 - root_mean_squared_error: 1.3127 - val_loss: 1.5693 - val_root_mean_squared_error: 1.2435\n",
            "Epoch 23/300\n",
            "79/79 [==============================] - 0s 3ms/step - loss: 2.7079 - root_mean_squared_error: 1.5257 - val_loss: 1.4605 - val_root_mean_squared_error: 1.1984\n",
            "Epoch 24/300\n",
            "79/79 [==============================] - 0s 3ms/step - loss: 2.6306 - root_mean_squared_error: 1.5357 - val_loss: 2.4584 - val_root_mean_squared_error: 1.5363\n",
            "Epoch 25/300\n",
            "79/79 [==============================] - 0s 3ms/step - loss: 3.5802 - root_mean_squared_error: 1.7085 - val_loss: 4.1750 - val_root_mean_squared_error: 2.0057\n",
            "Epoch 26/300\n",
            "79/79 [==============================] - 0s 3ms/step - loss: 2.1117 - root_mean_squared_error: 1.3719 - val_loss: 5.0675 - val_root_mean_squared_error: 2.2025\n",
            "Epoch 27/300\n",
            "79/79 [==============================] - 0s 3ms/step - loss: 2.5261 - root_mean_squared_error: 1.3872 - val_loss: 1.3120 - val_root_mean_squared_error: 1.1352\n",
            "Epoch 28/300\n",
            "79/79 [==============================] - 0s 3ms/step - loss: 1.2983 - root_mean_squared_error: 1.1202 - val_loss: 1.5795 - val_root_mean_squared_error: 1.2476\n",
            "Epoch 29/300\n",
            "79/79 [==============================] - 0s 2ms/step - loss: 23.9326 - root_mean_squared_error: 3.9493 - val_loss: 2.9868 - val_root_mean_squared_error: 1.6747\n",
            "Epoch 30/300\n",
            "79/79 [==============================] - 0s 3ms/step - loss: 1.5102 - root_mean_squared_error: 1.1955 - val_loss: 1.3512 - val_root_mean_squared_error: 1.1534\n",
            "Epoch 31/300\n",
            "79/79 [==============================] - 0s 3ms/step - loss: 2.9826 - root_mean_squared_error: 1.6177 - val_loss: 1.3027 - val_root_mean_squared_error: 1.1314\n",
            "Epoch 32/300\n",
            "79/79 [==============================] - 0s 3ms/step - loss: 3.1506 - root_mean_squared_error: 1.6230 - val_loss: 2.0903 - val_root_mean_squared_error: 1.4338\n",
            "Epoch 33/300\n",
            "79/79 [==============================] - 0s 3ms/step - loss: 1.2464 - root_mean_squared_error: 1.0992 - val_loss: 1.2752 - val_root_mean_squared_error: 1.1201\n",
            "Epoch 34/300\n",
            "79/79 [==============================] - 0s 3ms/step - loss: 1.3330 - root_mean_squared_error: 1.1320 - val_loss: 1.4390 - val_root_mean_squared_error: 1.1914\n",
            "Epoch 35/300\n",
            "79/79 [==============================] - 0s 3ms/step - loss: 1.2540 - root_mean_squared_error: 1.1004 - val_loss: 1.3160 - val_root_mean_squared_error: 1.1312\n",
            "Epoch 36/300\n",
            "79/79 [==============================] - 0s 3ms/step - loss: 1.5130 - root_mean_squared_error: 1.1953 - val_loss: 3.4609 - val_root_mean_squared_error: 1.8007\n",
            "Epoch 37/300\n",
            "79/79 [==============================] - 0s 3ms/step - loss: 1.3353 - root_mean_squared_error: 1.1244 - val_loss: 4.1090 - val_root_mean_squared_error: 1.9566\n",
            "Epoch 38/300\n",
            "79/79 [==============================] - 0s 3ms/step - loss: 2.0698 - root_mean_squared_error: 1.3281 - val_loss: 1.1462 - val_root_mean_squared_error: 1.0575\n",
            "Epoch 39/300\n",
            "79/79 [==============================] - 0s 3ms/step - loss: 1.0994 - root_mean_squared_error: 1.0339 - val_loss: 2.0081 - val_root_mean_squared_error: 1.3817\n",
            "Epoch 40/300\n",
            "79/79 [==============================] - 0s 3ms/step - loss: 1.7288 - root_mean_squared_error: 1.2390 - val_loss: 4.6691 - val_root_mean_squared_error: 2.0834\n",
            "Epoch 41/300\n",
            "79/79 [==============================] - 0s 3ms/step - loss: 1.3995 - root_mean_squared_error: 1.1446 - val_loss: 1.5985 - val_root_mean_squared_error: 1.2536\n",
            "Epoch 42/300\n",
            "79/79 [==============================] - 0s 3ms/step - loss: 1.1523 - root_mean_squared_error: 1.0417 - val_loss: 1.3422 - val_root_mean_squared_error: 1.1496\n",
            "Epoch 43/300\n",
            "79/79 [==============================] - 0s 3ms/step - loss: 0.9387 - root_mean_squared_error: 0.9526 - val_loss: 1.0274 - val_root_mean_squared_error: 1.0008\n",
            "Epoch 44/300\n",
            "79/79 [==============================] - 0s 3ms/step - loss: 7.2758 - root_mean_squared_error: 2.0034 - val_loss: 13.3518 - val_root_mean_squared_error: 3.5327\n",
            "Epoch 45/300\n",
            "79/79 [==============================] - 0s 3ms/step - loss: 18.7039 - root_mean_squared_error: 2.5932 - val_loss: 2.0572 - val_root_mean_squared_error: 1.4192\n",
            "Epoch 46/300\n",
            "79/79 [==============================] - 0s 3ms/step - loss: 0.9081 - root_mean_squared_error: 0.9297 - val_loss: 1.0875 - val_root_mean_squared_error: 1.0264\n",
            "Epoch 47/300\n",
            "79/79 [==============================] - 0s 3ms/step - loss: 0.8800 - root_mean_squared_error: 0.9252 - val_loss: 0.9874 - val_root_mean_squared_error: 0.9824\n",
            "Epoch 48/300\n",
            "79/79 [==============================] - 0s 3ms/step - loss: 0.9700 - root_mean_squared_error: 0.9595 - val_loss: 0.9677 - val_root_mean_squared_error: 0.9717\n",
            "Epoch 49/300\n",
            "79/79 [==============================] - 0s 3ms/step - loss: 0.8259 - root_mean_squared_error: 0.8969 - val_loss: 0.9925 - val_root_mean_squared_error: 0.9809\n",
            "Epoch 50/300\n",
            "79/79 [==============================] - 0s 3ms/step - loss: 1.1803 - root_mean_squared_error: 1.0372 - val_loss: 0.9389 - val_root_mean_squared_error: 0.9562\n",
            "Epoch 51/300\n",
            "79/79 [==============================] - 0s 3ms/step - loss: 0.8722 - root_mean_squared_error: 0.9167 - val_loss: 1.0095 - val_root_mean_squared_error: 0.9947\n",
            "Epoch 52/300\n",
            "79/79 [==============================] - 0s 3ms/step - loss: 0.7805 - root_mean_squared_error: 0.8713 - val_loss: 0.9133 - val_root_mean_squared_error: 0.9426\n",
            "Epoch 53/300\n",
            "79/79 [==============================] - 0s 3ms/step - loss: 0.9121 - root_mean_squared_error: 0.9270 - val_loss: 0.9618 - val_root_mean_squared_error: 0.9702\n",
            "Epoch 54/300\n",
            "79/79 [==============================] - 0s 3ms/step - loss: 0.8057 - root_mean_squared_error: 0.8847 - val_loss: 0.9262 - val_root_mean_squared_error: 0.9513\n",
            "Epoch 55/300\n",
            "79/79 [==============================] - 0s 3ms/step - loss: 0.8259 - root_mean_squared_error: 0.8936 - val_loss: 0.8850 - val_root_mean_squared_error: 0.9261\n",
            "Epoch 56/300\n",
            "79/79 [==============================] - 0s 3ms/step - loss: 0.9374 - root_mean_squared_error: 0.9490 - val_loss: 1.3096 - val_root_mean_squared_error: 1.1325\n",
            "Epoch 57/300\n",
            "79/79 [==============================] - 0s 3ms/step - loss: 1.0512 - root_mean_squared_error: 0.9753 - val_loss: 0.8749 - val_root_mean_squared_error: 0.9234\n",
            "Epoch 58/300\n",
            "79/79 [==============================] - 0s 3ms/step - loss: 0.7875 - root_mean_squared_error: 0.8691 - val_loss: 0.8794 - val_root_mean_squared_error: 0.9209\n",
            "Epoch 59/300\n",
            "79/79 [==============================] - 0s 3ms/step - loss: 0.8554 - root_mean_squared_error: 0.8954 - val_loss: 1.0122 - val_root_mean_squared_error: 0.9962\n",
            "Epoch 60/300\n",
            "79/79 [==============================] - 0s 3ms/step - loss: 1.9290 - root_mean_squared_error: 1.3138 - val_loss: 1.0347 - val_root_mean_squared_error: 0.9945\n",
            "Epoch 61/300\n",
            "79/79 [==============================] - 0s 3ms/step - loss: 1.9908 - root_mean_squared_error: 1.2016 - val_loss: 0.8239 - val_root_mean_squared_error: 0.8945\n",
            "Epoch 62/300\n",
            "79/79 [==============================] - 0s 3ms/step - loss: 0.6807 - root_mean_squared_error: 0.8105 - val_loss: 0.8423 - val_root_mean_squared_error: 0.9001\n",
            "Epoch 63/300\n",
            "79/79 [==============================] - 0s 3ms/step - loss: 0.8556 - root_mean_squared_error: 0.8954 - val_loss: 0.9406 - val_root_mean_squared_error: 0.9592\n",
            "Epoch 64/300\n",
            "79/79 [==============================] - 0s 3ms/step - loss: 1.1560 - root_mean_squared_error: 1.0180 - val_loss: 1.2779 - val_root_mean_squared_error: 1.1167\n",
            "Epoch 65/300\n",
            "79/79 [==============================] - 0s 3ms/step - loss: 2.3974 - root_mean_squared_error: 1.3847 - val_loss: 8.7512 - val_root_mean_squared_error: 2.8230\n",
            "Epoch 66/300\n",
            "79/79 [==============================] - 0s 3ms/step - loss: 3.1808 - root_mean_squared_error: 1.5133 - val_loss: 0.9044 - val_root_mean_squared_error: 0.9409\n",
            "Epoch 67/300\n",
            "79/79 [==============================] - 0s 3ms/step - loss: 0.8679 - root_mean_squared_error: 0.8984 - val_loss: 0.8109 - val_root_mean_squared_error: 0.8852\n",
            "Epoch 68/300\n",
            "79/79 [==============================] - 0s 3ms/step - loss: 0.6422 - root_mean_squared_error: 0.7880 - val_loss: 0.7860 - val_root_mean_squared_error: 0.8721\n",
            "Epoch 69/300\n",
            "79/79 [==============================] - 0s 3ms/step - loss: 0.7671 - root_mean_squared_error: 0.8475 - val_loss: 0.9390 - val_root_mean_squared_error: 0.9571\n",
            "Epoch 70/300\n",
            "79/79 [==============================] - 0s 3ms/step - loss: 1.1974 - root_mean_squared_error: 0.9967 - val_loss: 0.7910 - val_root_mean_squared_error: 0.8757\n",
            "Epoch 71/300\n",
            "79/79 [==============================] - 0s 3ms/step - loss: 3.5037 - root_mean_squared_error: 1.5268 - val_loss: 1.2386 - val_root_mean_squared_error: 1.0804\n",
            "Epoch 72/300\n",
            "79/79 [==============================] - 0s 3ms/step - loss: 52.1296 - root_mean_squared_error: 5.1975 - val_loss: 8.2699 - val_root_mean_squared_error: 2.7320\n",
            "Epoch 73/300\n",
            "79/79 [==============================] - 0s 3ms/step - loss: 2.6314 - root_mean_squared_error: 1.3011 - val_loss: 0.9602 - val_root_mean_squared_error: 0.9573\n",
            "Epoch 74/300\n",
            "79/79 [==============================] - 0s 3ms/step - loss: 0.6993 - root_mean_squared_error: 0.8214 - val_loss: 0.7957 - val_root_mean_squared_error: 0.8776\n",
            "Epoch 75/300\n",
            "79/79 [==============================] - 0s 3ms/step - loss: 0.6225 - root_mean_squared_error: 0.7762 - val_loss: 0.7772 - val_root_mean_squared_error: 0.8659\n",
            "Epoch 76/300\n",
            "79/79 [==============================] - 0s 3ms/step - loss: 0.6165 - root_mean_squared_error: 0.7725 - val_loss: 0.8952 - val_root_mean_squared_error: 0.9338\n",
            "Epoch 77/300\n",
            "79/79 [==============================] - 0s 3ms/step - loss: 1.0250 - root_mean_squared_error: 0.9446 - val_loss: 0.8427 - val_root_mean_squared_error: 0.8972\n",
            "Epoch 78/300\n",
            "79/79 [==============================] - 0s 3ms/step - loss: 1.9151 - root_mean_squared_error: 1.1597 - val_loss: 0.7639 - val_root_mean_squared_error: 0.8579\n",
            "Epoch 79/300\n",
            "79/79 [==============================] - 0s 3ms/step - loss: 0.5881 - root_mean_squared_error: 0.7495 - val_loss: 0.7870 - val_root_mean_squared_error: 0.8678\n",
            "Epoch 80/300\n",
            "79/79 [==============================] - 0s 3ms/step - loss: 0.5884 - root_mean_squared_error: 0.7525 - val_loss: 0.7557 - val_root_mean_squared_error: 0.8519\n",
            "Epoch 81/300\n",
            "79/79 [==============================] - 0s 3ms/step - loss: 0.6095 - root_mean_squared_error: 0.7691 - val_loss: 0.8175 - val_root_mean_squared_error: 0.8832\n",
            "Epoch 82/300\n",
            "79/79 [==============================] - 0s 3ms/step - loss: 0.6680 - root_mean_squared_error: 0.8027 - val_loss: 0.9776 - val_root_mean_squared_error: 0.9758\n",
            "Epoch 83/300\n",
            "79/79 [==============================] - 0s 3ms/step - loss: 0.7121 - root_mean_squared_error: 0.8177 - val_loss: 0.7468 - val_root_mean_squared_error: 0.8473\n",
            "Epoch 84/300\n",
            "79/79 [==============================] - 0s 3ms/step - loss: 0.6612 - root_mean_squared_error: 0.7940 - val_loss: 0.8739 - val_root_mean_squared_error: 0.9217\n",
            "Epoch 85/300\n",
            "79/79 [==============================] - 0s 3ms/step - loss: 0.6495 - root_mean_squared_error: 0.7888 - val_loss: 0.7543 - val_root_mean_squared_error: 0.8493\n",
            "Epoch 86/300\n",
            "79/79 [==============================] - 0s 3ms/step - loss: 0.5662 - root_mean_squared_error: 0.7388 - val_loss: 0.7400 - val_root_mean_squared_error: 0.8431\n",
            "Epoch 87/300\n",
            "79/79 [==============================] - 0s 3ms/step - loss: 0.5717 - root_mean_squared_error: 0.7405 - val_loss: 0.7392 - val_root_mean_squared_error: 0.8427\n",
            "Epoch 88/300\n",
            "79/79 [==============================] - 0s 3ms/step - loss: 0.8685 - root_mean_squared_error: 0.8815 - val_loss: 0.9757 - val_root_mean_squared_error: 0.9764\n",
            "Epoch 89/300\n",
            "79/79 [==============================] - 0s 3ms/step - loss: 0.6309 - root_mean_squared_error: 0.7745 - val_loss: 0.7308 - val_root_mean_squared_error: 0.8370\n",
            "Epoch 90/300\n",
            "79/79 [==============================] - 0s 3ms/step - loss: 0.5875 - root_mean_squared_error: 0.7512 - val_loss: 0.8835 - val_root_mean_squared_error: 0.9264\n",
            "Epoch 91/300\n",
            "79/79 [==============================] - 0s 3ms/step - loss: 0.6163 - root_mean_squared_error: 0.7663 - val_loss: 0.8070 - val_root_mean_squared_error: 0.8758\n",
            "Epoch 92/300\n",
            "79/79 [==============================] - 0s 3ms/step - loss: 0.5634 - root_mean_squared_error: 0.7361 - val_loss: 0.7333 - val_root_mean_squared_error: 0.8363\n",
            "Epoch 93/300\n",
            "79/79 [==============================] - 0s 3ms/step - loss: 0.8282 - root_mean_squared_error: 0.8774 - val_loss: 1.2252 - val_root_mean_squared_error: 1.0752\n",
            "Epoch 94/300\n",
            "79/79 [==============================] - 0s 3ms/step - loss: 2.0872 - root_mean_squared_error: 1.2185 - val_loss: 0.7678 - val_root_mean_squared_error: 0.8547\n",
            "Epoch 95/300\n",
            "79/79 [==============================] - 0s 3ms/step - loss: 0.6073 - root_mean_squared_error: 0.7663 - val_loss: 0.7371 - val_root_mean_squared_error: 0.8379\n",
            "Epoch 96/300\n",
            "79/79 [==============================] - 0s 2ms/step - loss: 0.5736 - root_mean_squared_error: 0.7396 - val_loss: 0.7524 - val_root_mean_squared_error: 0.8459\n",
            "Epoch 97/300\n",
            "79/79 [==============================] - 0s 3ms/step - loss: 5.3148 - root_mean_squared_error: 1.7522 - val_loss: 19.7044 - val_root_mean_squared_error: 4.2912\n",
            "Epoch 98/300\n",
            "79/79 [==============================] - 0s 3ms/step - loss: 32.4513 - root_mean_squared_error: 4.8394 - val_loss: 27.6981 - val_root_mean_squared_error: 5.0964\n",
            "Epoch 99/300\n",
            "79/79 [==============================] - 0s 3ms/step - loss: 2.8124 - root_mean_squared_error: 1.3869 - val_loss: 0.8132 - val_root_mean_squared_error: 0.8810\n",
            "Epoch 100/300\n",
            "79/79 [==============================] - 0s 3ms/step - loss: 0.6399 - root_mean_squared_error: 0.7835 - val_loss: 0.7827 - val_root_mean_squared_error: 0.8691\n",
            "Epoch 101/300\n",
            "79/79 [==============================] - 0s 3ms/step - loss: 0.6637 - root_mean_squared_error: 0.7986 - val_loss: 0.7762 - val_root_mean_squared_error: 0.8616\n",
            "Epoch 102/300\n",
            "79/79 [==============================] - 0s 3ms/step - loss: 0.5981 - root_mean_squared_error: 0.7594 - val_loss: 0.7835 - val_root_mean_squared_error: 0.8649\n",
            "Epoch 103/300\n",
            "79/79 [==============================] - 0s 3ms/step - loss: 0.6828 - root_mean_squared_error: 0.8001 - val_loss: 0.8483 - val_root_mean_squared_error: 0.8978\n",
            "Epoch 104/300\n",
            "79/79 [==============================] - 0s 3ms/step - loss: 0.5986 - root_mean_squared_error: 0.7626 - val_loss: 0.7733 - val_root_mean_squared_error: 0.8592\n",
            "Epoch 105/300\n",
            "79/79 [==============================] - 0s 3ms/step - loss: 0.6286 - root_mean_squared_error: 0.7741 - val_loss: 0.7787 - val_root_mean_squared_error: 0.8671\n",
            "Epoch 106/300\n",
            "79/79 [==============================] - 0s 3ms/step - loss: 0.5938 - root_mean_squared_error: 0.7579 - val_loss: 0.7797 - val_root_mean_squared_error: 0.8677\n",
            "Epoch 107/300\n",
            "79/79 [==============================] - 0s 3ms/step - loss: 0.5826 - root_mean_squared_error: 0.7455 - val_loss: 0.7537 - val_root_mean_squared_error: 0.8487\n",
            "Epoch 108/300\n",
            "79/79 [==============================] - 0s 3ms/step - loss: 0.8741 - root_mean_squared_error: 0.8949 - val_loss: 0.8348 - val_root_mean_squared_error: 0.8992\n",
            "Epoch 109/300\n",
            "79/79 [==============================] - 0s 3ms/step - loss: 0.6313 - root_mean_squared_error: 0.7742 - val_loss: 0.7644 - val_root_mean_squared_error: 0.8538\n",
            "Epoch 110/300\n",
            "79/79 [==============================] - 0s 3ms/step - loss: 0.6545 - root_mean_squared_error: 0.7878 - val_loss: 0.8772 - val_root_mean_squared_error: 0.9118\n",
            "Epoch 111/300\n",
            "79/79 [==============================] - 0s 3ms/step - loss: 1.0826 - root_mean_squared_error: 0.9665 - val_loss: 1.0286 - val_root_mean_squared_error: 1.0045\n",
            "Epoch 112/300\n",
            "79/79 [==============================] - 0s 3ms/step - loss: 0.8178 - root_mean_squared_error: 0.8411 - val_loss: 0.7712 - val_root_mean_squared_error: 0.8624\n",
            "Epoch 113/300\n",
            "79/79 [==============================] - 0s 3ms/step - loss: 0.5728 - root_mean_squared_error: 0.7391 - val_loss: 0.7374 - val_root_mean_squared_error: 0.8403\n",
            "Epoch 114/300\n",
            "79/79 [==============================] - 0s 3ms/step - loss: 0.6560 - root_mean_squared_error: 0.7816 - val_loss: 0.7427 - val_root_mean_squared_error: 0.8418\n",
            "Epoch 115/300\n",
            "79/79 [==============================] - 0s 3ms/step - loss: 1.0061 - root_mean_squared_error: 0.9440 - val_loss: 3.9355 - val_root_mean_squared_error: 1.9054\n",
            "Epoch 116/300\n",
            "79/79 [==============================] - 0s 3ms/step - loss: 0.7650 - root_mean_squared_error: 0.8341 - val_loss: 0.8580 - val_root_mean_squared_error: 0.9128\n",
            "Epoch 117/300\n",
            "79/79 [==============================] - 0s 3ms/step - loss: 0.6258 - root_mean_squared_error: 0.7695 - val_loss: 2.0763 - val_root_mean_squared_error: 1.4144\n",
            "Epoch 118/300\n",
            "79/79 [==============================] - 0s 3ms/step - loss: 0.9106 - root_mean_squared_error: 0.9185 - val_loss: 0.7307 - val_root_mean_squared_error: 0.8356\n",
            "Epoch 119/300\n",
            "79/79 [==============================] - 0s 3ms/step - loss: 0.6292 - root_mean_squared_error: 0.7725 - val_loss: 2.8305 - val_root_mean_squared_error: 1.6214\n",
            "Epoch 120/300\n",
            "79/79 [==============================] - 0s 3ms/step - loss: 0.6516 - root_mean_squared_error: 0.7814 - val_loss: 0.7417 - val_root_mean_squared_error: 0.8447\n",
            "Epoch 121/300\n",
            "79/79 [==============================] - 0s 3ms/step - loss: 0.5733 - root_mean_squared_error: 0.7415 - val_loss: 0.7502 - val_root_mean_squared_error: 0.8448\n",
            "Epoch 122/300\n",
            "79/79 [==============================] - 0s 3ms/step - loss: 0.5692 - root_mean_squared_error: 0.7368 - val_loss: 0.8570 - val_root_mean_squared_error: 0.9122\n",
            "Epoch 123/300\n",
            "79/79 [==============================] - 0s 3ms/step - loss: 0.6573 - root_mean_squared_error: 0.7903 - val_loss: 0.7215 - val_root_mean_squared_error: 0.8308\n",
            "Epoch 124/300\n",
            "79/79 [==============================] - 0s 3ms/step - loss: 0.5706 - root_mean_squared_error: 0.7374 - val_loss: 1.0665 - val_root_mean_squared_error: 1.0188\n",
            "Epoch 125/300\n",
            "79/79 [==============================] - 0s 3ms/step - loss: 1.0959 - root_mean_squared_error: 0.9828 - val_loss: 1.6762 - val_root_mean_squared_error: 1.2499\n",
            "Epoch 126/300\n",
            "79/79 [==============================] - 0s 3ms/step - loss: 0.5974 - root_mean_squared_error: 0.7564 - val_loss: 0.7758 - val_root_mean_squared_error: 0.8654\n",
            "Epoch 127/300\n",
            "79/79 [==============================] - 0s 3ms/step - loss: 0.5274 - root_mean_squared_error: 0.7130 - val_loss: 0.7800 - val_root_mean_squared_error: 0.8679\n",
            "Epoch 128/300\n",
            "79/79 [==============================] - 0s 3ms/step - loss: 3.5460 - root_mean_squared_error: 1.3589 - val_loss: 23.0827 - val_root_mean_squared_error: 4.5769\n",
            "Epoch 129/300\n",
            "79/79 [==============================] - 0s 3ms/step - loss: 4.2927 - root_mean_squared_error: 1.5283 - val_loss: 0.8114 - val_root_mean_squared_error: 0.8875\n",
            "Epoch 130/300\n",
            "79/79 [==============================] - 0s 3ms/step - loss: 1.0302 - root_mean_squared_error: 0.9622 - val_loss: 0.7447 - val_root_mean_squared_error: 0.8443\n",
            "Epoch 131/300\n",
            "79/79 [==============================] - 0s 3ms/step - loss: 0.5690 - root_mean_squared_error: 0.7394 - val_loss: 0.7711 - val_root_mean_squared_error: 0.8633\n",
            "Epoch 132/300\n",
            "79/79 [==============================] - 0s 3ms/step - loss: 0.6072 - root_mean_squared_error: 0.7618 - val_loss: 0.8884 - val_root_mean_squared_error: 0.9302\n",
            "Epoch 133/300\n",
            "79/79 [==============================] - 0s 3ms/step - loss: 0.5839 - root_mean_squared_error: 0.7485 - val_loss: 0.7401 - val_root_mean_squared_error: 0.8440\n",
            "Epoch 134/300\n",
            "79/79 [==============================] - 0s 3ms/step - loss: 0.5751 - root_mean_squared_error: 0.7454 - val_loss: 0.9263 - val_root_mean_squared_error: 0.9501\n",
            "Epoch 135/300\n",
            "79/79 [==============================] - 0s 3ms/step - loss: 0.5579 - root_mean_squared_error: 0.7319 - val_loss: 0.7352 - val_root_mean_squared_error: 0.8407\n",
            "Epoch 136/300\n",
            "79/79 [==============================] - 0s 3ms/step - loss: 0.6260 - root_mean_squared_error: 0.7719 - val_loss: 0.7605 - val_root_mean_squared_error: 0.8569\n",
            "Epoch 137/300\n",
            "79/79 [==============================] - 0s 3ms/step - loss: 0.6870 - root_mean_squared_error: 0.8013 - val_loss: 0.8049 - val_root_mean_squared_error: 0.8832\n",
            "Epoch 138/300\n",
            "79/79 [==============================] - 0s 3ms/step - loss: 0.6319 - root_mean_squared_error: 0.7772 - val_loss: 0.9069 - val_root_mean_squared_error: 0.9271\n",
            "Epoch 139/300\n",
            "79/79 [==============================] - 0s 3ms/step - loss: 1.1346 - root_mean_squared_error: 0.9906 - val_loss: 0.7562 - val_root_mean_squared_error: 0.8542\n",
            "Epoch 140/300\n",
            "79/79 [==============================] - 0s 3ms/step - loss: 0.5518 - root_mean_squared_error: 0.7286 - val_loss: 0.7283 - val_root_mean_squared_error: 0.8363\n",
            "Epoch 141/300\n",
            "79/79 [==============================] - 0s 3ms/step - loss: 0.5309 - root_mean_squared_error: 0.7136 - val_loss: 0.7255 - val_root_mean_squared_error: 0.8312\n",
            "Epoch 142/300\n",
            "79/79 [==============================] - 0s 3ms/step - loss: 0.6012 - root_mean_squared_error: 0.7538 - val_loss: 0.7162 - val_root_mean_squared_error: 0.8281\n",
            "Epoch 143/300\n",
            "79/79 [==============================] - 0s 3ms/step - loss: 0.6488 - root_mean_squared_error: 0.7809 - val_loss: 0.7141 - val_root_mean_squared_error: 0.8268\n",
            "Epoch 144/300\n",
            "79/79 [==============================] - 0s 3ms/step - loss: 1.3572 - root_mean_squared_error: 1.0348 - val_loss: 7.3856 - val_root_mean_squared_error: 2.6034\n",
            "Epoch 145/300\n",
            "79/79 [==============================] - 0s 3ms/step - loss: 16.9553 - root_mean_squared_error: 3.3730 - val_loss: 9.2412 - val_root_mean_squared_error: 2.9329\n",
            "Epoch 146/300\n",
            "79/79 [==============================] - 0s 3ms/step - loss: 4.9493 - root_mean_squared_error: 1.6001 - val_loss: 0.7298 - val_root_mean_squared_error: 0.8356\n",
            "Epoch 147/300\n",
            "79/79 [==============================] - 0s 3ms/step - loss: 0.6331 - root_mean_squared_error: 0.7783 - val_loss: 0.7261 - val_root_mean_squared_error: 0.8330\n",
            "Epoch 148/300\n",
            "79/79 [==============================] - 0s 3ms/step - loss: 0.5265 - root_mean_squared_error: 0.7108 - val_loss: 0.7271 - val_root_mean_squared_error: 0.8342\n",
            "Epoch 149/300\n",
            "79/79 [==============================] - 0s 3ms/step - loss: 0.5423 - root_mean_squared_error: 0.7187 - val_loss: 0.8620 - val_root_mean_squared_error: 0.9039\n",
            "Epoch 150/300\n",
            "79/79 [==============================] - 0s 3ms/step - loss: 0.6037 - root_mean_squared_error: 0.7635 - val_loss: 0.8792 - val_root_mean_squared_error: 0.9242\n",
            "Epoch 151/300\n",
            "79/79 [==============================] - 0s 3ms/step - loss: 0.5159 - root_mean_squared_error: 0.7053 - val_loss: 0.7398 - val_root_mean_squared_error: 0.8390\n",
            "Epoch 152/300\n",
            "79/79 [==============================] - 0s 3ms/step - loss: 0.8855 - root_mean_squared_error: 0.8808 - val_loss: 0.7329 - val_root_mean_squared_error: 0.8353\n",
            "Epoch 153/300\n",
            "79/79 [==============================] - 0s 3ms/step - loss: 0.5405 - root_mean_squared_error: 0.7149 - val_loss: 0.7729 - val_root_mean_squared_error: 0.8566\n",
            "Epoch 154/300\n",
            "79/79 [==============================] - 0s 3ms/step - loss: 0.5210 - root_mean_squared_error: 0.7053 - val_loss: 0.7234 - val_root_mean_squared_error: 0.8305\n",
            "Epoch 155/300\n",
            "79/79 [==============================] - 0s 3ms/step - loss: 0.5023 - root_mean_squared_error: 0.6949 - val_loss: 0.7250 - val_root_mean_squared_error: 0.8338\n",
            "Epoch 156/300\n",
            "79/79 [==============================] - 0s 3ms/step - loss: 0.6517 - root_mean_squared_error: 0.7844 - val_loss: 0.7170 - val_root_mean_squared_error: 0.8274\n",
            "Epoch 157/300\n",
            "79/79 [==============================] - 0s 3ms/step - loss: 0.5964 - root_mean_squared_error: 0.7516 - val_loss: 0.9653 - val_root_mean_squared_error: 0.9692\n",
            "Epoch 158/300\n",
            "79/79 [==============================] - 0s 3ms/step - loss: 0.5952 - root_mean_squared_error: 0.7539 - val_loss: 0.7466 - val_root_mean_squared_error: 0.8423\n",
            "Epoch 159/300\n",
            "79/79 [==============================] - 0s 3ms/step - loss: 0.5195 - root_mean_squared_error: 0.7043 - val_loss: 0.7966 - val_root_mean_squared_error: 0.8692\n",
            "Epoch 160/300\n",
            "79/79 [==============================] - 0s 3ms/step - loss: 0.6262 - root_mean_squared_error: 0.7706 - val_loss: 0.7292 - val_root_mean_squared_error: 0.8365\n",
            "Epoch 161/300\n",
            "79/79 [==============================] - 0s 3ms/step - loss: 0.6164 - root_mean_squared_error: 0.7571 - val_loss: 0.9702 - val_root_mean_squared_error: 0.9713\n",
            "Epoch 162/300\n",
            "79/79 [==============================] - 0s 3ms/step - loss: 0.5507 - root_mean_squared_error: 0.7280 - val_loss: 0.7383 - val_root_mean_squared_error: 0.8421\n",
            "Epoch 163/300\n",
            "79/79 [==============================] - 0s 3ms/step - loss: 0.5770 - root_mean_squared_error: 0.7451 - val_loss: 1.5120 - val_root_mean_squared_error: 1.1940\n",
            "Epoch 164/300\n",
            "79/79 [==============================] - 0s 3ms/step - loss: 1.7174 - root_mean_squared_error: 1.1883 - val_loss: 0.7682 - val_root_mean_squared_error: 0.8605\n",
            "Epoch 165/300\n",
            "79/79 [==============================] - 0s 3ms/step - loss: 1.0638 - root_mean_squared_error: 0.9717 - val_loss: 1.5039 - val_root_mean_squared_error: 1.2064\n",
            "Epoch 166/300\n",
            "79/79 [==============================] - 0s 3ms/step - loss: 1.7746 - root_mean_squared_error: 1.1586 - val_loss: 1.1243 - val_root_mean_squared_error: 1.0315\n",
            "Epoch 167/300\n",
            "79/79 [==============================] - 0s 3ms/step - loss: 0.7214 - root_mean_squared_error: 0.8036 - val_loss: 0.7249 - val_root_mean_squared_error: 0.8332\n",
            "Epoch 168/300\n",
            "79/79 [==============================] - 0s 3ms/step - loss: 0.6382 - root_mean_squared_error: 0.7717 - val_loss: 0.7997 - val_root_mean_squared_error: 0.8789\n",
            "Epoch 169/300\n",
            "79/79 [==============================] - 0s 3ms/step - loss: 0.8313 - root_mean_squared_error: 0.8562 - val_loss: 0.7315 - val_root_mean_squared_error: 0.8378\n",
            "Epoch 170/300\n",
            "79/79 [==============================] - 0s 3ms/step - loss: 0.8214 - root_mean_squared_error: 0.8337 - val_loss: 0.8687 - val_root_mean_squared_error: 0.9076\n",
            "Epoch 171/300\n",
            "79/79 [==============================] - 0s 3ms/step - loss: 1.4144 - root_mean_squared_error: 1.1133 - val_loss: 0.7178 - val_root_mean_squared_error: 0.8270\n",
            "Epoch 172/300\n",
            "79/79 [==============================] - 0s 3ms/step - loss: 1.5317 - root_mean_squared_error: 1.0616 - val_loss: 0.7157 - val_root_mean_squared_error: 0.8259\n",
            "Epoch 173/300\n",
            "79/79 [==============================] - 0s 3ms/step - loss: 0.5040 - root_mean_squared_error: 0.6960 - val_loss: 0.7190 - val_root_mean_squared_error: 0.8269\n",
            "Epoch 174/300\n",
            "79/79 [==============================] - 0s 3ms/step - loss: 0.8685 - root_mean_squared_error: 0.8216 - val_loss: 2.2552 - val_root_mean_squared_error: 1.4700\n",
            "Epoch 175/300\n",
            "79/79 [==============================] - 0s 3ms/step - loss: 1.9380 - root_mean_squared_error: 1.2641 - val_loss: 2.9947 - val_root_mean_squared_error: 1.6708\n",
            "Epoch 176/300\n",
            "79/79 [==============================] - 0s 3ms/step - loss: 3.0368 - root_mean_squared_error: 1.4123 - val_loss: 6.6367 - val_root_mean_squared_error: 2.4771\n",
            "Epoch 177/300\n",
            "79/79 [==============================] - 0s 3ms/step - loss: 1.5203 - root_mean_squared_error: 1.1321 - val_loss: 0.7377 - val_root_mean_squared_error: 0.8415\n",
            "Epoch 178/300\n",
            "79/79 [==============================] - 0s 3ms/step - loss: 0.5012 - root_mean_squared_error: 0.6944 - val_loss: 0.7127 - val_root_mean_squared_error: 0.8240\n",
            "Epoch 179/300\n",
            "79/79 [==============================] - 0s 3ms/step - loss: 0.7570 - root_mean_squared_error: 0.8263 - val_loss: 0.7146 - val_root_mean_squared_error: 0.8250\n",
            "Epoch 180/300\n",
            "79/79 [==============================] - 0s 3ms/step - loss: 0.4807 - root_mean_squared_error: 0.6804 - val_loss: 0.7134 - val_root_mean_squared_error: 0.8248\n",
            "Epoch 181/300\n",
            "79/79 [==============================] - 0s 3ms/step - loss: 0.4881 - root_mean_squared_error: 0.6845 - val_loss: 0.7122 - val_root_mean_squared_error: 0.8233\n",
            "Epoch 182/300\n",
            "79/79 [==============================] - 0s 3ms/step - loss: 0.4902 - root_mean_squared_error: 0.6830 - val_loss: 0.7543 - val_root_mean_squared_error: 0.8517\n",
            "Epoch 183/300\n",
            "79/79 [==============================] - 0s 3ms/step - loss: 0.5782 - root_mean_squared_error: 0.7384 - val_loss: 0.7120 - val_root_mean_squared_error: 0.8234\n",
            "Epoch 184/300\n",
            "79/79 [==============================] - 0s 3ms/step - loss: 0.4838 - root_mean_squared_error: 0.6781 - val_loss: 0.7147 - val_root_mean_squared_error: 0.8261\n",
            "Epoch 185/300\n",
            "79/79 [==============================] - 0s 3ms/step - loss: 0.5211 - root_mean_squared_error: 0.7070 - val_loss: 0.8818 - val_root_mean_squared_error: 0.9140\n",
            "Epoch 186/300\n",
            "79/79 [==============================] - 0s 3ms/step - loss: 0.5976 - root_mean_squared_error: 0.7533 - val_loss: 0.8103 - val_root_mean_squared_error: 0.8763\n",
            "Epoch 187/300\n",
            "79/79 [==============================] - 0s 3ms/step - loss: 14.0560 - root_mean_squared_error: 2.4950 - val_loss: 0.8168 - val_root_mean_squared_error: 0.8805\n",
            "Epoch 188/300\n",
            "79/79 [==============================] - 0s 3ms/step - loss: 1.6949 - root_mean_squared_error: 1.0489 - val_loss: 0.7488 - val_root_mean_squared_error: 0.8492\n",
            "Epoch 189/300\n",
            "79/79 [==============================] - 0s 3ms/step - loss: 0.5645 - root_mean_squared_error: 0.7347 - val_loss: 1.1526 - val_root_mean_squared_error: 1.0606\n",
            "Epoch 190/300\n",
            "79/79 [==============================] - 0s 3ms/step - loss: 0.5813 - root_mean_squared_error: 0.7452 - val_loss: 0.7586 - val_root_mean_squared_error: 0.8482\n",
            "Epoch 191/300\n",
            "79/79 [==============================] - 0s 3ms/step - loss: 0.4932 - root_mean_squared_error: 0.6844 - val_loss: 0.7114 - val_root_mean_squared_error: 0.8236\n",
            "Epoch 192/300\n",
            "79/79 [==============================] - 0s 3ms/step - loss: 0.5252 - root_mean_squared_error: 0.7102 - val_loss: 0.7440 - val_root_mean_squared_error: 0.8400\n",
            "Epoch 193/300\n",
            "79/79 [==============================] - 0s 3ms/step - loss: 0.4966 - root_mean_squared_error: 0.6925 - val_loss: 0.7418 - val_root_mean_squared_error: 0.8389\n",
            "Epoch 194/300\n",
            "79/79 [==============================] - 0s 3ms/step - loss: 0.4852 - root_mean_squared_error: 0.6813 - val_loss: 0.7073 - val_root_mean_squared_error: 0.8214\n",
            "Epoch 195/300\n",
            "79/79 [==============================] - 0s 3ms/step - loss: 0.5678 - root_mean_squared_error: 0.7329 - val_loss: 0.7182 - val_root_mean_squared_error: 0.8261\n",
            "Epoch 196/300\n",
            "79/79 [==============================] - 0s 3ms/step - loss: 0.5238 - root_mean_squared_error: 0.7070 - val_loss: 0.7451 - val_root_mean_squared_error: 0.8404\n",
            "Epoch 197/300\n",
            "79/79 [==============================] - 0s 3ms/step - loss: 0.5073 - root_mean_squared_error: 0.6984 - val_loss: 0.7284 - val_root_mean_squared_error: 0.8360\n",
            "Epoch 198/300\n",
            "79/79 [==============================] - 0s 3ms/step - loss: 0.4816 - root_mean_squared_error: 0.6790 - val_loss: 0.7139 - val_root_mean_squared_error: 0.8237\n",
            "Epoch 199/300\n",
            "79/79 [==============================] - 0s 3ms/step - loss: 0.5665 - root_mean_squared_error: 0.7328 - val_loss: 0.7176 - val_root_mean_squared_error: 0.8256\n",
            "Epoch 200/300\n",
            "79/79 [==============================] - 0s 3ms/step - loss: 0.5307 - root_mean_squared_error: 0.7085 - val_loss: 0.7305 - val_root_mean_squared_error: 0.8329\n",
            "Epoch 201/300\n",
            "79/79 [==============================] - 0s 3ms/step - loss: 0.5014 - root_mean_squared_error: 0.6915 - val_loss: 0.7061 - val_root_mean_squared_error: 0.8209\n",
            "Epoch 202/300\n",
            "79/79 [==============================] - 0s 3ms/step - loss: 0.5195 - root_mean_squared_error: 0.7032 - val_loss: 0.7303 - val_root_mean_squared_error: 0.8326\n",
            "Epoch 203/300\n",
            "79/79 [==============================] - 0s 3ms/step - loss: 0.6386 - root_mean_squared_error: 0.7754 - val_loss: 1.2891 - val_root_mean_squared_error: 1.1044\n",
            "Epoch 204/300\n",
            "79/79 [==============================] - 0s 3ms/step - loss: 1.1018 - root_mean_squared_error: 0.9723 - val_loss: 0.7059 - val_root_mean_squared_error: 0.8197\n",
            "Epoch 205/300\n",
            "79/79 [==============================] - 0s 3ms/step - loss: 1.1610 - root_mean_squared_error: 1.0116 - val_loss: 1.0129 - val_root_mean_squared_error: 0.9913\n",
            "Epoch 206/300\n",
            "79/79 [==============================] - 0s 3ms/step - loss: 0.7767 - root_mean_squared_error: 0.8444 - val_loss: 3.4791 - val_root_mean_squared_error: 1.7994\n",
            "Epoch 207/300\n",
            "79/79 [==============================] - 0s 3ms/step - loss: 0.9645 - root_mean_squared_error: 0.9281 - val_loss: 1.1482 - val_root_mean_squared_error: 1.0551\n",
            "Epoch 208/300\n",
            "79/79 [==============================] - 0s 3ms/step - loss: 2.5703 - root_mean_squared_error: 1.2763 - val_loss: 0.7389 - val_root_mean_squared_error: 0.8373\n",
            "Epoch 209/300\n",
            "79/79 [==============================] - 0s 3ms/step - loss: 0.5105 - root_mean_squared_error: 0.6942 - val_loss: 0.7201 - val_root_mean_squared_error: 0.8310\n",
            "Epoch 210/300\n",
            "79/79 [==============================] - 0s 3ms/step - loss: 0.4616 - root_mean_squared_error: 0.6666 - val_loss: 0.8373 - val_root_mean_squared_error: 0.8914\n",
            "Epoch 211/300\n",
            "79/79 [==============================] - 0s 3ms/step - loss: 0.8948 - root_mean_squared_error: 0.8545 - val_loss: 0.8102 - val_root_mean_squared_error: 0.8768\n",
            "Epoch 212/300\n",
            "79/79 [==============================] - 0s 3ms/step - loss: 0.8176 - root_mean_squared_error: 0.8530 - val_loss: 0.7028 - val_root_mean_squared_error: 0.8182\n",
            "Epoch 213/300\n",
            "79/79 [==============================] - 0s 3ms/step - loss: 0.4717 - root_mean_squared_error: 0.6730 - val_loss: 0.7016 - val_root_mean_squared_error: 0.8183\n",
            "Epoch 214/300\n",
            "79/79 [==============================] - 0s 3ms/step - loss: 0.5707 - root_mean_squared_error: 0.7348 - val_loss: 0.7363 - val_root_mean_squared_error: 0.8357\n",
            "Epoch 215/300\n",
            "79/79 [==============================] - 0s 3ms/step - loss: 0.5396 - root_mean_squared_error: 0.7182 - val_loss: 0.8800 - val_root_mean_squared_error: 0.9231\n",
            "Epoch 216/300\n",
            "79/79 [==============================] - 0s 3ms/step - loss: 0.4911 - root_mean_squared_error: 0.6874 - val_loss: 0.9149 - val_root_mean_squared_error: 0.9413\n",
            "Epoch 217/300\n",
            "79/79 [==============================] - 0s 3ms/step - loss: 0.5352 - root_mean_squared_error: 0.7101 - val_loss: 0.7672 - val_root_mean_squared_error: 0.8530\n",
            "Epoch 218/300\n",
            "79/79 [==============================] - 0s 3ms/step - loss: 0.5687 - root_mean_squared_error: 0.7337 - val_loss: 0.6985 - val_root_mean_squared_error: 0.8155\n",
            "Epoch 219/300\n",
            "79/79 [==============================] - 0s 3ms/step - loss: 0.4893 - root_mean_squared_error: 0.6798 - val_loss: 1.0632 - val_root_mean_squared_error: 1.0148\n",
            "Epoch 220/300\n",
            "79/79 [==============================] - 0s 3ms/step - loss: 0.6104 - root_mean_squared_error: 0.7587 - val_loss: 1.7619 - val_root_mean_squared_error: 1.3010\n",
            "Epoch 221/300\n",
            "79/79 [==============================] - 0s 3ms/step - loss: 1.6147 - root_mean_squared_error: 1.1071 - val_loss: 0.9583 - val_root_mean_squared_error: 0.9633\n",
            "Epoch 222/300\n",
            "79/79 [==============================] - 0s 3ms/step - loss: 0.6357 - root_mean_squared_error: 0.7718 - val_loss: 0.7067 - val_root_mean_squared_error: 0.8216\n",
            "Epoch 223/300\n",
            "79/79 [==============================] - 0s 3ms/step - loss: 0.5241 - root_mean_squared_error: 0.7012 - val_loss: 0.7072 - val_root_mean_squared_error: 0.8193\n",
            "Epoch 224/300\n",
            "79/79 [==============================] - 0s 3ms/step - loss: 0.8137 - root_mean_squared_error: 0.8454 - val_loss: 2.0955 - val_root_mean_squared_error: 1.4049\n",
            "Epoch 225/300\n",
            "79/79 [==============================] - 0s 3ms/step - loss: 1.8631 - root_mean_squared_error: 1.1791 - val_loss: 1.0084 - val_root_mean_squared_error: 0.9886\n",
            "Epoch 226/300\n",
            "79/79 [==============================] - 0s 3ms/step - loss: 0.5662 - root_mean_squared_error: 0.7279 - val_loss: 0.7126 - val_root_mean_squared_error: 0.8250\n",
            "Epoch 227/300\n",
            "79/79 [==============================] - 0s 3ms/step - loss: 1.2464 - root_mean_squared_error: 0.9890 - val_loss: 1.1195 - val_root_mean_squared_error: 1.0310\n",
            "Epoch 228/300\n",
            "79/79 [==============================] - 0s 3ms/step - loss: 0.5149 - root_mean_squared_error: 0.6954 - val_loss: 0.7463 - val_root_mean_squared_error: 0.8417\n",
            "Epoch 229/300\n",
            "79/79 [==============================] - 0s 3ms/step - loss: 0.5029 - root_mean_squared_error: 0.6920 - val_loss: 0.7066 - val_root_mean_squared_error: 0.8189\n",
            "Epoch 230/300\n",
            "79/79 [==============================] - 0s 3ms/step - loss: 0.5073 - root_mean_squared_error: 0.6982 - val_loss: 0.7714 - val_root_mean_squared_error: 0.8621\n",
            "Epoch 231/300\n",
            "79/79 [==============================] - 0s 3ms/step - loss: 0.4985 - root_mean_squared_error: 0.6861 - val_loss: 0.8434 - val_root_mean_squared_error: 0.8947\n",
            "Epoch 232/300\n",
            "79/79 [==============================] - 0s 3ms/step - loss: 0.9715 - root_mean_squared_error: 0.9016 - val_loss: 0.7304 - val_root_mean_squared_error: 0.8325\n",
            "Epoch 233/300\n",
            "79/79 [==============================] - 0s 3ms/step - loss: 2.0904 - root_mean_squared_error: 1.2428 - val_loss: 1.4677 - val_root_mean_squared_error: 1.1784\n",
            "Epoch 234/300\n",
            "79/79 [==============================] - 0s 3ms/step - loss: 2.1139 - root_mean_squared_error: 1.2994 - val_loss: 0.7264 - val_root_mean_squared_error: 0.8327\n",
            "Epoch 235/300\n",
            "79/79 [==============================] - 0s 3ms/step - loss: 0.5197 - root_mean_squared_error: 0.7044 - val_loss: 0.7136 - val_root_mean_squared_error: 0.8229\n",
            "Epoch 236/300\n",
            "79/79 [==============================] - 0s 3ms/step - loss: 1.2114 - root_mean_squared_error: 1.0143 - val_loss: 2.4743 - val_root_mean_squared_error: 1.5371\n",
            "Epoch 237/300\n",
            "79/79 [==============================] - 0s 3ms/step - loss: 0.6761 - root_mean_squared_error: 0.7793 - val_loss: 0.7998 - val_root_mean_squared_error: 0.8779\n",
            "Epoch 238/300\n",
            "79/79 [==============================] - 0s 3ms/step - loss: 0.5082 - root_mean_squared_error: 0.6990 - val_loss: 0.7480 - val_root_mean_squared_error: 0.8469\n",
            "Epoch 239/300\n",
            "79/79 [==============================] - 0s 3ms/step - loss: 0.8405 - root_mean_squared_error: 0.8658 - val_loss: 0.7063 - val_root_mean_squared_error: 0.8187\n",
            "Epoch 240/300\n",
            "79/79 [==============================] - 0s 3ms/step - loss: 0.5628 - root_mean_squared_error: 0.7240 - val_loss: 1.1244 - val_root_mean_squared_error: 1.0320\n",
            "Epoch 241/300\n",
            "79/79 [==============================] - 0s 3ms/step - loss: 1.3874 - root_mean_squared_error: 1.0769 - val_loss: 0.7199 - val_root_mean_squared_error: 0.8266\n",
            "Epoch 242/300\n",
            "79/79 [==============================] - 0s 3ms/step - loss: 1.5488 - root_mean_squared_error: 1.1171 - val_loss: 0.7253 - val_root_mean_squared_error: 0.8328\n",
            "Epoch 243/300\n",
            "79/79 [==============================] - 0s 3ms/step - loss: 0.4931 - root_mean_squared_error: 0.6843 - val_loss: 0.7354 - val_root_mean_squared_error: 0.8344\n",
            "Epoch 244/300\n",
            "79/79 [==============================] - 0s 3ms/step - loss: 0.6635 - root_mean_squared_error: 0.7851 - val_loss: 0.7286 - val_root_mean_squared_error: 0.8313\n",
            "Epoch 245/300\n",
            "79/79 [==============================] - 0s 3ms/step - loss: 0.5085 - root_mean_squared_error: 0.6977 - val_loss: 0.9281 - val_root_mean_squared_error: 0.9379\n",
            "Epoch 246/300\n",
            "79/79 [==============================] - 0s 3ms/step - loss: 0.4968 - root_mean_squared_error: 0.6907 - val_loss: 0.7227 - val_root_mean_squared_error: 0.8308\n",
            "Epoch 247/300\n",
            "79/79 [==============================] - 0s 3ms/step - loss: 0.5599 - root_mean_squared_error: 0.7281 - val_loss: 0.9969 - val_root_mean_squared_error: 0.9821\n",
            "Epoch 248/300\n",
            "79/79 [==============================] - 0s 3ms/step - loss: 0.6396 - root_mean_squared_error: 0.7604 - val_loss: 1.0431 - val_root_mean_squared_error: 0.9944\n",
            "Epoch 249/300\n",
            "79/79 [==============================] - 0s 3ms/step - loss: 0.9700 - root_mean_squared_error: 0.9142 - val_loss: 1.2153 - val_root_mean_squared_error: 1.0855\n",
            "Epoch 250/300\n",
            "79/79 [==============================] - 0s 3ms/step - loss: 0.5678 - root_mean_squared_error: 0.7327 - val_loss: 0.9193 - val_root_mean_squared_error: 0.9336\n",
            "Epoch 251/300\n",
            "79/79 [==============================] - 0s 3ms/step - loss: 0.6856 - root_mean_squared_error: 0.7996 - val_loss: 0.9898 - val_root_mean_squared_error: 0.9687\n",
            "Epoch 252/300\n",
            "79/79 [==============================] - 0s 3ms/step - loss: 1.5119 - root_mean_squared_error: 1.0840 - val_loss: 0.7784 - val_root_mean_squared_error: 0.8583\n",
            "Epoch 253/300\n",
            "79/79 [==============================] - 0s 3ms/step - loss: 0.8493 - root_mean_squared_error: 0.8582 - val_loss: 1.7083 - val_root_mean_squared_error: 1.2684\n",
            "Epoch 254/300\n",
            "79/79 [==============================] - 0s 3ms/step - loss: 0.9943 - root_mean_squared_error: 0.8906 - val_loss: 0.9297 - val_root_mean_squared_error: 0.9388\n",
            "Epoch 255/300\n",
            "79/79 [==============================] - 0s 3ms/step - loss: 0.8198 - root_mean_squared_error: 0.8438 - val_loss: 1.2871 - val_root_mean_squared_error: 1.1152\n",
            "Epoch 256/300\n",
            "79/79 [==============================] - 0s 3ms/step - loss: 0.5420 - root_mean_squared_error: 0.7109 - val_loss: 0.7308 - val_root_mean_squared_error: 0.8323\n",
            "Epoch 257/300\n",
            "79/79 [==============================] - 0s 3ms/step - loss: 0.5566 - root_mean_squared_error: 0.7206 - val_loss: 1.7799 - val_root_mean_squared_error: 1.3083\n",
            "Epoch 258/300\n",
            "79/79 [==============================] - 0s 3ms/step - loss: 0.7612 - root_mean_squared_error: 0.8423 - val_loss: 0.8397 - val_root_mean_squared_error: 0.9001\n",
            "Epoch 259/300\n",
            "79/79 [==============================] - 0s 3ms/step - loss: 1.6981 - root_mean_squared_error: 1.1806 - val_loss: 0.9127 - val_root_mean_squared_error: 0.9298\n",
            "Epoch 260/300\n",
            "79/79 [==============================] - 0s 3ms/step - loss: 0.7094 - root_mean_squared_error: 0.8122 - val_loss: 0.7951 - val_root_mean_squared_error: 0.8744\n",
            "Epoch 261/300\n",
            "79/79 [==============================] - 0s 3ms/step - loss: 0.7280 - root_mean_squared_error: 0.8128 - val_loss: 0.7059 - val_root_mean_squared_error: 0.8181\n",
            "Epoch 262/300\n",
            "79/79 [==============================] - 0s 3ms/step - loss: 0.4953 - root_mean_squared_error: 0.6882 - val_loss: 0.7396 - val_root_mean_squared_error: 0.8368\n",
            "Epoch 263/300\n",
            "79/79 [==============================] - 0s 3ms/step - loss: 0.7301 - root_mean_squared_error: 0.7994 - val_loss: 0.7674 - val_root_mean_squared_error: 0.8522\n",
            "Epoch 264/300\n",
            "79/79 [==============================] - 0s 3ms/step - loss: 0.6179 - root_mean_squared_error: 0.7499 - val_loss: 0.7837 - val_root_mean_squared_error: 0.8671\n",
            "Epoch 265/300\n",
            "79/79 [==============================] - 0s 3ms/step - loss: 0.4496 - root_mean_squared_error: 0.6553 - val_loss: 0.7112 - val_root_mean_squared_error: 0.8216\n",
            "Epoch 266/300\n",
            "79/79 [==============================] - 0s 3ms/step - loss: 0.5087 - root_mean_squared_error: 0.6984 - val_loss: 0.9061 - val_root_mean_squared_error: 0.9264\n",
            "Epoch 267/300\n",
            "79/79 [==============================] - 0s 3ms/step - loss: 2.7742 - root_mean_squared_error: 1.3739 - val_loss: 51.5564 - val_root_mean_squared_error: 6.8814\n",
            "Epoch 268/300\n",
            "79/79 [==============================] - 0s 3ms/step - loss: 19.0444 - root_mean_squared_error: 2.9710 - val_loss: 0.7445 - val_root_mean_squared_error: 0.8404\n",
            "Epoch 00268: early stopping\n"
          ]
        }
      ]
    },
    {
      "cell_type": "code",
      "source": [
        "a =  np.asarray(X).astype(np.float32)\n",
        "pred =  model.predict(a).flatten()\n",
        "pred = [np.round(i) for i in pred]"
      ],
      "metadata": {
        "id": "GA-xkbYZ_gGR"
      },
      "execution_count": 87,
      "outputs": []
    },
    {
      "cell_type": "code",
      "source": [
        "score = model.evaluate(a, Y, verbose=0)\n",
        "rmse_DL = score[1]\n",
        "rmse_DL"
      ],
      "metadata": {
        "colab": {
          "base_uri": "https://localhost:8080/"
        },
        "id": "PV-RuniUdmmS",
        "outputId": "f584f5ae-29cf-4bd4-cec8-595db1f7f7fc"
      },
      "execution_count": 88,
      "outputs": [
        {
          "output_type": "execute_result",
          "data": {
            "text/plain": [
              "0.7590051889419556"
            ]
          },
          "metadata": {},
          "execution_count": 88
        }
      ]
    },
    {
      "cell_type": "code",
      "source": [
        "b = d[[\"title\", \"vote_count\"]]\n",
        "b[\"predicted_rating\"] = pred\n",
        "b = b.sort_values('predicted_rating', ascending=False)\n",
        "b.head(30)"
      ],
      "metadata": {
        "colab": {
          "base_uri": "https://localhost:8080/",
          "height": 990
        },
        "id": "7FmJ-A41_gJI",
        "outputId": "c69aa9b7-aaa3-44e9-f849-4fce1a5c17d9"
      },
      "execution_count": 89,
      "outputs": [
        {
          "output_type": "execute_result",
          "data": {
            "text/html": [
              "\n",
              "  <div id=\"df-f13a3194-7a85-4d8e-87ea-49116c473e22\">\n",
              "    <div class=\"colab-df-container\">\n",
              "      <div>\n",
              "<style scoped>\n",
              "    .dataframe tbody tr th:only-of-type {\n",
              "        vertical-align: middle;\n",
              "    }\n",
              "\n",
              "    .dataframe tbody tr th {\n",
              "        vertical-align: top;\n",
              "    }\n",
              "\n",
              "    .dataframe thead th {\n",
              "        text-align: right;\n",
              "    }\n",
              "</style>\n",
              "<table border=\"1\" class=\"dataframe\">\n",
              "  <thead>\n",
              "    <tr style=\"text-align: right;\">\n",
              "      <th></th>\n",
              "      <th>title</th>\n",
              "      <th>vote_count</th>\n",
              "      <th>predicted_rating</th>\n",
              "    </tr>\n",
              "  </thead>\n",
              "  <tbody>\n",
              "    <tr>\n",
              "      <th>0</th>\n",
              "      <td>Avatar</td>\n",
              "      <td>11800</td>\n",
              "      <td>10.0</td>\n",
              "    </tr>\n",
              "    <tr>\n",
              "      <th>3232</th>\n",
              "      <td>Pulp Fiction</td>\n",
              "      <td>8428</td>\n",
              "      <td>10.0</td>\n",
              "    </tr>\n",
              "    <tr>\n",
              "      <th>1881</th>\n",
              "      <td>The Shawshank Redemption</td>\n",
              "      <td>8205</td>\n",
              "      <td>10.0</td>\n",
              "    </tr>\n",
              "    <tr>\n",
              "      <th>25</th>\n",
              "      <td>Titanic</td>\n",
              "      <td>7562</td>\n",
              "      <td>10.0</td>\n",
              "    </tr>\n",
              "    <tr>\n",
              "      <th>270</th>\n",
              "      <td>The Martian</td>\n",
              "      <td>7268</td>\n",
              "      <td>10.0</td>\n",
              "    </tr>\n",
              "    <tr>\n",
              "      <th>96</th>\n",
              "      <td>Inception</td>\n",
              "      <td>13752</td>\n",
              "      <td>10.0</td>\n",
              "    </tr>\n",
              "    <tr>\n",
              "      <th>95</th>\n",
              "      <td>Interstellar</td>\n",
              "      <td>10867</td>\n",
              "      <td>10.0</td>\n",
              "    </tr>\n",
              "    <tr>\n",
              "      <th>16</th>\n",
              "      <td>The Avengers</td>\n",
              "      <td>11776</td>\n",
              "      <td>10.0</td>\n",
              "    </tr>\n",
              "    <tr>\n",
              "      <th>426</th>\n",
              "      <td>The Hunger Games</td>\n",
              "      <td>9455</td>\n",
              "      <td>10.0</td>\n",
              "    </tr>\n",
              "    <tr>\n",
              "      <th>662</th>\n",
              "      <td>Fight Club</td>\n",
              "      <td>9413</td>\n",
              "      <td>10.0</td>\n",
              "    </tr>\n",
              "    <tr>\n",
              "      <th>197</th>\n",
              "      <td>Harry Potter and the Philosopher's Stone</td>\n",
              "      <td>7006</td>\n",
              "      <td>9.0</td>\n",
              "    </tr>\n",
              "    <tr>\n",
              "      <th>94</th>\n",
              "      <td>Guardians of the Galaxy</td>\n",
              "      <td>9742</td>\n",
              "      <td>9.0</td>\n",
              "    </tr>\n",
              "    <tr>\n",
              "      <th>693</th>\n",
              "      <td>Gone Girl</td>\n",
              "      <td>5862</td>\n",
              "      <td>9.0</td>\n",
              "    </tr>\n",
              "    <tr>\n",
              "      <th>788</th>\n",
              "      <td>Deadpool</td>\n",
              "      <td>10995</td>\n",
              "      <td>9.0</td>\n",
              "    </tr>\n",
              "    <tr>\n",
              "      <th>77</th>\n",
              "      <td>Inside Out</td>\n",
              "      <td>6560</td>\n",
              "      <td>9.0</td>\n",
              "    </tr>\n",
              "    <tr>\n",
              "      <th>809</th>\n",
              "      <td>Forrest Gump</td>\n",
              "      <td>7927</td>\n",
              "      <td>9.0</td>\n",
              "    </tr>\n",
              "    <tr>\n",
              "      <th>824</th>\n",
              "      <td>The Pursuit of Happyness</td>\n",
              "      <td>2525</td>\n",
              "      <td>9.0</td>\n",
              "    </tr>\n",
              "    <tr>\n",
              "      <th>68</th>\n",
              "      <td>Iron Man</td>\n",
              "      <td>8776</td>\n",
              "      <td>9.0</td>\n",
              "    </tr>\n",
              "    <tr>\n",
              "      <th>66</th>\n",
              "      <td>Up</td>\n",
              "      <td>6870</td>\n",
              "      <td>9.0</td>\n",
              "    </tr>\n",
              "    <tr>\n",
              "      <th>65</th>\n",
              "      <td>The Dark Knight</td>\n",
              "      <td>12002</td>\n",
              "      <td>9.0</td>\n",
              "    </tr>\n",
              "    <tr>\n",
              "      <th>57</th>\n",
              "      <td>WALL·E</td>\n",
              "      <td>6296</td>\n",
              "      <td>9.0</td>\n",
              "    </tr>\n",
              "    <tr>\n",
              "      <th>2522</th>\n",
              "      <td>The Imitation Game</td>\n",
              "      <td>5723</td>\n",
              "      <td>9.0</td>\n",
              "    </tr>\n",
              "    <tr>\n",
              "      <th>614</th>\n",
              "      <td>Despicable Me</td>\n",
              "      <td>6478</td>\n",
              "      <td>9.0</td>\n",
              "    </tr>\n",
              "    <tr>\n",
              "      <th>634</th>\n",
              "      <td>The Matrix</td>\n",
              "      <td>8907</td>\n",
              "      <td>9.0</td>\n",
              "    </tr>\n",
              "    <tr>\n",
              "      <th>628</th>\n",
              "      <td>Saving Private Ryan</td>\n",
              "      <td>5048</td>\n",
              "      <td>9.0</td>\n",
              "    </tr>\n",
              "    <tr>\n",
              "      <th>231</th>\n",
              "      <td>Monsters, Inc.</td>\n",
              "      <td>5996</td>\n",
              "      <td>9.0</td>\n",
              "    </tr>\n",
              "    <tr>\n",
              "      <th>3865</th>\n",
              "      <td>Whiplash</td>\n",
              "      <td>4254</td>\n",
              "      <td>9.0</td>\n",
              "    </tr>\n",
              "    <tr>\n",
              "      <th>287</th>\n",
              "      <td>Django Unchained</td>\n",
              "      <td>10099</td>\n",
              "      <td>9.0</td>\n",
              "    </tr>\n",
              "    <tr>\n",
              "      <th>298</th>\n",
              "      <td>The Wolf of Wall Street</td>\n",
              "      <td>6571</td>\n",
              "      <td>9.0</td>\n",
              "    </tr>\n",
              "    <tr>\n",
              "      <th>329</th>\n",
              "      <td>The Lord of the Rings: The Return of the King</td>\n",
              "      <td>8064</td>\n",
              "      <td>9.0</td>\n",
              "    </tr>\n",
              "  </tbody>\n",
              "</table>\n",
              "</div>\n",
              "      <button class=\"colab-df-convert\" onclick=\"convertToInteractive('df-f13a3194-7a85-4d8e-87ea-49116c473e22')\"\n",
              "              title=\"Convert this dataframe to an interactive table.\"\n",
              "              style=\"display:none;\">\n",
              "        \n",
              "  <svg xmlns=\"http://www.w3.org/2000/svg\" height=\"24px\"viewBox=\"0 0 24 24\"\n",
              "       width=\"24px\">\n",
              "    <path d=\"M0 0h24v24H0V0z\" fill=\"none\"/>\n",
              "    <path d=\"M18.56 5.44l.94 2.06.94-2.06 2.06-.94-2.06-.94-.94-2.06-.94 2.06-2.06.94zm-11 1L8.5 8.5l.94-2.06 2.06-.94-2.06-.94L8.5 2.5l-.94 2.06-2.06.94zm10 10l.94 2.06.94-2.06 2.06-.94-2.06-.94-.94-2.06-.94 2.06-2.06.94z\"/><path d=\"M17.41 7.96l-1.37-1.37c-.4-.4-.92-.59-1.43-.59-.52 0-1.04.2-1.43.59L10.3 9.45l-7.72 7.72c-.78.78-.78 2.05 0 2.83L4 21.41c.39.39.9.59 1.41.59.51 0 1.02-.2 1.41-.59l7.78-7.78 2.81-2.81c.8-.78.8-2.07 0-2.86zM5.41 20L4 18.59l7.72-7.72 1.47 1.35L5.41 20z\"/>\n",
              "  </svg>\n",
              "      </button>\n",
              "      \n",
              "  <style>\n",
              "    .colab-df-container {\n",
              "      display:flex;\n",
              "      flex-wrap:wrap;\n",
              "      gap: 12px;\n",
              "    }\n",
              "\n",
              "    .colab-df-convert {\n",
              "      background-color: #E8F0FE;\n",
              "      border: none;\n",
              "      border-radius: 50%;\n",
              "      cursor: pointer;\n",
              "      display: none;\n",
              "      fill: #1967D2;\n",
              "      height: 32px;\n",
              "      padding: 0 0 0 0;\n",
              "      width: 32px;\n",
              "    }\n",
              "\n",
              "    .colab-df-convert:hover {\n",
              "      background-color: #E2EBFA;\n",
              "      box-shadow: 0px 1px 2px rgba(60, 64, 67, 0.3), 0px 1px 3px 1px rgba(60, 64, 67, 0.15);\n",
              "      fill: #174EA6;\n",
              "    }\n",
              "\n",
              "    [theme=dark] .colab-df-convert {\n",
              "      background-color: #3B4455;\n",
              "      fill: #D2E3FC;\n",
              "    }\n",
              "\n",
              "    [theme=dark] .colab-df-convert:hover {\n",
              "      background-color: #434B5C;\n",
              "      box-shadow: 0px 1px 3px 1px rgba(0, 0, 0, 0.15);\n",
              "      filter: drop-shadow(0px 1px 2px rgba(0, 0, 0, 0.3));\n",
              "      fill: #FFFFFF;\n",
              "    }\n",
              "  </style>\n",
              "\n",
              "      <script>\n",
              "        const buttonEl =\n",
              "          document.querySelector('#df-f13a3194-7a85-4d8e-87ea-49116c473e22 button.colab-df-convert');\n",
              "        buttonEl.style.display =\n",
              "          google.colab.kernel.accessAllowed ? 'block' : 'none';\n",
              "\n",
              "        async function convertToInteractive(key) {\n",
              "          const element = document.querySelector('#df-f13a3194-7a85-4d8e-87ea-49116c473e22');\n",
              "          const dataTable =\n",
              "            await google.colab.kernel.invokeFunction('convertToInteractive',\n",
              "                                                     [key], {});\n",
              "          if (!dataTable) return;\n",
              "\n",
              "          const docLinkHtml = 'Like what you see? Visit the ' +\n",
              "            '<a target=\"_blank\" href=https://colab.research.google.com/notebooks/data_table.ipynb>data table notebook</a>'\n",
              "            + ' to learn more about interactive tables.';\n",
              "          element.innerHTML = '';\n",
              "          dataTable['output_type'] = 'display_data';\n",
              "          await google.colab.output.renderOutput(dataTable, element);\n",
              "          const docLink = document.createElement('div');\n",
              "          docLink.innerHTML = docLinkHtml;\n",
              "          element.appendChild(docLink);\n",
              "        }\n",
              "      </script>\n",
              "    </div>\n",
              "  </div>\n",
              "  "
            ],
            "text/plain": [
              "                                              title  ...  predicted_rating\n",
              "0                                            Avatar  ...              10.0\n",
              "3232                                   Pulp Fiction  ...              10.0\n",
              "1881                       The Shawshank Redemption  ...              10.0\n",
              "25                                          Titanic  ...              10.0\n",
              "270                                     The Martian  ...              10.0\n",
              "96                                        Inception  ...              10.0\n",
              "95                                     Interstellar  ...              10.0\n",
              "16                                     The Avengers  ...              10.0\n",
              "426                                The Hunger Games  ...              10.0\n",
              "662                                      Fight Club  ...              10.0\n",
              "197        Harry Potter and the Philosopher's Stone  ...               9.0\n",
              "94                          Guardians of the Galaxy  ...               9.0\n",
              "693                                       Gone Girl  ...               9.0\n",
              "788                                        Deadpool  ...               9.0\n",
              "77                                       Inside Out  ...               9.0\n",
              "809                                    Forrest Gump  ...               9.0\n",
              "824                        The Pursuit of Happyness  ...               9.0\n",
              "68                                         Iron Man  ...               9.0\n",
              "66                                               Up  ...               9.0\n",
              "65                                  The Dark Knight  ...               9.0\n",
              "57                                           WALL·E  ...               9.0\n",
              "2522                             The Imitation Game  ...               9.0\n",
              "614                                   Despicable Me  ...               9.0\n",
              "634                                      The Matrix  ...               9.0\n",
              "628                             Saving Private Ryan  ...               9.0\n",
              "231                                  Monsters, Inc.  ...               9.0\n",
              "3865                                       Whiplash  ...               9.0\n",
              "287                                Django Unchained  ...               9.0\n",
              "298                         The Wolf of Wall Street  ...               9.0\n",
              "329   The Lord of the Rings: The Return of the King  ...               9.0\n",
              "\n",
              "[30 rows x 3 columns]"
            ]
          },
          "metadata": {},
          "execution_count": 89
        }
      ]
    },
    {
      "cell_type": "code",
      "source": [
        "import matplotlib.pyplot as plt"
      ],
      "metadata": {
        "id": "2hkNsqmAmpY-"
      },
      "execution_count": 90,
      "outputs": []
    },
    {
      "cell_type": "code",
      "source": [
        "plt.figure(figsize=(12,8))\n",
        "rmse_list = [rmse_SR, rmse_ub_cf, rmse_ib_cf, rmse_DL]\n",
        "rmse_name = [\"RMSE\\nSimple\\nRecommendation\\nModel\", \"RMSE\\nUser based\\nCollaborative\\nFilter\\nModel\", \"RMSE\\nItem based\\nCollaborative\\nFilter\\nModel\", \"RMSE\\nDeep Learning\\nModel\"]\n",
        "for i in range(len(rmse_list)):\n",
        "    plt.plot(rmse_name[i], rmse_list[i], marker=\"o\",label=\"{} : {:.2f}\".format(rmse_name[i], rmse_list[i]))\n",
        "\n",
        "plt.legend()\n",
        "plt.title(\"\\nVisualizing RMSE value on different recommendation model\\n\", fontsize=16)\n",
        "plt.xlabel(\"Model\", fontsize=12)\n",
        "plt.ylabel(\"RMSE Value\", fontsize=12)\n",
        "plt.show()"
      ],
      "metadata": {
        "colab": {
          "base_uri": "https://localhost:8080/",
          "height": 599
        },
        "id": "WNg40JmrVB8X",
        "outputId": "cbed747a-410f-4ae8-a2c0-9cf8ccb7a5a5"
      },
      "execution_count": 91,
      "outputs": [
        {
          "output_type": "display_data",
          "data": {
            "image/png": "[encoded data removed]",
            "text/plain": [
              "<Figure size 864x576 with 1 Axes>"
            ]
          },
          "metadata": {
            "needs_background": "light"
          }
        }
      ]
    }
  ]
}